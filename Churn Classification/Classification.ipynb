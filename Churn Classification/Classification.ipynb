{
 "cells": [
  {
   "cell_type": "markdown",
   "metadata": {
    "toc": true
   },
   "source": [
    "<h1>Содержание<span class=\"tocSkip\"></span></h1>\n",
    "<div class=\"toc\"><ul class=\"toc-item\"><li><span><a href=\"#Подготовка-данных\" data-toc-modified-id=\"Подготовка-данных-1\"><span class=\"toc-item-num\">1&nbsp;&nbsp;</span>Подготовка данных</a></span><ul class=\"toc-item\"><li><span><a href=\"#Создание-выборок\" data-toc-modified-id=\"Создание-выборок-1.1\"><span class=\"toc-item-num\">1.1&nbsp;&nbsp;</span>Создание выборок</a></span></li><li><span><a href=\"#Вывод\" data-toc-modified-id=\"Вывод-1.2\"><span class=\"toc-item-num\">1.2&nbsp;&nbsp;</span>Вывод</a></span></li></ul></li><li><span><a href=\"#Исследование-задачи\" data-toc-modified-id=\"Исследование-задачи-2\"><span class=\"toc-item-num\">2&nbsp;&nbsp;</span>Исследование задачи</a></span><ul class=\"toc-item\"><li><span><a href=\"#Исходный-баланс-классов\" data-toc-modified-id=\"Исходный-баланс-классов-2.1\"><span class=\"toc-item-num\">2.1&nbsp;&nbsp;</span>Исходный баланс классов</a></span></li><li><span><a href=\"#Разбиение-на-выборки\" data-toc-modified-id=\"Разбиение-на-выборки-2.2\"><span class=\"toc-item-num\">2.2&nbsp;&nbsp;</span>Разбиение на выборки</a></span></li><li><span><a href=\"#масштабирование\" data-toc-modified-id=\"масштабирование-2.3\"><span class=\"toc-item-num\">2.3&nbsp;&nbsp;</span>масштабирование</a></span></li><li><span><a href=\"#Upsampling-для-редковстречающегося-класса\" data-toc-modified-id=\"Upsampling-для-редковстречающегося-класса-2.4\"><span class=\"toc-item-num\">2.4&nbsp;&nbsp;</span>Upsampling для редковстречающегося класса</a></span></li><li><span><a href=\"#Вывод\" data-toc-modified-id=\"Вывод-2.5\"><span class=\"toc-item-num\">2.5&nbsp;&nbsp;</span>Вывод</a></span></li></ul></li><li><span><a href=\"#Подбор-параметров-модели\" data-toc-modified-id=\"Подбор-параметров-модели-3\"><span class=\"toc-item-num\">3&nbsp;&nbsp;</span>Подбор параметров модели</a></span><ul class=\"toc-item\"><li><span><a href=\"#Logistic-Regression\" data-toc-modified-id=\"Logistic-Regression-3.1\"><span class=\"toc-item-num\">3.1&nbsp;&nbsp;</span>Logistic Regression</a></span></li><li><span><a href=\"#Random-Forest\" data-toc-modified-id=\"Random-Forest-3.2\"><span class=\"toc-item-num\">3.2&nbsp;&nbsp;</span>Random Forest</a></span></li><li><span><a href=\"#Выводы\" data-toc-modified-id=\"Выводы-3.3\"><span class=\"toc-item-num\">3.3&nbsp;&nbsp;</span>Выводы</a></span></li></ul></li><li><span><a href=\"#Борьба-с-дисбалансом\" data-toc-modified-id=\"Борьба-с-дисбалансом-4\"><span class=\"toc-item-num\">4&nbsp;&nbsp;</span>Борьба с дисбалансом</a></span><ul class=\"toc-item\"><li><span><a href=\"#Upsampling\" data-toc-modified-id=\"Upsampling-4.1\"><span class=\"toc-item-num\">4.1&nbsp;&nbsp;</span>Upsampling</a></span><ul class=\"toc-item\"><li><span><a href=\"#Logistic-Regression\" data-toc-modified-id=\"Logistic-Regression-4.1.1\"><span class=\"toc-item-num\">4.1.1&nbsp;&nbsp;</span>Logistic Regression</a></span></li><li><span><a href=\"#RandomForest\" data-toc-modified-id=\"RandomForest-4.1.2\"><span class=\"toc-item-num\">4.1.2&nbsp;&nbsp;</span>RandomForest</a></span></li><li><span><a href=\"#Выводы-по-результатам-upsmapling:\" data-toc-modified-id=\"Выводы-по-результатам-upsmapling:-4.1.3\"><span class=\"toc-item-num\">4.1.3&nbsp;&nbsp;</span>Выводы по результатам upsmapling:</a></span></li></ul></li><li><span><a href=\"#Class_weight-=-balanced\" data-toc-modified-id=\"Class_weight-=-balanced-4.2\"><span class=\"toc-item-num\">4.2&nbsp;&nbsp;</span>Class_weight = balanced</a></span><ul class=\"toc-item\"><li><span><a href=\"#Logistic-Regression\" data-toc-modified-id=\"Logistic-Regression-4.2.1\"><span class=\"toc-item-num\">4.2.1&nbsp;&nbsp;</span>Logistic Regression</a></span></li><li><span><a href=\"#Random-Forest\" data-toc-modified-id=\"Random-Forest-4.2.2\"><span class=\"toc-item-num\">4.2.2&nbsp;&nbsp;</span>Random Forest</a></span></li><li><span><a href=\"#Выводы-по-балансировке-классов\" data-toc-modified-id=\"Выводы-по-балансировке-классов-4.2.3\"><span class=\"toc-item-num\">4.2.3&nbsp;&nbsp;</span>Выводы по балансировке классов</a></span></li></ul></li><li><span><a href=\"#Выводы\" data-toc-modified-id=\"Выводы-4.3\"><span class=\"toc-item-num\">4.3&nbsp;&nbsp;</span>Выводы</a></span></li></ul></li><li><span><a href=\"#Тестирование-модели\" data-toc-modified-id=\"Тестирование-модели-5\"><span class=\"toc-item-num\">5&nbsp;&nbsp;</span>Тестирование модели</a></span><ul class=\"toc-item\"><li><span><a href=\"#Выводы\" data-toc-modified-id=\"Выводы-5.1\"><span class=\"toc-item-num\">5.1&nbsp;&nbsp;</span>Выводы</a></span></li></ul></li><li><span><a href=\"#Чек-лист-готовности-проекта\" data-toc-modified-id=\"Чек-лист-готовности-проекта-6\"><span class=\"toc-item-num\">6&nbsp;&nbsp;</span>Чек-лист готовности проекта</a></span></li></ul></div>"
   ]
  },
  {
   "cell_type": "markdown",
   "metadata": {},
   "source": [
    "# Отток клиентов"
   ]
  },
  {
   "cell_type": "markdown",
   "metadata": {},
   "source": [
    "Из «Бета-Банка» стали уходить клиенты. Каждый месяц. Немного, но заметно. Банковские маркетологи посчитали: сохранять текущих клиентов дешевле, чем привлекать новых.\n",
    "\n",
    "Нужно спрогнозировать, уйдёт клиент из банка в ближайшее время или нет. Вам предоставлены исторические данные о поведении клиентов и расторжении договоров с банком. \n",
    "\n",
    "Постройте модель с предельно большим значением *F1*-меры. Чтобы сдать проект успешно, нужно довести метрику до 0.59. Проверьте *F1*-меру на тестовой выборке самостоятельно.\n",
    "\n",
    "Дополнительно измеряйте *AUC-ROC*, сравнивайте её значение с *F1*-мерой.\n",
    "\n",
    "Источник данных: [https://www.kaggle.com/barelydedicated/bank-customer-churn-modeling](https://www.kaggle.com/barelydedicated/bank-customer-churn-modeling)"
   ]
  },
  {
   "cell_type": "code",
   "execution_count": 6,
   "metadata": {},
   "outputs": [
    {
     "name": "stdout",
     "output_type": "stream",
     "text": [
      "Collecting fast_ml\n",
      "  Downloading fast_ml-3.68-py3-none-any.whl (42 kB)\n",
      "\u001b[K     |████████████████████████████████| 42 kB 238 kB/s eta 0:00:01\n",
      "\u001b[?25hInstalling collected packages: fast-ml\n",
      "Successfully installed fast-ml-3.68\n"
     ]
    }
   ],
   "source": [
    "!pip install -U fast_ml"
   ]
  },
  {
   "cell_type": "code",
   "execution_count": 7,
   "metadata": {},
   "outputs": [
    {
     "name": "stdout",
     "output_type": "stream",
     "text": [
      "Collecting ydata-profiling\n",
      "  Downloading ydata_profiling-4.1.2-py2.py3-none-any.whl (345 kB)\n",
      "\u001b[K     |████████████████████████████████| 345 kB 1.1 MB/s eta 0:00:01\n",
      "\u001b[?25hRequirement already satisfied: pandas!=1.4.0,<1.6,>1.1 in /opt/conda/lib/python3.9/site-packages (from ydata-profiling) (1.2.4)\n",
      "Requirement already satisfied: pydantic<1.11,>=1.8.1 in /opt/conda/lib/python3.9/site-packages (from ydata-profiling) (1.8.2)\n",
      "Collecting htmlmin==0.1.12\n",
      "  Downloading htmlmin-0.1.12.tar.gz (19 kB)\n",
      "Requirement already satisfied: statsmodels<0.14,>=0.13.2 in /opt/conda/lib/python3.9/site-packages (from ydata-profiling) (0.13.2)\n",
      "Collecting typeguard<2.14,>=2.13.2\n",
      "  Downloading typeguard-2.13.3-py3-none-any.whl (17 kB)\n",
      "Requirement already satisfied: PyYAML<6.1,>=5.0.0 in /opt/conda/lib/python3.9/site-packages (from ydata-profiling) (6.0)\n",
      "Requirement already satisfied: numpy<1.24,>=1.16.0 in /opt/conda/lib/python3.9/site-packages (from ydata-profiling) (1.21.1)\n",
      "Requirement already satisfied: matplotlib<3.7,>=3.2 in /opt/conda/lib/python3.9/site-packages (from ydata-profiling) (3.3.4)\n",
      "Requirement already satisfied: seaborn<0.13,>=0.10.1 in /opt/conda/lib/python3.9/site-packages (from ydata-profiling) (0.11.1)\n",
      "Requirement already satisfied: jinja2<3.2,>=2.11.1 in /opt/conda/lib/python3.9/site-packages (from ydata-profiling) (3.0.1)\n",
      "Collecting multimethod<1.10,>=1.4\n",
      "  Downloading multimethod-1.9.1-py3-none-any.whl (10 kB)\n",
      "Collecting phik<0.13,>=0.11.1\n",
      "  Downloading phik-0.12.3-cp39-cp39-manylinux_2_17_x86_64.manylinux2014_x86_64.whl (679 kB)\n",
      "\u001b[K     |████████████████████████████████| 679 kB 22.7 MB/s eta 0:00:01\n",
      "\u001b[?25hCollecting imagehash==4.3.1\n",
      "  Downloading ImageHash-4.3.1-py2.py3-none-any.whl (296 kB)\n",
      "\u001b[K     |████████████████████████████████| 296 kB 80.5 MB/s eta 0:00:01\n",
      "\u001b[?25hRequirement already satisfied: tqdm<4.65,>=4.48.2 in /opt/conda/lib/python3.9/site-packages (from ydata-profiling) (4.61.2)\n",
      "Collecting visions[type_image_path]==0.7.5\n",
      "  Downloading visions-0.7.5-py3-none-any.whl (102 kB)\n",
      "\u001b[K     |████████████████████████████████| 102 kB 89.3 MB/s eta 0:00:01\n",
      "\u001b[?25hRequirement already satisfied: scipy<1.10,>=1.4.1 in /opt/conda/lib/python3.9/site-packages (from ydata-profiling) (1.9.1)\n",
      "Requirement already satisfied: requests<2.29,>=2.24.0 in /opt/conda/lib/python3.9/site-packages (from ydata-profiling) (2.25.1)\n",
      "Collecting PyWavelets\n",
      "  Downloading PyWavelets-1.4.1-cp39-cp39-manylinux_2_17_x86_64.manylinux2014_x86_64.whl (6.9 MB)\n",
      "\u001b[K     |████████████████████████████████| 6.9 MB 62.2 MB/s eta 0:00:01\n",
      "\u001b[?25hRequirement already satisfied: pillow in /opt/conda/lib/python3.9/site-packages (from imagehash==4.3.1->ydata-profiling) (8.4.0)\n",
      "Collecting tangled-up-in-unicode>=0.0.4\n",
      "  Downloading tangled_up_in_unicode-0.2.0-py3-none-any.whl (4.7 MB)\n",
      "\u001b[K     |████████████████████████████████| 4.7 MB 56.1 MB/s eta 0:00:01\n",
      "\u001b[?25hRequirement already satisfied: attrs>=19.3.0 in /opt/conda/lib/python3.9/site-packages (from visions[type_image_path]==0.7.5->ydata-profiling) (21.2.0)\n",
      "Collecting networkx>=2.4\n",
      "  Downloading networkx-3.1-py3-none-any.whl (2.1 MB)\n",
      "\u001b[K     |████████████████████████████████| 2.1 MB 52.8 MB/s eta 0:00:01\n",
      "\u001b[?25hRequirement already satisfied: MarkupSafe>=2.0 in /opt/conda/lib/python3.9/site-packages (from jinja2<3.2,>=2.11.1->ydata-profiling) (2.1.1)\n",
      "Requirement already satisfied: python-dateutil>=2.1 in /opt/conda/lib/python3.9/site-packages (from matplotlib<3.7,>=3.2->ydata-profiling) (2.8.1)\n",
      "Requirement already satisfied: cycler>=0.10 in /opt/conda/lib/python3.9/site-packages (from matplotlib<3.7,>=3.2->ydata-profiling) (0.11.0)\n",
      "Requirement already satisfied: kiwisolver>=1.0.1 in /opt/conda/lib/python3.9/site-packages (from matplotlib<3.7,>=3.2->ydata-profiling) (1.4.4)\n",
      "Requirement already satisfied: pyparsing!=2.0.4,!=2.1.2,!=2.1.6,>=2.0.3 in /opt/conda/lib/python3.9/site-packages (from matplotlib<3.7,>=3.2->ydata-profiling) (2.4.7)\n",
      "Requirement already satisfied: pytz>=2017.3 in /opt/conda/lib/python3.9/site-packages (from pandas!=1.4.0,<1.6,>1.1->ydata-profiling) (2021.1)\n",
      "Requirement already satisfied: joblib>=0.14.1 in /opt/conda/lib/python3.9/site-packages (from phik<0.13,>=0.11.1->ydata-profiling) (1.1.0)\n",
      "Requirement already satisfied: typing-extensions>=3.7.4.3 in /opt/conda/lib/python3.9/site-packages (from pydantic<1.11,>=1.8.1->ydata-profiling) (4.3.0)\n",
      "Requirement already satisfied: six>=1.5 in /opt/conda/lib/python3.9/site-packages (from python-dateutil>=2.1->matplotlib<3.7,>=3.2->ydata-profiling) (1.16.0)\n",
      "Requirement already satisfied: certifi>=2017.4.17 in /opt/conda/lib/python3.9/site-packages (from requests<2.29,>=2.24.0->ydata-profiling) (2022.6.15)\n",
      "Requirement already satisfied: idna<3,>=2.5 in /opt/conda/lib/python3.9/site-packages (from requests<2.29,>=2.24.0->ydata-profiling) (2.10)\n",
      "Requirement already satisfied: chardet<5,>=3.0.2 in /opt/conda/lib/python3.9/site-packages (from requests<2.29,>=2.24.0->ydata-profiling) (4.0.0)\n",
      "Requirement already satisfied: urllib3<1.27,>=1.21.1 in /opt/conda/lib/python3.9/site-packages (from requests<2.29,>=2.24.0->ydata-profiling) (1.26.6)\n",
      "Requirement already satisfied: patsy>=0.5.2 in /opt/conda/lib/python3.9/site-packages (from statsmodels<0.14,>=0.13.2->ydata-profiling) (0.5.2)\n",
      "Requirement already satisfied: packaging>=21.3 in /opt/conda/lib/python3.9/site-packages (from statsmodels<0.14,>=0.13.2->ydata-profiling) (21.3)\n",
      "Building wheels for collected packages: htmlmin\n",
      "  Building wheel for htmlmin (setup.py) ... \u001b[?25ldone\n",
      "\u001b[?25h  Created wheel for htmlmin: filename=htmlmin-0.1.12-py3-none-any.whl size=27085 sha256=af6b895155f3b278c808926b1a5ad59eca8af78bfcaba45bc79c4b0c0c3d9a44\n",
      "  Stored in directory: /home/jovyan/.cache/pip/wheels/1d/05/04/c6d7d3b66539d9e659ac6dfe81e2d0fd4c1a8316cc5a403300\n",
      "Successfully built htmlmin\n",
      "Installing collected packages: tangled-up-in-unicode, PyWavelets, networkx, multimethod, visions, imagehash, typeguard, phik, htmlmin, ydata-profiling\n",
      "Successfully installed PyWavelets-1.4.1 htmlmin-0.1.12 imagehash-4.3.1 multimethod-1.9.1 networkx-3.1 phik-0.12.3 tangled-up-in-unicode-0.2.0 typeguard-2.13.3 visions-0.7.5 ydata-profiling-4.1.2\n"
     ]
    }
   ],
   "source": [
    "!pip install ydata-profiling"
   ]
  },
  {
   "cell_type": "code",
   "execution_count": 2,
   "metadata": {},
   "outputs": [],
   "source": [
    "import pandas as pd #pandas\n",
    "import numpy as np #numpy\n",
    "import matplotlib.pyplot as plt #matplot\n",
    "import seaborn as sns #seaborn\n",
    "from sklearn.dummy import DummyClassifier #dummy\n",
    "from sklearn.ensemble import RandomForestClassifier #random forest\n",
    "from sklearn.linear_model import LogisticRegression,LogisticRegressionCV\n",
    "from sklearn.preprocessing import StandardScaler, OneHotEncoder # scale and OHE\n",
    "from fast_ml.model_development import train_valid_test_split\n",
    "from sklearn.model_selection import train_test_split, cross_val_score, RandomizedSearchCV\n",
    "#from ydata_profiling import ProfileReport\n",
    "from sklearn.metrics import f1_score,roc_auc_score,precision_score, recall_score,roc_curve \n",
    "# import sklearn.metrics\n",
    "from sklearn.utils import shuffle\n",
    "#from sklearn.metrics import confusion_matrix, ConfusionMatrixDisplay, plot_confusion_matrix\n"
   ]
  },
  {
   "cell_type": "code",
   "execution_count": 34,
   "metadata": {},
   "outputs": [],
   "source": [
    "#upsamling для корректировки дисбалансов классов. входные параметры: \n",
    "#features - столбцы признаков, \n",
    "#target - столбец целевого значения\n",
    "#repeat - количество заполнений столбца \n",
    "def upsample(features, target, repeat): \n",
    "    features_zeros = features[target == 0] # делим признаки на положительные и отрицательные(0 и 1)\n",
    "    features_ones = features[target == 1]\n",
    "    target_zeros = target[target == 0]\n",
    "    target_ones = target[target == 1]\n",
    "# добавляем значения в редковстречающийся класс\n",
    "    features_upsampled = pd.concat([features_zeros] + [features_ones] * repeat) \n",
    "    target_upsampled = pd.concat([target_zeros] + [target_ones] * repeat)\n",
    "# перемешиваем значения для устранения эффекта запоминания модели(переобучения)    \n",
    "    features_upsampled, target_upsampled = shuffle(\n",
    "        features_upsampled, target_upsampled, random_state=12345)\n",
    "    return features_upsampled, target_upsampled\n"
   ]
  },
  {
   "cell_type": "code",
   "execution_count": 9,
   "metadata": {},
   "outputs": [],
   "source": [
    "#построение roc-auc кривой на валидационной выборке\n",
    "def roc_auc_plot (features_valid, target_valid, model, x, y):\n",
    "    probabilities_valid = model.predict_proba(features_valid)\n",
    "    probabilities_one_valid = probabilities_valid[:, 1]\n",
    "    fpr, tpr, thresholds = roc_curve(target_valid, probabilities_one_valid)\n",
    "    plt.figure(figsize=(x,y))\n",
    "    # построение графика\n",
    "    plt.plot(fpr, tpr)\n",
    "    # вводим ROC кривую случайной модели со значением 0.5\n",
    "    plt.plot([0, 1], [0, 1], linestyle='--')\n",
    "    #границы графиков\n",
    "    plt.xlim(0,1)\n",
    "    plt.ylim(0,1)\n",
    "    #подписи осей\n",
    "    plt.xlabel('False Positive Rate')\n",
    "    plt.ylabel('True Positive Rate')\n",
    "    #заголовок\n",
    "    plt.title('ROC-кривая', fontsize = 12)\n",
    "    plt.show()\n",
    "    "
   ]
  },
  {
   "cell_type": "code",
   "execution_count": 7,
   "metadata": {},
   "outputs": [
    {
     "name": "stdout",
     "output_type": "stream",
     "text": [
      "Collecting imblearn\n",
      "  Downloading imblearn-0.0-py2.py3-none-any.whl (1.9 kB)\n",
      "Collecting imbalanced-learn\n",
      "  Downloading imbalanced_learn-0.10.1-py3-none-any.whl (226 kB)\n",
      "\u001b[K     |████████████████████████████████| 226 kB 1.2 MB/s eta 0:00:01\n",
      "\u001b[?25hRequirement already satisfied: scipy>=1.3.2 in /opt/conda/lib/python3.9/site-packages (from imbalanced-learn->imblearn) (1.9.1)\n",
      "Collecting joblib>=1.1.1\n",
      "  Downloading joblib-1.2.0-py3-none-any.whl (297 kB)\n",
      "\u001b[K     |████████████████████████████████| 297 kB 13.0 MB/s eta 0:00:01\n",
      "\u001b[?25hRequirement already satisfied: numpy>=1.17.3 in /opt/conda/lib/python3.9/site-packages (from imbalanced-learn->imblearn) (1.21.1)\n",
      "Requirement already satisfied: threadpoolctl>=2.0.0 in /opt/conda/lib/python3.9/site-packages (from imbalanced-learn->imblearn) (3.1.0)\n",
      "Collecting scikit-learn>=1.0.2\n",
      "  Downloading scikit_learn-1.2.2-cp39-cp39-manylinux_2_17_x86_64.manylinux2014_x86_64.whl (9.6 MB)\n",
      "\u001b[K     |████████████████████████████████| 9.6 MB 53.6 MB/s eta 0:00:01\n",
      "\u001b[?25hInstalling collected packages: joblib, scikit-learn, imbalanced-learn, imblearn\n",
      "  Attempting uninstall: joblib\n",
      "    Found existing installation: joblib 1.1.0\n",
      "    Uninstalling joblib-1.1.0:\n",
      "      Successfully uninstalled joblib-1.1.0\n",
      "  Attempting uninstall: scikit-learn\n",
      "    Found existing installation: scikit-learn 0.24.1\n",
      "    Uninstalling scikit-learn-0.24.1:\n",
      "      Successfully uninstalled scikit-learn-0.24.1\n",
      "Successfully installed imbalanced-learn-0.10.1 imblearn-0.0 joblib-1.2.0 scikit-learn-1.2.2\n"
     ]
    }
   ],
   "source": [
    "!pip install imblearn"
   ]
  },
  {
   "cell_type": "markdown",
   "metadata": {},
   "source": [
    "## Подготовка данных"
   ]
  },
  {
   "cell_type": "markdown",
   "metadata": {},
   "source": [
    "**Признаки**\n",
    "- RowNumber — индекс строки в данных\n",
    "- CustomerId — уникальный идентификатор клиента\n",
    "- Surname — фамилия\n",
    "- CreditScore — кредитный рейтинг\n",
    "- Geography — страна проживания\n",
    "- Gender — пол\n",
    "- Age — возраст\n",
    "- Tenure — сколько лет человек является клиентом банка\n",
    "- Balance — баланс на счёте\n",
    "- NumOfProducts — количество продуктов банка, используемых клиентом\n",
    "- HasCrCard — наличие кредитной карты\n",
    "- IsActiveMember — активность клиента\n",
    "- EstimatedSalary — предполагаемая зарплата  \n",
    "\n",
    "\n",
    "**Целевой признак**\n",
    "- Exited — факт ухода клиента"
   ]
  },
  {
   "cell_type": "code",
   "execution_count": 4,
   "metadata": {},
   "outputs": [],
   "source": [
    "#read dataset\n",
    "data = pd.read_csv('/datasets/Churn.csv')"
   ]
  },
  {
   "cell_type": "code",
   "execution_count": 5,
   "metadata": {},
   "outputs": [
    {
     "name": "stdout",
     "output_type": "stream",
     "text": [
      "<class 'pandas.core.frame.DataFrame'>\n",
      "RangeIndex: 10000 entries, 0 to 9999\n",
      "Data columns (total 14 columns):\n",
      " #   Column           Non-Null Count  Dtype  \n",
      "---  ------           --------------  -----  \n",
      " 0   RowNumber        10000 non-null  int64  \n",
      " 1   CustomerId       10000 non-null  int64  \n",
      " 2   Surname          10000 non-null  object \n",
      " 3   CreditScore      10000 non-null  int64  \n",
      " 4   Geography        10000 non-null  object \n",
      " 5   Gender           10000 non-null  object \n",
      " 6   Age              10000 non-null  int64  \n",
      " 7   Tenure           9091 non-null   float64\n",
      " 8   Balance          10000 non-null  float64\n",
      " 9   NumOfProducts    10000 non-null  int64  \n",
      " 10  HasCrCard        10000 non-null  int64  \n",
      " 11  IsActiveMember   10000 non-null  int64  \n",
      " 12  EstimatedSalary  10000 non-null  float64\n",
      " 13  Exited           10000 non-null  int64  \n",
      "dtypes: float64(3), int64(8), object(3)\n",
      "memory usage: 1.1+ MB\n"
     ]
    }
   ],
   "source": [
    "#types and nulls\n",
    "data.info()"
   ]
  },
  {
   "cell_type": "code",
   "execution_count": 6,
   "metadata": {},
   "outputs": [
    {
     "data": {
      "text/html": [
       "<div>\n",
       "<style scoped>\n",
       "    .dataframe tbody tr th:only-of-type {\n",
       "        vertical-align: middle;\n",
       "    }\n",
       "\n",
       "    .dataframe tbody tr th {\n",
       "        vertical-align: top;\n",
       "    }\n",
       "\n",
       "    .dataframe thead th {\n",
       "        text-align: right;\n",
       "    }\n",
       "</style>\n",
       "<table border=\"1\" class=\"dataframe\">\n",
       "  <thead>\n",
       "    <tr style=\"text-align: right;\">\n",
       "      <th></th>\n",
       "      <th>RowNumber</th>\n",
       "      <th>CustomerId</th>\n",
       "      <th>Surname</th>\n",
       "      <th>CreditScore</th>\n",
       "      <th>Geography</th>\n",
       "      <th>Gender</th>\n",
       "      <th>Age</th>\n",
       "      <th>Tenure</th>\n",
       "      <th>Balance</th>\n",
       "      <th>NumOfProducts</th>\n",
       "      <th>HasCrCard</th>\n",
       "      <th>IsActiveMember</th>\n",
       "      <th>EstimatedSalary</th>\n",
       "      <th>Exited</th>\n",
       "    </tr>\n",
       "  </thead>\n",
       "  <tbody>\n",
       "    <tr>\n",
       "      <th>0</th>\n",
       "      <td>1</td>\n",
       "      <td>15634602</td>\n",
       "      <td>Hargrave</td>\n",
       "      <td>619</td>\n",
       "      <td>France</td>\n",
       "      <td>Female</td>\n",
       "      <td>42</td>\n",
       "      <td>2.0</td>\n",
       "      <td>0.00</td>\n",
       "      <td>1</td>\n",
       "      <td>1</td>\n",
       "      <td>1</td>\n",
       "      <td>101348.88</td>\n",
       "      <td>1</td>\n",
       "    </tr>\n",
       "    <tr>\n",
       "      <th>1</th>\n",
       "      <td>2</td>\n",
       "      <td>15647311</td>\n",
       "      <td>Hill</td>\n",
       "      <td>608</td>\n",
       "      <td>Spain</td>\n",
       "      <td>Female</td>\n",
       "      <td>41</td>\n",
       "      <td>1.0</td>\n",
       "      <td>83807.86</td>\n",
       "      <td>1</td>\n",
       "      <td>0</td>\n",
       "      <td>1</td>\n",
       "      <td>112542.58</td>\n",
       "      <td>0</td>\n",
       "    </tr>\n",
       "    <tr>\n",
       "      <th>2</th>\n",
       "      <td>3</td>\n",
       "      <td>15619304</td>\n",
       "      <td>Onio</td>\n",
       "      <td>502</td>\n",
       "      <td>France</td>\n",
       "      <td>Female</td>\n",
       "      <td>42</td>\n",
       "      <td>8.0</td>\n",
       "      <td>159660.80</td>\n",
       "      <td>3</td>\n",
       "      <td>1</td>\n",
       "      <td>0</td>\n",
       "      <td>113931.57</td>\n",
       "      <td>1</td>\n",
       "    </tr>\n",
       "    <tr>\n",
       "      <th>3</th>\n",
       "      <td>4</td>\n",
       "      <td>15701354</td>\n",
       "      <td>Boni</td>\n",
       "      <td>699</td>\n",
       "      <td>France</td>\n",
       "      <td>Female</td>\n",
       "      <td>39</td>\n",
       "      <td>1.0</td>\n",
       "      <td>0.00</td>\n",
       "      <td>2</td>\n",
       "      <td>0</td>\n",
       "      <td>0</td>\n",
       "      <td>93826.63</td>\n",
       "      <td>0</td>\n",
       "    </tr>\n",
       "    <tr>\n",
       "      <th>4</th>\n",
       "      <td>5</td>\n",
       "      <td>15737888</td>\n",
       "      <td>Mitchell</td>\n",
       "      <td>850</td>\n",
       "      <td>Spain</td>\n",
       "      <td>Female</td>\n",
       "      <td>43</td>\n",
       "      <td>2.0</td>\n",
       "      <td>125510.82</td>\n",
       "      <td>1</td>\n",
       "      <td>1</td>\n",
       "      <td>1</td>\n",
       "      <td>79084.10</td>\n",
       "      <td>0</td>\n",
       "    </tr>\n",
       "  </tbody>\n",
       "</table>\n",
       "</div>"
      ],
      "text/plain": [
       "   RowNumber  CustomerId   Surname  CreditScore Geography  Gender  Age  \\\n",
       "0          1    15634602  Hargrave          619    France  Female   42   \n",
       "1          2    15647311      Hill          608     Spain  Female   41   \n",
       "2          3    15619304      Onio          502    France  Female   42   \n",
       "3          4    15701354      Boni          699    France  Female   39   \n",
       "4          5    15737888  Mitchell          850     Spain  Female   43   \n",
       "\n",
       "   Tenure    Balance  NumOfProducts  HasCrCard  IsActiveMember  \\\n",
       "0     2.0       0.00              1          1               1   \n",
       "1     1.0   83807.86              1          0               1   \n",
       "2     8.0  159660.80              3          1               0   \n",
       "3     1.0       0.00              2          0               0   \n",
       "4     2.0  125510.82              1          1               1   \n",
       "\n",
       "   EstimatedSalary  Exited  \n",
       "0        101348.88       1  \n",
       "1        112542.58       0  \n",
       "2        113931.57       1  \n",
       "3         93826.63       0  \n",
       "4         79084.10       0  "
      ]
     },
     "execution_count": 6,
     "metadata": {},
     "output_type": "execute_result"
    }
   ],
   "source": [
    "#первые пять строк\n",
    "data.head()"
   ]
  },
  {
   "cell_type": "code",
   "execution_count": 7,
   "metadata": {},
   "outputs": [
    {
     "data": {
      "text/html": [
       "<div>\n",
       "<style scoped>\n",
       "    .dataframe tbody tr th:only-of-type {\n",
       "        vertical-align: middle;\n",
       "    }\n",
       "\n",
       "    .dataframe tbody tr th {\n",
       "        vertical-align: top;\n",
       "    }\n",
       "\n",
       "    .dataframe thead th {\n",
       "        text-align: right;\n",
       "    }\n",
       "</style>\n",
       "<table border=\"1\" class=\"dataframe\">\n",
       "  <thead>\n",
       "    <tr style=\"text-align: right;\">\n",
       "      <th></th>\n",
       "      <th>rownumber</th>\n",
       "      <th>customerid</th>\n",
       "      <th>surname</th>\n",
       "      <th>creditscore</th>\n",
       "      <th>geography</th>\n",
       "      <th>gender</th>\n",
       "      <th>age</th>\n",
       "      <th>tenure</th>\n",
       "      <th>balance</th>\n",
       "      <th>numofproducts</th>\n",
       "      <th>hascrcard</th>\n",
       "      <th>isactivemember</th>\n",
       "      <th>estimatedsalary</th>\n",
       "      <th>exited</th>\n",
       "    </tr>\n",
       "  </thead>\n",
       "  <tbody>\n",
       "    <tr>\n",
       "      <th>0</th>\n",
       "      <td>1</td>\n",
       "      <td>15634602</td>\n",
       "      <td>Hargrave</td>\n",
       "      <td>619</td>\n",
       "      <td>France</td>\n",
       "      <td>Female</td>\n",
       "      <td>42</td>\n",
       "      <td>2.0</td>\n",
       "      <td>0.00</td>\n",
       "      <td>1</td>\n",
       "      <td>1</td>\n",
       "      <td>1</td>\n",
       "      <td>101348.88</td>\n",
       "      <td>1</td>\n",
       "    </tr>\n",
       "    <tr>\n",
       "      <th>1</th>\n",
       "      <td>2</td>\n",
       "      <td>15647311</td>\n",
       "      <td>Hill</td>\n",
       "      <td>608</td>\n",
       "      <td>Spain</td>\n",
       "      <td>Female</td>\n",
       "      <td>41</td>\n",
       "      <td>1.0</td>\n",
       "      <td>83807.86</td>\n",
       "      <td>1</td>\n",
       "      <td>0</td>\n",
       "      <td>1</td>\n",
       "      <td>112542.58</td>\n",
       "      <td>0</td>\n",
       "    </tr>\n",
       "    <tr>\n",
       "      <th>2</th>\n",
       "      <td>3</td>\n",
       "      <td>15619304</td>\n",
       "      <td>Onio</td>\n",
       "      <td>502</td>\n",
       "      <td>France</td>\n",
       "      <td>Female</td>\n",
       "      <td>42</td>\n",
       "      <td>8.0</td>\n",
       "      <td>159660.80</td>\n",
       "      <td>3</td>\n",
       "      <td>1</td>\n",
       "      <td>0</td>\n",
       "      <td>113931.57</td>\n",
       "      <td>1</td>\n",
       "    </tr>\n",
       "    <tr>\n",
       "      <th>3</th>\n",
       "      <td>4</td>\n",
       "      <td>15701354</td>\n",
       "      <td>Boni</td>\n",
       "      <td>699</td>\n",
       "      <td>France</td>\n",
       "      <td>Female</td>\n",
       "      <td>39</td>\n",
       "      <td>1.0</td>\n",
       "      <td>0.00</td>\n",
       "      <td>2</td>\n",
       "      <td>0</td>\n",
       "      <td>0</td>\n",
       "      <td>93826.63</td>\n",
       "      <td>0</td>\n",
       "    </tr>\n",
       "    <tr>\n",
       "      <th>4</th>\n",
       "      <td>5</td>\n",
       "      <td>15737888</td>\n",
       "      <td>Mitchell</td>\n",
       "      <td>850</td>\n",
       "      <td>Spain</td>\n",
       "      <td>Female</td>\n",
       "      <td>43</td>\n",
       "      <td>2.0</td>\n",
       "      <td>125510.82</td>\n",
       "      <td>1</td>\n",
       "      <td>1</td>\n",
       "      <td>1</td>\n",
       "      <td>79084.10</td>\n",
       "      <td>0</td>\n",
       "    </tr>\n",
       "  </tbody>\n",
       "</table>\n",
       "</div>"
      ],
      "text/plain": [
       "   rownumber  customerid   surname  creditscore geography  gender  age  \\\n",
       "0          1    15634602  Hargrave          619    France  Female   42   \n",
       "1          2    15647311      Hill          608     Spain  Female   41   \n",
       "2          3    15619304      Onio          502    France  Female   42   \n",
       "3          4    15701354      Boni          699    France  Female   39   \n",
       "4          5    15737888  Mitchell          850     Spain  Female   43   \n",
       "\n",
       "   tenure    balance  numofproducts  hascrcard  isactivemember  \\\n",
       "0     2.0       0.00              1          1               1   \n",
       "1     1.0   83807.86              1          0               1   \n",
       "2     8.0  159660.80              3          1               0   \n",
       "3     1.0       0.00              2          0               0   \n",
       "4     2.0  125510.82              1          1               1   \n",
       "\n",
       "   estimatedsalary  exited  \n",
       "0        101348.88       1  \n",
       "1        112542.58       0  \n",
       "2        113931.57       1  \n",
       "3         93826.63       0  \n",
       "4         79084.10       0  "
      ]
     },
     "execution_count": 7,
     "metadata": {},
     "output_type": "execute_result"
    }
   ],
   "source": [
    "#приводим к нижнему регистру\n",
    "data.columns = data.columns.str.lower()\n",
    "data.head()"
   ]
  },
  {
   "cell_type": "code",
   "execution_count": 8,
   "metadata": {},
   "outputs": [],
   "source": [
    "#список новых названий столбцов \n",
    "rename_list = {\n",
    "    'rownumber':'row_number', \n",
    "    'customerid':'customer_id',\n",
    "    'creditscore':'credit_score',\n",
    "    'numofproducts':'num_of_products',\n",
    "    'hascrcard':'has_card',\n",
    "    'isactivemember' : 'is_active_memeber',\n",
    "    'estimatedsalary':'estimated_salary'\n",
    "}\n",
    "data.rename(columns = rename_list , inplace = True )"
   ]
  },
  {
   "cell_type": "code",
   "execution_count": null,
   "metadata": {},
   "outputs": [],
   "source": [
    "#проверяем заполнение названий столбцов\n",
    "data.sample(5)"
   ]
  },
  {
   "cell_type": "markdown",
   "metadata": {},
   "source": [
    "Фамилии, номера клиентов и row_number вряд ли пригодятся нам в обучении моделей. Удалим лишние столбцы из датасета"
   ]
  },
  {
   "cell_type": "code",
   "execution_count": null,
   "metadata": {},
   "outputs": [],
   "source": [
    "data.drop(['row_number','surname', 'customer_id'],inplace = True, axis = 1)"
   ]
  },
  {
   "cell_type": "markdown",
   "metadata": {},
   "source": [
    "Посмотрим на отчет об анализе данных с помощью Pandas Profiling Report"
   ]
  },
  {
   "cell_type": "code",
   "execution_count": null,
   "metadata": {},
   "outputs": [],
   "source": [
    "#анализ данных через pandas profile\n",
    "profile = ProfileReport(data, title=\"Pandas Profiling Report\")\n",
    "profile.to_widgets()"
   ]
  },
  {
   "cell_type": "markdown",
   "metadata": {},
   "source": [
    "В датасете были замечены пропуски в графе *tenure* в количестве 9.1%, удалим их поскольку их количество находится в допустимых пределах"
   ]
  },
  {
   "cell_type": "code",
   "execution_count": null,
   "metadata": {},
   "outputs": [],
   "source": [
    "data.dropna(inplace = True)\n",
    "data.info()"
   ]
  },
  {
   "cell_type": "markdown",
   "metadata": {},
   "source": [
    "Пропуски устранили, продолжаем работу"
   ]
  },
  {
   "cell_type": "markdown",
   "metadata": {},
   "source": [
    "### Создание выборок"
   ]
  },
  {
   "cell_type": "markdown",
   "metadata": {},
   "source": [
    "Сформируем целевые значения и признаки. Необходимые категориальные переменные перед этим закодируем  \n",
    "(столбец с фамилиями удалим как лишний)"
   ]
  },
  {
   "cell_type": "code",
   "execution_count": null,
   "metadata": {},
   "outputs": [],
   "source": [
    "# кодируем местоположение клиента и пол с помощью OHE \n",
    "data_ohe = pd.get_dummies(data, drop_first = True)"
   ]
  },
  {
   "cell_type": "code",
   "execution_count": null,
   "metadata": {},
   "outputs": [],
   "source": [
    "#проверка\n",
    "data_ohe.head()"
   ]
  },
  {
   "cell_type": "code",
   "execution_count": null,
   "metadata": {},
   "outputs": [],
   "source": [
    "#ещё раз убедимся в отсутствии пропусков\n",
    "data_ohe.isna().sum()"
   ]
  },
  {
   "cell_type": "markdown",
   "metadata": {},
   "source": [
    "### Вывод"
   ]
  },
  {
   "cell_type": "markdown",
   "metadata": {},
   "source": [
    "В исходном датасете привели названия столбцов к более читаемому виду, удалили лишние столбы из датасета, удалили 9.1% значений с пропусками, закодировали категориальные переменные методом OHE, избегая dummy-ловушки"
   ]
  },
  {
   "cell_type": "markdown",
   "metadata": {},
   "source": [
    "## Исследование задачи"
   ]
  },
  {
   "cell_type": "markdown",
   "metadata": {},
   "source": [
    "### Исходный баланс классов"
   ]
  },
  {
   "cell_type": "markdown",
   "metadata": {},
   "source": [
    "Визуализируем исходный баланс классов в целевом столбце"
   ]
  },
  {
   "cell_type": "code",
   "execution_count": null,
   "metadata": {},
   "outputs": [],
   "source": [
    "#visual NaN in target\n",
    "data_ohe['exited'].value_counts().plot(\n",
    "    kind = 'bar',\n",
    "    figsize = (8,4),\n",
    "    color = 'lime',\n",
    "    grid = True,\n",
    "    edgecolor = 'black'\n",
    ").set_title('Баланс классов', fontsize = 12)\n",
    "plt.xlabel('Клиент банка или нет, 0 - да, 1 - нет',fontsize = 10)\n",
    "plt.ylabel('Количество',fontsize = 10);"
   ]
  },
  {
   "cell_type": "markdown",
   "metadata": {},
   "source": [
    "Вычислим исходный баланс классов"
   ]
  },
  {
   "cell_type": "code",
   "execution_count": null,
   "metadata": {},
   "outputs": [],
   "source": [
    "#процент оставшихся клиентов банка\n",
    "1 - data_ohe['exited'].mean(), data_ohe['exited'].mean(), "
   ]
  },
  {
   "cell_type": "markdown",
   "metadata": {},
   "source": [
    "Получаем, что в исходном датасете около 80% клиентов банка и около 20% ушедших от банка людей.  \n",
    "Наблюдается сильный дисбаланс классов, соотношение составляет 4: 1, запомним его"
   ]
  },
  {
   "cell_type": "code",
   "execution_count": null,
   "metadata": {},
   "outputs": [],
   "source": [
    "#создаем признаки и целевые значения\n",
    "features = data_ohe.drop(['exited'],axis = 1)\n",
    "target = data_ohe['exited']"
   ]
  },
  {
   "cell_type": "markdown",
   "metadata": {},
   "source": [
    "### Разбиение на выборки"
   ]
  },
  {
   "cell_type": "markdown",
   "metadata": {},
   "source": [
    "Разобьем сформированые выборки на обучающую, валидационную и тестовую в пропорции 3:1:1"
   ]
  },
  {
   "cell_type": "code",
   "execution_count": null,
   "metadata": {},
   "outputs": [],
   "source": [
    "#разбиваем данные на выборки в пропорции 3:1:1\n",
    "features_train, target_train,features_valid, target_valid, features_test, target_test = \\\n",
    "train_valid_test_split(data_ohe, target = 'exited', train_size =.6,valid_size = .2, test_size = .2,random_state = 21)"
   ]
  },
  {
   "cell_type": "code",
   "execution_count": null,
   "metadata": {},
   "outputs": [],
   "source": [
    "#проверка\n",
    "features_train.shape,features_valid.shape, features_test.shape"
   ]
  },
  {
   "cell_type": "markdown",
   "metadata": {},
   "source": [
    "### масштабирование"
   ]
  },
  {
   "cell_type": "code",
   "execution_count": null,
   "metadata": {},
   "outputs": [],
   "source": [
    "#масштабюирование с помощью standard scaler\n",
    "pd.options.mode.chained_assignment = None\n",
    "numeric = ['credit_score', 'age', 'tenure', 'balance','estimated_salary'] #### выделяем столбцы с количественными признаками\n",
    "#copying\n",
    "features_train_scale = features_train.copy()\n",
    "features_valid_scale = features_valid.copy()\n",
    "features_test_scale = features_test.copy()\n",
    "#scaler\n",
    "scaler = StandardScaler()\n",
    "scaler.fit(features_train[numeric]) \n",
    "#scaling features\n",
    "features_train_scale[numeric] = scaler.transform(features_train[numeric])\n",
    "features_valid_scale[numeric] = scaler.transform(features_valid[numeric]) \n",
    "features_test_scale[numeric] = scaler.transform(features_test[numeric]) "
   ]
  },
  {
   "cell_type": "code",
   "execution_count": null,
   "metadata": {},
   "outputs": [],
   "source": [
    "features_test_scale"
   ]
  },
  {
   "cell_type": "markdown",
   "metadata": {},
   "source": [
    "### Upsampling для редковстречающегося класса"
   ]
  },
  {
   "cell_type": "code",
   "execution_count": 35,
   "metadata": {},
   "outputs": [],
   "source": [
    "#upsampling \n",
    "features_train_up,target_train_up = upsample(features_train_scale, target_train, 4)\n",
    "# features_test_up,target_test_up = upsample(features_test_bal, target_test_bal, 4)\n",
    "# features_valid_up,target_valid_up = upsample(features_valid_bal, target_valid_bal, 4)"
   ]
  },
  {
   "cell_type": "code",
   "execution_count": 36,
   "metadata": {},
   "outputs": [
    {
     "data": {
      "text/plain": [
       "0.5085630032891006"
      ]
     },
     "execution_count": 36,
     "metadata": {},
     "output_type": "execute_result"
    }
   ],
   "source": [
    "target_train_up.mean()"
   ]
  },
  {
   "cell_type": "markdown",
   "metadata": {},
   "source": [
    "Видно, что теперь баланс составляет примерно 1:1. Далее проведем масштабирование количественных признаков в выборках.  \n",
    "Для тестовой выборки будем использовать несбалансированную выборку features_test(до использования upsampling)"
   ]
  },
  {
   "cell_type": "markdown",
   "metadata": {},
   "source": [
    "### Вывод"
   ]
  },
  {
   "cell_type": "markdown",
   "metadata": {},
   "source": [
    "Рассмотрели баланс классов в исходном датасете, их соотношение составило примерно 4:1.  \n",
    "Было проведено разбиение на выборки - обучающая, валидационная и тестовая - в соотношении 3:1:1.  \n",
    "С помощью инструмента `Scaler` произвели масштабирование колиечственных признаков в выборках.  \n",
    "Для дальнешего исследования методов борьбы с дисбалансом произвели `upsampling` обучающей выборки, теперь в ней соотношение классов составляет примерно 1 : 1 \n"
   ]
  },
  {
   "cell_type": "markdown",
   "metadata": {},
   "source": [
    "## Подбор параметров модели"
   ]
  },
  {
   "cell_type": "markdown",
   "metadata": {},
   "source": [
    "Рассмотрим модели RandomForest и Logistic Regression. Подберем гиперпараметры с помощью их перебора в цикле"
   ]
  },
  {
   "cell_type": "markdown",
   "metadata": {},
   "source": [
    "### Logistic Regression"
   ]
  },
  {
   "cell_type": "code",
   "execution_count": 28,
   "metadata": {},
   "outputs": [
    {
     "name": "stdout",
     "output_type": "stream",
     "text": [
      "CPU times: user 35.6 s, sys: 40.8 s, total: 1min 16s\n",
      "Wall time: 1min 16s\n"
     ]
    }
   ],
   "source": [
    "%%time\n",
    "#создадим списки с параметрами для тюнинга модели\n",
    "penalty = ['l1','l2']\n",
    "c_value = [x / 10 for x in range(2, 9)]\n",
    "max_iter = [x + 1 for x in range(100,130)]\n",
    "regr_results = []\n",
    "#цикл тюнинга\n",
    "for pen in penalty:\n",
    "    for i in max_iter:\n",
    "        for c in range (len(c_value)):\n",
    "            # обучение\n",
    "            model = LogisticRegression(\n",
    "                max_iter= i,\n",
    "                penalty = pen,\n",
    "                C = c_value[c],\n",
    "                solver = 'liblinear',\n",
    "                multi_class = 'ovr', \n",
    "                random_state = 21\n",
    "            )\n",
    "            model.fit(features_train_scale, target_train)\n",
    "            preds = model.predict(features_valid_scale)\n",
    "            # заносим результаты в список\n",
    "            regr_results.append({\n",
    "                'f_1': round(f1_score(target_valid, preds), 4),\n",
    "                'roc_auc_score': round(roc_auc_score(target_valid, preds), 4),\n",
    "                'c_value': c_value[c],\n",
    "                'max_iter': i,\n",
    "                'penalty': pen\n",
    "            })\n",
    "\n",
    "# создаем датафрейм из результатов\n",
    "regr_results = pd.DataFrame(regr_results)"
   ]
  },
  {
   "cell_type": "code",
   "execution_count": 29,
   "metadata": {},
   "outputs": [
    {
     "data": {
      "text/html": [
       "<div>\n",
       "<style scoped>\n",
       "    .dataframe tbody tr th:only-of-type {\n",
       "        vertical-align: middle;\n",
       "    }\n",
       "\n",
       "    .dataframe tbody tr th {\n",
       "        vertical-align: top;\n",
       "    }\n",
       "\n",
       "    .dataframe thead th {\n",
       "        text-align: right;\n",
       "    }\n",
       "</style>\n",
       "<table border=\"1\" class=\"dataframe\">\n",
       "  <thead>\n",
       "    <tr style=\"text-align: right;\">\n",
       "      <th></th>\n",
       "      <th>f_1</th>\n",
       "      <th>roc_auc_score</th>\n",
       "      <th>c_value</th>\n",
       "      <th>max_iter</th>\n",
       "      <th>penalty</th>\n",
       "    </tr>\n",
       "  </thead>\n",
       "  <tbody>\n",
       "    <tr>\n",
       "      <th>0</th>\n",
       "      <td>0.3286</td>\n",
       "      <td>0.5948</td>\n",
       "      <td>0.4</td>\n",
       "      <td>122</td>\n",
       "      <td>l2</td>\n",
       "    </tr>\n",
       "    <tr>\n",
       "      <th>1</th>\n",
       "      <td>0.3286</td>\n",
       "      <td>0.5948</td>\n",
       "      <td>0.4</td>\n",
       "      <td>106</td>\n",
       "      <td>l2</td>\n",
       "    </tr>\n",
       "    <tr>\n",
       "      <th>2</th>\n",
       "      <td>0.3286</td>\n",
       "      <td>0.5948</td>\n",
       "      <td>0.4</td>\n",
       "      <td>119</td>\n",
       "      <td>l2</td>\n",
       "    </tr>\n",
       "    <tr>\n",
       "      <th>3</th>\n",
       "      <td>0.3286</td>\n",
       "      <td>0.5948</td>\n",
       "      <td>0.4</td>\n",
       "      <td>108</td>\n",
       "      <td>l2</td>\n",
       "    </tr>\n",
       "    <tr>\n",
       "      <th>4</th>\n",
       "      <td>0.3286</td>\n",
       "      <td>0.5948</td>\n",
       "      <td>0.4</td>\n",
       "      <td>130</td>\n",
       "      <td>l2</td>\n",
       "    </tr>\n",
       "  </tbody>\n",
       "</table>\n",
       "</div>"
      ],
      "text/plain": [
       "      f_1  roc_auc_score  c_value  max_iter penalty\n",
       "0  0.3286         0.5948      0.4       122      l2\n",
       "1  0.3286         0.5948      0.4       106      l2\n",
       "2  0.3286         0.5948      0.4       119      l2\n",
       "3  0.3286         0.5948      0.4       108      l2\n",
       "4  0.3286         0.5948      0.4       130      l2"
      ]
     },
     "execution_count": 29,
     "metadata": {},
     "output_type": "execute_result"
    }
   ],
   "source": [
    "#топ-5 результатов\n",
    "regr_results.sort_values('f_1',ascending = False,inplace = True)\n",
    "regr_results = regr_results.reset_index(drop = True)\n",
    "regr_results.head()"
   ]
  },
  {
   "cell_type": "code",
   "execution_count": 30,
   "metadata": {},
   "outputs": [
    {
     "data": {
      "image/png": "[encoded data removed]",
      "text/plain": [
       "<Figure size 864x432 with 1 Axes>"
      ]
     },
     "metadata": {
      "needs_background": "light"
     },
     "output_type": "display_data"
    }
   ],
   "source": [
    "#обучение модели с выбранными параметрами и создание графика ROC-AUC\n",
    "regr_best = LogisticRegression(solver = 'liblinear',multi_class = 'ovr', \n",
    "                               random_state = 21, penalty = 'l2',max_iter = 122, C = 1.4)\n",
    "regr_best.fit(features_train_scale,target_train)\n",
    "roc_auc_plot (features_valid_scale, target_valid,regr_best, 12,6)"
   ]
  },
  {
   "cell_type": "code",
   "execution_count": 33,
   "metadata": {},
   "outputs": [
    {
     "name": "stdout",
     "output_type": "stream",
     "text": [
      "Valid F1 0.3252:\n",
      "ROC-AUC: 0.5934\n"
     ]
    }
   ],
   "source": [
    "#проверим модель на валидационной выборке и посчитаем f1-score и ROC-AUC\n",
    "regr_pred = regr_best.predict(features_valid_scale)\n",
    "print('Valid F1 %.4f:'% f1_score(target_valid,regr_pred))\n",
    "print('ROC-AUC: %.4f'% roc_auc_score(target_valid,regr_pred))"
   ]
  },
  {
   "cell_type": "markdown",
   "metadata": {},
   "source": [
    " **Выводы:**\n",
    "на валидационной выборке в модели LogisticRegression полученные значения метрик F1 и ROC-AUC равны 0.32 и 0.59 соотвественно.  \n",
    "Низкое значение F1 говорит о сильном дисбалансе, в дальнейшем устраним данный недостаток "
   ]
  },
  {
   "cell_type": "markdown",
   "metadata": {},
   "source": [
    "### Random Forest"
   ]
  },
  {
   "cell_type": "code",
   "execution_count": 34,
   "metadata": {},
   "outputs": [
    {
     "name": "stdout",
     "output_type": "stream",
     "text": [
      "CPU times: user 10min 9s, sys: 2.54 s, total: 10min 12s\n",
      "Wall time: 10min 12s\n"
     ]
    },
    {
     "data": {
      "text/html": [
       "<div>\n",
       "<style scoped>\n",
       "    .dataframe tbody tr th:only-of-type {\n",
       "        vertical-align: middle;\n",
       "    }\n",
       "\n",
       "    .dataframe tbody tr th {\n",
       "        vertical-align: top;\n",
       "    }\n",
       "\n",
       "    .dataframe thead th {\n",
       "        text-align: right;\n",
       "    }\n",
       "</style>\n",
       "<table border=\"1\" class=\"dataframe\">\n",
       "  <thead>\n",
       "    <tr style=\"text-align: right;\">\n",
       "      <th></th>\n",
       "      <th>f1</th>\n",
       "      <th>roc_auc</th>\n",
       "      <th>estimators</th>\n",
       "      <th>max_features</th>\n",
       "      <th>max_depth</th>\n",
       "    </tr>\n",
       "  </thead>\n",
       "  <tbody>\n",
       "    <tr>\n",
       "      <th>327</th>\n",
       "      <td>0.6097</td>\n",
       "      <td>0.7318</td>\n",
       "      <td>96</td>\n",
       "      <td>5</td>\n",
       "      <td>9</td>\n",
       "    </tr>\n",
       "    <tr>\n",
       "      <th>279</th>\n",
       "      <td>0.6097</td>\n",
       "      <td>0.7318</td>\n",
       "      <td>95</td>\n",
       "      <td>5</td>\n",
       "      <td>9</td>\n",
       "    </tr>\n",
       "    <tr>\n",
       "      <th>135</th>\n",
       "      <td>0.6084</td>\n",
       "      <td>0.7307</td>\n",
       "      <td>92</td>\n",
       "      <td>5</td>\n",
       "      <td>9</td>\n",
       "    </tr>\n",
       "    <tr>\n",
       "      <th>375</th>\n",
       "      <td>0.6084</td>\n",
       "      <td>0.7307</td>\n",
       "      <td>97</td>\n",
       "      <td>5</td>\n",
       "      <td>9</td>\n",
       "    </tr>\n",
       "    <tr>\n",
       "      <th>471</th>\n",
       "      <td>0.6074</td>\n",
       "      <td>0.7304</td>\n",
       "      <td>99</td>\n",
       "      <td>5</td>\n",
       "      <td>9</td>\n",
       "    </tr>\n",
       "  </tbody>\n",
       "</table>\n",
       "</div>"
      ],
      "text/plain": [
       "         f1  roc_auc  estimators  max_features  max_depth\n",
       "327  0.6097   0.7318          96             5          9\n",
       "279  0.6097   0.7318          95             5          9\n",
       "135  0.6084   0.7307          92             5          9\n",
       "375  0.6084   0.7307          97             5          9\n",
       "471  0.6074   0.7304          99             5          9"
      ]
     },
     "execution_count": 34,
     "metadata": {},
     "output_type": "execute_result"
    }
   ],
   "source": [
    "%%time\n",
    "#создадим списки с параметрами для тюнинга модели\n",
    "n_estimators = [x for x in range (90,120)]\n",
    "max_features = [x for x in range(1,7)]\n",
    "max_depth = [x + 1 for x in range(1,9)]\n",
    "forest_results = []\n",
    "#цикл тюнинга\n",
    "for est in n_estimators:\n",
    "    for feat in max_features:\n",
    "        for depth in max_depth:\n",
    "            # обучение\n",
    "            model = RandomForestClassifier(\n",
    "                max_depth=depth, \n",
    "                n_estimators= est,\n",
    "                max_features = feat,\n",
    "                random_state = 21\n",
    "            )\n",
    "            model.fit(features_train_scale, target_train)\n",
    "            preds = model.predict(features_valid_scale)\n",
    "            # заносим результаты в список\n",
    "            forest_results.append({\n",
    "                'f1': round(f1_score(target_valid, preds), 4),\n",
    "                'roc_auc': round(roc_auc_score(target_valid, preds), 4),\n",
    "                'estimators': est,\n",
    "                'max_features': feat,\n",
    "                'max_depth': depth\n",
    "            })\n",
    "\n",
    "# создаем датафрейм из результатов\n",
    "forest_results = pd.DataFrame(forest_results)\n",
    "forest_results = forest_results.sort_values(by='f1', ascending=False)\n",
    "forest_results.head()"
   ]
  },
  {
   "cell_type": "code",
   "execution_count": 35,
   "metadata": {},
   "outputs": [
    {
     "data": {
      "text/html": [
       "<div>\n",
       "<style scoped>\n",
       "    .dataframe tbody tr th:only-of-type {\n",
       "        vertical-align: middle;\n",
       "    }\n",
       "\n",
       "    .dataframe tbody tr th {\n",
       "        vertical-align: top;\n",
       "    }\n",
       "\n",
       "    .dataframe thead th {\n",
       "        text-align: right;\n",
       "    }\n",
       "</style>\n",
       "<table border=\"1\" class=\"dataframe\">\n",
       "  <thead>\n",
       "    <tr style=\"text-align: right;\">\n",
       "      <th></th>\n",
       "      <th>f1</th>\n",
       "      <th>roc_auc</th>\n",
       "      <th>estimators</th>\n",
       "      <th>max_features</th>\n",
       "      <th>max_depth</th>\n",
       "    </tr>\n",
       "  </thead>\n",
       "  <tbody>\n",
       "    <tr>\n",
       "      <th>327</th>\n",
       "      <td>0.6097</td>\n",
       "      <td>0.7318</td>\n",
       "      <td>96</td>\n",
       "      <td>5</td>\n",
       "      <td>9</td>\n",
       "    </tr>\n",
       "    <tr>\n",
       "      <th>279</th>\n",
       "      <td>0.6097</td>\n",
       "      <td>0.7318</td>\n",
       "      <td>95</td>\n",
       "      <td>5</td>\n",
       "      <td>9</td>\n",
       "    </tr>\n",
       "    <tr>\n",
       "      <th>135</th>\n",
       "      <td>0.6084</td>\n",
       "      <td>0.7307</td>\n",
       "      <td>92</td>\n",
       "      <td>5</td>\n",
       "      <td>9</td>\n",
       "    </tr>\n",
       "    <tr>\n",
       "      <th>375</th>\n",
       "      <td>0.6084</td>\n",
       "      <td>0.7307</td>\n",
       "      <td>97</td>\n",
       "      <td>5</td>\n",
       "      <td>9</td>\n",
       "    </tr>\n",
       "    <tr>\n",
       "      <th>471</th>\n",
       "      <td>0.6074</td>\n",
       "      <td>0.7304</td>\n",
       "      <td>99</td>\n",
       "      <td>5</td>\n",
       "      <td>9</td>\n",
       "    </tr>\n",
       "  </tbody>\n",
       "</table>\n",
       "</div>"
      ],
      "text/plain": [
       "         f1  roc_auc  estimators  max_features  max_depth\n",
       "327  0.6097   0.7318          96             5          9\n",
       "279  0.6097   0.7318          95             5          9\n",
       "135  0.6084   0.7307          92             5          9\n",
       "375  0.6084   0.7307          97             5          9\n",
       "471  0.6074   0.7304          99             5          9"
      ]
     },
     "execution_count": 35,
     "metadata": {},
     "output_type": "execute_result"
    }
   ],
   "source": [
    "#топ-5 параметров модели\n",
    "forest_results = forest_results.sort_values(by='f1', ascending=False)\n",
    "forest_results.head()"
   ]
  },
  {
   "cell_type": "code",
   "execution_count": 37,
   "metadata": {},
   "outputs": [
    {
     "data": {
      "image/png": "[encoded data removed]",
      "text/plain": [
       "<Figure size 864x432 with 1 Axes>"
      ]
     },
     "metadata": {
      "needs_background": "light"
     },
     "output_type": "display_data"
    }
   ],
   "source": [
    "#создаем лучшую модель по результатам подбора параметров\n",
    "forest_best = RandomForestClassifier(n_estimators = 96, max_features = 5, max_depth = 9, random_state = 21)\n",
    "#обучение модели с выбранными параметрами и создание графика ROC-AUC\n",
    "forest_best.fit(features_train_scale, target_train)\n",
    "roc_auc_plot (features_valid_scale, target_valid,forest_best, 12,6)"
   ]
  },
  {
   "cell_type": "code",
   "execution_count": 38,
   "metadata": {},
   "outputs": [
    {
     "name": "stdout",
     "output_type": "stream",
     "text": [
      "Valid F1 0.6097:\n",
      "ROC-AUC: 0.7318\n"
     ]
    }
   ],
   "source": [
    "#проверим модель на валидационной выборке и посчитаем f1-score и ROC-AUC\n",
    "forest_best.fit(features_train_scale,target_train)\n",
    "forest_pred = forest_best.predict(features_valid_scale)\n",
    "print('Valid F1 %.4f:'% f1_score(target_valid,forest_pred))\n",
    "print('ROC-AUC: %.4f'% roc_auc_score(target_valid,forest_pred))"
   ]
  },
  {
   "cell_type": "markdown",
   "metadata": {},
   "source": [
    "### Выводы"
   ]
  },
  {
   "cell_type": "markdown",
   "metadata": {},
   "source": [
    "В целевом признаке наблюдается дисбаланс - соотношение положительных и отрицательных исходов составляет 4:1.\n",
    "На этапе исследования были выбраны две модели для классификации - LogisticRegression и RandomForest.  \n",
    "Обе модели обучались на train выборке с учетом масштабирования количественных признаков, но без учета балансировки классов.  \n",
    "На валидационной выборке LogisticRegression в целом показывает более слабый результат по сравнению с RandomForest:\n",
    "- F1 и ROC-AUC у LR составляет соответственно 0.32 и 0.59\n",
    "- F1 и ROC-AUC у RF составляет соответственно 0.61 и 0.73\n",
    "\n"
   ]
  },
  {
   "cell_type": "markdown",
   "metadata": {},
   "source": [
    "## Борьба с дисбалансом"
   ]
  },
  {
   "cell_type": "markdown",
   "metadata": {},
   "source": [
    "**Рассмотрим несколько способов борьбы с дисбалансом классов в выборке - upsmapling и балансировку весов классов в моделях**"
   ]
  },
  {
   "cell_type": "markdown",
   "metadata": {},
   "source": [
    "### Upsampling"
   ]
  },
  {
   "cell_type": "markdown",
   "metadata": {},
   "source": [
    "Теперь используем для обучения train выборку после upsampling-а"
   ]
  },
  {
   "cell_type": "markdown",
   "metadata": {},
   "source": [
    "#### Logistic Regression"
   ]
  },
  {
   "cell_type": "code",
   "execution_count": 39,
   "metadata": {},
   "outputs": [
    {
     "name": "stdout",
     "output_type": "stream",
     "text": [
      "CPU times: user 39.6 s, sys: 43 s, total: 1min 22s\n",
      "Wall time: 1min 22s\n"
     ]
    }
   ],
   "source": [
    "%%time\n",
    "#создадим списки с параметрами для тюнинга модели\n",
    "regr_results_up = []\n",
    "#цикл тюнинга\n",
    "for pen in penalty:\n",
    "    for i in max_iter:\n",
    "        for c in range (len(c_value)):\n",
    "            # обучение\n",
    "            model = LogisticRegression(\n",
    "                max_iter= i,\n",
    "                penalty = pen,\n",
    "                C = c_value[c],\n",
    "                solver = 'liblinear',\n",
    "                multi_class = 'ovr', \n",
    "                random_state = 21\n",
    "            )\n",
    "            model.fit(features_train_up, target_train_up)\n",
    "            preds = model.predict(features_valid_scale)\n",
    "            # заносим результаты в список\n",
    "            regr_results_up.append({\n",
    "                'f_1': round(f1_score(target_valid, preds), 4),\n",
    "                'roc_auc_score': round(roc_auc_score(target_valid, preds), 4),\n",
    "                'c_value': c_value[c],\n",
    "                'max_iter': i,\n",
    "                'penalty': pen\n",
    "            })\n",
    "\n",
    "# создаем датафрейм из результатов\n",
    "regr_results_up = pd.DataFrame(regr_results_up)"
   ]
  },
  {
   "cell_type": "code",
   "execution_count": 40,
   "metadata": {},
   "outputs": [
    {
     "data": {
      "image/png": "[encoded data removed]",
      "text/plain": [
       "<Figure size 1080x432 with 1 Axes>"
      ]
     },
     "metadata": {
      "needs_background": "light"
     },
     "output_type": "display_data"
    }
   ],
   "source": [
    "#обучение модели с новыми параметрами и создание графика ROC-AUC\n",
    "regr_up= LogisticRegression(solver = 'liblinear',multi_class = 'ovr', \n",
    "                               random_state = 21, \n",
    "                              penalty = 'l1',\n",
    "                              max_iter = 123, \n",
    "                              C = 3.6)\n",
    "regr_up.fit(features_train_up, target_train_up)\n",
    "roc_auc_plot (features_valid_scale, target_valid,regr_up, 15,6)"
   ]
  },
  {
   "cell_type": "code",
   "execution_count": 41,
   "metadata": {},
   "outputs": [
    {
     "name": "stdout",
     "output_type": "stream",
     "text": [
      "Upsamlping Valid F1  0.5079:\n",
      "Upsampling Valid ROC-AUC: 0.7225\n"
     ]
    }
   ],
   "source": [
    "#проверим модель на валидационной выборке и посчитаем f1-score и ROC-AUC\n",
    "regr_pred = regr_up.predict(features_valid_scale)\n",
    "print('Upsamlping Valid F1  %.4f:'% f1_score(target_valid,regr_pred))\n",
    "print('Upsampling Valid ROC-AUC: %.4f'% roc_auc_score(target_valid,regr_pred))"
   ]
  },
  {
   "cell_type": "markdown",
   "metadata": {},
   "source": [
    "#### RandomForest"
   ]
  },
  {
   "cell_type": "markdown",
   "metadata": {},
   "source": [
    "Аналогично логистической регрессии будем использовать train выборку после upsampling"
   ]
  },
  {
   "cell_type": "code",
   "execution_count": 42,
   "metadata": {},
   "outputs": [
    {
     "data": {
      "text/html": [
       "<div>\n",
       "<style scoped>\n",
       "    .dataframe tbody tr th:only-of-type {\n",
       "        vertical-align: middle;\n",
       "    }\n",
       "\n",
       "    .dataframe tbody tr th {\n",
       "        vertical-align: top;\n",
       "    }\n",
       "\n",
       "    .dataframe thead th {\n",
       "        text-align: right;\n",
       "    }\n",
       "</style>\n",
       "<table border=\"1\" class=\"dataframe\">\n",
       "  <thead>\n",
       "    <tr style=\"text-align: right;\">\n",
       "      <th></th>\n",
       "      <th>f1</th>\n",
       "      <th>roc_auc</th>\n",
       "      <th>estimators</th>\n",
       "      <th>max_features</th>\n",
       "      <th>max_depth</th>\n",
       "    </tr>\n",
       "  </thead>\n",
       "  <tbody>\n",
       "    <tr>\n",
       "      <th>391</th>\n",
       "      <td>0.6274</td>\n",
       "      <td>0.7958</td>\n",
       "      <td>98</td>\n",
       "      <td>1</td>\n",
       "      <td>9</td>\n",
       "    </tr>\n",
       "    <tr>\n",
       "      <th>439</th>\n",
       "      <td>0.6266</td>\n",
       "      <td>0.7947</td>\n",
       "      <td>99</td>\n",
       "      <td>1</td>\n",
       "      <td>9</td>\n",
       "    </tr>\n",
       "    <tr>\n",
       "      <th>78</th>\n",
       "      <td>0.6265</td>\n",
       "      <td>0.7978</td>\n",
       "      <td>91</td>\n",
       "      <td>4</td>\n",
       "      <td>8</td>\n",
       "    </tr>\n",
       "    <tr>\n",
       "      <th>775</th>\n",
       "      <td>0.6264</td>\n",
       "      <td>0.7941</td>\n",
       "      <td>106</td>\n",
       "      <td>1</td>\n",
       "      <td>9</td>\n",
       "    </tr>\n",
       "    <tr>\n",
       "      <th>1399</th>\n",
       "      <td>0.6261</td>\n",
       "      <td>0.7927</td>\n",
       "      <td>119</td>\n",
       "      <td>1</td>\n",
       "      <td>9</td>\n",
       "    </tr>\n",
       "  </tbody>\n",
       "</table>\n",
       "</div>"
      ],
      "text/plain": [
       "          f1  roc_auc  estimators  max_features  max_depth\n",
       "391   0.6274   0.7958          98             1          9\n",
       "439   0.6266   0.7947          99             1          9\n",
       "78    0.6265   0.7978          91             4          8\n",
       "775   0.6264   0.7941         106             1          9\n",
       "1399  0.6261   0.7927         119             1          9"
      ]
     },
     "execution_count": 42,
     "metadata": {},
     "output_type": "execute_result"
    }
   ],
   "source": [
    "forest_results_up = []\n",
    "#цикл тюнинга\n",
    "for est in n_estimators:\n",
    "    for feat in max_features:\n",
    "        for depth in max_depth:\n",
    "            # обучение\n",
    "            model = RandomForestClassifier(\n",
    "                max_depth=depth, \n",
    "                n_estimators= est,\n",
    "                max_features = feat,\n",
    "                random_state = 21\n",
    "            )\n",
    "            model.fit(features_train_up, target_train_up)\n",
    "            preds = model.predict(features_valid_scale)\n",
    "            # заносим результаты в список\n",
    "            forest_results_up.append({\n",
    "                'f1': round(f1_score(target_valid, preds), 4),\n",
    "                'roc_auc': round(roc_auc_score(target_valid, preds), 4),\n",
    "                'estimators': est,\n",
    "                'max_features': feat,\n",
    "                'max_depth': depth\n",
    "            })\n",
    "\n",
    "# создаем датафрейм из результатов\n",
    "forest_results_up = pd.DataFrame(forest_results_up)\n",
    "forest_results_up = forest_results_up.sort_values(by='f1', ascending=False)\n",
    "forest_results_up.head()"
   ]
  },
  {
   "cell_type": "code",
   "execution_count": 43,
   "metadata": {},
   "outputs": [
    {
     "data": {
      "image/png": "[encoded data removed]",
      "text/plain": [
       "<Figure size 1080x432 with 1 Axes>"
      ]
     },
     "metadata": {
      "needs_background": "light"
     },
     "output_type": "display_data"
    }
   ],
   "source": [
    "#создаем лучшую модель по результатам подбора параметров\n",
    "forest_up = RandomForestClassifier(n_estimators = 136, max_features = 5, \n",
    "                                    max_depth = 10, random_state = 21\n",
    "                                   )\n",
    "#обучение модели с выбранными параметрами и создание графика ROC-AUC\n",
    "forest_up.fit(features_train_up, target_train_up)\n",
    "roc_auc_plot (features_valid_scale, target_valid,forest_up, 15,6)"
   ]
  },
  {
   "cell_type": "code",
   "execution_count": 56,
   "metadata": {},
   "outputs": [
    {
     "name": "stdout",
     "output_type": "stream",
     "text": [
      "Upsampling Valid F1 0.6112\n",
      "Upsampling ROC-AUC: 0.7760\n"
     ]
    }
   ],
   "source": [
    "#проверим модель на валидационной выборке и посчитаем f1-score и ROC-AUC\n",
    "forest_pred_up = forest_up.predict(features_valid_scale)\n",
    "print('Upsampling Valid F1 %.4f'% f1_score(target_valid,forest_pred_up))\n",
    "print('Upsampling ROC-AUC: %.4f' % roc_auc_score(target_valid,forest_pred_up))"
   ]
  },
  {
   "cell_type": "markdown",
   "metadata": {},
   "source": [
    "#### Выводы по результатам upsmapling:  \n"
   ]
  },
  {
   "cell_type": "markdown",
   "metadata": {},
   "source": [
    "Upsampling привел к сильному увеличению метрики F1 в обеих моделях, а также увеличил значение метрики ROC-AUC.  \n",
    "После применения апсемплинга для редко встречающегося класса значение F1 метрики близко к значению ROC-AUC и составляет около 0.68.  \n",
    "В целом данный метод борьбы с дисбалансом позволил увеличить значения метрик  почти на 0.1.\n"
   ]
  },
  {
   "cell_type": "markdown",
   "metadata": {},
   "source": [
    "### Class_weight = balanced"
   ]
  },
  {
   "cell_type": "markdown",
   "metadata": {},
   "source": [
    "#### Logistic Regression"
   ]
  },
  {
   "cell_type": "code",
   "execution_count": 57,
   "metadata": {},
   "outputs": [
    {
     "name": "stdout",
     "output_type": "stream",
     "text": [
      "CPU times: user 33.1 s, sys: 39.2 s, total: 1min 12s\n",
      "Wall time: 1min 12s\n"
     ]
    }
   ],
   "source": [
    "%%time\n",
    "#создадим списки с параметрами для тюнинга модели\n",
    "regr_results_bal = []\n",
    "#цикл тюнинга\n",
    "for pen in penalty:\n",
    "    for i in max_iter:\n",
    "        for c in range (len(c_value)):\n",
    "            # обучение\n",
    "            model = LogisticRegression(\n",
    "                max_iter= i,\n",
    "                penalty = pen,\n",
    "                C = c_value[c],\n",
    "                solver = 'liblinear',\n",
    "                multi_class = 'ovr',\n",
    "                class_weight = 'balanced',\n",
    "                random_state = 21\n",
    "            )\n",
    "            model.fit(features_train_scale, target_train)\n",
    "            preds = model.predict(featuresvalid_scale)\n",
    "            # заносим результаты в список\n",
    "            regr_results_bal.append({\n",
    "                'f_1': round(f1_score(target_valid, preds), 4),\n",
    "                'roc_auc_score': round(roc_auc_score(target_valid, preds), 4),\n",
    "                'c_value': c_value[c],\n",
    "                'max_iter': i,\n",
    "                'penalty': pen\n",
    "            })\n",
    "\n",
    "# создаем датафрейм из результатов\n",
    "regr_results_bal = pd.DataFrame(regr_results_bal)"
   ]
  },
  {
   "cell_type": "code",
   "execution_count": 60,
   "metadata": {},
   "outputs": [
    {
     "data": {
      "image/png": "[encoded data removed]",
      "text/plain": [
       "<Figure size 1080x432 with 1 Axes>"
      ]
     },
     "metadata": {
      "needs_background": "light"
     },
     "output_type": "display_data"
    }
   ],
   "source": [
    "#обучение модели с новыми параметрами и создание графика ROC-AUC\n",
    "regr_bal= LogisticRegression(solver = 'liblinear',multi_class = 'ovr', \n",
    "                               random_state = 21, \n",
    "                              penalty = 'l1',\n",
    "                              max_iter = 123,\n",
    "                              class_weight = 'balanced',\n",
    "                              C = 3.6)\n",
    "regr_bal.fit(features_train_scale, target_train)\n",
    "roc_auc_plot (features_valid_scale, target_valid,regr_bal, 15,6)"
   ]
  },
  {
   "cell_type": "code",
   "execution_count": 69,
   "metadata": {},
   "outputs": [
    {
     "name": "stdout",
     "output_type": "stream",
     "text": [
      "Balanced Valid F1  0.5124:\n",
      "Balanced Valid ROC-AUC: 0.7242\n"
     ]
    }
   ],
   "source": [
    "#проверим модель на валидационной выборке и посчитаем f1-score и ROC-AUC\n",
    "regr_pred = regr_bal.predict(features_valid_scale)\n",
    "print('Balanced Valid F1  %.4f:'% f1_score(target_valid,regr_pred))\n",
    "print('Balanced Valid ROC-AUC: %.4f'% roc_auc_score(target_valid,regr_pred))"
   ]
  },
  {
   "cell_type": "markdown",
   "metadata": {},
   "source": [
    "#### Random Forest"
   ]
  },
  {
   "cell_type": "code",
   "execution_count": 62,
   "metadata": {},
   "outputs": [],
   "source": [
    "forest_results_bal = []\n",
    "#цикл тюнинга\n",
    "for est in n_estimators:\n",
    "    for feat in max_features:\n",
    "        for depth in max_depth:\n",
    "            # обучение\n",
    "            model = RandomForestClassifier(\n",
    "                max_depth=depth, \n",
    "                n_estimators= est,\n",
    "                max_features = feat,\n",
    "                random_state = 21,\n",
    "                class_weight = 'balanced'\n",
    "            )\n",
    "            model.fit(features_train_scale, target_train)\n",
    "            preds = model.predict(features_valid_scale)\n",
    "            # заносим результаты в список\n",
    "            forest_results_bal.append({\n",
    "                'f1': round(f1_score(target_valid, preds), 4),\n",
    "                'roc_auc': round(roc_auc_score(target_valid, preds), 4),\n",
    "                'estimators': est,\n",
    "                'max_features': feat,\n",
    "                'max_depth': depth\n",
    "            })\n",
    "\n",
    "# создаем датафрейм из результатов\n",
    "forest_results_bal= pd.DataFrame(forest_results_bal)"
   ]
  },
  {
   "cell_type": "code",
   "execution_count": 37,
   "metadata": {},
   "outputs": [
    {
     "data": {
      "image/png": "[encoded data removed]",
      "text/plain": [
       "<Figure size 1080x432 with 1 Axes>"
      ]
     },
     "metadata": {
      "needs_background": "light"
     },
     "output_type": "display_data"
    }
   ],
   "source": [
    "#создаем лучшую модель по результатам подбора параметров\n",
    "forest_bal = RandomForestClassifier(n_estimators = 136, max_features = 5, \n",
    "                                    max_depth = 10, random_state = 21,\n",
    "                                    class_weight = 'balanced'\n",
    "                                   )#обучение модели с выбранными параметрами и создание графика ROC-AUC\n",
    "forest_bal.fit(features_train_scale, target_train)\n",
    "roc_auc_plot (features_valid_scale, target_valid,forest_bal, 15,6)"
   ]
  },
  {
   "cell_type": "code",
   "execution_count": 38,
   "metadata": {},
   "outputs": [
    {
     "name": "stdout",
     "output_type": "stream",
     "text": [
      "Balanced Valid F1 0.6146:\n",
      "Balanced ROC-AUC: 0.7629\n"
     ]
    }
   ],
   "source": [
    "#проверим модель на валидационной выборке и посчитаем f1-score и ROC-AUC\n",
    "forest_pred_bal = forest_bal.predict(features_valid_scale)\n",
    "print('Balanced Valid F1 %.4f:'% f1_score(target_valid,forest_pred_bal))\n",
    "print('Balanced ROC-AUC: %.4f'% roc_auc_score(target_valid,forest_pred_bal))"
   ]
  },
  {
   "cell_type": "code",
   "execution_count": 39,
   "metadata": {},
   "outputs": [
    {
     "name": "stdout",
     "output_type": "stream",
     "text": [
      "Parameters of best estimator <bound method BaseEstimator.get_params of RandomForestClassifier(class_weight='balanced', max_depth=10, max_features=5,\n",
      "                       n_estimators=136, random_state=21)>\n"
     ]
    }
   ],
   "source": [
    "#параметры лучшей модели\n",
    "print('Parameters of best estimator',forest_bal.get_params)"
   ]
  },
  {
   "cell_type": "markdown",
   "metadata": {},
   "source": [
    "#### Выводы по балансировке классов\n"
   ]
  },
  {
   "cell_type": "markdown",
   "metadata": {},
   "source": [
    "`class_weight = 'balanced'` также показал сильный прирост метрик F1 и ROC-AUC, в целом результаты оказались лучше, чем при использовании upsampling.  \n",
    "\n",
    "Ниже численные значения результатов на валидационной выборке\n"
   ]
  },
  {
   "cell_type": "markdown",
   "metadata": {},
   "source": [
    "### Выводы"
   ]
  },
  {
   "cell_type": "markdown",
   "metadata": {},
   "source": [
    "Использование upsampling дало следующие результаты для моделей.  \n",
    "\n",
    "**Logistic Regression**\n",
    "- Upsamlping Valid F1  0.5079:\n",
    "- Upsampling Valid ROC-AUC: 0.7225\n",
    "\n",
    "**Random Forest**\n",
    "- Upsampling Valid F1 0.6112\n",
    "- Upsampling ROC-AUC: 0.7760\n",
    "\n",
    "С использованием `class_weight = balanced` получены следующие результаты:\n",
    "\n",
    "**Logistic Regression**\n",
    "- Balanced Valid F1  0.5124:\n",
    "- Balanced Valid ROC-AUC: 0.7242\n",
    "\n",
    "**Random Forest**\n",
    "\n",
    "- Balanced Valid F1 0.6146:\n",
    "- Balanced ROC-AUC: 0.7629\n",
    "\n",
    "\n",
    "Для дальнейшего тестирования будем использовать модель с лучшей характеристикой F1 - RandomForestClassifier в переменной `forest_bal` с балансировкой классов и ранее **подобранными гиперпараметрами**:  \n",
    "- class_weight='balanced'\n",
    "- max_depth=10 \n",
    "- max_features=5\n",
    "- n_estimators=136\n",
    "- random_state=21"
   ]
  },
  {
   "cell_type": "markdown",
   "metadata": {},
   "source": [
    "## Тестирование модели"
   ]
  },
  {
   "cell_type": "markdown",
   "metadata": {},
   "source": [
    "В данном разделе мы посмотрим на показания dummy-модели и составим матрицу ошибок на тестовых выборках. Увидим результаты метрик F1, ROC-AUC, а также Recall и Precision"
   ]
  },
  {
   "cell_type": "code",
   "execution_count": 43,
   "metadata": {},
   "outputs": [
    {
     "data": {
      "text/plain": [
       "0.3357731015553523"
      ]
     },
     "execution_count": 43,
     "metadata": {},
     "output_type": "execute_result"
    }
   ],
   "source": [
    "#dummy\n",
    "dummy_clf = DummyClassifier(strategy='constant', constant=1)\n",
    "dummy_clf.fit(features_train_scale, target_train)\n",
    "f1_score(dummy_clf.predict(features_test_scale), target_test)"
   ]
  },
  {
   "cell_type": "code",
   "execution_count": 40,
   "metadata": {},
   "outputs": [
    {
     "data": {
      "image/png": "[encoded data removed]",
      "text/plain": [
       "<Figure size 864x432 with 1 Axes>"
      ]
     },
     "metadata": {
      "needs_background": "light"
     },
     "output_type": "display_data"
    }
   ],
   "source": [
    "#roc-auc\n",
    "roc_auc_plot(features_test_scale, target_test, forest_bal, 12, 6)"
   ]
  },
  {
   "cell_type": "code",
   "execution_count": 44,
   "metadata": {},
   "outputs": [
    {
     "data": {
      "image/png": "[encoded data removed]",
      "text/plain": [
       "<Figure size 864x432 with 4 Axes>"
      ]
     },
     "metadata": {
      "needs_background": "light"
     },
     "output_type": "display_data"
    }
   ],
   "source": [
    "#вывод матриц ошибок на экран\n",
    "fig,axes = plt.subplots(1,4, constrained_layout = True,figsize=(12, 6))\n",
    "fig.suptitle('Матрицы ошибок на тестовой выборке', fontsize = 16);\n",
    "#нормализованная матрица\n",
    "plot_confusion_matrix(estimator=forest_bal, \n",
    "                      X=features_test_scale, \n",
    "                      y_true=target_test,\n",
    "                      normalize = 'true',\n",
    "                      cmap='Blues',\n",
    "                      ax = axes[0],\n",
    "                      colorbar = False\n",
    "                     )\n",
    "#без нормализации\n",
    "plot_confusion_matrix(estimator=forest_bal, \n",
    "                      X=features_test_scale, \n",
    "                      y_true=target_test,\n",
    "                      cmap='Greens',\n",
    "                      ax = axes[1],\n",
    "                      colorbar = False\n",
    "                     );\n",
    "#dummy-model\n",
    "plot_confusion_matrix(estimator=dummy_clf, \n",
    "                      X=features_test_scale, \n",
    "                      y_true=target_test,\n",
    "                      cmap='Reds',\n",
    "                      colorbar = False,\n",
    "                      ax = axes[3]\n",
    "                     )\n",
    "#dummy-model normalize\n",
    "plot_confusion_matrix(estimator=dummy_clf, \n",
    "                      X=features_test_scale, \n",
    "                      y_true=target_test,\n",
    "                      cmap='magma',\n",
    "                      colorbar = False,\n",
    "                      normalize = 'true',\n",
    "                      ax = axes[2]\n",
    "                     )\n",
    "axes[0].set_title('Forest normalize'+ \"\\n\", fontsize = 14)\n",
    "axes[1].set_title('Forest non-normalize'+ \"\\n\", fontsize = 14);\n",
    "axes[2].set_title('Dummy normalize '+ \"\\n\", fontsize = 14);\n",
    "axes[3].set_title('Dummy non-normalize'+ \"\\n\", fontsize = 14);"
   ]
  },
  {
   "cell_type": "code",
   "execution_count": 45,
   "metadata": {},
   "outputs": [
    {
     "name": "stdout",
     "output_type": "stream",
     "text": [
      "Forest test F1 0.6297:\n",
      "Forest test ROC-AUC: 0.7692\n",
      "Forest test Precision: 0.6247\n",
      "Forest test Recall : 0.6349\n"
     ]
    }
   ],
   "source": [
    "#проверка метрик на тестовой выборке\n",
    "forest_test = forest_bal.predict(features_test_scale)\n",
    "print('Forest test F1 %.4f:'% f1_score(target_test,forest_test))\n",
    "print('Forest test ROC-AUC: %.4f'% roc_auc_score(target_test,forest_test))\n",
    "print('Forest test Precision: %.4f' % precision_score(target_test,forest_test))\n",
    "print('Forest test Recall : %.4f' % recall_score(target_test,forest_test))"
   ]
  },
  {
   "cell_type": "code",
   "execution_count": 46,
   "metadata": {},
   "outputs": [
    {
     "name": "stdout",
     "output_type": "stream",
     "text": [
      "F1 0.3358:\n",
      "ROC-AUC: 0.5000\n",
      "Precision: 0.2018\n",
      "Recall : 1.0000\n"
     ]
    }
   ],
   "source": [
    "#dummy результаты\n",
    "dummy_test = dummy_clf.predict(features_test_scale)\n",
    "print('F1 %.4f:'% f1_score(target_test,dummy_test))\n",
    "print('ROC-AUC: %.4f'% roc_auc_score(target_test,dummy_test))\n",
    "print('Precision: %.4f' % precision_score(target_test,dummy_test))\n",
    "print('Recall : %.4f' % recall_score(target_test,dummy_test))"
   ]
  },
  {
   "cell_type": "markdown",
   "metadata": {},
   "source": [
    "### Выводы"
   ]
  },
  {
   "cell_type": "markdown",
   "metadata": {},
   "source": [
    "Для решения задачи классификации исследовались две модели - `LogisticRegression` и `RandomForestClassifier`.  \n",
    "Поскольку в исходном целевом столбце присутствовал дисбаланс классов, были исследованы методы борьбы с ним - **upsampling и балансировка классов.** \n",
    "В реузльтате лучшей моделью для проверки на тестовой выборке оказалась модель `RandomForestClassifier` с применением балансировки классов. В ходе проверки модели на тестовой выборке получены следующие значения метрик: \n",
    "- Best model F1 score on test  0.6297:\n",
    "- Best model ROC-AUC score on test: 0.7692\n",
    "- Best model Precision score on test : 0.6247\n",
    "- Best model Recall score on test : 0.6349  \n",
    "\n",
    "Можем заметить, что данная модель кооректно определяет останется ли человек клиентом банка в 90 % случаев, а откажется ли человек от услуг банка в 63% случаев.  \n",
    "**Значение F1 согласно задания достигнуто**"
   ]
  }
 ],
 "metadata": {
  "ExecuteTimeLog": [
   {
    "duration": 414,
    "start_time": "2023-04-26T10:20:56.109Z"
   },
   {
    "duration": 180,
    "start_time": "2023-04-26T10:21:21.905Z"
   },
   {
    "duration": 22,
    "start_time": "2023-04-26T10:21:26.814Z"
   },
   {
    "duration": 5,
    "start_time": "2023-04-26T10:21:32.685Z"
   },
   {
    "duration": 62,
    "start_time": "2023-04-26T10:21:44.925Z"
   },
   {
    "duration": 8,
    "start_time": "2023-04-26T10:21:49.641Z"
   },
   {
    "duration": 14,
    "start_time": "2023-04-26T10:22:02.341Z"
   },
   {
    "duration": 11,
    "start_time": "2023-04-26T10:22:56.333Z"
   },
   {
    "duration": 13,
    "start_time": "2023-04-26T10:23:06.744Z"
   },
   {
    "duration": 4,
    "start_time": "2023-04-26T10:23:47.205Z"
   },
   {
    "duration": 5,
    "start_time": "2023-04-26T10:23:55.104Z"
   },
   {
    "duration": 3122,
    "start_time": "2023-04-26T10:25:36.732Z"
   },
   {
    "duration": 1338,
    "start_time": "2023-04-26T10:27:15.668Z"
   },
   {
    "duration": 4,
    "start_time": "2023-04-26T10:27:43.219Z"
   },
   {
    "duration": 2590,
    "start_time": "2023-04-26T13:00:58.325Z"
   },
   {
    "duration": 1564,
    "start_time": "2023-04-26T13:01:05.677Z"
   },
   {
    "duration": 44,
    "start_time": "2023-04-26T13:01:13.005Z"
   },
   {
    "duration": 13,
    "start_time": "2023-04-26T13:01:13.477Z"
   },
   {
    "duration": 17,
    "start_time": "2023-04-26T13:01:15.797Z"
   },
   {
    "duration": 4,
    "start_time": "2023-04-26T13:01:16.013Z"
   },
   {
    "duration": 7,
    "start_time": "2023-04-26T13:01:20.428Z"
   },
   {
    "duration": 4,
    "start_time": "2023-04-26T13:01:22.293Z"
   },
   {
    "duration": 7,
    "start_time": "2023-04-26T13:01:37.156Z"
   },
   {
    "duration": 22,
    "start_time": "2023-04-26T13:02:01.136Z"
   },
   {
    "duration": 7,
    "start_time": "2023-04-26T13:02:06.601Z"
   },
   {
    "duration": 21,
    "start_time": "2023-04-26T13:02:12.245Z"
   },
   {
    "duration": 7,
    "start_time": "2023-04-26T13:15:35.429Z"
   },
   {
    "duration": 3,
    "start_time": "2023-04-26T13:22:01.461Z"
   },
   {
    "duration": 111,
    "start_time": "2023-04-26T13:22:06.517Z"
   },
   {
    "duration": 109,
    "start_time": "2023-04-26T13:22:10.573Z"
   },
   {
    "duration": 9,
    "start_time": "2023-04-26T13:22:12.788Z"
   },
   {
    "duration": 9,
    "start_time": "2023-04-26T13:22:21.316Z"
   },
   {
    "duration": 10,
    "start_time": "2023-04-26T13:22:24.100Z"
   },
   {
    "duration": 48,
    "start_time": "2023-04-26T13:22:26.757Z"
   },
   {
    "duration": 16,
    "start_time": "2023-04-26T13:22:26.885Z"
   },
   {
    "duration": 17,
    "start_time": "2023-04-26T13:22:27.285Z"
   },
   {
    "duration": 4,
    "start_time": "2023-04-26T13:22:27.764Z"
   },
   {
    "duration": 40,
    "start_time": "2023-04-26T13:22:30.765Z"
   },
   {
    "duration": 16,
    "start_time": "2023-04-26T13:22:30.900Z"
   },
   {
    "duration": 15,
    "start_time": "2023-04-26T13:22:31.040Z"
   },
   {
    "duration": 4,
    "start_time": "2023-04-26T13:22:40.652Z"
   },
   {
    "duration": 13,
    "start_time": "2023-04-26T13:22:41.899Z"
   },
   {
    "duration": 14,
    "start_time": "2023-04-26T13:22:45.300Z"
   },
   {
    "duration": 13,
    "start_time": "2023-04-27T09:24:26.636Z"
   },
   {
    "duration": 3,
    "start_time": "2023-04-27T09:26:27.575Z"
   },
   {
    "duration": 3,
    "start_time": "2023-04-27T09:26:28.138Z"
   },
   {
    "duration": 18,
    "start_time": "2023-04-27T09:26:29.311Z"
   },
   {
    "duration": 3,
    "start_time": "2023-04-27T09:26:39.019Z"
   },
   {
    "duration": 3,
    "start_time": "2023-04-27T09:26:39.563Z"
   },
   {
    "duration": 13,
    "start_time": "2023-04-27T09:26:39.899Z"
   },
   {
    "duration": 4,
    "start_time": "2023-04-27T09:27:25.027Z"
   },
   {
    "duration": 20,
    "start_time": "2023-04-27T09:27:27.634Z"
   },
   {
    "duration": 15,
    "start_time": "2023-04-27T09:27:56.771Z"
   },
   {
    "duration": 1801,
    "start_time": "2023-04-27T09:27:59.179Z"
   },
   {
    "duration": 1709,
    "start_time": "2023-04-27T09:28:05.227Z"
   },
   {
    "duration": 6,
    "start_time": "2023-04-27T09:28:07.644Z"
   },
   {
    "duration": 8,
    "start_time": "2023-04-27T09:28:13.114Z"
   },
   {
    "duration": 4,
    "start_time": "2023-04-27T09:30:24.114Z"
   },
   {
    "duration": 18,
    "start_time": "2023-04-27T09:30:24.885Z"
   },
   {
    "duration": 15,
    "start_time": "2023-04-27T09:30:31.748Z"
   },
   {
    "duration": 5,
    "start_time": "2023-04-27T09:30:34.907Z"
   },
   {
    "duration": 13,
    "start_time": "2023-04-27T09:30:35.083Z"
   },
   {
    "duration": 15,
    "start_time": "2023-04-27T09:45:02.819Z"
   },
   {
    "duration": 6,
    "start_time": "2023-04-27T09:45:07.831Z"
   },
   {
    "duration": 5,
    "start_time": "2023-04-27T09:45:41.108Z"
   },
   {
    "duration": 6,
    "start_time": "2023-04-27T09:45:45.860Z"
   },
   {
    "duration": 4,
    "start_time": "2023-04-27T09:49:28.235Z"
   },
   {
    "duration": 16,
    "start_time": "2023-04-27T09:49:32.459Z"
   },
   {
    "duration": 15,
    "start_time": "2023-04-27T09:49:34.754Z"
   },
   {
    "duration": 9,
    "start_time": "2023-04-27T09:49:53.458Z"
   },
   {
    "duration": 13,
    "start_time": "2023-04-27T09:49:53.763Z"
   },
   {
    "duration": 22,
    "start_time": "2023-04-27T09:50:02.395Z"
   },
   {
    "duration": 10,
    "start_time": "2023-04-27T09:54:36.267Z"
   },
   {
    "duration": 14,
    "start_time": "2023-04-27T10:03:13.139Z"
   },
   {
    "duration": 6,
    "start_time": "2023-04-27T10:03:24.704Z"
   },
   {
    "duration": 1815,
    "start_time": "2023-04-27T10:03:52.523Z"
   },
   {
    "duration": 7,
    "start_time": "2023-04-27T10:04:01.388Z"
   },
   {
    "duration": 16,
    "start_time": "2023-04-27T10:04:06.643Z"
   },
   {
    "duration": 1843,
    "start_time": "2023-04-27T10:18:14.875Z"
   },
   {
    "duration": 174,
    "start_time": "2023-04-27T10:24:34.079Z"
   },
   {
    "duration": 28,
    "start_time": "2023-04-27T10:24:41.099Z"
   },
   {
    "duration": 17,
    "start_time": "2023-04-27T10:25:21.995Z"
   },
   {
    "duration": 21,
    "start_time": "2023-04-27T10:25:23.111Z"
   },
   {
    "duration": 11,
    "start_time": "2023-04-27T10:26:11.227Z"
   },
   {
    "duration": 6,
    "start_time": "2023-04-27T10:26:17.795Z"
   },
   {
    "duration": 11,
    "start_time": "2023-04-27T10:26:47.939Z"
   },
   {
    "duration": 91,
    "start_time": "2023-04-27T10:26:58.387Z"
   },
   {
    "duration": 4,
    "start_time": "2023-04-27T10:27:00.619Z"
   },
   {
    "duration": 5,
    "start_time": "2023-04-27T10:27:14.301Z"
   },
   {
    "duration": 13,
    "start_time": "2023-04-27T10:28:06.847Z"
   },
   {
    "duration": 7,
    "start_time": "2023-04-27T10:28:19.523Z"
   },
   {
    "duration": 9,
    "start_time": "2023-04-27T10:28:31.555Z"
   },
   {
    "duration": 5,
    "start_time": "2023-04-27T10:28:50.283Z"
   },
   {
    "duration": 12,
    "start_time": "2023-04-27T10:35:19.234Z"
   },
   {
    "duration": 12,
    "start_time": "2023-04-27T10:35:34.859Z"
   },
   {
    "duration": 16,
    "start_time": "2023-04-27T10:37:43.859Z"
   },
   {
    "duration": 5,
    "start_time": "2023-04-27T10:39:07.554Z"
   },
   {
    "duration": 5,
    "start_time": "2023-04-27T10:39:17.315Z"
   },
   {
    "duration": 9,
    "start_time": "2023-04-27T10:46:29.201Z"
   },
   {
    "duration": 8,
    "start_time": "2023-04-27T10:48:56.197Z"
   },
   {
    "duration": 21,
    "start_time": "2023-04-27T10:51:25.179Z"
   },
   {
    "duration": 10,
    "start_time": "2023-04-27T10:52:24.867Z"
   },
   {
    "duration": 4,
    "start_time": "2023-04-27T10:54:28.307Z"
   },
   {
    "duration": 172,
    "start_time": "2023-04-27T10:56:15.675Z"
   },
   {
    "duration": 145,
    "start_time": "2023-04-27T10:56:37.803Z"
   },
   {
    "duration": 140,
    "start_time": "2023-04-27T10:56:46.970Z"
   },
   {
    "duration": 238,
    "start_time": "2023-04-27T10:57:19.689Z"
   },
   {
    "duration": 130,
    "start_time": "2023-04-27T10:57:24.547Z"
   },
   {
    "duration": 118,
    "start_time": "2023-04-27T10:57:46.722Z"
   },
   {
    "duration": 148,
    "start_time": "2023-04-27T10:58:02.962Z"
   },
   {
    "duration": 91,
    "start_time": "2023-04-27T10:58:33.917Z"
   },
   {
    "duration": 94,
    "start_time": "2023-04-27T10:58:41.154Z"
   },
   {
    "duration": 129,
    "start_time": "2023-04-27T10:58:45.954Z"
   },
   {
    "duration": 10,
    "start_time": "2023-04-27T10:59:42.498Z"
   },
   {
    "duration": 119,
    "start_time": "2023-04-27T11:01:43.714Z"
   },
   {
    "duration": 274,
    "start_time": "2023-04-27T11:01:47.019Z"
   },
   {
    "duration": 284,
    "start_time": "2023-04-27T11:01:50.787Z"
   },
   {
    "duration": 112,
    "start_time": "2023-04-27T11:02:18.266Z"
   },
   {
    "duration": 76,
    "start_time": "2023-04-27T11:02:28.047Z"
   },
   {
    "duration": 228,
    "start_time": "2023-04-27T11:02:35.794Z"
   },
   {
    "duration": 105,
    "start_time": "2023-04-27T11:02:47.563Z"
   },
   {
    "duration": 300,
    "start_time": "2023-04-27T11:03:33.995Z"
   },
   {
    "duration": 378,
    "start_time": "2023-04-27T11:04:10.058Z"
   },
   {
    "duration": 274,
    "start_time": "2023-04-27T11:04:25.602Z"
   },
   {
    "duration": 263,
    "start_time": "2023-04-27T11:04:35.426Z"
   },
   {
    "duration": 266,
    "start_time": "2023-04-27T11:04:51.250Z"
   },
   {
    "duration": 301,
    "start_time": "2023-04-27T11:04:56.154Z"
   },
   {
    "duration": 13,
    "start_time": "2023-04-27T11:05:09.762Z"
   },
   {
    "duration": 6,
    "start_time": "2023-04-27T11:05:10.682Z"
   },
   {
    "duration": 253,
    "start_time": "2023-04-27T11:05:11.323Z"
   },
   {
    "duration": 30,
    "start_time": "2023-04-27T11:06:20.682Z"
   },
   {
    "duration": 10,
    "start_time": "2023-04-27T11:06:24.443Z"
   },
   {
    "duration": 8,
    "start_time": "2023-04-27T11:06:32.018Z"
   },
   {
    "duration": 7,
    "start_time": "2023-04-27T11:06:36.923Z"
   },
   {
    "duration": 8,
    "start_time": "2023-04-27T11:06:45.146Z"
   },
   {
    "duration": 1266,
    "start_time": "2023-04-27T11:07:19.346Z"
   },
   {
    "duration": 6,
    "start_time": "2023-04-27T11:07:32.922Z"
   },
   {
    "duration": 5,
    "start_time": "2023-04-27T11:07:46.301Z"
   },
   {
    "duration": 6,
    "start_time": "2023-04-27T11:07:56.811Z"
   },
   {
    "duration": 14167,
    "start_time": "2023-04-28T09:31:14.863Z"
   },
   {
    "duration": 1766,
    "start_time": "2023-04-28T09:34:51.471Z"
   },
   {
    "duration": 3091,
    "start_time": "2023-04-28T09:34:59.575Z"
   },
   {
    "duration": 952,
    "start_time": "2023-04-28T09:35:18.494Z"
   },
   {
    "duration": 68,
    "start_time": "2023-04-28T09:38:12.302Z"
   },
   {
    "duration": 12,
    "start_time": "2023-04-28T09:38:39.447Z"
   },
   {
    "duration": 12,
    "start_time": "2023-04-28T09:38:59.926Z"
   },
   {
    "duration": 2764,
    "start_time": "2023-04-28T09:39:10.081Z"
   },
   {
    "duration": 2601,
    "start_time": "2023-04-28T09:39:12.848Z"
   },
   {
    "duration": 4,
    "start_time": "2023-04-28T09:39:15.452Z"
   },
   {
    "duration": 97,
    "start_time": "2023-04-28T09:39:15.457Z"
   },
   {
    "duration": 15,
    "start_time": "2023-04-28T09:39:15.556Z"
   },
   {
    "duration": 19,
    "start_time": "2023-04-28T09:39:15.573Z"
   },
   {
    "duration": 13,
    "start_time": "2023-04-28T09:39:15.594Z"
   },
   {
    "duration": 52527,
    "start_time": "2023-04-28T09:39:50.727Z"
   },
   {
    "duration": 117,
    "start_time": "2023-04-28T09:41:03.072Z"
   },
   {
    "duration": 54594,
    "start_time": "2023-04-28T09:41:11.973Z"
   },
   {
    "duration": 24,
    "start_time": "2023-04-28T09:52:43.432Z"
   },
   {
    "duration": 16,
    "start_time": "2023-04-28T09:52:48.760Z"
   },
   {
    "duration": 14,
    "start_time": "2023-04-28T09:52:54.190Z"
   },
   {
    "duration": 16,
    "start_time": "2023-04-28T09:52:55.758Z"
   },
   {
    "duration": 9,
    "start_time": "2023-04-28T09:52:55.920Z"
   },
   {
    "duration": 139,
    "start_time": "2023-04-28T09:52:57.496Z"
   },
   {
    "duration": 167,
    "start_time": "2023-04-28T09:53:05.169Z"
   },
   {
    "duration": 140,
    "start_time": "2023-04-28T09:53:08.456Z"
   },
   {
    "duration": 118,
    "start_time": "2023-04-28T09:53:22.232Z"
   },
   {
    "duration": 7,
    "start_time": "2023-04-28T09:53:27.169Z"
   },
   {
    "duration": 6,
    "start_time": "2023-04-28T09:53:27.921Z"
   },
   {
    "duration": 6,
    "start_time": "2023-04-28T09:54:10.848Z"
   },
   {
    "duration": 77,
    "start_time": "2023-04-28T09:55:20.304Z"
   },
   {
    "duration": 109,
    "start_time": "2023-04-28T09:55:24.368Z"
   },
   {
    "duration": 6,
    "start_time": "2023-04-28T09:55:27.433Z"
   },
   {
    "duration": 14,
    "start_time": "2023-04-28T09:55:31.128Z"
   },
   {
    "duration": 5,
    "start_time": "2023-04-28T09:55:38.208Z"
   },
   {
    "duration": 4,
    "start_time": "2023-04-28T09:56:24.100Z"
   },
   {
    "duration": 3,
    "start_time": "2023-04-28T09:56:47.041Z"
   },
   {
    "duration": 17,
    "start_time": "2023-04-28T09:56:57.007Z"
   },
   {
    "duration": 5,
    "start_time": "2023-04-28T09:57:00.544Z"
   },
   {
    "duration": 6,
    "start_time": "2023-04-28T09:57:11.354Z"
   },
   {
    "duration": 15,
    "start_time": "2023-04-28T09:57:11.577Z"
   },
   {
    "duration": 4,
    "start_time": "2023-04-28T09:57:12.320Z"
   },
   {
    "duration": 17,
    "start_time": "2023-04-28T09:57:12.488Z"
   },
   {
    "duration": 15,
    "start_time": "2023-04-28T09:57:13.112Z"
   },
   {
    "duration": 13,
    "start_time": "2023-04-28T09:57:13.247Z"
   },
   {
    "duration": 8,
    "start_time": "2023-04-28T09:57:13.413Z"
   },
   {
    "duration": 115,
    "start_time": "2023-04-28T09:57:14.096Z"
   },
   {
    "duration": 7,
    "start_time": "2023-04-28T09:57:14.564Z"
   },
   {
    "duration": 5,
    "start_time": "2023-04-28T09:57:14.983Z"
   },
   {
    "duration": 17,
    "start_time": "2023-04-28T09:57:15.112Z"
   },
   {
    "duration": 6,
    "start_time": "2023-04-28T09:57:23.632Z"
   },
   {
    "duration": 6,
    "start_time": "2023-04-28T09:57:27.417Z"
   },
   {
    "duration": 4,
    "start_time": "2023-04-28T09:57:27.573Z"
   },
   {
    "duration": 7,
    "start_time": "2023-04-28T09:59:16.032Z"
   },
   {
    "duration": 4,
    "start_time": "2023-04-28T09:59:16.423Z"
   },
   {
    "duration": 4,
    "start_time": "2023-04-28T09:59:24.632Z"
   },
   {
    "duration": 5,
    "start_time": "2023-04-28T09:59:30.352Z"
   },
   {
    "duration": 5,
    "start_time": "2023-04-28T09:59:48.704Z"
   },
   {
    "duration": 6,
    "start_time": "2023-04-28T09:59:51.273Z"
   },
   {
    "duration": 8,
    "start_time": "2023-04-28T09:59:53.232Z"
   },
   {
    "duration": 6,
    "start_time": "2023-04-28T09:59:56.176Z"
   },
   {
    "duration": 5,
    "start_time": "2023-04-28T09:59:56.607Z"
   },
   {
    "duration": 5,
    "start_time": "2023-04-28T09:59:57.008Z"
   },
   {
    "duration": 5,
    "start_time": "2023-04-28T09:59:59.296Z"
   },
   {
    "duration": 6,
    "start_time": "2023-04-28T10:02:49.103Z"
   },
   {
    "duration": 5,
    "start_time": "2023-04-28T10:02:50.296Z"
   },
   {
    "duration": 5,
    "start_time": "2023-04-28T10:02:51.264Z"
   },
   {
    "duration": 6,
    "start_time": "2023-04-28T10:02:53.664Z"
   },
   {
    "duration": 6,
    "start_time": "2023-04-28T10:02:59.672Z"
   },
   {
    "duration": 4,
    "start_time": "2023-04-28T10:03:00.240Z"
   },
   {
    "duration": 6,
    "start_time": "2023-04-28T10:03:00.520Z"
   },
   {
    "duration": 16,
    "start_time": "2023-04-28T10:03:45.712Z"
   },
   {
    "duration": 5,
    "start_time": "2023-04-28T10:03:51.248Z"
   },
   {
    "duration": 112,
    "start_time": "2023-04-28T10:04:09.417Z"
   },
   {
    "duration": 126,
    "start_time": "2023-04-28T10:04:24.968Z"
   },
   {
    "duration": 6,
    "start_time": "2023-04-28T10:05:03.705Z"
   },
   {
    "duration": 5,
    "start_time": "2023-04-28T10:05:04.674Z"
   },
   {
    "duration": 7,
    "start_time": "2023-04-28T10:05:05.064Z"
   },
   {
    "duration": 7,
    "start_time": "2023-04-28T10:05:09.656Z"
   },
   {
    "duration": 5,
    "start_time": "2023-04-28T10:05:09.864Z"
   },
   {
    "duration": 5,
    "start_time": "2023-04-28T10:05:10.072Z"
   },
   {
    "duration": 14895,
    "start_time": "2023-04-28T10:06:07.064Z"
   },
   {
    "duration": 15152,
    "start_time": "2023-04-28T10:07:15.000Z"
   },
   {
    "duration": 6,
    "start_time": "2023-04-28T10:08:51.993Z"
   },
   {
    "duration": 20,
    "start_time": "2023-04-28T10:10:05.617Z"
   },
   {
    "duration": 15,
    "start_time": "2023-04-28T10:12:49.009Z"
   },
   {
    "duration": 5,
    "start_time": "2023-04-28T10:22:27.256Z"
   },
   {
    "duration": 5,
    "start_time": "2023-04-28T10:22:30.063Z"
   },
   {
    "duration": 4,
    "start_time": "2023-04-28T10:22:30.452Z"
   },
   {
    "duration": 5,
    "start_time": "2023-04-28T10:22:30.624Z"
   },
   {
    "duration": 6,
    "start_time": "2023-04-28T10:22:33.879Z"
   },
   {
    "duration": 4,
    "start_time": "2023-04-28T10:22:34.023Z"
   },
   {
    "duration": 5,
    "start_time": "2023-04-28T10:22:34.183Z"
   },
   {
    "duration": 6,
    "start_time": "2023-04-28T10:22:38.281Z"
   },
   {
    "duration": 4,
    "start_time": "2023-04-28T10:22:38.960Z"
   },
   {
    "duration": 5,
    "start_time": "2023-04-28T10:22:39.168Z"
   },
   {
    "duration": 6,
    "start_time": "2023-04-28T10:22:58.375Z"
   },
   {
    "duration": 4,
    "start_time": "2023-04-28T10:26:47.719Z"
   },
   {
    "duration": 17,
    "start_time": "2023-04-28T10:33:19.496Z"
   },
   {
    "duration": 11,
    "start_time": "2023-04-28T10:33:26.968Z"
   },
   {
    "duration": 5,
    "start_time": "2023-04-28T10:33:29.887Z"
   },
   {
    "duration": 5,
    "start_time": "2023-04-28T10:33:57.896Z"
   },
   {
    "duration": 4,
    "start_time": "2023-04-28T10:33:58.046Z"
   },
   {
    "duration": 7,
    "start_time": "2023-04-28T10:33:58.254Z"
   },
   {
    "duration": 7,
    "start_time": "2023-04-28T10:34:01.135Z"
   },
   {
    "duration": 4,
    "start_time": "2023-04-28T10:34:01.415Z"
   },
   {
    "duration": 6,
    "start_time": "2023-04-28T10:34:01.687Z"
   },
   {
    "duration": 6,
    "start_time": "2023-04-28T10:34:04.689Z"
   },
   {
    "duration": 4,
    "start_time": "2023-04-28T10:34:04.879Z"
   },
   {
    "duration": 5,
    "start_time": "2023-04-28T10:34:05.047Z"
   },
   {
    "duration": 6,
    "start_time": "2023-04-28T10:59:53.783Z"
   },
   {
    "duration": 5,
    "start_time": "2023-04-28T10:59:59.055Z"
   },
   {
    "duration": 5,
    "start_time": "2023-04-28T10:59:59.222Z"
   },
   {
    "duration": 6,
    "start_time": "2023-04-28T10:59:59.406Z"
   },
   {
    "duration": 5,
    "start_time": "2023-04-28T11:00:10.207Z"
   },
   {
    "duration": 118,
    "start_time": "2023-04-28T11:00:10.373Z"
   },
   {
    "duration": 5,
    "start_time": "2023-04-28T11:00:12.615Z"
   },
   {
    "duration": 5,
    "start_time": "2023-04-28T11:00:14.150Z"
   },
   {
    "duration": 6,
    "start_time": "2023-04-28T11:00:14.344Z"
   },
   {
    "duration": 7,
    "start_time": "2023-04-28T11:00:17.678Z"
   },
   {
    "duration": 3,
    "start_time": "2023-04-28T11:00:17.874Z"
   },
   {
    "duration": 5,
    "start_time": "2023-04-28T11:00:18.102Z"
   },
   {
    "duration": 18454,
    "start_time": "2023-04-28T11:01:13.807Z"
   },
   {
    "duration": 56068,
    "start_time": "2023-04-28T12:29:16.608Z"
   },
   {
    "duration": 7,
    "start_time": "2023-04-28T12:30:19.188Z"
   },
   {
    "duration": 4,
    "start_time": "2023-04-28T12:30:32.027Z"
   },
   {
    "duration": 5,
    "start_time": "2023-04-28T12:31:08.394Z"
   },
   {
    "duration": 5,
    "start_time": "2023-04-28T12:31:32.146Z"
   },
   {
    "duration": 18,
    "start_time": "2023-04-28T12:31:58.707Z"
   },
   {
    "duration": 5,
    "start_time": "2023-04-28T12:32:21.997Z"
   },
   {
    "duration": 12,
    "start_time": "2023-04-28T12:32:27.790Z"
   },
   {
    "duration": 5,
    "start_time": "2023-04-28T12:32:34.903Z"
   },
   {
    "duration": 6,
    "start_time": "2023-04-28T12:32:41.603Z"
   },
   {
    "duration": 6,
    "start_time": "2023-04-28T12:33:24.122Z"
   },
   {
    "duration": 123,
    "start_time": "2023-04-28T12:33:25.438Z"
   },
   {
    "duration": 8,
    "start_time": "2023-04-28T12:33:27.993Z"
   },
   {
    "duration": 4,
    "start_time": "2023-04-28T12:33:28.114Z"
   },
   {
    "duration": 4,
    "start_time": "2023-04-28T12:33:28.538Z"
   },
   {
    "duration": 17,
    "start_time": "2023-04-28T12:33:32.858Z"
   },
   {
    "duration": 19,
    "start_time": "2023-04-28T12:34:10.892Z"
   },
   {
    "duration": 4,
    "start_time": "2023-04-28T12:34:22.595Z"
   },
   {
    "duration": 10,
    "start_time": "2023-04-28T12:34:23.850Z"
   },
   {
    "duration": 116,
    "start_time": "2023-04-28T12:34:27.347Z"
   },
   {
    "duration": 7,
    "start_time": "2023-04-28T12:34:28.077Z"
   },
   {
    "duration": 5,
    "start_time": "2023-04-28T12:34:28.386Z"
   },
   {
    "duration": 122,
    "start_time": "2023-04-28T12:34:28.898Z"
   },
   {
    "duration": 8,
    "start_time": "2023-04-28T12:34:30.882Z"
   },
   {
    "duration": 5,
    "start_time": "2023-04-28T12:34:31.010Z"
   },
   {
    "duration": 5,
    "start_time": "2023-04-28T12:34:31.147Z"
   },
   {
    "duration": 26,
    "start_time": "2023-04-28T12:34:31.283Z"
   },
   {
    "duration": 17,
    "start_time": "2023-04-28T12:35:25.079Z"
   },
   {
    "duration": 4,
    "start_time": "2023-04-28T12:37:45.080Z"
   },
   {
    "duration": 5,
    "start_time": "2023-04-28T12:37:55.034Z"
   },
   {
    "duration": 4,
    "start_time": "2023-04-28T12:38:02.083Z"
   },
   {
    "duration": 12,
    "start_time": "2023-04-28T12:38:28.474Z"
   },
   {
    "duration": 17,
    "start_time": "2023-04-28T12:38:32.745Z"
   },
   {
    "duration": 6,
    "start_time": "2023-04-28T12:38:37.105Z"
   },
   {
    "duration": 23379,
    "start_time": "2023-04-28T13:02:30.158Z"
   },
   {
    "duration": 4,
    "start_time": "2023-04-28T13:02:53.540Z"
   },
   {
    "duration": 33,
    "start_time": "2023-04-28T13:10:19.834Z"
   },
   {
    "duration": 28,
    "start_time": "2023-04-28T13:10:43.626Z"
   },
   {
    "duration": 20,
    "start_time": "2023-04-28T13:10:51.318Z"
   },
   {
    "duration": 33,
    "start_time": "2023-04-28T13:10:54.871Z"
   },
   {
    "duration": 27,
    "start_time": "2023-04-28T13:11:15.309Z"
   },
   {
    "duration": 18,
    "start_time": "2023-04-28T13:11:23.380Z"
   },
   {
    "duration": 5,
    "start_time": "2023-04-28T13:11:25.566Z"
   },
   {
    "duration": 7,
    "start_time": "2023-04-28T13:15:49.598Z"
   },
   {
    "duration": 4,
    "start_time": "2023-04-28T13:16:32.513Z"
   },
   {
    "duration": 765,
    "start_time": "2023-04-28T13:16:48.558Z"
   },
   {
    "duration": 4,
    "start_time": "2023-04-28T13:17:49.541Z"
   },
   {
    "duration": 731,
    "start_time": "2023-04-28T13:17:50.246Z"
   },
   {
    "duration": 7,
    "start_time": "2023-04-28T13:21:13.520Z"
   },
   {
    "duration": 767,
    "start_time": "2023-04-28T13:21:15.813Z"
   },
   {
    "duration": 766,
    "start_time": "2023-04-28T13:21:21.265Z"
   },
   {
    "duration": 932,
    "start_time": "2023-04-28T13:21:53.550Z"
   },
   {
    "duration": 1620,
    "start_time": "2023-04-29T13:09:52.334Z"
   },
   {
    "duration": 2932,
    "start_time": "2023-04-29T13:09:57.006Z"
   },
   {
    "duration": 40,
    "start_time": "2023-04-29T13:10:04.214Z"
   },
   {
    "duration": 12964,
    "start_time": "2023-04-29T13:10:07.146Z"
   },
   {
    "duration": 2218,
    "start_time": "2023-04-29T13:10:20.113Z"
   },
   {
    "duration": 169,
    "start_time": "2023-04-29T13:10:29.124Z"
   },
   {
    "duration": 15,
    "start_time": "2023-04-29T13:10:29.296Z"
   },
   {
    "duration": 18,
    "start_time": "2023-04-29T13:10:29.412Z"
   },
   {
    "duration": 14,
    "start_time": "2023-04-29T13:10:29.589Z"
   },
   {
    "duration": 48797,
    "start_time": "2023-04-29T13:10:29.727Z"
   },
   {
    "duration": 4,
    "start_time": "2023-04-29T13:11:18.526Z"
   },
   {
    "duration": 23,
    "start_time": "2023-04-29T13:11:18.532Z"
   },
   {
    "duration": 10,
    "start_time": "2023-04-29T13:11:18.558Z"
   },
   {
    "duration": 24,
    "start_time": "2023-04-29T13:11:18.569Z"
   },
   {
    "duration": 13,
    "start_time": "2023-04-29T13:11:18.595Z"
   },
   {
    "duration": 13,
    "start_time": "2023-04-29T13:11:18.610Z"
   },
   {
    "duration": 6,
    "start_time": "2023-04-29T13:11:18.625Z"
   },
   {
    "duration": 7,
    "start_time": "2023-04-29T13:11:18.632Z"
   },
   {
    "duration": 167,
    "start_time": "2023-04-29T13:11:18.641Z"
   },
   {
    "duration": 4,
    "start_time": "2023-04-29T13:11:18.810Z"
   },
   {
    "duration": 6,
    "start_time": "2023-04-29T13:11:18.815Z"
   },
   {
    "duration": 138,
    "start_time": "2023-04-29T13:11:18.822Z"
   },
   {
    "duration": 7,
    "start_time": "2023-04-29T13:11:18.962Z"
   },
   {
    "duration": 13,
    "start_time": "2023-04-29T13:11:18.970Z"
   },
   {
    "duration": 12,
    "start_time": "2023-04-29T13:11:18.985Z"
   },
   {
    "duration": 24,
    "start_time": "2023-04-29T13:11:18.998Z"
   },
   {
    "duration": 74,
    "start_time": "2023-04-29T13:15:42.005Z"
   },
   {
    "duration": 8,
    "start_time": "2023-04-29T13:16:19.607Z"
   },
   {
    "duration": 4,
    "start_time": "2023-04-29T13:16:40.836Z"
   },
   {
    "duration": 10,
    "start_time": "2023-04-29T13:17:04.103Z"
   },
   {
    "duration": 4,
    "start_time": "2023-04-29T13:17:21.710Z"
   },
   {
    "duration": 4,
    "start_time": "2023-04-29T13:17:57.442Z"
   },
   {
    "duration": 5,
    "start_time": "2023-04-29T13:17:59.064Z"
   },
   {
    "duration": 4,
    "start_time": "2023-04-29T13:17:59.425Z"
   },
   {
    "duration": 4,
    "start_time": "2023-04-29T13:24:22.537Z"
   },
   {
    "duration": 46482,
    "start_time": "2023-04-29T13:24:24.845Z"
   },
   {
    "duration": 12,
    "start_time": "2023-04-29T13:25:11.329Z"
   },
   {
    "duration": 8,
    "start_time": "2023-04-29T13:25:11.343Z"
   },
   {
    "duration": 26,
    "start_time": "2023-04-29T13:25:11.352Z"
   },
   {
    "duration": 23,
    "start_time": "2023-04-29T13:25:40.684Z"
   },
   {
    "duration": 15,
    "start_time": "2023-04-29T13:25:45.317Z"
   },
   {
    "duration": 161,
    "start_time": "2023-04-29T13:25:57.499Z"
   },
   {
    "duration": 18,
    "start_time": "2023-04-29T13:25:58.480Z"
   },
   {
    "duration": 41,
    "start_time": "2023-04-29T13:26:18.147Z"
   },
   {
    "duration": 12,
    "start_time": "2023-04-29T13:26:18.447Z"
   },
   {
    "duration": 17,
    "start_time": "2023-04-29T13:26:18.748Z"
   },
   {
    "duration": 14,
    "start_time": "2023-04-29T13:26:19.030Z"
   },
   {
    "duration": 4,
    "start_time": "2023-04-29T13:26:19.310Z"
   },
   {
    "duration": 14,
    "start_time": "2023-04-29T13:26:19.601Z"
   },
   {
    "duration": 5,
    "start_time": "2023-04-29T13:26:20.586Z"
   },
   {
    "duration": 38102,
    "start_time": "2023-04-29T13:26:22.406Z"
   },
   {
    "duration": 16,
    "start_time": "2023-04-29T13:27:00.511Z"
   },
   {
    "duration": 16,
    "start_time": "2023-04-29T13:27:46.847Z"
   },
   {
    "duration": 17,
    "start_time": "2023-04-29T13:27:54.751Z"
   },
   {
    "duration": 43,
    "start_time": "2023-04-29T13:27:58.783Z"
   },
   {
    "duration": 15,
    "start_time": "2023-04-29T13:27:58.978Z"
   },
   {
    "duration": 18,
    "start_time": "2023-04-29T13:28:00.472Z"
   },
   {
    "duration": 14,
    "start_time": "2023-04-29T13:28:01.008Z"
   },
   {
    "duration": 4,
    "start_time": "2023-04-29T13:28:04.686Z"
   },
   {
    "duration": 14,
    "start_time": "2023-04-29T13:28:05.043Z"
   },
   {
    "duration": 4,
    "start_time": "2023-04-29T13:28:08.216Z"
   },
   {
    "duration": 34048,
    "start_time": "2023-04-29T13:28:15.975Z"
   },
   {
    "duration": 15,
    "start_time": "2023-04-29T13:28:50.025Z"
   },
   {
    "duration": 58,
    "start_time": "2023-04-29T13:29:14.083Z"
   },
   {
    "duration": 124,
    "start_time": "2023-04-29T13:29:16.406Z"
   },
   {
    "duration": 120,
    "start_time": "2023-04-29T13:29:37.712Z"
   },
   {
    "duration": 5,
    "start_time": "2023-04-29T13:29:38.251Z"
   },
   {
    "duration": 10,
    "start_time": "2023-04-29T13:29:48.749Z"
   },
   {
    "duration": 12,
    "start_time": "2023-04-29T13:29:49.120Z"
   },
   {
    "duration": 124,
    "start_time": "2023-04-29T13:29:55.408Z"
   },
   {
    "duration": 5,
    "start_time": "2023-04-29T13:29:56.387Z"
   },
   {
    "duration": 5,
    "start_time": "2023-04-29T13:29:56.778Z"
   },
   {
    "duration": 3,
    "start_time": "2023-04-29T13:29:57.117Z"
   },
   {
    "duration": 2,
    "start_time": "2023-04-29T13:29:57.412Z"
   },
   {
    "duration": 12,
    "start_time": "2023-04-29T13:29:58.275Z"
   },
   {
    "duration": 4,
    "start_time": "2023-04-29T13:29:58.818Z"
   },
   {
    "duration": 4,
    "start_time": "2023-04-29T13:29:59.922Z"
   },
   {
    "duration": 18,
    "start_time": "2023-04-29T13:30:11.720Z"
   },
   {
    "duration": 13,
    "start_time": "2023-04-29T13:38:41.544Z"
   },
   {
    "duration": 14481,
    "start_time": "2023-04-29T13:38:51.486Z"
   },
   {
    "duration": 14166,
    "start_time": "2023-04-29T13:42:34.050Z"
   },
   {
    "duration": 45,
    "start_time": "2023-04-29T13:43:04.726Z"
   },
   {
    "duration": 14402,
    "start_time": "2023-04-29T13:43:08.047Z"
   },
   {
    "duration": 19,
    "start_time": "2023-04-29T13:44:25.431Z"
   },
   {
    "duration": 10,
    "start_time": "2023-04-29T13:44:38.125Z"
   },
   {
    "duration": 5,
    "start_time": "2023-04-29T13:45:06.480Z"
   },
   {
    "duration": 5,
    "start_time": "2023-04-29T13:45:13.774Z"
   },
   {
    "duration": 14316,
    "start_time": "2023-04-29T13:45:21.374Z"
   },
   {
    "duration": 14349,
    "start_time": "2023-04-29T13:45:55.247Z"
   },
   {
    "duration": 18101,
    "start_time": "2023-04-29T13:47:47.427Z"
   },
   {
    "duration": 3,
    "start_time": "2023-04-29T13:48:05.530Z"
   },
   {
    "duration": 3,
    "start_time": "2023-04-29T13:48:50.036Z"
   },
   {
    "duration": 658,
    "start_time": "2023-04-29T13:48:50.866Z"
   },
   {
    "duration": 658,
    "start_time": "2023-04-29T13:49:06.885Z"
   },
   {
    "duration": 694,
    "start_time": "2023-04-29T13:49:45.720Z"
   },
   {
    "duration": 681,
    "start_time": "2023-04-29T13:50:02.327Z"
   },
   {
    "duration": 17,
    "start_time": "2023-04-29T13:54:09.931Z"
   },
   {
    "duration": 14401,
    "start_time": "2023-04-29T13:58:07.607Z"
   },
   {
    "duration": 14364,
    "start_time": "2023-04-29T13:58:37.216Z"
   },
   {
    "duration": 168,
    "start_time": "2023-04-29T13:59:32.063Z"
   },
   {
    "duration": 29073,
    "start_time": "2023-04-29T14:00:56.730Z"
   },
   {
    "duration": 24604,
    "start_time": "2023-04-29T14:01:48.914Z"
   },
   {
    "duration": 4,
    "start_time": "2023-04-29T14:02:13.520Z"
   },
   {
    "duration": 18422,
    "start_time": "2023-04-29T14:03:28.384Z"
   },
   {
    "duration": 4,
    "start_time": "2023-04-29T14:03:49.743Z"
   },
   {
    "duration": 673,
    "start_time": "2023-04-29T14:03:52.853Z"
   },
   {
    "duration": 3,
    "start_time": "2023-04-29T14:03:55.842Z"
   },
   {
    "duration": 679,
    "start_time": "2023-04-29T14:03:56.135Z"
   },
   {
    "duration": 26245,
    "start_time": "2023-04-29T14:04:08.622Z"
   },
   {
    "duration": 4,
    "start_time": "2023-04-29T14:04:34.869Z"
   },
   {
    "duration": 4,
    "start_time": "2023-04-29T14:05:02.415Z"
   },
   {
    "duration": 27552,
    "start_time": "2023-04-29T14:05:11.745Z"
   },
   {
    "duration": 3,
    "start_time": "2023-04-29T14:05:39.299Z"
   },
   {
    "duration": 3,
    "start_time": "2023-04-29T14:05:49.911Z"
   },
   {
    "duration": 850,
    "start_time": "2023-04-29T14:05:52.338Z"
   },
   {
    "duration": 2,
    "start_time": "2023-04-29T14:07:17.848Z"
   },
   {
    "duration": 28764,
    "start_time": "2023-04-29T14:07:25.616Z"
   },
   {
    "duration": 30988,
    "start_time": "2023-04-29T14:08:07.723Z"
   },
   {
    "duration": 28634,
    "start_time": "2023-04-29T14:08:52.533Z"
   },
   {
    "duration": 4,
    "start_time": "2023-04-29T14:09:21.169Z"
   },
   {
    "duration": 13,
    "start_time": "2023-04-29T14:09:21.174Z"
   },
   {
    "duration": 926,
    "start_time": "2023-04-29T14:09:21.189Z"
   },
   {
    "duration": 13,
    "start_time": "2023-04-29T14:10:24.832Z"
   },
   {
    "duration": 4,
    "start_time": "2023-04-29T14:13:25.501Z"
   },
   {
    "duration": 27,
    "start_time": "2023-04-29T14:13:30.257Z"
   },
   {
    "duration": 69,
    "start_time": "2023-04-29T14:24:30.286Z"
   },
   {
    "duration": 48,
    "start_time": "2023-04-29T14:24:52.017Z"
   },
   {
    "duration": 4,
    "start_time": "2023-04-29T14:24:55.426Z"
   },
   {
    "duration": 4,
    "start_time": "2023-04-29T14:25:15.974Z"
   },
   {
    "duration": 28646,
    "start_time": "2023-04-29T14:29:12.903Z"
   },
   {
    "duration": 3,
    "start_time": "2023-04-29T14:29:41.552Z"
   },
   {
    "duration": 10,
    "start_time": "2023-04-29T14:29:41.557Z"
   },
   {
    "duration": 913,
    "start_time": "2023-04-29T14:29:41.569Z"
   },
   {
    "duration": 29276,
    "start_time": "2023-04-29T14:30:50.111Z"
   },
   {
    "duration": 8,
    "start_time": "2023-04-29T14:41:09.750Z"
   },
   {
    "duration": 5,
    "start_time": "2023-04-29T14:42:36.519Z"
   },
   {
    "duration": 27,
    "start_time": "2023-04-29T14:42:40.362Z"
   },
   {
    "duration": 27,
    "start_time": "2023-04-29T14:43:56.229Z"
   },
   {
    "duration": 28,
    "start_time": "2023-04-29T14:44:03.681Z"
   },
   {
    "duration": 5,
    "start_time": "2023-04-29T14:44:18.152Z"
   },
   {
    "duration": 21,
    "start_time": "2023-04-29T14:44:26.567Z"
   },
   {
    "duration": 19,
    "start_time": "2023-04-29T14:45:57.322Z"
   },
   {
    "duration": 5,
    "start_time": "2023-04-29T14:47:58.526Z"
   },
   {
    "duration": 14,
    "start_time": "2023-04-29T14:53:57.942Z"
   },
   {
    "duration": 13,
    "start_time": "2023-04-29T14:54:40.677Z"
   },
   {
    "duration": 14,
    "start_time": "2023-04-29T14:54:43.849Z"
   },
   {
    "duration": 13,
    "start_time": "2023-04-29T14:54:50.214Z"
   },
   {
    "duration": 15,
    "start_time": "2023-04-29T14:57:28.153Z"
   },
   {
    "duration": 13,
    "start_time": "2023-04-29T14:59:02.041Z"
   },
   {
    "duration": 8843,
    "start_time": "2023-04-29T15:01:35.575Z"
   },
   {
    "duration": 4,
    "start_time": "2023-04-29T15:01:44.421Z"
   },
   {
    "duration": 9005,
    "start_time": "2023-04-29T15:02:15.221Z"
   },
   {
    "duration": 4,
    "start_time": "2023-04-29T15:02:24.229Z"
   },
   {
    "duration": 53,
    "start_time": "2023-04-29T15:02:24.519Z"
   },
   {
    "duration": 20,
    "start_time": "2023-04-29T15:02:29.850Z"
   },
   {
    "duration": 7,
    "start_time": "2023-04-29T15:02:40.339Z"
   },
   {
    "duration": 19,
    "start_time": "2023-04-29T15:02:45.569Z"
   },
   {
    "duration": 19,
    "start_time": "2023-04-29T15:04:38.638Z"
   },
   {
    "duration": 4,
    "start_time": "2023-04-29T15:04:46.911Z"
   },
   {
    "duration": 9074,
    "start_time": "2023-04-29T15:04:52.453Z"
   },
   {
    "duration": 4,
    "start_time": "2023-04-29T15:05:03.027Z"
   },
   {
    "duration": 3,
    "start_time": "2023-04-29T15:05:33.843Z"
   },
   {
    "duration": 55,
    "start_time": "2023-04-29T15:06:10.366Z"
   },
   {
    "duration": 58,
    "start_time": "2023-04-29T15:07:00.389Z"
   },
   {
    "duration": 131,
    "start_time": "2023-04-29T15:07:10.967Z"
   },
   {
    "duration": 150,
    "start_time": "2023-04-29T15:07:31.047Z"
   },
   {
    "duration": 4,
    "start_time": "2023-04-29T15:08:23.976Z"
   },
   {
    "duration": 307,
    "start_time": "2023-04-29T15:08:34.034Z"
   },
   {
    "duration": 8814,
    "start_time": "2023-04-29T15:09:29.914Z"
   },
   {
    "duration": 4,
    "start_time": "2023-04-29T15:09:38.730Z"
   },
   {
    "duration": 25,
    "start_time": "2023-04-29T15:09:38.736Z"
   },
   {
    "duration": 9059,
    "start_time": "2023-04-29T15:09:57.168Z"
   },
   {
    "duration": 4,
    "start_time": "2023-04-29T15:10:06.230Z"
   },
   {
    "duration": 24,
    "start_time": "2023-04-29T15:10:06.236Z"
   },
   {
    "duration": 95,
    "start_time": "2023-04-30T06:31:33.675Z"
   },
   {
    "duration": 60,
    "start_time": "2023-04-30T06:31:41.336Z"
   },
   {
    "duration": 3378,
    "start_time": "2023-04-30T06:31:47.527Z"
   },
   {
    "duration": 16215,
    "start_time": "2023-04-30T06:31:50.907Z"
   },
   {
    "duration": 2554,
    "start_time": "2023-04-30T06:32:07.124Z"
   },
   {
    "duration": 5,
    "start_time": "2023-04-30T06:32:09.680Z"
   },
   {
    "duration": 19,
    "start_time": "2023-04-30T06:32:09.686Z"
   },
   {
    "duration": 108,
    "start_time": "2023-04-30T06:32:09.706Z"
   },
   {
    "duration": 12,
    "start_time": "2023-04-30T06:32:09.815Z"
   },
   {
    "duration": 52,
    "start_time": "2023-04-30T06:32:09.828Z"
   },
   {
    "duration": 12,
    "start_time": "2023-04-30T06:32:09.881Z"
   },
   {
    "duration": 10,
    "start_time": "2023-04-30T06:32:09.895Z"
   },
   {
    "duration": 21,
    "start_time": "2023-04-30T06:32:09.907Z"
   },
   {
    "duration": 4,
    "start_time": "2023-04-30T06:32:09.930Z"
   },
   {
    "duration": 39529,
    "start_time": "2023-04-30T06:32:09.938Z"
   },
   {
    "duration": 14,
    "start_time": "2023-04-30T06:32:49.477Z"
   },
   {
    "duration": 21,
    "start_time": "2023-04-30T06:32:49.492Z"
   },
   {
    "duration": 15,
    "start_time": "2023-04-30T06:32:49.515Z"
   },
   {
    "duration": 54,
    "start_time": "2023-04-30T06:32:49.531Z"
   },
   {
    "duration": 134,
    "start_time": "2023-04-30T06:32:49.587Z"
   },
   {
    "duration": 4,
    "start_time": "2023-04-30T06:32:49.723Z"
   },
   {
    "duration": 13,
    "start_time": "2023-04-30T06:32:49.728Z"
   },
   {
    "duration": 185,
    "start_time": "2023-04-30T06:32:49.743Z"
   },
   {
    "duration": 0,
    "start_time": "2023-04-30T06:32:49.930Z"
   },
   {
    "duration": 0,
    "start_time": "2023-04-30T06:32:49.931Z"
   },
   {
    "duration": 0,
    "start_time": "2023-04-30T06:32:49.932Z"
   },
   {
    "duration": 0,
    "start_time": "2023-04-30T06:32:49.934Z"
   },
   {
    "duration": 0,
    "start_time": "2023-04-30T06:32:49.935Z"
   },
   {
    "duration": 0,
    "start_time": "2023-04-30T06:32:49.936Z"
   },
   {
    "duration": 0,
    "start_time": "2023-04-30T06:32:49.937Z"
   },
   {
    "duration": 18,
    "start_time": "2023-04-30T06:33:41.046Z"
   },
   {
    "duration": 13,
    "start_time": "2023-04-30T06:34:47.289Z"
   },
   {
    "duration": 8,
    "start_time": "2023-04-30T06:35:03.358Z"
   },
   {
    "duration": 5,
    "start_time": "2023-04-30T06:35:03.496Z"
   },
   {
    "duration": 15,
    "start_time": "2023-04-30T06:35:06.104Z"
   },
   {
    "duration": 5,
    "start_time": "2023-04-30T06:37:34.259Z"
   },
   {
    "duration": 13,
    "start_time": "2023-04-30T06:37:34.427Z"
   },
   {
    "duration": 16,
    "start_time": "2023-04-30T06:38:04.628Z"
   },
   {
    "duration": 18,
    "start_time": "2023-04-30T06:41:25.726Z"
   },
   {
    "duration": 21,
    "start_time": "2023-04-30T06:42:19.065Z"
   },
   {
    "duration": 9823,
    "start_time": "2023-04-30T06:45:06.360Z"
   },
   {
    "duration": 4,
    "start_time": "2023-04-30T06:45:16.186Z"
   },
   {
    "duration": 38,
    "start_time": "2023-04-30T06:45:16.192Z"
   },
   {
    "duration": 16,
    "start_time": "2023-04-30T06:45:29.277Z"
   },
   {
    "duration": 30,
    "start_time": "2023-04-30T06:45:35.374Z"
   },
   {
    "duration": 27,
    "start_time": "2023-04-30T06:46:01.552Z"
   },
   {
    "duration": 1698,
    "start_time": "2023-04-30T06:46:36.004Z"
   },
   {
    "duration": 107,
    "start_time": "2023-04-30T06:46:51.160Z"
   },
   {
    "duration": 189,
    "start_time": "2023-04-30T06:46:53.872Z"
   },
   {
    "duration": 7,
    "start_time": "2023-04-30T06:46:57.025Z"
   },
   {
    "duration": 23,
    "start_time": "2023-04-30T06:47:06.132Z"
   },
   {
    "duration": 12,
    "start_time": "2023-04-30T06:47:14.027Z"
   },
   {
    "duration": 17,
    "start_time": "2023-04-30T06:48:11.483Z"
   },
   {
    "duration": 16,
    "start_time": "2023-04-30T06:48:16.838Z"
   },
   {
    "duration": 19,
    "start_time": "2023-04-30T06:49:08.600Z"
   },
   {
    "duration": 73,
    "start_time": "2023-04-30T06:49:27.076Z"
   },
   {
    "duration": 5,
    "start_time": "2023-04-30T06:50:10.583Z"
   },
   {
    "duration": 316,
    "start_time": "2023-04-30T06:50:14.364Z"
   },
   {
    "duration": 5,
    "start_time": "2023-04-30T06:50:52.410Z"
   },
   {
    "duration": 352,
    "start_time": "2023-04-30T06:50:55.720Z"
   },
   {
    "duration": 5,
    "start_time": "2023-04-30T06:51:55.274Z"
   },
   {
    "duration": 348,
    "start_time": "2023-04-30T06:52:10.405Z"
   },
   {
    "duration": 406,
    "start_time": "2023-04-30T06:52:14.490Z"
   },
   {
    "duration": 4,
    "start_time": "2023-04-30T06:53:25.060Z"
   },
   {
    "duration": 26,
    "start_time": "2023-04-30T06:54:36.462Z"
   },
   {
    "duration": 39,
    "start_time": "2023-04-30T06:54:42.716Z"
   },
   {
    "duration": 98,
    "start_time": "2023-04-30T06:55:48.501Z"
   },
   {
    "duration": 95,
    "start_time": "2023-04-30T06:55:51.699Z"
   },
   {
    "duration": 11,
    "start_time": "2023-04-30T06:55:54.879Z"
   },
   {
    "duration": 37,
    "start_time": "2023-04-30T06:56:14.669Z"
   },
   {
    "duration": 24,
    "start_time": "2023-04-30T06:56:17.705Z"
   },
   {
    "duration": 9,
    "start_time": "2023-04-30T07:01:08.718Z"
   },
   {
    "duration": 10,
    "start_time": "2023-04-30T07:01:47.616Z"
   },
   {
    "duration": 10,
    "start_time": "2023-04-30T07:01:55.661Z"
   },
   {
    "duration": 11,
    "start_time": "2023-04-30T07:02:05.367Z"
   },
   {
    "duration": 9,
    "start_time": "2023-04-30T07:02:15.706Z"
   },
   {
    "duration": 29,
    "start_time": "2023-04-30T07:02:27.473Z"
   },
   {
    "duration": 25,
    "start_time": "2023-04-30T07:02:41.506Z"
   },
   {
    "duration": 13,
    "start_time": "2023-04-30T07:03:03.377Z"
   },
   {
    "duration": 31,
    "start_time": "2023-04-30T07:04:03.626Z"
   },
   {
    "duration": 12,
    "start_time": "2023-04-30T07:21:51.964Z"
   },
   {
    "duration": 14,
    "start_time": "2023-04-30T07:22:44.718Z"
   },
   {
    "duration": 11,
    "start_time": "2023-04-30T07:24:52.721Z"
   },
   {
    "duration": 9771,
    "start_time": "2023-04-30T07:27:10.914Z"
   },
   {
    "duration": 4,
    "start_time": "2023-04-30T07:27:20.688Z"
   },
   {
    "duration": 56,
    "start_time": "2023-04-30T07:27:20.694Z"
   },
   {
    "duration": 23,
    "start_time": "2023-04-30T07:27:42.970Z"
   },
   {
    "duration": 27,
    "start_time": "2023-04-30T07:27:44.033Z"
   },
   {
    "duration": 292,
    "start_time": "2023-04-30T07:27:50.560Z"
   },
   {
    "duration": 29,
    "start_time": "2023-04-30T07:34:25.764Z"
   },
   {
    "duration": 37,
    "start_time": "2023-04-30T07:35:25.403Z"
   },
   {
    "duration": 30,
    "start_time": "2023-04-30T07:35:30.581Z"
   },
   {
    "duration": 28,
    "start_time": "2023-04-30T07:35:55.167Z"
   },
   {
    "duration": 7988,
    "start_time": "2023-04-30T07:39:24.168Z"
   },
   {
    "duration": 6,
    "start_time": "2023-04-30T07:39:32.161Z"
   },
   {
    "duration": 8080,
    "start_time": "2023-04-30T07:39:37.484Z"
   },
   {
    "duration": 4,
    "start_time": "2023-04-30T07:39:48.712Z"
   },
   {
    "duration": 25,
    "start_time": "2023-04-30T07:39:50.206Z"
   },
   {
    "duration": 14,
    "start_time": "2023-04-30T07:39:54.804Z"
   },
   {
    "duration": 333,
    "start_time": "2023-04-30T07:39:58.057Z"
   },
   {
    "duration": 28667,
    "start_time": "2023-04-30T07:40:44.399Z"
   },
   {
    "duration": 3,
    "start_time": "2023-04-30T07:41:13.068Z"
   },
   {
    "duration": 28,
    "start_time": "2023-04-30T07:41:13.073Z"
   },
   {
    "duration": 20,
    "start_time": "2023-04-30T07:41:13.102Z"
   },
   {
    "duration": 19,
    "start_time": "2023-04-30T07:41:13.123Z"
   },
   {
    "duration": 932,
    "start_time": "2023-04-30T07:41:13.143Z"
   },
   {
    "duration": 5,
    "start_time": "2023-04-30T07:41:14.076Z"
   },
   {
    "duration": 31100,
    "start_time": "2023-04-30T07:42:22.868Z"
   },
   {
    "duration": 14,
    "start_time": "2023-04-30T07:46:24.875Z"
   },
   {
    "duration": 23,
    "start_time": "2023-04-30T07:46:32.676Z"
   },
   {
    "duration": 18,
    "start_time": "2023-04-30T07:46:38.167Z"
   },
   {
    "duration": 16,
    "start_time": "2023-04-30T07:47:10.615Z"
   },
   {
    "duration": 30289,
    "start_time": "2023-04-30T07:47:58.428Z"
   },
   {
    "duration": 17,
    "start_time": "2023-04-30T07:48:28.719Z"
   },
   {
    "duration": 28,
    "start_time": "2023-04-30T07:48:28.737Z"
   },
   {
    "duration": 20,
    "start_time": "2023-04-30T07:48:28.769Z"
   },
   {
    "duration": 0,
    "start_time": "2023-04-30T07:48:28.790Z"
   },
   {
    "duration": 29,
    "start_time": "2023-04-30T08:21:20.878Z"
   },
   {
    "duration": 17,
    "start_time": "2023-04-30T08:21:24.394Z"
   },
   {
    "duration": 14,
    "start_time": "2023-04-30T08:21:41.808Z"
   },
   {
    "duration": 4,
    "start_time": "2023-04-30T08:21:45.367Z"
   },
   {
    "duration": 939,
    "start_time": "2023-04-30T08:21:45.526Z"
   },
   {
    "duration": 62,
    "start_time": "2023-04-30T10:05:50.430Z"
   },
   {
    "duration": 2949,
    "start_time": "2023-04-30T10:05:56.899Z"
   },
   {
    "duration": 14366,
    "start_time": "2023-04-30T10:05:59.851Z"
   },
   {
    "duration": 2446,
    "start_time": "2023-04-30T10:06:14.219Z"
   },
   {
    "duration": 106,
    "start_time": "2023-04-30T10:06:16.668Z"
   },
   {
    "duration": 23,
    "start_time": "2023-04-30T10:06:16.777Z"
   },
   {
    "duration": 161,
    "start_time": "2023-04-30T10:06:16.803Z"
   },
   {
    "duration": 15,
    "start_time": "2023-04-30T10:06:16.966Z"
   },
   {
    "duration": 25,
    "start_time": "2023-04-30T10:06:16.983Z"
   },
   {
    "duration": 16,
    "start_time": "2023-04-30T10:06:17.010Z"
   },
   {
    "duration": 15,
    "start_time": "2023-04-30T10:06:17.027Z"
   },
   {
    "duration": 30,
    "start_time": "2023-04-30T10:06:17.044Z"
   },
   {
    "duration": 7,
    "start_time": "2023-04-30T10:06:17.076Z"
   },
   {
    "duration": 36671,
    "start_time": "2023-04-30T10:06:17.084Z"
   },
   {
    "duration": 16,
    "start_time": "2023-04-30T10:06:53.758Z"
   },
   {
    "duration": 21,
    "start_time": "2023-04-30T10:06:53.776Z"
   },
   {
    "duration": 14,
    "start_time": "2023-04-30T10:06:53.799Z"
   },
   {
    "duration": 33,
    "start_time": "2023-04-30T10:06:53.815Z"
   },
   {
    "duration": 139,
    "start_time": "2023-04-30T10:06:53.850Z"
   },
   {
    "duration": 4,
    "start_time": "2023-04-30T10:06:53.991Z"
   },
   {
    "duration": 18,
    "start_time": "2023-04-30T10:06:53.997Z"
   },
   {
    "duration": 13,
    "start_time": "2023-04-30T10:06:54.017Z"
   },
   {
    "duration": 17,
    "start_time": "2023-04-30T10:06:54.032Z"
   },
   {
    "duration": 29,
    "start_time": "2023-04-30T10:06:54.051Z"
   },
   {
    "duration": 13,
    "start_time": "2023-04-30T10:06:54.082Z"
   },
   {
    "duration": 26,
    "start_time": "2023-04-30T10:06:54.097Z"
   },
   {
    "duration": 34,
    "start_time": "2023-04-30T10:06:54.125Z"
   },
   {
    "duration": 46,
    "start_time": "2023-04-30T10:06:54.161Z"
   },
   {
    "duration": 2,
    "start_time": "2023-04-30T10:06:54.209Z"
   },
   {
    "duration": 9582,
    "start_time": "2023-04-30T10:06:54.213Z"
   },
   {
    "duration": 4,
    "start_time": "2023-04-30T10:07:03.797Z"
   },
   {
    "duration": 68,
    "start_time": "2023-04-30T10:07:03.802Z"
   },
   {
    "duration": 27,
    "start_time": "2023-04-30T10:07:03.872Z"
   },
   {
    "duration": 331,
    "start_time": "2023-04-30T10:07:03.900Z"
   },
   {
    "duration": 3,
    "start_time": "2023-04-30T10:07:04.233Z"
   },
   {
    "duration": 5,
    "start_time": "2023-04-30T10:08:56.896Z"
   },
   {
    "duration": 47,
    "start_time": "2023-04-30T10:08:56.903Z"
   },
   {
    "duration": 28,
    "start_time": "2023-04-30T10:08:56.953Z"
   },
   {
    "duration": 362,
    "start_time": "2023-04-30T10:08:56.982Z"
   },
   {
    "duration": 2,
    "start_time": "2023-04-30T10:08:57.346Z"
   },
   {
    "duration": 33611,
    "start_time": "2023-04-30T10:08:57.350Z"
   },
   {
    "duration": 33399,
    "start_time": "2023-04-30T10:09:30.964Z"
   },
   {
    "duration": 4,
    "start_time": "2023-04-30T10:10:04.365Z"
   },
   {
    "duration": 36,
    "start_time": "2023-04-30T10:10:04.371Z"
   },
   {
    "duration": 166,
    "start_time": "2023-04-30T10:10:04.409Z"
   },
   {
    "duration": 0,
    "start_time": "2023-04-30T10:10:04.577Z"
   },
   {
    "duration": 0,
    "start_time": "2023-04-30T10:10:04.578Z"
   },
   {
    "duration": 0,
    "start_time": "2023-04-30T10:10:04.579Z"
   },
   {
    "duration": 0,
    "start_time": "2023-04-30T10:10:04.580Z"
   },
   {
    "duration": 13,
    "start_time": "2023-04-30T10:18:47.073Z"
   },
   {
    "duration": 9,
    "start_time": "2023-04-30T10:18:52.106Z"
   },
   {
    "duration": 5,
    "start_time": "2023-04-30T10:18:52.843Z"
   },
   {
    "duration": 4,
    "start_time": "2023-04-30T10:19:09.110Z"
   },
   {
    "duration": 14,
    "start_time": "2023-04-30T10:19:30.310Z"
   },
   {
    "duration": 22,
    "start_time": "2023-04-30T10:19:35.715Z"
   },
   {
    "duration": 19,
    "start_time": "2023-04-30T10:19:49.372Z"
   },
   {
    "duration": 20,
    "start_time": "2023-04-30T10:22:28.877Z"
   },
   {
    "duration": 12,
    "start_time": "2023-04-30T10:22:53.079Z"
   },
   {
    "duration": 12,
    "start_time": "2023-04-30T10:23:05.812Z"
   },
   {
    "duration": 5,
    "start_time": "2023-04-30T10:23:06.923Z"
   },
   {
    "duration": 19,
    "start_time": "2023-04-30T10:29:38.514Z"
   },
   {
    "duration": 51,
    "start_time": "2023-04-30T10:29:53.114Z"
   },
   {
    "duration": 28,
    "start_time": "2023-04-30T10:30:00.111Z"
   },
   {
    "duration": 16,
    "start_time": "2023-04-30T10:30:11.389Z"
   },
   {
    "duration": 4,
    "start_time": "2023-04-30T10:30:19.462Z"
   },
   {
    "duration": 1080,
    "start_time": "2023-04-30T10:30:19.618Z"
   },
   {
    "duration": 996,
    "start_time": "2023-04-30T10:30:53.066Z"
   },
   {
    "duration": 50,
    "start_time": "2023-04-30T10:31:24.541Z"
   },
   {
    "duration": 45,
    "start_time": "2023-04-30T10:31:29.074Z"
   },
   {
    "duration": 35,
    "start_time": "2023-04-30T10:39:48.484Z"
   },
   {
    "duration": 5,
    "start_time": "2023-04-30T10:42:04.554Z"
   },
   {
    "duration": 15,
    "start_time": "2023-04-30T10:42:08.875Z"
   },
   {
    "duration": 18,
    "start_time": "2023-04-30T10:42:11.470Z"
   },
   {
    "duration": 6,
    "start_time": "2023-04-30T10:42:11.683Z"
   },
   {
    "duration": 18,
    "start_time": "2023-04-30T10:42:32.806Z"
   },
   {
    "duration": 6,
    "start_time": "2023-04-30T10:42:35.253Z"
   },
   {
    "duration": 20,
    "start_time": "2023-04-30T10:42:37.466Z"
   },
   {
    "duration": 14,
    "start_time": "2023-04-30T10:42:42.293Z"
   },
   {
    "duration": 18,
    "start_time": "2023-04-30T10:42:43.719Z"
   },
   {
    "duration": 15,
    "start_time": "2023-04-30T10:42:52.459Z"
   },
   {
    "duration": 20,
    "start_time": "2023-04-30T10:42:53.366Z"
   },
   {
    "duration": 14,
    "start_time": "2023-04-30T10:44:41.475Z"
   },
   {
    "duration": 13,
    "start_time": "2023-04-30T10:47:01.051Z"
   },
   {
    "duration": 5,
    "start_time": "2023-04-30T10:47:03.544Z"
   },
   {
    "duration": 6,
    "start_time": "2023-04-30T10:49:45.853Z"
   },
   {
    "duration": 5,
    "start_time": "2023-04-30T10:50:13.567Z"
   },
   {
    "duration": 15,
    "start_time": "2023-04-30T10:53:41.386Z"
   },
   {
    "duration": 19,
    "start_time": "2023-04-30T10:55:36.063Z"
   },
   {
    "duration": 24,
    "start_time": "2023-04-30T10:55:39.515Z"
   },
   {
    "duration": 6,
    "start_time": "2023-04-30T10:55:40.344Z"
   },
   {
    "duration": 26,
    "start_time": "2023-04-30T11:00:16.858Z"
   },
   {
    "duration": 6,
    "start_time": "2023-04-30T11:00:17.715Z"
   },
   {
    "duration": 958,
    "start_time": "2023-04-30T11:02:44.671Z"
   },
   {
    "duration": 972,
    "start_time": "2023-04-30T11:02:51.390Z"
   },
   {
    "duration": 3,
    "start_time": "2023-04-30T11:16:05.493Z"
   },
   {
    "duration": 1030,
    "start_time": "2023-04-30T11:16:05.641Z"
   },
   {
    "duration": 21,
    "start_time": "2023-04-30T11:17:11.641Z"
   },
   {
    "duration": 382,
    "start_time": "2023-04-30T11:17:17.491Z"
   },
   {
    "duration": 191,
    "start_time": "2023-04-30T11:17:45.498Z"
   },
   {
    "duration": 36427,
    "start_time": "2023-04-30T12:50:24.125Z"
   },
   {
    "duration": 1154,
    "start_time": "2023-04-30T12:54:09.499Z"
   },
   {
    "duration": 288,
    "start_time": "2023-04-30T13:00:11.937Z"
   },
   {
    "duration": 302,
    "start_time": "2023-04-30T13:00:41.724Z"
   },
   {
    "duration": 13,
    "start_time": "2023-04-30T13:01:46.531Z"
   },
   {
    "duration": 474,
    "start_time": "2023-04-30T13:01:54.045Z"
   },
   {
    "duration": 13065,
    "start_time": "2023-04-30T13:05:49.590Z"
   },
   {
    "duration": 375,
    "start_time": "2023-04-30T13:06:25.966Z"
   },
   {
    "duration": 5,
    "start_time": "2023-04-30T13:06:40.391Z"
   },
   {
    "duration": 14,
    "start_time": "2023-04-30T13:08:45.259Z"
   },
   {
    "duration": 13,
    "start_time": "2023-04-30T13:09:07.481Z"
   },
   {
    "duration": 13180,
    "start_time": "2023-04-30T13:10:57.788Z"
   },
   {
    "duration": 13631,
    "start_time": "2023-04-30T13:13:17.126Z"
   },
   {
    "duration": 5,
    "start_time": "2023-04-30T13:13:30.759Z"
   },
   {
    "duration": 384,
    "start_time": "2023-04-30T13:14:09.850Z"
   },
   {
    "duration": 15,
    "start_time": "2023-04-30T13:14:13.145Z"
   },
   {
    "duration": 6,
    "start_time": "2023-04-30T13:25:18.315Z"
   },
   {
    "duration": 39838,
    "start_time": "2023-04-30T13:25:25.469Z"
   },
   {
    "duration": 4,
    "start_time": "2023-04-30T13:26:08.961Z"
   },
   {
    "duration": 28,
    "start_time": "2023-04-30T13:27:18.817Z"
   },
   {
    "duration": 36,
    "start_time": "2023-04-30T13:27:22.822Z"
   },
   {
    "duration": 26,
    "start_time": "2023-04-30T13:27:37.117Z"
   },
   {
    "duration": 29,
    "start_time": "2023-04-30T13:27:40.222Z"
   },
   {
    "duration": 4,
    "start_time": "2023-04-30T13:28:06.125Z"
   },
   {
    "duration": 30,
    "start_time": "2023-04-30T13:28:42.148Z"
   },
   {
    "duration": 31,
    "start_time": "2023-04-30T13:29:02.426Z"
   },
   {
    "duration": 33,
    "start_time": "2023-04-30T13:29:31.606Z"
   },
   {
    "duration": 15,
    "start_time": "2023-04-30T13:29:39.034Z"
   },
   {
    "duration": 14,
    "start_time": "2023-04-30T13:29:58.650Z"
   },
   {
    "duration": 34607,
    "start_time": "2023-04-30T13:30:43.011Z"
   },
   {
    "duration": 5,
    "start_time": "2023-04-30T13:31:17.620Z"
   },
   {
    "duration": 29,
    "start_time": "2023-04-30T13:31:17.627Z"
   },
   {
    "duration": 43,
    "start_time": "2023-04-30T13:31:17.658Z"
   },
   {
    "duration": 16,
    "start_time": "2023-04-30T13:31:17.703Z"
   },
   {
    "duration": 3,
    "start_time": "2023-04-30T13:31:17.721Z"
   },
   {
    "duration": 1155,
    "start_time": "2023-04-30T13:31:17.726Z"
   },
   {
    "duration": 974,
    "start_time": "2023-04-30T13:31:18.883Z"
   },
   {
    "duration": 1126,
    "start_time": "2023-04-30T13:34:10.633Z"
   },
   {
    "duration": 17,
    "start_time": "2023-04-30T13:36:14.953Z"
   },
   {
    "duration": 396,
    "start_time": "2023-04-30T13:37:41.436Z"
   },
   {
    "duration": 14,
    "start_time": "2023-04-30T13:37:45.334Z"
   },
   {
    "duration": 1107,
    "start_time": "2023-04-30T13:38:08.194Z"
   },
   {
    "duration": 381,
    "start_time": "2023-04-30T13:39:58.662Z"
   },
   {
    "duration": 108,
    "start_time": "2023-04-30T13:40:17.083Z"
   },
   {
    "duration": 17,
    "start_time": "2023-04-30T13:41:20.038Z"
   },
   {
    "duration": 15,
    "start_time": "2023-04-30T13:41:38.817Z"
   },
   {
    "duration": 411,
    "start_time": "2023-04-30T13:42:15.023Z"
   },
   {
    "duration": 79,
    "start_time": "2023-04-30T13:42:16.011Z"
   },
   {
    "duration": 10,
    "start_time": "2023-04-30T13:43:04.342Z"
   },
   {
    "duration": 4,
    "start_time": "2023-04-30T13:43:04.768Z"
   },
   {
    "duration": 71,
    "start_time": "2023-04-30T13:43:09.820Z"
   },
   {
    "duration": 36,
    "start_time": "2023-04-30T13:43:25.653Z"
   },
   {
    "duration": 37,
    "start_time": "2023-04-30T13:43:31.253Z"
   },
   {
    "duration": 11,
    "start_time": "2023-04-30T13:43:47.697Z"
   },
   {
    "duration": 5,
    "start_time": "2023-04-30T13:43:47.845Z"
   },
   {
    "duration": 5,
    "start_time": "2023-04-30T13:43:47.991Z"
   },
   {
    "duration": 24,
    "start_time": "2023-04-30T13:43:48.490Z"
   },
   {
    "duration": 46,
    "start_time": "2023-04-30T13:43:49.106Z"
   },
   {
    "duration": 30,
    "start_time": "2023-04-30T13:45:24.693Z"
   },
   {
    "duration": 22,
    "start_time": "2023-04-30T13:45:48.669Z"
   },
   {
    "duration": 29,
    "start_time": "2023-04-30T13:47:00.389Z"
   },
   {
    "duration": 19,
    "start_time": "2023-04-30T13:47:04.620Z"
   },
   {
    "duration": 20,
    "start_time": "2023-04-30T13:47:19.776Z"
   },
   {
    "duration": 19,
    "start_time": "2023-04-30T14:45:53.002Z"
   },
   {
    "duration": 31,
    "start_time": "2023-04-30T14:46:01.843Z"
   },
   {
    "duration": 60,
    "start_time": "2023-04-30T14:46:13.991Z"
   },
   {
    "duration": 33,
    "start_time": "2023-04-30T14:46:19.191Z"
   },
   {
    "duration": 17,
    "start_time": "2023-04-30T14:48:42.448Z"
   },
   {
    "duration": 21,
    "start_time": "2023-04-30T14:48:48.342Z"
   },
   {
    "duration": 46,
    "start_time": "2023-05-01T08:54:08.077Z"
   },
   {
    "duration": 2879,
    "start_time": "2023-05-01T08:54:17.219Z"
   },
   {
    "duration": 13102,
    "start_time": "2023-05-01T08:54:20.100Z"
   },
   {
    "duration": 2100,
    "start_time": "2023-05-01T08:54:33.204Z"
   },
   {
    "duration": 76,
    "start_time": "2023-05-01T08:54:35.305Z"
   },
   {
    "duration": 21,
    "start_time": "2023-05-01T08:54:35.383Z"
   },
   {
    "duration": 81,
    "start_time": "2023-05-01T08:54:35.405Z"
   },
   {
    "duration": 11,
    "start_time": "2023-05-01T08:54:35.488Z"
   },
   {
    "duration": 18,
    "start_time": "2023-05-01T08:54:35.500Z"
   },
   {
    "duration": 17,
    "start_time": "2023-05-01T08:54:35.519Z"
   },
   {
    "duration": 20,
    "start_time": "2023-05-01T08:54:35.537Z"
   },
   {
    "duration": 21,
    "start_time": "2023-05-01T08:54:35.558Z"
   },
   {
    "duration": 8,
    "start_time": "2023-05-01T08:54:35.581Z"
   },
   {
    "duration": 29385,
    "start_time": "2023-05-01T08:54:35.590Z"
   },
   {
    "duration": 12,
    "start_time": "2023-05-01T08:55:04.978Z"
   },
   {
    "duration": 8,
    "start_time": "2023-05-01T08:55:04.992Z"
   },
   {
    "duration": 12,
    "start_time": "2023-05-01T08:55:05.002Z"
   },
   {
    "duration": 20,
    "start_time": "2023-05-01T08:55:05.016Z"
   },
   {
    "duration": 116,
    "start_time": "2023-05-01T08:55:05.037Z"
   },
   {
    "duration": 3,
    "start_time": "2023-05-01T08:55:05.155Z"
   },
   {
    "duration": 333,
    "start_time": "2023-05-01T08:55:05.160Z"
   },
   {
    "duration": 194,
    "start_time": "2023-05-01T08:55:05.494Z"
   },
   {
    "duration": 170,
    "start_time": "2023-05-01T08:55:05.690Z"
   },
   {
    "duration": 50,
    "start_time": "2023-05-01T08:55:05.862Z"
   },
   {
    "duration": 10,
    "start_time": "2023-05-01T08:55:05.914Z"
   },
   {
    "duration": 4,
    "start_time": "2023-05-01T08:55:05.925Z"
   },
   {
    "duration": 5,
    "start_time": "2023-05-01T08:55:05.930Z"
   },
   {
    "duration": 53,
    "start_time": "2023-05-01T08:55:05.937Z"
   },
   {
    "duration": 142,
    "start_time": "2023-05-01T08:55:48.582Z"
   },
   {
    "duration": 27,
    "start_time": "2023-05-01T08:56:05.306Z"
   },
   {
    "duration": 37,
    "start_time": "2023-05-01T08:57:55.179Z"
   },
   {
    "duration": 9584,
    "start_time": "2023-05-01T09:07:30.690Z"
   },
   {
    "duration": 3,
    "start_time": "2023-05-01T09:07:40.277Z"
   },
   {
    "duration": 22,
    "start_time": "2023-05-01T09:07:44.586Z"
   },
   {
    "duration": 13,
    "start_time": "2023-05-01T09:07:46.936Z"
   },
   {
    "duration": 315,
    "start_time": "2023-05-01T09:07:56.778Z"
   },
   {
    "duration": 58,
    "start_time": "2023-05-01T09:08:10.618Z"
   },
   {
    "duration": 26,
    "start_time": "2023-05-01T09:09:23.118Z"
   },
   {
    "duration": 32,
    "start_time": "2023-05-01T09:10:22.421Z"
   },
   {
    "duration": 33,
    "start_time": "2023-05-01T09:10:27.145Z"
   },
   {
    "duration": 9649,
    "start_time": "2023-05-01T09:10:55.726Z"
   },
   {
    "duration": 4,
    "start_time": "2023-05-01T09:11:10.182Z"
   },
   {
    "duration": 346,
    "start_time": "2023-05-01T09:11:22.758Z"
   },
   {
    "duration": 26,
    "start_time": "2023-05-01T09:11:39.381Z"
   },
   {
    "duration": 30029,
    "start_time": "2023-05-01T09:12:44.147Z"
   },
   {
    "duration": 32046,
    "start_time": "2023-05-01T09:14:33.814Z"
   },
   {
    "duration": 3,
    "start_time": "2023-05-01T09:15:05.862Z"
   },
   {
    "duration": 21,
    "start_time": "2023-05-01T09:15:23.541Z"
   },
   {
    "duration": 33,
    "start_time": "2023-05-01T09:15:28.452Z"
   },
   {
    "duration": 15,
    "start_time": "2023-05-01T09:15:29.102Z"
   },
   {
    "duration": 1465,
    "start_time": "2023-05-01T09:15:56.974Z"
   },
   {
    "duration": 1348,
    "start_time": "2023-05-01T09:16:11.687Z"
   },
   {
    "duration": 10,
    "start_time": "2023-05-01T09:19:24.835Z"
   },
   {
    "duration": 4,
    "start_time": "2023-05-01T09:19:25.321Z"
   },
   {
    "duration": 19,
    "start_time": "2023-05-01T09:19:27.317Z"
   },
   {
    "duration": 4,
    "start_time": "2023-05-01T09:19:27.550Z"
   },
   {
    "duration": 12491,
    "start_time": "2023-05-01T09:19:30.341Z"
   },
   {
    "duration": 14,
    "start_time": "2023-05-01T09:19:44.553Z"
   },
   {
    "duration": 30,
    "start_time": "2023-05-01T09:21:24.807Z"
   },
   {
    "duration": 30,
    "start_time": "2023-05-01T09:24:14.437Z"
   },
   {
    "duration": 31,
    "start_time": "2023-05-01T09:24:20.713Z"
   },
   {
    "duration": 25,
    "start_time": "2023-05-01T09:31:08.297Z"
   },
   {
    "duration": 35,
    "start_time": "2023-05-01T09:31:17.537Z"
   },
   {
    "duration": 22,
    "start_time": "2023-05-01T09:31:40.617Z"
   },
   {
    "duration": 24,
    "start_time": "2023-05-01T09:32:28.112Z"
   },
   {
    "duration": 23,
    "start_time": "2023-05-01T09:38:01.708Z"
   },
   {
    "duration": 35,
    "start_time": "2023-05-01T09:38:21.533Z"
   },
   {
    "duration": 22,
    "start_time": "2023-05-01T09:38:28.822Z"
   },
   {
    "duration": 9754,
    "start_time": "2023-05-01T09:38:50.037Z"
   },
   {
    "duration": 3,
    "start_time": "2023-05-01T09:38:59.793Z"
   },
   {
    "duration": 341,
    "start_time": "2023-05-01T09:40:06.534Z"
   },
   {
    "duration": 15,
    "start_time": "2023-05-01T09:40:52.534Z"
   },
   {
    "duration": 33309,
    "start_time": "2023-05-01T09:41:56.838Z"
   },
   {
    "duration": 3,
    "start_time": "2023-05-01T09:42:30.149Z"
   },
   {
    "duration": 18,
    "start_time": "2023-05-01T09:43:02.318Z"
   },
   {
    "duration": 22,
    "start_time": "2023-05-01T09:43:08.722Z"
   },
   {
    "duration": 12,
    "start_time": "2023-05-01T09:43:10.934Z"
   },
   {
    "duration": 10781,
    "start_time": "2023-05-01T09:50:25.608Z"
   },
   {
    "duration": 3,
    "start_time": "2023-05-01T09:50:36.391Z"
   },
   {
    "duration": 8855,
    "start_time": "2023-05-01T09:50:37.123Z"
   },
   {
    "duration": 7,
    "start_time": "2023-05-01T09:50:45.979Z"
   },
   {
    "duration": 21,
    "start_time": "2023-05-01T09:50:59.823Z"
   },
   {
    "duration": 11,
    "start_time": "2023-05-01T09:51:01.051Z"
   },
   {
    "duration": 325,
    "start_time": "2023-05-01T09:51:12.151Z"
   },
   {
    "duration": 28,
    "start_time": "2023-05-01T09:51:15.059Z"
   },
   {
    "duration": 330,
    "start_time": "2023-05-01T09:52:27.743Z"
   },
   {
    "duration": 11,
    "start_time": "2023-05-01T09:52:30.211Z"
   },
   {
    "duration": 32777,
    "start_time": "2023-05-01T09:52:50.456Z"
   },
   {
    "duration": 4,
    "start_time": "2023-05-01T09:53:23.234Z"
   },
   {
    "duration": 32162,
    "start_time": "2023-05-01T09:53:42.623Z"
   },
   {
    "duration": 4,
    "start_time": "2023-05-01T09:54:14.786Z"
   },
   {
    "duration": 9,
    "start_time": "2023-05-01T09:56:28.651Z"
   },
   {
    "duration": 341,
    "start_time": "2023-05-01T09:58:21.351Z"
   },
   {
    "duration": 34,
    "start_time": "2023-05-01T09:58:36.439Z"
   },
   {
    "duration": 17,
    "start_time": "2023-05-01T09:58:55.824Z"
   },
   {
    "duration": 10,
    "start_time": "2023-05-01T09:59:02.133Z"
   },
   {
    "duration": 32541,
    "start_time": "2023-05-01T09:59:38.324Z"
   },
   {
    "duration": 6,
    "start_time": "2023-05-01T10:00:10.867Z"
   },
   {
    "duration": 32762,
    "start_time": "2023-05-01T10:00:31.328Z"
   },
   {
    "duration": 4,
    "start_time": "2023-05-01T10:01:04.092Z"
   },
   {
    "duration": 33051,
    "start_time": "2023-05-01T10:01:27.908Z"
   },
   {
    "duration": 4,
    "start_time": "2023-05-01T10:02:00.960Z"
   },
   {
    "duration": 9829,
    "start_time": "2023-05-01T10:02:00.965Z"
   },
   {
    "duration": 3,
    "start_time": "2023-05-01T10:02:10.795Z"
   },
   {
    "duration": 9902,
    "start_time": "2023-05-01T10:02:30.186Z"
   },
   {
    "duration": 3,
    "start_time": "2023-05-01T10:02:40.090Z"
   },
   {
    "duration": 12,
    "start_time": "2023-05-01T10:02:52.842Z"
   },
   {
    "duration": 26932,
    "start_time": "2023-05-01T10:03:33.749Z"
   },
   {
    "duration": 4,
    "start_time": "2023-05-01T10:04:00.683Z"
   },
   {
    "duration": 20,
    "start_time": "2023-05-01T10:04:24.623Z"
   },
   {
    "duration": 23,
    "start_time": "2023-05-01T10:04:28.618Z"
   },
   {
    "duration": 11,
    "start_time": "2023-05-01T10:04:29.832Z"
   },
   {
    "duration": 1424,
    "start_time": "2023-05-01T10:04:56.799Z"
   },
   {
    "duration": 2009,
    "start_time": "2023-05-01T10:05:45.214Z"
   },
   {
    "duration": 1361,
    "start_time": "2023-05-01T10:06:17.939Z"
   },
   {
    "duration": 10,
    "start_time": "2023-05-01T10:06:32.797Z"
   },
   {
    "duration": 66,
    "start_time": "2023-05-01T10:10:44.349Z"
   },
   {
    "duration": 1450,
    "start_time": "2023-05-01T10:10:53.819Z"
   },
   {
    "duration": 11,
    "start_time": "2023-05-01T15:46:07.804Z"
   },
   {
    "duration": 5,
    "start_time": "2023-05-01T15:46:08.343Z"
   },
   {
    "duration": 61,
    "start_time": "2023-05-01T15:46:10.224Z"
   },
   {
    "duration": 1818,
    "start_time": "2023-05-01T15:46:13.768Z"
   },
   {
    "duration": 14116,
    "start_time": "2023-05-01T15:46:22.439Z"
   },
   {
    "duration": 2766,
    "start_time": "2023-05-01T15:46:36.557Z"
   },
   {
    "duration": 935,
    "start_time": "2023-05-01T15:47:44.000Z"
   },
   {
    "duration": 5,
    "start_time": "2023-05-01T15:47:46.502Z"
   },
   {
    "duration": 5,
    "start_time": "2023-05-01T15:47:46.621Z"
   },
   {
    "duration": 77,
    "start_time": "2023-05-01T15:47:47.355Z"
   },
   {
    "duration": 15,
    "start_time": "2023-05-01T15:47:47.435Z"
   },
   {
    "duration": 21,
    "start_time": "2023-05-01T15:47:47.496Z"
   },
   {
    "duration": 15,
    "start_time": "2023-05-01T15:47:47.525Z"
   },
   {
    "duration": 5,
    "start_time": "2023-05-01T15:47:47.594Z"
   },
   {
    "duration": 16,
    "start_time": "2023-05-01T15:47:47.627Z"
   },
   {
    "duration": 6,
    "start_time": "2023-05-01T15:47:47.703Z"
   },
   {
    "duration": 39736,
    "start_time": "2023-05-01T15:47:47.799Z"
   },
   {
    "duration": 18,
    "start_time": "2023-05-01T15:48:27.590Z"
   },
   {
    "duration": 12,
    "start_time": "2023-05-01T15:48:27.609Z"
   },
   {
    "duration": 67,
    "start_time": "2023-05-01T15:48:27.624Z"
   },
   {
    "duration": 11,
    "start_time": "2023-05-01T15:48:27.692Z"
   },
   {
    "duration": 308,
    "start_time": "2023-05-01T15:48:27.705Z"
   },
   {
    "duration": 4,
    "start_time": "2023-05-01T15:48:28.015Z"
   },
   {
    "duration": 14,
    "start_time": "2023-05-01T15:48:28.021Z"
   },
   {
    "duration": 54,
    "start_time": "2023-05-01T15:48:28.037Z"
   },
   {
    "duration": 24,
    "start_time": "2023-05-01T15:48:28.093Z"
   },
   {
    "duration": 34,
    "start_time": "2023-05-01T15:48:28.119Z"
   },
   {
    "duration": 43,
    "start_time": "2023-05-01T15:48:28.154Z"
   },
   {
    "duration": 5,
    "start_time": "2023-05-01T15:48:28.198Z"
   },
   {
    "duration": 6,
    "start_time": "2023-05-01T15:48:28.204Z"
   },
   {
    "duration": 83,
    "start_time": "2023-05-01T15:48:53.025Z"
   },
   {
    "duration": 55,
    "start_time": "2023-05-01T15:49:00.347Z"
   },
   {
    "duration": 18,
    "start_time": "2023-05-01T15:49:10.128Z"
   },
   {
    "duration": 12,
    "start_time": "2023-05-01T15:49:10.784Z"
   },
   {
    "duration": 14,
    "start_time": "2023-05-01T15:49:10.971Z"
   },
   {
    "duration": 8,
    "start_time": "2023-05-01T15:49:11.127Z"
   },
   {
    "duration": 136,
    "start_time": "2023-05-01T15:49:12.675Z"
   },
   {
    "duration": 6,
    "start_time": "2023-05-01T15:49:13.643Z"
   },
   {
    "duration": 6,
    "start_time": "2023-05-01T15:49:13.943Z"
   },
   {
    "duration": 5,
    "start_time": "2023-05-01T15:49:14.115Z"
   },
   {
    "duration": 3,
    "start_time": "2023-05-01T15:49:14.712Z"
   },
   {
    "duration": 2,
    "start_time": "2023-05-01T15:49:14.917Z"
   },
   {
    "duration": 10,
    "start_time": "2023-05-01T15:49:15.334Z"
   },
   {
    "duration": 4,
    "start_time": "2023-05-01T15:49:15.513Z"
   },
   {
    "duration": 6,
    "start_time": "2023-05-01T15:49:15.699Z"
   },
   {
    "duration": 18,
    "start_time": "2023-05-01T15:49:16.105Z"
   },
   {
    "duration": 42,
    "start_time": "2023-05-01T15:49:17.045Z"
   },
   {
    "duration": 3,
    "start_time": "2023-05-01T15:49:19.000Z"
   },
   {
    "duration": 9686,
    "start_time": "2023-05-01T15:49:19.211Z"
   },
   {
    "duration": 4,
    "start_time": "2023-05-01T15:49:28.900Z"
   },
   {
    "duration": 32,
    "start_time": "2023-05-01T15:49:28.905Z"
   },
   {
    "duration": 15,
    "start_time": "2023-05-01T15:49:28.939Z"
   },
   {
    "duration": 374,
    "start_time": "2023-05-01T15:49:28.956Z"
   },
   {
    "duration": 11,
    "start_time": "2023-05-01T15:49:37.165Z"
   },
   {
    "duration": 329,
    "start_time": "2023-05-01T16:02:59.308Z"
   },
   {
    "duration": 11,
    "start_time": "2023-05-01T16:03:10.863Z"
   },
   {
    "duration": 1583,
    "start_time": "2023-05-01T16:03:54.657Z"
   },
   {
    "duration": 1453,
    "start_time": "2023-05-01T16:04:05.028Z"
   },
   {
    "duration": 13,
    "start_time": "2023-05-01T16:08:34.446Z"
   },
   {
    "duration": 13,
    "start_time": "2023-05-01T16:08:34.622Z"
   },
   {
    "duration": 15,
    "start_time": "2023-05-01T16:08:39.740Z"
   },
   {
    "duration": 5,
    "start_time": "2023-05-01T16:08:39.904Z"
   },
   {
    "duration": 24,
    "start_time": "2023-05-01T16:08:41.220Z"
   },
   {
    "duration": 6,
    "start_time": "2023-05-01T16:08:41.663Z"
   },
   {
    "duration": 30,
    "start_time": "2023-05-01T16:08:42.926Z"
   },
   {
    "duration": 10031,
    "start_time": "2023-05-01T16:08:46.679Z"
   },
   {
    "duration": 5,
    "start_time": "2023-05-01T16:08:56.712Z"
   },
   {
    "duration": 361,
    "start_time": "2023-05-01T16:09:50.482Z"
   },
   {
    "duration": 30064,
    "start_time": "2023-05-01T16:10:46.991Z"
   },
   {
    "duration": 5,
    "start_time": "2023-05-01T16:11:17.057Z"
   },
   {
    "duration": 35,
    "start_time": "2023-05-01T16:11:17.063Z"
   },
   {
    "duration": 29,
    "start_time": "2023-05-01T16:11:17.101Z"
   },
   {
    "duration": 19,
    "start_time": "2023-05-01T16:11:17.132Z"
   },
   {
    "duration": 1724,
    "start_time": "2023-05-01T16:11:17.153Z"
   },
   {
    "duration": 1665,
    "start_time": "2023-05-01T16:12:24.196Z"
   },
   {
    "duration": 125,
    "start_time": "2023-05-01T16:12:25.863Z"
   },
   {
    "duration": 87,
    "start_time": "2023-05-01T16:12:59.376Z"
   },
   {
    "duration": 30,
    "start_time": "2023-05-01T16:17:01.342Z"
   },
   {
    "duration": 18,
    "start_time": "2023-05-01T16:18:15.197Z"
   },
   {
    "duration": 26,
    "start_time": "2023-05-01T16:31:08.643Z"
   },
   {
    "duration": 15,
    "start_time": "2023-05-01T16:32:07.071Z"
   },
   {
    "duration": 5,
    "start_time": "2023-05-01T16:34:43.803Z"
   },
   {
    "duration": 183,
    "start_time": "2023-05-01T16:35:43.604Z"
   },
   {
    "duration": 176,
    "start_time": "2023-05-01T16:35:49.053Z"
   },
   {
    "duration": 167,
    "start_time": "2023-05-01T16:36:09.387Z"
   },
   {
    "duration": 174,
    "start_time": "2023-05-01T16:39:47.967Z"
   },
   {
    "duration": 161,
    "start_time": "2023-05-01T16:40:21.040Z"
   },
   {
    "duration": 3,
    "start_time": "2023-05-01T16:41:21.500Z"
   },
   {
    "duration": 66,
    "start_time": "2023-05-01T16:42:06.803Z"
   },
   {
    "duration": 214,
    "start_time": "2023-05-01T16:43:07.990Z"
   },
   {
    "duration": 630,
    "start_time": "2023-05-01T16:43:17.025Z"
   },
   {
    "duration": 218,
    "start_time": "2023-05-01T16:43:51.338Z"
   },
   {
    "duration": 6,
    "start_time": "2023-05-01T16:45:40.701Z"
   },
   {
    "duration": 7,
    "start_time": "2023-05-01T16:46:16.815Z"
   },
   {
    "duration": 8,
    "start_time": "2023-05-01T16:46:30.501Z"
   },
   {
    "duration": 171,
    "start_time": "2023-05-01T16:47:28.235Z"
   },
   {
    "duration": 24,
    "start_time": "2023-05-01T16:48:49.114Z"
   },
   {
    "duration": 17,
    "start_time": "2023-05-01T16:48:58.511Z"
   },
   {
    "duration": 164,
    "start_time": "2023-05-01T16:49:04.387Z"
   },
   {
    "duration": 170,
    "start_time": "2023-05-01T16:49:17.686Z"
   },
   {
    "duration": 167,
    "start_time": "2023-05-01T16:49:32.012Z"
   },
   {
    "duration": 21,
    "start_time": "2023-05-01T16:51:08.719Z"
   },
   {
    "duration": 21,
    "start_time": "2023-05-01T16:52:48.893Z"
   },
   {
    "duration": 156,
    "start_time": "2023-05-01T16:52:58.112Z"
   },
   {
    "duration": 221,
    "start_time": "2023-05-01T16:53:06.890Z"
   },
   {
    "duration": 228,
    "start_time": "2023-05-01T16:53:20.645Z"
   },
   {
    "duration": 9,
    "start_time": "2023-05-01T16:59:31.019Z"
   },
   {
    "duration": 167,
    "start_time": "2023-05-01T17:01:57.361Z"
   },
   {
    "duration": 222,
    "start_time": "2023-05-01T17:02:10.890Z"
   },
   {
    "duration": 242,
    "start_time": "2023-05-01T17:02:21.725Z"
   },
   {
    "duration": 16,
    "start_time": "2023-05-01T17:06:29.130Z"
   },
   {
    "duration": 5,
    "start_time": "2023-05-01T17:07:06.068Z"
   },
   {
    "duration": 25,
    "start_time": "2023-05-01T17:07:11.577Z"
   },
   {
    "duration": 5,
    "start_time": "2023-05-01T17:07:34.665Z"
   },
   {
    "duration": 168,
    "start_time": "2023-05-01T17:07:42.574Z"
   },
   {
    "duration": 23,
    "start_time": "2023-05-01T17:10:06.587Z"
   },
   {
    "duration": 163,
    "start_time": "2023-05-01T17:15:15.575Z"
   },
   {
    "duration": 159,
    "start_time": "2023-05-01T17:15:18.689Z"
   },
   {
    "duration": 220,
    "start_time": "2023-05-01T17:16:15.559Z"
   },
   {
    "duration": 209,
    "start_time": "2023-05-01T17:16:45.215Z"
   },
   {
    "duration": 4,
    "start_time": "2023-05-01T17:16:52.639Z"
   },
   {
    "duration": 210,
    "start_time": "2023-05-01T17:16:52.926Z"
   },
   {
    "duration": 232,
    "start_time": "2023-05-01T17:17:11.495Z"
   },
   {
    "duration": 9,
    "start_time": "2023-05-01T17:17:13.095Z"
   },
   {
    "duration": 40,
    "start_time": "2023-05-01T17:19:35.014Z"
   },
   {
    "duration": 52,
    "start_time": "2023-05-01T17:20:29.716Z"
   },
   {
    "duration": 473,
    "start_time": "2023-05-01T17:20:35.789Z"
   },
   {
    "duration": 490,
    "start_time": "2023-05-01T17:20:43.253Z"
   },
   {
    "duration": 670,
    "start_time": "2023-05-01T17:20:47.781Z"
   },
   {
    "duration": 636,
    "start_time": "2023-05-01T17:20:59.218Z"
   },
   {
    "duration": 757,
    "start_time": "2023-05-01T17:21:51.703Z"
   },
   {
    "duration": 747,
    "start_time": "2023-05-01T17:22:11.440Z"
   },
   {
    "duration": 758,
    "start_time": "2023-05-01T17:22:19.640Z"
   },
   {
    "duration": 847,
    "start_time": "2023-05-01T17:22:54.349Z"
   },
   {
    "duration": 775,
    "start_time": "2023-05-01T17:23:03.268Z"
   },
   {
    "duration": 789,
    "start_time": "2023-05-01T17:23:09.482Z"
   },
   {
    "duration": 532,
    "start_time": "2023-05-01T17:23:53.904Z"
   },
   {
    "duration": 531,
    "start_time": "2023-05-01T17:23:59.813Z"
   },
   {
    "duration": 276,
    "start_time": "2023-05-01T17:24:07.603Z"
   },
   {
    "duration": 563,
    "start_time": "2023-05-01T17:24:12.375Z"
   },
   {
    "duration": 209,
    "start_time": "2023-05-01T17:24:46.559Z"
   },
   {
    "duration": 90,
    "start_time": "2023-05-01T17:27:06.409Z"
   },
   {
    "duration": 580,
    "start_time": "2023-05-01T17:28:22.770Z"
   },
   {
    "duration": 679,
    "start_time": "2023-05-01T17:28:39.910Z"
   },
   {
    "duration": 623,
    "start_time": "2023-05-01T17:28:49.766Z"
   },
   {
    "duration": 688,
    "start_time": "2023-05-01T17:28:53.982Z"
   },
   {
    "duration": 694,
    "start_time": "2023-05-01T17:29:37.213Z"
   },
   {
    "duration": 671,
    "start_time": "2023-05-01T17:29:42.699Z"
   },
   {
    "duration": 689,
    "start_time": "2023-05-01T17:29:51.082Z"
   },
   {
    "duration": 711,
    "start_time": "2023-05-01T17:30:41.282Z"
   },
   {
    "duration": 4030,
    "start_time": "2023-05-02T09:19:52.541Z"
   },
   {
    "duration": 17339,
    "start_time": "2023-05-02T09:19:56.574Z"
   },
   {
    "duration": 2607,
    "start_time": "2023-05-02T09:20:13.915Z"
   },
   {
    "duration": 101,
    "start_time": "2023-05-02T09:20:16.525Z"
   },
   {
    "duration": 47,
    "start_time": "2023-05-02T09:20:16.628Z"
   },
   {
    "duration": 184,
    "start_time": "2023-05-02T09:20:16.677Z"
   },
   {
    "duration": 19,
    "start_time": "2023-05-02T09:20:16.864Z"
   },
   {
    "duration": 30,
    "start_time": "2023-05-02T09:20:16.885Z"
   },
   {
    "duration": 27,
    "start_time": "2023-05-02T09:20:16.917Z"
   },
   {
    "duration": 17,
    "start_time": "2023-05-02T09:20:16.947Z"
   },
   {
    "duration": 31,
    "start_time": "2023-05-02T09:20:16.966Z"
   },
   {
    "duration": 10,
    "start_time": "2023-05-02T09:20:16.999Z"
   },
   {
    "duration": 41154,
    "start_time": "2023-05-02T09:20:17.012Z"
   },
   {
    "duration": 16,
    "start_time": "2023-05-02T09:20:58.168Z"
   },
   {
    "duration": 10,
    "start_time": "2023-05-02T09:20:58.186Z"
   },
   {
    "duration": 14,
    "start_time": "2023-05-02T09:20:58.198Z"
   },
   {
    "duration": 7,
    "start_time": "2023-05-02T09:20:58.234Z"
   },
   {
    "duration": 144,
    "start_time": "2023-05-02T09:20:58.242Z"
   },
   {
    "duration": 4,
    "start_time": "2023-05-02T09:20:58.388Z"
   },
   {
    "duration": 14,
    "start_time": "2023-05-02T09:20:58.394Z"
   },
   {
    "duration": 6,
    "start_time": "2023-05-02T09:20:58.410Z"
   },
   {
    "duration": 18,
    "start_time": "2023-05-02T09:20:58.417Z"
   },
   {
    "duration": 13,
    "start_time": "2023-05-02T09:20:58.437Z"
   },
   {
    "duration": 15,
    "start_time": "2023-05-02T09:20:58.451Z"
   },
   {
    "duration": 5,
    "start_time": "2023-05-02T09:20:58.467Z"
   },
   {
    "duration": 10,
    "start_time": "2023-05-02T09:20:58.474Z"
   },
   {
    "duration": 21,
    "start_time": "2023-05-02T09:20:58.486Z"
   },
   {
    "duration": 37,
    "start_time": "2023-05-02T09:20:58.534Z"
   },
   {
    "duration": 3,
    "start_time": "2023-05-02T09:20:58.573Z"
   },
   {
    "duration": 10760,
    "start_time": "2023-05-02T09:20:58.577Z"
   },
   {
    "duration": 4,
    "start_time": "2023-05-02T09:21:09.339Z"
   },
   {
    "duration": 53,
    "start_time": "2023-05-02T09:21:09.345Z"
   },
   {
    "duration": 14,
    "start_time": "2023-05-02T09:21:09.400Z"
   },
   {
    "duration": 348,
    "start_time": "2023-05-02T09:21:09.416Z"
   },
   {
    "duration": 68,
    "start_time": "2023-05-02T09:21:09.766Z"
   },
   {
    "duration": 104,
    "start_time": "2023-05-02T09:21:09.837Z"
   },
   {
    "duration": 33972,
    "start_time": "2023-05-02T09:21:09.943Z"
   },
   {
    "duration": 36052,
    "start_time": "2023-05-02T09:21:43.933Z"
   },
   {
    "duration": 4,
    "start_time": "2023-05-02T09:22:19.988Z"
   },
   {
    "duration": 55,
    "start_time": "2023-05-02T09:22:19.993Z"
   },
   {
    "duration": 37,
    "start_time": "2023-05-02T09:22:20.050Z"
   },
   {
    "duration": 35,
    "start_time": "2023-05-02T09:22:20.090Z"
   },
   {
    "duration": 1482,
    "start_time": "2023-05-02T09:22:20.127Z"
   },
   {
    "duration": 1297,
    "start_time": "2023-05-02T09:22:21.611Z"
   },
   {
    "duration": 11,
    "start_time": "2023-05-02T09:22:22.910Z"
   },
   {
    "duration": 13,
    "start_time": "2023-05-02T09:22:22.923Z"
   },
   {
    "duration": 41,
    "start_time": "2023-05-02T09:22:22.938Z"
   },
   {
    "duration": 4,
    "start_time": "2023-05-02T09:22:22.981Z"
   },
   {
    "duration": 49,
    "start_time": "2023-05-02T09:22:22.987Z"
   },
   {
    "duration": 10621,
    "start_time": "2023-05-02T09:22:23.038Z"
   },
   {
    "duration": 4,
    "start_time": "2023-05-02T09:22:33.661Z"
   },
   {
    "duration": 291,
    "start_time": "2023-05-02T09:22:33.667Z"
   },
   {
    "duration": 75,
    "start_time": "2023-05-02T09:22:33.960Z"
   },
   {
    "duration": 29273,
    "start_time": "2023-05-02T09:22:34.042Z"
   },
   {
    "duration": 4,
    "start_time": "2023-05-02T09:23:03.317Z"
   },
   {
    "duration": 40,
    "start_time": "2023-05-02T09:23:03.323Z"
   },
   {
    "duration": 24,
    "start_time": "2023-05-02T09:23:03.365Z"
   },
   {
    "duration": 19,
    "start_time": "2023-05-02T09:23:03.391Z"
   },
   {
    "duration": 1655,
    "start_time": "2023-05-02T09:23:03.412Z"
   },
   {
    "duration": 99,
    "start_time": "2023-05-02T09:23:05.070Z"
   },
   {
    "duration": 78,
    "start_time": "2023-05-02T09:23:05.171Z"
   },
   {
    "duration": 227,
    "start_time": "2023-05-02T09:23:05.252Z"
   },
   {
    "duration": 862,
    "start_time": "2023-05-02T09:23:05.482Z"
   },
   {
    "duration": 0,
    "start_time": "2023-05-02T09:23:06.346Z"
   },
   {
    "duration": 7,
    "start_time": "2023-05-02T09:35:20.716Z"
   },
   {
    "duration": 32591,
    "start_time": "2023-05-02T09:45:06.332Z"
   },
   {
    "duration": 28,
    "start_time": "2023-05-02T09:49:05.113Z"
   },
   {
    "duration": 66,
    "start_time": "2023-05-02T09:50:46.817Z"
   },
   {
    "duration": 633,
    "start_time": "2023-05-02T09:50:47.951Z"
   },
   {
    "duration": 705,
    "start_time": "2023-05-02T09:50:52.952Z"
   },
   {
    "duration": 4,
    "start_time": "2023-05-02T09:51:32.556Z"
   },
   {
    "duration": 723,
    "start_time": "2023-05-02T09:51:37.253Z"
   },
   {
    "duration": 9,
    "start_time": "2023-05-02T09:51:50.261Z"
   },
   {
    "duration": 72,
    "start_time": "2023-05-02T09:53:48.157Z"
   },
   {
    "duration": 71,
    "start_time": "2023-05-02T09:54:03.242Z"
   },
   {
    "duration": 70,
    "start_time": "2023-05-02T09:54:25.618Z"
   },
   {
    "duration": 98,
    "start_time": "2023-05-02T10:00:52.703Z"
   },
   {
    "duration": 5,
    "start_time": "2023-05-02T10:03:33.829Z"
   },
   {
    "duration": 6,
    "start_time": "2023-05-02T10:03:57.702Z"
   },
   {
    "duration": 10,
    "start_time": "2023-05-02T10:04:16.727Z"
   },
   {
    "duration": 8,
    "start_time": "2023-05-02T10:05:05.203Z"
   },
   {
    "duration": 35,
    "start_time": "2023-05-02T10:05:17.109Z"
   },
   {
    "duration": 6,
    "start_time": "2023-05-02T10:05:29.313Z"
   },
   {
    "duration": 17,
    "start_time": "2023-05-02T10:05:44.370Z"
   },
   {
    "duration": 6,
    "start_time": "2023-05-02T10:05:46.747Z"
   },
   {
    "duration": 688,
    "start_time": "2023-05-02T10:10:03.798Z"
   },
   {
    "duration": 6,
    "start_time": "2023-05-02T10:10:08.904Z"
   },
   {
    "duration": 6,
    "start_time": "2023-05-02T10:12:44.922Z"
   },
   {
    "duration": 681,
    "start_time": "2023-05-02T10:12:57.145Z"
   },
   {
    "duration": 6,
    "start_time": "2023-05-02T10:13:16.754Z"
   },
   {
    "duration": 902,
    "start_time": "2023-05-02T10:15:36.006Z"
   },
   {
    "duration": 810,
    "start_time": "2023-05-02T10:15:46.098Z"
   },
   {
    "duration": 780,
    "start_time": "2023-05-02T10:16:10.410Z"
   },
   {
    "duration": 769,
    "start_time": "2023-05-02T10:16:15.310Z"
   },
   {
    "duration": 72,
    "start_time": "2023-05-02T10:17:21.849Z"
   },
   {
    "duration": 13,
    "start_time": "2023-05-02T10:18:13.262Z"
   },
   {
    "duration": 13,
    "start_time": "2023-05-02T10:18:21.600Z"
   },
   {
    "duration": 10,
    "start_time": "2023-05-02T10:19:18.334Z"
   },
   {
    "duration": 4,
    "start_time": "2023-05-02T10:19:22.664Z"
   },
   {
    "duration": 842,
    "start_time": "2023-05-02T10:19:45.125Z"
   },
   {
    "duration": 832,
    "start_time": "2023-05-02T10:19:52.024Z"
   },
   {
    "duration": 894,
    "start_time": "2023-05-02T10:20:19.965Z"
   },
   {
    "duration": 6083,
    "start_time": "2023-05-02T11:02:57.968Z"
   },
   {
    "duration": 30087,
    "start_time": "2023-05-02T11:03:04.053Z"
   },
   {
    "duration": 5291,
    "start_time": "2023-05-02T11:03:34.142Z"
   },
   {
    "duration": 220,
    "start_time": "2023-05-02T11:03:39.436Z"
   },
   {
    "duration": 319,
    "start_time": "2023-05-02T11:03:39.658Z"
   },
   {
    "duration": 334,
    "start_time": "2023-05-02T11:03:39.979Z"
   },
   {
    "duration": 94,
    "start_time": "2023-05-02T11:03:40.319Z"
   },
   {
    "duration": 29,
    "start_time": "2023-05-02T11:03:40.415Z"
   },
   {
    "duration": 84,
    "start_time": "2023-05-02T11:03:40.446Z"
   },
   {
    "duration": 5,
    "start_time": "2023-05-02T11:03:40.535Z"
   },
   {
    "duration": 68,
    "start_time": "2023-05-02T11:03:40.544Z"
   },
   {
    "duration": 21,
    "start_time": "2023-05-02T11:03:40.614Z"
   },
   {
    "duration": 67701,
    "start_time": "2023-05-02T11:03:40.639Z"
   },
   {
    "duration": 81,
    "start_time": "2023-05-02T11:04:48.342Z"
   },
   {
    "duration": 13,
    "start_time": "2023-05-02T11:04:48.424Z"
   },
   {
    "duration": 85,
    "start_time": "2023-05-02T11:04:48.439Z"
   },
   {
    "duration": 27,
    "start_time": "2023-05-02T11:04:48.526Z"
   },
   {
    "duration": 361,
    "start_time": "2023-05-02T11:04:48.555Z"
   },
   {
    "duration": 7,
    "start_time": "2023-05-02T11:04:48.918Z"
   },
   {
    "duration": 21,
    "start_time": "2023-05-02T11:04:48.927Z"
   },
   {
    "duration": 79,
    "start_time": "2023-05-02T11:04:48.951Z"
   },
   {
    "duration": 15,
    "start_time": "2023-05-02T11:04:49.032Z"
   },
   {
    "duration": 8,
    "start_time": "2023-05-02T11:04:49.051Z"
   },
   {
    "duration": 27,
    "start_time": "2023-05-02T11:04:49.116Z"
   },
   {
    "duration": 111,
    "start_time": "2023-05-02T11:04:49.145Z"
   },
   {
    "duration": 10180,
    "start_time": "2023-05-02T11:04:49.258Z"
   },
   {
    "duration": 5,
    "start_time": "2023-05-02T11:04:59.440Z"
   },
   {
    "duration": 162,
    "start_time": "2023-05-02T11:04:59.450Z"
   },
   {
    "duration": 23,
    "start_time": "2023-05-02T11:04:59.614Z"
   },
   {
    "duration": 515,
    "start_time": "2023-05-02T11:04:59.639Z"
   },
   {
    "duration": 78,
    "start_time": "2023-05-02T11:05:00.156Z"
   },
   {
    "duration": 79400,
    "start_time": "2023-05-02T11:05:00.313Z"
   },
   {
    "duration": 94004,
    "start_time": "2023-05-02T11:06:19.715Z"
   },
   {
    "duration": 87,
    "start_time": "2023-05-02T11:07:53.726Z"
   },
   {
    "duration": 107,
    "start_time": "2023-05-02T11:07:53.820Z"
   },
   {
    "duration": 189,
    "start_time": "2023-05-02T11:07:53.929Z"
   },
   {
    "duration": 94,
    "start_time": "2023-05-02T11:07:54.123Z"
   },
   {
    "duration": 7515,
    "start_time": "2023-05-02T11:07:54.222Z"
   },
   {
    "duration": 7506,
    "start_time": "2023-05-02T11:08:01.811Z"
   },
   {
    "duration": 96,
    "start_time": "2023-05-02T11:08:09.319Z"
   },
   {
    "duration": 14,
    "start_time": "2023-05-02T11:08:09.419Z"
   },
   {
    "duration": 282,
    "start_time": "2023-05-02T11:08:09.439Z"
   },
   {
    "duration": 8,
    "start_time": "2023-05-02T11:08:09.727Z"
   },
   {
    "duration": 116,
    "start_time": "2023-05-02T11:08:09.815Z"
   },
   {
    "duration": 16512,
    "start_time": "2023-05-02T11:08:10.011Z"
   },
   {
    "duration": 3,
    "start_time": "2023-05-02T11:08:26.525Z"
   },
   {
    "duration": 1196,
    "start_time": "2023-05-02T11:08:26.530Z"
   },
   {
    "duration": 199,
    "start_time": "2023-05-02T11:08:27.728Z"
   },
   {
    "duration": 34411,
    "start_time": "2023-05-02T11:08:28.015Z"
   },
   {
    "duration": 3,
    "start_time": "2023-05-02T11:09:02.428Z"
   },
   {
    "duration": 58,
    "start_time": "2023-05-02T11:09:02.432Z"
   },
   {
    "duration": 36,
    "start_time": "2023-05-02T11:09:02.492Z"
   },
   {
    "duration": 13,
    "start_time": "2023-05-02T11:09:02.530Z"
   },
   {
    "duration": 1705,
    "start_time": "2023-05-02T11:09:02.545Z"
   },
   {
    "duration": 91,
    "start_time": "2023-05-02T11:09:04.251Z"
   },
   {
    "duration": 4,
    "start_time": "2023-05-02T11:09:04.343Z"
   },
   {
    "duration": 221,
    "start_time": "2023-05-02T11:09:04.349Z"
   },
   {
    "duration": 1150,
    "start_time": "2023-05-02T11:09:04.573Z"
   },
   {
    "duration": 65,
    "start_time": "2023-05-02T11:09:05.725Z"
   },
   {
    "duration": 31,
    "start_time": "2023-05-02T11:09:05.792Z"
   },
   {
    "duration": 130,
    "start_time": "2023-05-02T18:13:00.360Z"
   },
   {
    "duration": 81,
    "start_time": "2023-05-02T18:13:03.033Z"
   },
   {
    "duration": 212,
    "start_time": "2023-05-02T18:15:45.471Z"
   },
   {
    "duration": 329,
    "start_time": "2023-05-02T18:17:15.415Z"
   },
   {
    "duration": 42,
    "start_time": "2023-05-02T19:34:50.868Z"
   },
   {
    "duration": 3,
    "start_time": "2023-05-03T09:31:48.019Z"
   },
   {
    "duration": 2,
    "start_time": "2023-05-03T09:31:49.389Z"
   },
   {
    "duration": 2,
    "start_time": "2023-05-03T09:31:50.417Z"
   },
   {
    "duration": 2,
    "start_time": "2023-05-03T09:32:43.386Z"
   },
   {
    "duration": 82,
    "start_time": "2023-05-03T09:34:28.389Z"
   },
   {
    "duration": 45,
    "start_time": "2023-05-03T09:35:08.329Z"
   },
   {
    "duration": 3,
    "start_time": "2023-05-03T09:35:19.445Z"
   },
   {
    "duration": 2,
    "start_time": "2023-05-03T09:35:19.801Z"
   },
   {
    "duration": 2,
    "start_time": "2023-05-03T09:35:22.818Z"
   },
   {
    "duration": 2,
    "start_time": "2023-05-03T09:35:24.841Z"
   },
   {
    "duration": 3,
    "start_time": "2023-05-03T09:44:28.354Z"
   },
   {
    "duration": 10,
    "start_time": "2023-05-03T09:44:33.998Z"
   },
   {
    "duration": 5,
    "start_time": "2023-05-03T09:44:43.698Z"
   },
   {
    "duration": 112,
    "start_time": "2023-05-03T09:47:38.488Z"
   },
   {
    "duration": 7,
    "start_time": "2023-05-03T09:47:42.354Z"
   },
   {
    "duration": 74,
    "start_time": "2023-05-03T09:47:53.433Z"
   },
   {
    "duration": 9,
    "start_time": "2023-05-03T09:47:59.689Z"
   },
   {
    "duration": 2802,
    "start_time": "2023-05-03T09:48:09.623Z"
   },
   {
    "duration": 13352,
    "start_time": "2023-05-03T09:48:12.427Z"
   },
   {
    "duration": 2210,
    "start_time": "2023-05-03T09:48:25.781Z"
   },
   {
    "duration": 5,
    "start_time": "2023-05-03T09:48:27.993Z"
   },
   {
    "duration": 13,
    "start_time": "2023-05-03T09:48:28.000Z"
   },
   {
    "duration": 179,
    "start_time": "2023-05-03T09:48:28.015Z"
   },
   {
    "duration": 14,
    "start_time": "2023-05-03T09:48:28.196Z"
   },
   {
    "duration": 15,
    "start_time": "2023-05-03T09:48:28.211Z"
   },
   {
    "duration": 12,
    "start_time": "2023-05-03T09:48:28.228Z"
   },
   {
    "duration": 5,
    "start_time": "2023-05-03T09:48:28.242Z"
   },
   {
    "duration": 14,
    "start_time": "2023-05-03T09:48:28.248Z"
   },
   {
    "duration": 5,
    "start_time": "2023-05-03T09:48:28.264Z"
   },
   {
    "duration": 30479,
    "start_time": "2023-05-03T09:48:28.270Z"
   },
   {
    "duration": 13,
    "start_time": "2023-05-03T09:48:58.752Z"
   },
   {
    "duration": 9,
    "start_time": "2023-05-03T09:48:58.767Z"
   },
   {
    "duration": 10,
    "start_time": "2023-05-03T09:48:58.778Z"
   },
   {
    "duration": 11,
    "start_time": "2023-05-03T09:48:58.790Z"
   },
   {
    "duration": 137,
    "start_time": "2023-05-03T09:48:58.803Z"
   },
   {
    "duration": 10,
    "start_time": "2023-05-03T09:48:58.942Z"
   },
   {
    "duration": 13,
    "start_time": "2023-05-03T09:48:58.953Z"
   },
   {
    "duration": 9,
    "start_time": "2023-05-03T09:48:58.968Z"
   },
   {
    "duration": 4,
    "start_time": "2023-05-03T09:48:58.978Z"
   },
   {
    "duration": 7,
    "start_time": "2023-05-03T09:48:58.984Z"
   },
   {
    "duration": 18,
    "start_time": "2023-05-03T09:48:58.992Z"
   },
   {
    "duration": 55,
    "start_time": "2023-05-03T09:48:59.012Z"
   },
   {
    "duration": 2,
    "start_time": "2023-05-03T09:48:59.069Z"
   },
   {
    "duration": 59,
    "start_time": "2023-05-03T09:48:59.073Z"
   },
   {
    "duration": 0,
    "start_time": "2023-05-03T09:48:59.134Z"
   },
   {
    "duration": 148,
    "start_time": "2023-05-03T09:49:33.811Z"
   },
   {
    "duration": 16,
    "start_time": "2023-05-03T09:49:40.722Z"
   },
   {
    "duration": 16,
    "start_time": "2023-05-03T09:50:21.796Z"
   },
   {
    "duration": 16,
    "start_time": "2023-05-03T09:51:31.195Z"
   },
   {
    "duration": 15,
    "start_time": "2023-05-03T09:52:16.715Z"
   },
   {
    "duration": 14,
    "start_time": "2023-05-03T09:52:27.435Z"
   },
   {
    "duration": 49,
    "start_time": "2023-05-03T09:52:54.901Z"
   },
   {
    "duration": 0,
    "start_time": "2023-05-03T09:54:24.563Z"
   },
   {
    "duration": 0,
    "start_time": "2023-05-03T10:01:51.391Z"
   },
   {
    "duration": 109552,
    "start_time": "2023-05-03T10:02:19.107Z"
   },
   {
    "duration": 109556,
    "start_time": "2023-05-03T10:04:51.099Z"
   },
   {
    "duration": 109553,
    "start_time": "2023-05-03T10:07:01.403Z"
   },
   {
    "duration": 30980,
    "start_time": "2023-05-03T10:20:09.946Z"
   },
   {
    "duration": 109497,
    "start_time": "2023-05-03T10:20:44.452Z"
   },
   {
    "duration": 15,
    "start_time": "2023-05-03T10:23:32.795Z"
   },
   {
    "duration": 4,
    "start_time": "2023-05-03T10:24:58.038Z"
   },
   {
    "duration": 5320,
    "start_time": "2023-05-03T10:25:20.843Z"
   },
   {
    "duration": 10,
    "start_time": "2023-05-03T10:25:28.990Z"
   },
   {
    "duration": 5162,
    "start_time": "2023-05-03T10:25:48.306Z"
   },
   {
    "duration": 9,
    "start_time": "2023-05-03T10:25:58.189Z"
   },
   {
    "duration": 5373,
    "start_time": "2023-05-03T10:26:13.781Z"
   },
   {
    "duration": 9,
    "start_time": "2023-05-03T10:26:28.088Z"
   },
   {
    "duration": 187404,
    "start_time": "2023-05-03T10:26:58.346Z"
   },
   {
    "duration": 100,
    "start_time": "2023-05-03T10:30:05.751Z"
   },
   {
    "duration": 11,
    "start_time": "2023-05-03T10:30:41.787Z"
   },
   {
    "duration": 12,
    "start_time": "2023-05-03T10:30:52.451Z"
   },
   {
    "duration": 12,
    "start_time": "2023-05-03T10:30:55.195Z"
   },
   {
    "duration": 5,
    "start_time": "2023-05-03T10:31:05.923Z"
   },
   {
    "duration": 9,
    "start_time": "2023-05-03T10:31:15.187Z"
   },
   {
    "duration": 3,
    "start_time": "2023-05-03T10:32:51.099Z"
   },
   {
    "duration": 101,
    "start_time": "2023-05-03T10:32:58.251Z"
   },
   {
    "duration": 444758,
    "start_time": "2023-05-03T10:33:11.835Z"
   },
   {
    "duration": 456228,
    "start_time": "2023-05-03T10:41:14.223Z"
   },
   {
    "duration": 10,
    "start_time": "2023-05-03T10:48:56.689Z"
   },
   {
    "duration": 324,
    "start_time": "2023-05-03T10:56:38.555Z"
   },
   {
    "duration": 10,
    "start_time": "2023-05-03T10:56:42.690Z"
   },
   {
    "duration": 134,
    "start_time": "2023-05-03T10:57:10.155Z"
   },
   {
    "duration": 5,
    "start_time": "2023-05-03T10:59:36.324Z"
   },
   {
    "duration": 12,
    "start_time": "2023-05-03T11:00:12.918Z"
   },
   {
    "duration": 13,
    "start_time": "2023-05-03T11:00:47.259Z"
   },
   {
    "duration": 4,
    "start_time": "2023-05-03T11:00:53.319Z"
   },
   {
    "duration": 13,
    "start_time": "2023-05-03T11:01:10.834Z"
   },
   {
    "duration": 13,
    "start_time": "2023-05-03T11:01:35.809Z"
   },
   {
    "duration": 5,
    "start_time": "2023-05-03T11:01:39.739Z"
   },
   {
    "duration": 8,
    "start_time": "2023-05-03T11:02:04.584Z"
   },
   {
    "duration": 13,
    "start_time": "2023-05-03T11:02:06.876Z"
   },
   {
    "duration": 13,
    "start_time": "2023-05-03T11:02:23.005Z"
   },
   {
    "duration": 6,
    "start_time": "2023-05-03T11:02:28.731Z"
   },
   {
    "duration": 4,
    "start_time": "2023-05-03T11:02:40.182Z"
   },
   {
    "duration": 1934,
    "start_time": "2023-05-03T11:02:42.227Z"
   },
   {
    "duration": 1631,
    "start_time": "2023-05-03T11:02:52.035Z"
   },
   {
    "duration": 4,
    "start_time": "2023-05-03T11:03:07.908Z"
   },
   {
    "duration": 9,
    "start_time": "2023-05-03T11:05:12.992Z"
   },
   {
    "duration": 4,
    "start_time": "2023-05-03T11:05:14.437Z"
   },
   {
    "duration": 145,
    "start_time": "2023-05-03T11:06:01.443Z"
   },
   {
    "duration": 512,
    "start_time": "2023-05-03T13:43:24.130Z"
   },
   {
    "duration": 1641,
    "start_time": "2023-05-03T13:43:41.501Z"
   },
   {
    "duration": 3191,
    "start_time": "2023-05-03T13:43:47.256Z"
   },
   {
    "duration": 13772,
    "start_time": "2023-05-03T13:43:50.449Z"
   },
   {
    "duration": 609,
    "start_time": "2023-05-03T13:44:41.240Z"
   },
   {
    "duration": 4,
    "start_time": "2023-05-03T13:44:46.186Z"
   },
   {
    "duration": 94,
    "start_time": "2023-05-03T13:44:48.883Z"
   },
   {
    "duration": 164,
    "start_time": "2023-05-03T13:44:52.106Z"
   },
   {
    "duration": 15,
    "start_time": "2023-05-03T13:44:52.299Z"
   },
   {
    "duration": 18,
    "start_time": "2023-05-03T13:44:52.463Z"
   },
   {
    "duration": 13,
    "start_time": "2023-05-03T13:44:52.835Z"
   },
   {
    "duration": 4,
    "start_time": "2023-05-03T13:44:53.000Z"
   },
   {
    "duration": 13,
    "start_time": "2023-05-03T13:44:53.467Z"
   },
   {
    "duration": 4,
    "start_time": "2023-05-03T13:44:53.778Z"
   },
   {
    "duration": 32956,
    "start_time": "2023-05-03T13:44:54.241Z"
   },
   {
    "duration": 14,
    "start_time": "2023-05-03T13:45:27.199Z"
   },
   {
    "duration": 20,
    "start_time": "2023-05-03T13:45:27.215Z"
   },
   {
    "duration": 14,
    "start_time": "2023-05-03T13:45:27.237Z"
   },
   {
    "duration": 9,
    "start_time": "2023-05-03T13:45:27.252Z"
   },
   {
    "duration": 133,
    "start_time": "2023-05-03T13:45:27.264Z"
   },
   {
    "duration": 5,
    "start_time": "2023-05-03T13:45:27.399Z"
   },
   {
    "duration": 21,
    "start_time": "2023-05-03T13:45:27.406Z"
   },
   {
    "duration": 26,
    "start_time": "2023-05-03T13:45:27.428Z"
   },
   {
    "duration": 4,
    "start_time": "2023-05-03T13:45:45.267Z"
   },
   {
    "duration": 4,
    "start_time": "2023-05-03T13:45:45.916Z"
   },
   {
    "duration": 17,
    "start_time": "2023-05-03T13:45:47.656Z"
   },
   {
    "duration": 158,
    "start_time": "2023-05-03T13:49:16.999Z"
   },
   {
    "duration": 328,
    "start_time": "2023-05-03T13:49:50.412Z"
   },
   {
    "duration": 26,
    "start_time": "2023-05-03T13:50:51.806Z"
   },
   {
    "duration": 7006,
    "start_time": "2023-05-03T13:55:44.826Z"
   },
   {
    "duration": 96,
    "start_time": "2023-05-03T13:56:00.930Z"
   },
   {
    "duration": 18,
    "start_time": "2023-05-03T13:56:43.278Z"
   },
   {
    "duration": 4,
    "start_time": "2023-05-03T13:56:46.185Z"
   },
   {
    "duration": 3,
    "start_time": "2023-05-03T14:03:08.304Z"
   },
   {
    "duration": 3,
    "start_time": "2023-05-03T14:03:14.504Z"
   },
   {
    "duration": 47,
    "start_time": "2023-05-05T04:53:47.172Z"
   },
   {
    "duration": 6,
    "start_time": "2023-05-05T04:55:11.607Z"
   },
   {
    "duration": 3,
    "start_time": "2023-05-05T04:57:58.770Z"
   },
   {
    "duration": 3,
    "start_time": "2023-05-05T04:58:00.615Z"
   },
   {
    "duration": 2,
    "start_time": "2023-05-05T04:58:03.016Z"
   },
   {
    "duration": 2,
    "start_time": "2023-05-05T04:58:07.157Z"
   },
   {
    "duration": 2898,
    "start_time": "2023-05-05T05:00:33.598Z"
   },
   {
    "duration": 13887,
    "start_time": "2023-05-05T05:00:36.499Z"
   },
   {
    "duration": 2196,
    "start_time": "2023-05-05T05:00:50.388Z"
   },
   {
    "duration": 101,
    "start_time": "2023-05-05T05:00:52.587Z"
   },
   {
    "duration": 62,
    "start_time": "2023-05-05T05:00:52.690Z"
   },
   {
    "duration": 7003,
    "start_time": "2023-05-05T05:00:52.754Z"
   },
   {
    "duration": 161,
    "start_time": "2023-05-05T05:00:59.760Z"
   },
   {
    "duration": 15,
    "start_time": "2023-05-05T05:00:59.923Z"
   },
   {
    "duration": 30,
    "start_time": "2023-05-05T05:00:59.940Z"
   },
   {
    "duration": 20,
    "start_time": "2023-05-05T05:00:59.973Z"
   },
   {
    "duration": 22,
    "start_time": "2023-05-05T05:00:59.994Z"
   },
   {
    "duration": 38,
    "start_time": "2023-05-05T05:01:00.018Z"
   },
   {
    "duration": 53,
    "start_time": "2023-05-05T05:01:00.058Z"
   },
   {
    "duration": 34770,
    "start_time": "2023-05-05T05:01:00.113Z"
   },
   {
    "duration": 18,
    "start_time": "2023-05-05T05:01:34.885Z"
   },
   {
    "duration": 72,
    "start_time": "2023-05-05T05:01:34.905Z"
   },
   {
    "duration": 62,
    "start_time": "2023-05-05T05:01:34.979Z"
   },
   {
    "duration": 79,
    "start_time": "2023-05-05T05:01:35.043Z"
   },
   {
    "duration": 169,
    "start_time": "2023-05-05T05:11:49.769Z"
   },
   {
    "duration": 6,
    "start_time": "2023-05-05T05:11:57.901Z"
   },
   {
    "duration": 5,
    "start_time": "2023-05-05T05:11:58.878Z"
   },
   {
    "duration": 13,
    "start_time": "2023-05-05T05:12:00.231Z"
   },
   {
    "duration": 27,
    "start_time": "2023-05-05T05:12:35.954Z"
   },
   {
    "duration": 154,
    "start_time": "2023-05-05T05:12:38.081Z"
   },
   {
    "duration": 13,
    "start_time": "2023-05-05T05:12:47.142Z"
   },
   {
    "duration": 15,
    "start_time": "2023-05-05T05:13:53.889Z"
   },
   {
    "duration": 407260,
    "start_time": "2023-05-05T05:13:57.646Z"
   },
   {
    "duration": 89,
    "start_time": "2023-05-05T05:20:44.908Z"
   },
   {
    "duration": 12,
    "start_time": "2023-05-05T05:21:37.040Z"
   },
   {
    "duration": 7,
    "start_time": "2023-05-05T05:21:44.301Z"
   },
   {
    "duration": 1106547,
    "start_time": "2023-05-05T05:22:15.136Z"
   },
   {
    "duration": 21,
    "start_time": "2023-05-05T05:40:41.685Z"
   },
   {
    "duration": 0,
    "start_time": "2023-05-05T05:40:41.708Z"
   },
   {
    "duration": 0,
    "start_time": "2023-05-05T05:40:41.709Z"
   },
   {
    "duration": 0,
    "start_time": "2023-05-05T05:40:41.711Z"
   },
   {
    "duration": 660509,
    "start_time": "2023-05-05T05:41:01.705Z"
   },
   {
    "duration": 10,
    "start_time": "2023-05-05T05:53:07.461Z"
   },
   {
    "duration": 856,
    "start_time": "2023-05-05T05:53:34.211Z"
   },
   {
    "duration": 672,
    "start_time": "2023-05-05T05:53:41.133Z"
   },
   {
    "duration": 525958,
    "start_time": "2023-05-05T05:54:09.748Z"
   },
   {
    "duration": 436,
    "start_time": "2023-05-05T06:02:55.784Z"
   },
   {
    "duration": 70,
    "start_time": "2023-05-05T06:02:56.222Z"
   },
   {
    "duration": 46,
    "start_time": "2023-05-06T08:23:59.350Z"
   },
   {
    "duration": 2972,
    "start_time": "2023-05-06T08:24:10.085Z"
   },
   {
    "duration": 15030,
    "start_time": "2023-05-06T08:24:13.060Z"
   },
   {
    "duration": 4819,
    "start_time": "2023-05-06T08:24:28.092Z"
   },
   {
    "duration": 97,
    "start_time": "2023-05-06T08:24:32.914Z"
   },
   {
    "duration": 21,
    "start_time": "2023-05-06T08:24:33.012Z"
   },
   {
    "duration": 6769,
    "start_time": "2023-05-06T08:24:33.035Z"
   },
   {
    "duration": 79,
    "start_time": "2023-05-06T08:24:39.806Z"
   },
   {
    "duration": 14,
    "start_time": "2023-05-06T08:24:39.887Z"
   },
   {
    "duration": 18,
    "start_time": "2023-05-06T08:24:39.902Z"
   },
   {
    "duration": 13,
    "start_time": "2023-05-06T08:24:39.922Z"
   },
   {
    "duration": 4,
    "start_time": "2023-05-06T08:24:39.937Z"
   },
   {
    "duration": 17,
    "start_time": "2023-05-06T08:24:39.943Z"
   },
   {
    "duration": 5,
    "start_time": "2023-05-06T08:24:39.986Z"
   },
   {
    "duration": 36066,
    "start_time": "2023-05-06T08:24:39.993Z"
   },
   {
    "duration": 14,
    "start_time": "2023-05-06T08:25:16.061Z"
   },
   {
    "duration": 10,
    "start_time": "2023-05-06T08:25:16.085Z"
   },
   {
    "duration": 11,
    "start_time": "2023-05-06T08:25:16.096Z"
   },
   {
    "duration": 7,
    "start_time": "2023-05-06T08:25:16.109Z"
   },
   {
    "duration": 140,
    "start_time": "2023-05-06T08:25:16.117Z"
   },
   {
    "duration": 5,
    "start_time": "2023-05-06T08:25:16.258Z"
   },
   {
    "duration": 6,
    "start_time": "2023-05-06T08:25:16.265Z"
   },
   {
    "duration": 22,
    "start_time": "2023-05-06T08:25:16.272Z"
   },
   {
    "duration": 5,
    "start_time": "2023-05-06T08:25:16.296Z"
   },
   {
    "duration": 29,
    "start_time": "2023-05-06T08:25:16.302Z"
   },
   {
    "duration": 10,
    "start_time": "2023-05-06T08:25:16.333Z"
   },
   {
    "duration": 4,
    "start_time": "2023-05-06T08:31:48.118Z"
   },
   {
    "duration": 76677,
    "start_time": "2023-05-06T08:36:31.820Z"
   },
   {
    "duration": 104,
    "start_time": "2023-05-06T08:37:48.586Z"
   },
   {
    "duration": 322,
    "start_time": "2023-05-06T08:39:16.978Z"
   },
   {
    "duration": 275,
    "start_time": "2023-05-06T08:40:11.636Z"
   },
   {
    "duration": 77,
    "start_time": "2023-05-06T08:40:26.110Z"
   },
   {
    "duration": 10,
    "start_time": "2023-05-06T08:40:33.669Z"
   },
   {
    "duration": 612484,
    "start_time": "2023-05-06T08:41:21.308Z"
   },
   {
    "duration": 10,
    "start_time": "2023-05-06T08:51:33.794Z"
   },
   {
    "duration": 975,
    "start_time": "2023-05-06T08:51:33.806Z"
   },
   {
    "duration": 881,
    "start_time": "2023-05-06T08:51:42.041Z"
   },
   {
    "duration": 661,
    "start_time": "2023-05-06T08:51:46.629Z"
   },
   {
    "duration": 82674,
    "start_time": "2023-05-06T08:52:36.027Z"
   },
   {
    "duration": 422,
    "start_time": "2023-05-06T08:53:58.792Z"
   },
   {
    "duration": 75,
    "start_time": "2023-05-06T08:53:59.215Z"
   },
   {
    "duration": 835162,
    "start_time": "2023-05-06T08:54:16.814Z"
   },
   {
    "duration": 1507,
    "start_time": "2023-05-06T09:08:11.978Z"
   },
   {
    "duration": 59,
    "start_time": "2023-05-06T09:08:13.487Z"
   },
   {
    "duration": 0,
    "start_time": "2023-05-06T09:08:13.547Z"
   },
   {
    "duration": 50,
    "start_time": "2023-05-06T10:16:20.325Z"
   },
   {
    "duration": 51,
    "start_time": "2023-05-06T10:16:50.364Z"
   },
   {
    "duration": 65,
    "start_time": "2023-05-06T10:16:58.757Z"
   },
   {
    "duration": 79,
    "start_time": "2023-05-06T10:17:20.215Z"
   },
   {
    "duration": 72172,
    "start_time": "2023-05-06T10:17:28.514Z"
   },
   {
    "duration": 107,
    "start_time": "2023-05-06T10:18:40.689Z"
   },
   {
    "duration": 0,
    "start_time": "2023-05-06T10:18:40.798Z"
   },
   {
    "duration": 0,
    "start_time": "2023-05-06T10:18:40.798Z"
   },
   {
    "duration": 48,
    "start_time": "2023-05-06T10:31:04.646Z"
   },
   {
    "duration": 58,
    "start_time": "2023-05-06T10:31:10.826Z"
   },
   {
    "duration": 60,
    "start_time": "2023-05-06T10:31:13.813Z"
   },
   {
    "duration": 75,
    "start_time": "2023-05-06T10:33:12.686Z"
   },
   {
    "duration": 76,
    "start_time": "2023-05-06T10:33:24.218Z"
   },
   {
    "duration": 63,
    "start_time": "2023-05-06T10:33:26.978Z"
   },
   {
    "duration": 72436,
    "start_time": "2023-05-06T10:33:46.864Z"
   },
   {
    "duration": 14,
    "start_time": "2023-05-06T10:34:59.386Z"
   },
   {
    "duration": 0,
    "start_time": "2023-05-06T10:34:59.401Z"
   },
   {
    "duration": 40,
    "start_time": "2023-05-06T10:38:55.113Z"
   },
   {
    "duration": 303,
    "start_time": "2023-05-06T10:39:05.510Z"
   },
   {
    "duration": 15,
    "start_time": "2023-05-06T10:39:18.630Z"
   },
   {
    "duration": 643524,
    "start_time": "2023-05-06T10:42:00.736Z"
   },
   {
    "duration": 1218,
    "start_time": "2023-05-06T10:52:44.262Z"
   },
   {
    "duration": 65,
    "start_time": "2023-05-06T10:52:45.482Z"
   },
   {
    "duration": 82,
    "start_time": "2023-05-06T10:56:23.381Z"
   },
   {
    "duration": 68,
    "start_time": "2023-05-06T10:56:55.664Z"
   },
   {
    "duration": 7,
    "start_time": "2023-05-06T10:57:07.708Z"
   },
   {
    "duration": 5,
    "start_time": "2023-05-06T10:57:22.348Z"
   },
   {
    "duration": 20,
    "start_time": "2023-05-06T11:03:32.520Z"
   },
   {
    "duration": 83,
    "start_time": "2023-05-06T11:04:16.278Z"
   },
   {
    "duration": 9,
    "start_time": "2023-05-06T11:05:34.617Z"
   },
   {
    "duration": 203,
    "start_time": "2023-05-06T11:05:55.757Z"
   },
   {
    "duration": 807,
    "start_time": "2023-05-06T11:06:04.024Z"
   },
   {
    "duration": 8,
    "start_time": "2023-05-06T11:06:15.441Z"
   },
   {
    "duration": 7,
    "start_time": "2023-05-06T11:06:24.818Z"
   },
   {
    "duration": 8,
    "start_time": "2023-05-06T11:06:34.375Z"
   },
   {
    "duration": 214,
    "start_time": "2023-05-06T11:06:36.116Z"
   },
   {
    "duration": 1326,
    "start_time": "2023-05-06T11:06:37.249Z"
   },
   {
    "duration": 78,
    "start_time": "2023-05-06T11:06:52.084Z"
   },
   {
    "duration": 12,
    "start_time": "2023-05-06T11:06:55.115Z"
   },
   {
    "duration": 54,
    "start_time": "2023-05-10T09:29:48.402Z"
   },
   {
    "duration": 50,
    "start_time": "2023-05-10T09:33:34.996Z"
   },
   {
    "duration": 47,
    "start_time": "2023-05-10T09:33:45.503Z"
   },
   {
    "duration": 6,
    "start_time": "2023-05-10T09:34:18.214Z"
   },
   {
    "duration": 1925,
    "start_time": "2023-05-10T09:34:23.712Z"
   },
   {
    "duration": 3171,
    "start_time": "2023-05-10T09:34:30.966Z"
   },
   {
    "duration": 13532,
    "start_time": "2023-05-10T09:34:34.141Z"
   },
   {
    "duration": 779,
    "start_time": "2023-05-10T09:34:47.677Z"
   },
   {
    "duration": 5,
    "start_time": "2023-05-10T09:35:01.023Z"
   },
   {
    "duration": 75,
    "start_time": "2023-05-10T09:35:10.359Z"
   },
   {
    "duration": 12,
    "start_time": "2023-05-10T09:35:10.598Z"
   },
   {
    "duration": 13,
    "start_time": "2023-05-10T09:35:16.872Z"
   },
   {
    "duration": 11,
    "start_time": "2023-05-10T09:35:23.815Z"
   },
   {
    "duration": 91,
    "start_time": "2023-05-10T09:35:28.975Z"
   },
   {
    "duration": 15,
    "start_time": "2023-05-10T09:35:29.126Z"
   },
   {
    "duration": 26,
    "start_time": "2023-05-10T09:35:29.283Z"
   },
   {
    "duration": 16,
    "start_time": "2023-05-10T09:35:29.605Z"
   },
   {
    "duration": 4,
    "start_time": "2023-05-10T09:35:29.800Z"
   },
   {
    "duration": 14,
    "start_time": "2023-05-10T09:35:30.327Z"
   },
   {
    "duration": 6,
    "start_time": "2023-05-10T09:35:30.729Z"
   },
   {
    "duration": 4875,
    "start_time": "2023-05-10T09:35:31.247Z"
   },
   {
    "duration": 0,
    "start_time": "2023-05-10T09:35:36.124Z"
   },
   {
    "duration": 0,
    "start_time": "2023-05-10T09:35:36.125Z"
   },
   {
    "duration": 18,
    "start_time": "2023-05-10T09:35:38.671Z"
   },
   {
    "duration": 11,
    "start_time": "2023-05-10T09:35:40.766Z"
   },
   {
    "duration": 11,
    "start_time": "2023-05-10T09:35:43.615Z"
   },
   {
    "duration": 8,
    "start_time": "2023-05-10T09:35:43.766Z"
   },
   {
    "duration": 131,
    "start_time": "2023-05-10T09:35:45.944Z"
   },
   {
    "duration": 4,
    "start_time": "2023-05-10T09:35:46.646Z"
   },
   {
    "duration": 5,
    "start_time": "2023-05-10T09:35:47.527Z"
   },
   {
    "duration": 11,
    "start_time": "2023-05-10T09:35:49.926Z"
   },
   {
    "duration": 4,
    "start_time": "2023-05-10T09:35:50.310Z"
   },
   {
    "duration": 25,
    "start_time": "2023-05-10T09:35:53.487Z"
   },
   {
    "duration": 13,
    "start_time": "2023-05-10T09:35:55.497Z"
   },
   {
    "duration": 18,
    "start_time": "2023-05-10T09:35:55.663Z"
   },
   {
    "duration": 4,
    "start_time": "2023-05-10T09:36:06.343Z"
   },
   {
    "duration": 10,
    "start_time": "2023-05-10T09:36:11.551Z"
   },
   {
    "duration": 6,
    "start_time": "2023-05-10T09:36:11.976Z"
   },
   {
    "duration": 1174,
    "start_time": "2023-05-10T09:36:19.055Z"
   },
   {
    "duration": 59,
    "start_time": "2023-05-10T09:36:21.350Z"
   },
   {
    "duration": 4,
    "start_time": "2023-05-10T09:36:21.887Z"
   },
   {
    "duration": 220,
    "start_time": "2023-05-10T09:36:30.407Z"
   },
   {
    "duration": 863,
    "start_time": "2023-05-10T09:36:35.535Z"
   },
   {
    "duration": 3,
    "start_time": "2023-05-10T09:36:41.750Z"
   },
   {
    "duration": 7,
    "start_time": "2023-05-10T09:36:41.902Z"
   },
   {
    "duration": 786,
    "start_time": "2023-05-10T09:36:44.111Z"
   },
   {
    "duration": 67,
    "start_time": "2023-05-10T09:36:51.719Z"
   },
   {
    "duration": 11,
    "start_time": "2023-05-10T09:36:52.287Z"
   },
   {
    "duration": 62,
    "start_time": "2023-05-10T09:45:21.663Z"
   },
   {
    "duration": 4831,
    "start_time": "2023-05-17T08:48:10.700Z"
   },
   {
    "duration": 4,
    "start_time": "2023-05-17T08:48:24.829Z"
   },
   {
    "duration": 0,
    "start_time": "2023-05-17T08:49:07.178Z"
   },
   {
    "duration": 0,
    "start_time": "2023-05-17T08:49:07.183Z"
   },
   {
    "duration": 0,
    "start_time": "2023-05-17T08:49:07.184Z"
   },
   {
    "duration": 0,
    "start_time": "2023-05-17T08:49:07.188Z"
   },
   {
    "duration": 0,
    "start_time": "2023-05-17T08:49:07.189Z"
   },
   {
    "duration": 0,
    "start_time": "2023-05-17T08:49:07.191Z"
   },
   {
    "duration": 0,
    "start_time": "2023-05-17T08:49:07.192Z"
   },
   {
    "duration": 0,
    "start_time": "2023-05-17T08:49:07.195Z"
   },
   {
    "duration": 0,
    "start_time": "2023-05-17T08:49:07.197Z"
   },
   {
    "duration": 0,
    "start_time": "2023-05-17T08:49:07.201Z"
   },
   {
    "duration": 0,
    "start_time": "2023-05-17T08:49:07.202Z"
   },
   {
    "duration": 0,
    "start_time": "2023-05-17T08:49:07.204Z"
   },
   {
    "duration": 0,
    "start_time": "2023-05-17T08:49:07.205Z"
   },
   {
    "duration": 0,
    "start_time": "2023-05-17T08:49:07.207Z"
   },
   {
    "duration": 0,
    "start_time": "2023-05-17T08:49:07.208Z"
   },
   {
    "duration": 0,
    "start_time": "2023-05-17T08:49:07.210Z"
   },
   {
    "duration": 0,
    "start_time": "2023-05-17T08:49:07.211Z"
   },
   {
    "duration": 0,
    "start_time": "2023-05-17T08:49:07.212Z"
   },
   {
    "duration": 64,
    "start_time": "2023-05-17T08:49:33.437Z"
   },
   {
    "duration": 78,
    "start_time": "2023-05-17T08:49:33.503Z"
   },
   {
    "duration": 24,
    "start_time": "2023-05-17T08:49:33.583Z"
   },
   {
    "duration": 78,
    "start_time": "2023-05-17T08:49:33.609Z"
   },
   {
    "duration": 7,
    "start_time": "2023-05-17T08:49:33.690Z"
   }
  ],
  "kernelspec": {
   "display_name": "Python 3 (ipykernel)",
   "language": "python",
   "name": "python3"
  },
  "language_info": {
   "codemirror_mode": {
    "name": "ipython",
    "version": 3
   },
   "file_extension": ".py",
   "mimetype": "text/x-python",
   "name": "python",
   "nbconvert_exporter": "python",
   "pygments_lexer": "ipython3",
   "version": "3.9.5"
  },
  "toc": {
   "base_numbering": 1,
   "nav_menu": {},
   "number_sections": true,
   "sideBar": true,
   "skip_h1_title": true,
   "title_cell": "Содержание",
   "title_sidebar": "Contents",
   "toc_cell": true,
   "toc_position": {
    "height": "calc(100% - 180px)",
    "left": "10px",
    "top": "150px",
    "width": "171.969px"
   },
   "toc_section_display": true,
   "toc_window_display": true
  }
 },
 "nbformat": 4,
 "nbformat_minor": 2
}
