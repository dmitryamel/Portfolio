{
 "cells": [
  {
   "cell_type": "markdown",
   "metadata": {
    "toc": true
   },
   "source": [
    "<h1>Содержание<span class=\"tocSkip\"></span></h1>\n",
    "<div class=\"toc\"><ul class=\"toc-item\"><li><span><a href=\"#Подготовка\" data-toc-modified-id=\"Подготовка-1\"><span class=\"toc-item-num\">1&nbsp;&nbsp;</span>Подготовка</a></span><ul class=\"toc-item\"><li><span><a href=\"#Обзор-данных-и-лемматизация\" data-toc-modified-id=\"Обзор-данных-и-лемматизация-1.1\"><span class=\"toc-item-num\">1.1&nbsp;&nbsp;</span>Обзор данных и лемматизация</a></span></li><li><span><a href=\"#Создание-признаков\" data-toc-modified-id=\"Создание-признаков-1.2\"><span class=\"toc-item-num\">1.2&nbsp;&nbsp;</span>Создание признаков</a></span></li><li><span><a href=\"#Вывод\" data-toc-modified-id=\"Вывод-1.3\"><span class=\"toc-item-num\">1.3&nbsp;&nbsp;</span>Вывод</a></span></li></ul></li><li><span><a href=\"#Обучение\" data-toc-modified-id=\"Обучение-2\"><span class=\"toc-item-num\">2&nbsp;&nbsp;</span>Обучение</a></span><ul class=\"toc-item\"><li><span><a href=\"#GridSearchCV\" data-toc-modified-id=\"GridSearchCV-2.1\"><span class=\"toc-item-num\">2.1&nbsp;&nbsp;</span>GridSearchCV</a></span><ul class=\"toc-item\"><li><span><a href=\"#LogisticRegression\" data-toc-modified-id=\"LogisticRegression-2.1.1\"><span class=\"toc-item-num\">2.1.1&nbsp;&nbsp;</span>LogisticRegression</a></span></li><li><span><a href=\"#Decision-Tree\" data-toc-modified-id=\"Decision-Tree-2.1.2\"><span class=\"toc-item-num\">2.1.2&nbsp;&nbsp;</span>Decision Tree</a></span></li><li><span><a href=\"#CatBoost\" data-toc-modified-id=\"CatBoost-2.1.3\"><span class=\"toc-item-num\">2.1.3&nbsp;&nbsp;</span>CatBoost</a></span></li></ul></li><li><span><a href=\"#Вывод-2\" data-toc-modified-id=\"Вывод-2-2.2\"><span class=\"toc-item-num\">2.2&nbsp;&nbsp;</span>Вывод 2</a></span></li></ul></li><li><span><a href=\"#Тестирование\" data-toc-modified-id=\"Тестирование-3\"><span class=\"toc-item-num\">3&nbsp;&nbsp;</span>Тестирование</a></span></li><li><span><a href=\"#Выводы\" data-toc-modified-id=\"Выводы-4\"><span class=\"toc-item-num\">4&nbsp;&nbsp;</span>Выводы</a></span></li></ul></div>"
   ]
  },
  {
   "cell_type": "markdown",
   "metadata": {},
   "source": [
    "# Проект для «Викишоп»"
   ]
  },
  {
   "cell_type": "markdown",
   "metadata": {},
   "source": [
    "Интернет-магазин «Викишоп» запускает новый сервис. Теперь пользователи могут редактировать и дополнять описания товаров, как в вики-сообществах. То есть клиенты предлагают свои правки и комментируют изменения других. Магазину нужен инструмент, который будет искать токсичные комментарии и отправлять их на модерацию. \n",
    "\n",
    "Обучите модель классифицировать комментарии на позитивные и негативные. В вашем распоряжении набор данных с разметкой о токсичности правок.\n",
    "\n",
    "Постройте модель со значением метрики качества *F1* не меньше 0.75. \n",
    "\n",
    "**Инструкция по выполнению проекта**\n",
    "\n",
    "1. Загрузите и подготовьте данные.\n",
    "2. Обучите разные модели. \n",
    "3. Сделайте выводы.\n",
    "\n",
    "**Описание данных**\n",
    "\n",
    "Данные находятся в файле `toxic_comments.csv`. Столбец *text* в нём содержит текст комментария, а *toxic* — целевой признак."
   ]
  },
  {
   "cell_type": "markdown",
   "metadata": {},
   "source": [
    "# Импорт и функции\n"
   ]
  },
  {
   "cell_type": "code",
   "execution_count": 1,
   "metadata": {},
   "outputs": [
    {
     "name": "stderr",
     "output_type": "stream",
     "text": [
      "[nltk_data] Downloading package wordnet to /home/jovyan/nltk_data...\n",
      "[nltk_data]   Package wordnet is already up-to-date!\n"
     ]
    }
   ],
   "source": [
    "#lib\n",
    "import pandas as pd\n",
    "import numpy as np\n",
    "import matplotlib.pyplot as plt\n",
    "import re\n",
    "import nltk\n",
    "import joblib\n",
    "import spacy\n",
    "from nltk.corpus import stopwords as nltk_stop\n",
    "from sklearn.feature_extraction.text import TfidfVectorizer\n",
    "from sklearn.model_selection import (\n",
    "    train_test_split,\n",
    "    cross_val_score\n",
    ")\n",
    "from sklearn.metrics import (\n",
    "    f1_score,\n",
    "    roc_auc_score,\n",
    "    roc_curve,\n",
    "    plot_confusion_matrix\n",
    ")\n",
    "from catboost import CatBoostClassifier\n",
    "from sklearn.pipeline import Pipeline\n",
    "from sklearn.linear_model import LogisticRegression\n",
    "from sklearn.dummy import DummyClassifier\n",
    "from sklearn.tree import DecisionTreeClassifier\n",
    "from sklearn.model_selection import GridSearchCV\n",
    "from tqdm.notebook import tqdm\n",
    "tqdm.pandas()\n",
    "#подготовка nlp\n",
    "#загрузка\n",
    "nltk.download('wordnet')\n",
    "stopwords = set(nltk_stop.words('english'))\n",
    "#nlp pipeline from spacy\n",
    "nlp = spacy.load('en_core_web_sm', disable=['parser', 'ner'])"
   ]
  },
  {
   "cell_type": "code",
   "execution_count": 2,
   "metadata": {},
   "outputs": [],
   "source": [
    "#очистка текста и приведение к регистру\n",
    "def preprocessing(text, spacy = nlp): \n",
    "    text = text.lower() \n",
    "    text = re.sub(r\"http[s]?://(?:[a-zA-Z]|[0-9]|[$-_@.&+]|[!*\\(\\),]|(?:%[0-9a-fA-F][0-9a-fA-F]))+\", \" \", text) \n",
    "    text = re.sub(\"[^a-zA-Z]\", \" \", text)\n",
    "    while \"  \" in text: \n",
    "        text = text.replace(\"  \", \" \") \n",
    "    text = text.strip() \n",
    "    text = spacy(text)\n",
    "    return \" \".join([token.lemma_ for token in text])"
   ]
  },
  {
   "cell_type": "code",
   "execution_count": 3,
   "metadata": {},
   "outputs": [],
   "source": [
    "#roc-auc score plot\n",
    "def roc_auc_plot (features_valid, target_valid, model, x, y):\n",
    "    probabilities_valid = model.predict_proba(features_valid)\n",
    "    probabilities_one_valid = probabilities_valid[:, 1]\n",
    "    fpr, tpr, thresholds = roc_curve(target_valid, probabilities_one_valid)\n",
    "    plt.figure(figsize=(x,y))\n",
    "    # построение графика\n",
    "    plt.plot(fpr, tpr)\n",
    "    # вводим ROC кривую случайной модели со значением 0.5\n",
    "    plt.plot([0, 1], [0, 1], linestyle='--')\n",
    "    #границы графиков\n",
    "    plt.xlim(0,1)\n",
    "    plt.ylim(0,1)\n",
    "    #подписи осей\n",
    "    plt.xlabel('False Positive Rate')\n",
    "    plt.ylabel('True Positive Rate')\n",
    "    #заголовок\n",
    "    plt.title('ROC-кривая', fontsize = 12)\n",
    "    plt.show()\n",
    "    "
   ]
  },
  {
   "cell_type": "code",
   "execution_count": 4,
   "metadata": {},
   "outputs": [],
   "source": [
    "#style\n",
    "plt.style.use('bmh')\n",
    "np.set_printoptions(precision=3)"
   ]
  },
  {
   "cell_type": "markdown",
   "metadata": {},
   "source": [
    "## Подготовка"
   ]
  },
  {
   "cell_type": "markdown",
   "metadata": {},
   "source": [
    "### Обзор данных и лемматизация"
   ]
  },
  {
   "cell_type": "code",
   "execution_count": 70,
   "metadata": {},
   "outputs": [],
   "source": [
    "#read .csv\n",
    "data = pd.read_csv('/datasets/toxic_comments.csv', index_col = 0)"
   ]
  },
  {
   "cell_type": "code",
   "execution_count": 71,
   "metadata": {},
   "outputs": [
    {
     "data": {
      "text/html": [
       "<div>\n",
       "<style scoped>\n",
       "    .dataframe tbody tr th:only-of-type {\n",
       "        vertical-align: middle;\n",
       "    }\n",
       "\n",
       "    .dataframe tbody tr th {\n",
       "        vertical-align: top;\n",
       "    }\n",
       "\n",
       "    .dataframe thead th {\n",
       "        text-align: right;\n",
       "    }\n",
       "</style>\n",
       "<table border=\"1\" class=\"dataframe\">\n",
       "  <thead>\n",
       "    <tr style=\"text-align: right;\">\n",
       "      <th></th>\n",
       "      <th>text</th>\n",
       "      <th>toxic</th>\n",
       "    </tr>\n",
       "  </thead>\n",
       "  <tbody>\n",
       "    <tr>\n",
       "      <th>0</th>\n",
       "      <td>Explanation\\nWhy the edits made under my usern...</td>\n",
       "      <td>0</td>\n",
       "    </tr>\n",
       "    <tr>\n",
       "      <th>1</th>\n",
       "      <td>D'aww! He matches this background colour I'm s...</td>\n",
       "      <td>0</td>\n",
       "    </tr>\n",
       "    <tr>\n",
       "      <th>2</th>\n",
       "      <td>Hey man, I'm really not trying to edit war. It...</td>\n",
       "      <td>0</td>\n",
       "    </tr>\n",
       "    <tr>\n",
       "      <th>3</th>\n",
       "      <td>\"\\nMore\\nI can't make any real suggestions on ...</td>\n",
       "      <td>0</td>\n",
       "    </tr>\n",
       "    <tr>\n",
       "      <th>4</th>\n",
       "      <td>You, sir, are my hero. Any chance you remember...</td>\n",
       "      <td>0</td>\n",
       "    </tr>\n",
       "  </tbody>\n",
       "</table>\n",
       "</div>"
      ],
      "text/plain": [
       "                                                text  toxic\n",
       "0  Explanation\\nWhy the edits made under my usern...      0\n",
       "1  D'aww! He matches this background colour I'm s...      0\n",
       "2  Hey man, I'm really not trying to edit war. It...      0\n",
       "3  \"\\nMore\\nI can't make any real suggestions on ...      0\n",
       "4  You, sir, are my hero. Any chance you remember...      0"
      ]
     },
     "execution_count": 71,
     "metadata": {},
     "output_type": "execute_result"
    }
   ],
   "source": [
    "#df head\n",
    "data.head()"
   ]
  },
  {
   "cell_type": "code",
   "execution_count": 73,
   "metadata": {},
   "outputs": [
    {
     "name": "stdout",
     "output_type": "stream",
     "text": [
      "<class 'pandas.core.frame.DataFrame'>\n",
      "Int64Index: 159292 entries, 0 to 159450\n",
      "Data columns (total 2 columns):\n",
      " #   Column  Non-Null Count   Dtype \n",
      "---  ------  --------------   ----- \n",
      " 0   text    159292 non-null  object\n",
      " 1   toxic   159292 non-null  int64 \n",
      "dtypes: int64(1), object(1)\n",
      "memory usage: 3.6+ MB\n"
     ]
    }
   ],
   "source": [
    "#data info\n",
    "data.info()"
   ]
  },
  {
   "cell_type": "code",
   "execution_count": 74,
   "metadata": {},
   "outputs": [
    {
     "data": {
      "image/png": "[encoded data removed]",
      "text/plain": [
       "<Figure size 864x432 with 1 Axes>"
      ]
     },
     "metadata": {
      "needs_background": "light"
     },
     "output_type": "display_data"
    }
   ],
   "source": [
    "#красивый график\n",
    "(\n",
    "    data['toxic']\n",
    "    .value_counts()\n",
    "    .sort_values()\n",
    "    .plot(\n",
    "        kind = 'barh',\n",
    "        figsize = (12,6),\n",
    "        color = 'salmon'\n",
    "    )\n",
    ")\n",
    "classes = ['Токсичный','Нетоксичный']\n",
    "y_pos = np.arange(len(classes))\n",
    "plt.xlabel(\"\\n\" + 'Количество комментариев данного типа')\n",
    "plt.ylabel('Класс комментария' + \"\\n\")\n",
    "plt.yticks(y_pos,labels = classes)\n",
    "plt.title('Cоотношение классов комментариев в датасете' + '\\n', fontsize = 12);"
   ]
  },
  {
   "cell_type": "markdown",
   "metadata": {},
   "source": [
    "Наблюдается дисбаланс классов. Учтем это во время обучения моделей и нивелируем за счет весов классов"
   ]
  },
  {
   "cell_type": "markdown",
   "metadata": {},
   "source": [
    "**Лемматизация**"
   ]
  },
  {
   "cell_type": "code",
   "execution_count": null,
   "metadata": {},
   "outputs": [],
   "source": [
    "%%time\n",
    "#V2\n",
    "#генерируем леммы слов c очисткой\n",
    "data['lemm'] = data['text'].apply(preprocessing)"
   ]
  },
  {
   "cell_type": "code",
   "execution_count": null,
   "metadata": {},
   "outputs": [],
   "source": [
    "#check\n",
    "data.head()"
   ]
  },
  {
   "cell_type": "code",
   "execution_count": null,
   "metadata": {},
   "outputs": [],
   "source": [
    "#удалим исходный столбец с текстом для экономии памяти\n",
    "data.drop('text',axis=1, inplace = True)"
   ]
  },
  {
   "cell_type": "code",
   "execution_count": null,
   "metadata": {},
   "outputs": [],
   "source": [
    "#теперь сохраним датафрейм с леммами\n",
    "data.to_csv(\"nlp_12/lemm.csv\")"
   ]
  },
  {
   "cell_type": "code",
   "execution_count": null,
   "metadata": {},
   "outputs": [],
   "source": [
    "#final df\n",
    "data.sample(10)"
   ]
  },
  {
   "cell_type": "markdown",
   "metadata": {},
   "source": [
    "### Создание признаков"
   ]
  },
  {
   "cell_type": "markdown",
   "metadata": {},
   "source": [
    "Загрузим ранее созданный датафрейм с обработанными словами"
   ]
  },
  {
   "cell_type": "code",
   "execution_count": 5,
   "metadata": {},
   "outputs": [],
   "source": [
    "#лемматизированный датафрейм\n",
    "df = pd.read_csv('nlp_12/lemm.csv',index_col = 0)"
   ]
  },
  {
   "cell_type": "code",
   "execution_count": 6,
   "metadata": {},
   "outputs": [
    {
     "data": {
      "text/html": [
       "<div>\n",
       "<style scoped>\n",
       "    .dataframe tbody tr th:only-of-type {\n",
       "        vertical-align: middle;\n",
       "    }\n",
       "\n",
       "    .dataframe tbody tr th {\n",
       "        vertical-align: top;\n",
       "    }\n",
       "\n",
       "    .dataframe thead th {\n",
       "        text-align: right;\n",
       "    }\n",
       "</style>\n",
       "<table border=\"1\" class=\"dataframe\">\n",
       "  <thead>\n",
       "    <tr style=\"text-align: right;\">\n",
       "      <th></th>\n",
       "      <th>toxic</th>\n",
       "      <th>lemm</th>\n",
       "    </tr>\n",
       "  </thead>\n",
       "  <tbody>\n",
       "    <tr>\n",
       "      <th>0</th>\n",
       "      <td>0</td>\n",
       "      <td>explanation why the edit make under my usernam...</td>\n",
       "    </tr>\n",
       "    <tr>\n",
       "      <th>1</th>\n",
       "      <td>0</td>\n",
       "      <td>d aww he match this background colour I m seem...</td>\n",
       "    </tr>\n",
       "    <tr>\n",
       "      <th>2</th>\n",
       "      <td>0</td>\n",
       "      <td>hey man I m really not try to edit war it s ju...</td>\n",
       "    </tr>\n",
       "    <tr>\n",
       "      <th>3</th>\n",
       "      <td>0</td>\n",
       "      <td>more I can t make any real suggestion on impro...</td>\n",
       "    </tr>\n",
       "    <tr>\n",
       "      <th>4</th>\n",
       "      <td>0</td>\n",
       "      <td>you sir be my hero any chance you remember wha...</td>\n",
       "    </tr>\n",
       "  </tbody>\n",
       "</table>\n",
       "</div>"
      ],
      "text/plain": [
       "   toxic                                               lemm\n",
       "0      0  explanation why the edit make under my usernam...\n",
       "1      0  d aww he match this background colour I m seem...\n",
       "2      0  hey man I m really not try to edit war it s ju...\n",
       "3      0  more I can t make any real suggestion on impro...\n",
       "4      0  you sir be my hero any chance you remember wha..."
      ]
     },
     "execution_count": 6,
     "metadata": {},
     "output_type": "execute_result"
    }
   ],
   "source": [
    "#check\n",
    "df.head()"
   ]
  },
  {
   "cell_type": "code",
   "execution_count": 7,
   "metadata": {},
   "outputs": [
    {
     "data": {
      "text/plain": [
       "(159292, 2)"
      ]
     },
     "execution_count": 7,
     "metadata": {},
     "output_type": "execute_result"
    }
   ],
   "source": [
    "#size\n",
    "df.shape"
   ]
  },
  {
   "cell_type": "code",
   "execution_count": 8,
   "metadata": {},
   "outputs": [
    {
     "data": {
      "text/plain": [
       "toxic     0\n",
       "lemm     25\n",
       "dtype: int64"
      ]
     },
     "execution_count": 8,
     "metadata": {},
     "output_type": "execute_result"
    }
   ],
   "source": [
    "#check\n",
    "df.isna().sum()"
   ]
  },
  {
   "cell_type": "code",
   "execution_count": 9,
   "metadata": {},
   "outputs": [],
   "source": [
    "#dropna\n",
    "df = df.dropna()"
   ]
  },
  {
   "cell_type": "code",
   "execution_count": 10,
   "metadata": {},
   "outputs": [
    {
     "data": {
      "text/plain": [
       "toxic    0\n",
       "lemm     0\n",
       "dtype: int64"
      ]
     },
     "execution_count": 10,
     "metadata": {},
     "output_type": "execute_result"
    }
   ],
   "source": [
    "#check\n",
    "df.isna().sum()"
   ]
  },
  {
   "cell_type": "code",
   "execution_count": 12,
   "metadata": {},
   "outputs": [
    {
     "data": {
      "text/plain": [
       "0    143082\n",
       "1     16185\n",
       "Name: toxic, dtype: int64"
      ]
     },
     "metadata": {},
     "output_type": "display_data"
    },
    {
     "name": "stdout",
     "output_type": "stream",
     "text": [
      "Класс 0 : Класс 1 = 8.840407784986098\n"
     ]
    }
   ],
   "source": [
    "#баланс классов\n",
    "display((df['toxic'].value_counts()))\n",
    "balance = (df['toxic'].value_counts()[0])/(df['toxic'].value_counts()[1])\n",
    "print(f'Класс 0 : Класс 1 = {balance}')"
   ]
  },
  {
   "cell_type": "code",
   "execution_count": 11,
   "metadata": {},
   "outputs": [
    {
     "name": "stdout",
     "output_type": "stream",
     "text": [
      "Размер обучающей выборки: 119450\n",
      "Размер тестовой выборки: 39817\n"
     ]
    },
    {
     "data": {
      "text/plain": [
       "True"
      ]
     },
     "execution_count": 11,
     "metadata": {},
     "output_type": "execute_result"
    }
   ],
   "source": [
    "#разбиваем на выборки со стратификацией\n",
    "features_train, features_test, target_train, target_test = \\\n",
    "train_test_split(df['lemm'],df['toxic'],test_size=0.25, random_state=21, stratify = df['toxic'])\n",
    "#check\n",
    "print('Размер обучающей выборки:', features_train.shape[0])\n",
    "#check\n",
    "print('Размер тестовой выборки:', features_test.shape[0])\n",
    "#условие равенства выборок\n",
    "features_train.shape[0] + features_test.shape[0] == df['lemm'].shape[0]"
   ]
  },
  {
   "cell_type": "code",
   "execution_count": 13,
   "metadata": {},
   "outputs": [
    {
     "data": {
      "text/plain": [
       "True"
      ]
     },
     "execution_count": 13,
     "metadata": {},
     "output_type": "execute_result"
    }
   ],
   "source": [
    "#check\n",
    "features_train.shape[0] == target_train.shape[0]"
   ]
  },
  {
   "cell_type": "code",
   "execution_count": 14,
   "metadata": {},
   "outputs": [
    {
     "data": {
      "text/plain": [
       "True"
      ]
     },
     "execution_count": 14,
     "metadata": {},
     "output_type": "execute_result"
    }
   ],
   "source": [
    "#check\n",
    "features_test.shape[0] == target_test.shape[0]"
   ]
  },
  {
   "cell_type": "code",
   "execution_count": null,
   "metadata": {},
   "outputs": [],
   "source": [
    "# #создаем векторизатор\n",
    "# count_tf_idf = TfidfVectorizer(stop_words=list(stopwords))\n",
    "# #применяем векторизатор\n",
    "# features_train = count_tf_idf.fit_transform(features_train['lemm'].values.astype('U'))\n",
    "# features_test = count_tf_idf.transform(features_test['lemm'].values.astype('U'))"
   ]
  },
  {
   "cell_type": "markdown",
   "metadata": {},
   "source": [
    "### Вывод"
   ]
  },
  {
   "cell_type": "markdown",
   "metadata": {},
   "source": [
    "- в исходном датасете удалили ненужный столбец\n",
    "- в данных нет пропусков\n",
    "- обнаружен дисбаланс классов, это будет учтено при подборке гиперпараметров и обучении моделей\n",
    "- исходные тексты очищены от лишних символов, слова приведенны к их леммам\n",
    "- созданы выборки для обучения путем векторизации текстов"
   ]
  },
  {
   "cell_type": "markdown",
   "metadata": {},
   "source": [
    "## Обучение"
   ]
  },
  {
   "cell_type": "markdown",
   "metadata": {},
   "source": [
    "Рассмотрим три классификатора:  \n",
    "\n",
    "1) **logistic classifier**  \n",
    "\n",
    "2) **random forest classifier**  \n",
    "\n",
    "3) **catboost calssifier**"
   ]
  },
  {
   "cell_type": "markdown",
   "metadata": {},
   "source": [
    "Для борьбы с дисбалансом создадим словарь с соотношением классов в выборке"
   ]
  },
  {
   "cell_type": "markdown",
   "metadata": {},
   "source": [
    "### GridSearchCV"
   ]
  },
  {
   "cell_type": "code",
   "execution_count": 15,
   "metadata": {},
   "outputs": [
    {
     "data": {
      "text/plain": [
       "{0: 1, 1: 8.84}"
      ]
     },
     "execution_count": 15,
     "metadata": {},
     "output_type": "execute_result"
    }
   ],
   "source": [
    "#словарь \n",
    "dict_classes={0:1, 1:8.84}\n",
    "#check\n",
    "dict_classes"
   ]
  },
  {
   "cell_type": "markdown",
   "metadata": {},
   "source": [
    "#### LogisticRegression"
   ]
  },
  {
   "cell_type": "code",
   "execution_count": 62,
   "metadata": {},
   "outputs": [],
   "source": [
    "#параметры для GS\n",
    "lr_params={'model__C':[0.1,0.5,1,3,5],\n",
    "           'model__solver':['lbfgs', 'liblinear']\n",
    "          }\n",
    "\n",
    "#pipeline для регрессии\n",
    "lr_pipeline = Pipeline([('tfidf', TfidfVectorizer(stop_words=list(stopwords))),\n",
    "                         ('model',LogisticRegression(max_iter = 500,\n",
    "                                                     class_weight = dict_classes,\n",
    "                                                     random_state = 21,\n",
    "                                                     tol = 1e-3))])\n",
    "    \n",
    "#gridsearch initialization\n",
    "lr_grid = GridSearchCV(lr_pipeline, cv = 3, param_grid=lr_params,\n",
    "                       scoring='f1',verbose = 1, n_jobs = -1)"
   ]
  },
  {
   "cell_type": "code",
   "execution_count": 18,
   "metadata": {
    "collapsed": true
   },
   "outputs": [
    {
     "name": "stdout",
     "output_type": "stream",
     "text": [
      "Fitting 3 folds for each of 10 candidates, totalling 30 fits\n",
      "[CV] END ..................model__C=0.1, model__solver=lbfgs; total time=  13.5s\n",
      "[CV] END ..................model__C=0.1, model__solver=lbfgs; total time=  15.3s\n",
      "[CV] END ..................model__C=0.1, model__solver=lbfgs; total time=  14.0s\n",
      "[CV] END ..............model__C=0.1, model__solver=liblinear; total time=   9.8s\n",
      "[CV] END ..............model__C=0.1, model__solver=liblinear; total time=   9.8s\n",
      "[CV] END ..............model__C=0.1, model__solver=liblinear; total time=   9.5s\n",
      "[CV] END ..................model__C=0.5, model__solver=lbfgs; total time=  40.6s\n",
      "[CV] END ..................model__C=0.5, model__solver=lbfgs; total time=  34.5s\n",
      "[CV] END ..................model__C=0.5, model__solver=lbfgs; total time=  37.2s\n",
      "[CV] END ..............model__C=0.5, model__solver=liblinear; total time=  13.6s\n",
      "[CV] END ..............model__C=0.5, model__solver=liblinear; total time=  14.7s\n",
      "[CV] END ..............model__C=0.5, model__solver=liblinear; total time=  13.5s\n",
      "[CV] END ....................model__C=1, model__solver=lbfgs; total time=  58.6s\n",
      "[CV] END ....................model__C=1, model__solver=lbfgs; total time=  46.2s\n",
      "[CV] END ....................model__C=1, model__solver=lbfgs; total time=  49.4s\n",
      "[CV] END ................model__C=1, model__solver=liblinear; total time=  14.8s\n",
      "[CV] END ................model__C=1, model__solver=liblinear; total time=  16.2s\n",
      "[CV] END ................model__C=1, model__solver=liblinear; total time=  15.8s\n",
      "[CV] END ....................model__C=3, model__solver=lbfgs; total time= 1.4min\n",
      "[CV] END ....................model__C=3, model__solver=lbfgs; total time= 1.3min\n",
      "[CV] END ....................model__C=3, model__solver=lbfgs; total time= 1.3min\n",
      "[CV] END ................model__C=3, model__solver=liblinear; total time=  20.0s\n",
      "[CV] END ................model__C=3, model__solver=liblinear; total time=  18.6s\n",
      "[CV] END ................model__C=3, model__solver=liblinear; total time=  18.3s\n",
      "[CV] END ....................model__C=5, model__solver=lbfgs; total time= 1.6min\n",
      "[CV] END ....................model__C=5, model__solver=lbfgs; total time= 1.5min\n",
      "[CV] END ....................model__C=5, model__solver=lbfgs; total time= 1.7min\n",
      "[CV] END ................model__C=5, model__solver=liblinear; total time=  21.2s\n",
      "[CV] END ................model__C=5, model__solver=liblinear; total time=  23.0s\n",
      "[CV] END ................model__C=5, model__solver=liblinear; total time=  21.7s\n",
      "CPU times: user 8min 9s, sys: 11min 40s, total: 19min 49s\n",
      "Wall time: 19min 55s\n"
     ]
    },
    {
     "data": {
      "text/plain": [
       "GridSearchCV(cv=3,\n",
       "             estimator=Pipeline(steps=[('tfidf',\n",
       "                                        TfidfVectorizer(stop_words=['don', 've',\n",
       "                                                                    'was',\n",
       "                                                                    \"should've\",\n",
       "                                                                    'will',\n",
       "                                                                    'few',\n",
       "                                                                    'hadn',\n",
       "                                                                    'we',\n",
       "                                                                    \"wasn't\",\n",
       "                                                                    'other',\n",
       "                                                                    \"won't\",\n",
       "                                                                    'this',\n",
       "                                                                    'about',\n",
       "                                                                    'won',\n",
       "                                                                    'any',\n",
       "                                                                    \"you'll\",\n",
       "                                                                    'ma',\n",
       "                                                                    'here',\n",
       "                                                                    'than',\n",
       "                                                                    'while',\n",
       "                                                                    \"you're\",\n",
       "                                                                    'itself',\n",
       "                                                                    'her', 'or',\n",
       "                                                                    'ourselves',\n",
       "                                                                    'couldn',\n",
       "                                                                    'wasn',\n",
       "                                                                    'out',\n",
       "                                                                    'has',\n",
       "                                                                    'further', ...])),\n",
       "                                       ('model',\n",
       "                                        LogisticRegression(class_weight={0: 1,\n",
       "                                                                         1: 8.84},\n",
       "                                                           max_iter=500,\n",
       "                                                           random_state=21,\n",
       "                                                           tol=0.001))]),\n",
       "             n_jobs=-1,\n",
       "             param_grid={'model__C': [0.1, 0.5, 1, 3, 5],\n",
       "                         'model__solver': ['lbfgs', 'liblinear']},\n",
       "             scoring='f1', verbose=2)"
      ]
     },
     "execution_count": 18,
     "metadata": {},
     "output_type": "execute_result"
    }
   ],
   "source": [
    "%%time\n",
    "#fit\n",
    "lr_grid.fit(features_train, target_train)"
   ]
  },
  {
   "cell_type": "code",
   "execution_count": 47,
   "metadata": {},
   "outputs": [
    {
     "data": {
      "text/plain": [
       "0.7617221558348996"
      ]
     },
     "execution_count": 47,
     "metadata": {},
     "output_type": "execute_result"
    }
   ],
   "source": [
    "#score\n",
    "lr_grid.best_score_"
   ]
  },
  {
   "cell_type": "code",
   "execution_count": 43,
   "metadata": {},
   "outputs": [
    {
     "data": {
      "text/plain": [
       "['nlp_12/lr_last.pkl']"
      ]
     },
     "execution_count": 43,
     "metadata": {},
     "output_type": "execute_result"
    }
   ],
   "source": [
    "#best model\n",
    "joblib.dump(lr_grid.best_estimator_['model'], 'nlp_12/lr_last.pkl')"
   ]
  },
  {
   "cell_type": "code",
   "execution_count": 29,
   "metadata": {},
   "outputs": [],
   "source": [
    "#feature importance\n",
    "coefficients = lr_grid.best_estimator_['model'].coef_[0]"
   ]
  },
  {
   "cell_type": "code",
   "execution_count": 30,
   "metadata": {},
   "outputs": [],
   "source": [
    "#tfidf words\n",
    "tf_voc = lr_grid.best_estimator_['tfidf'].vocabulary_"
   ]
  },
  {
   "cell_type": "markdown",
   "metadata": {},
   "source": [
    "Выделим наиболее значимые слова с точки зрения классификатора"
   ]
  },
  {
   "cell_type": "code",
   "execution_count": 32,
   "metadata": {},
   "outputs": [
    {
     "data": {
      "text/plain": [
       "[('november', 75402),\n",
       " ('ignore', 50530),\n",
       " ('wp', 120251),\n",
       " ('breach', 14177),\n",
       " ('conlimite', 22060),\n",
       " ('replace', 90201),\n",
       " ('well', 117887),\n",
       " ('cite', 19641),\n",
       " ('contend', 22499),\n",
       " ('undo', 112548)]"
      ]
     },
     "execution_count": 32,
     "metadata": {},
     "output_type": "execute_result"
    }
   ],
   "source": [
    "tfidf_map = [(x, tf_voc[x]) for x in tf_voc]\n",
    "tfidf_map[:10]"
   ]
  },
  {
   "cell_type": "code",
   "execution_count": 33,
   "metadata": {},
   "outputs": [
    {
     "data": {
      "text/plain": [
       "[('aa', 0),\n",
       " ('aaa', 1),\n",
       " ('aaaa', 2),\n",
       " ('aaaaaaaaaah', 3),\n",
       " ('aaaaaaaahhhhhhhhhhhhhhhhhhhhhhhhhhhhhhhhh', 4)]"
      ]
     },
     "execution_count": 33,
     "metadata": {},
     "output_type": "execute_result"
    }
   ],
   "source": [
    "tfidf_map.sort(key = lambda x: x[1])\n",
    "tfidf_map[:5]"
   ]
  },
  {
   "cell_type": "code",
   "execution_count": 34,
   "metadata": {},
   "outputs": [
    {
     "data": {
      "text/plain": [
       "['aa',\n",
       " 'aaa',\n",
       " 'aaaa',\n",
       " 'aaaaaaaaaah',\n",
       " 'aaaaaaaahhhhhhhhhhhhhhhhhhhhhhhhhhhhhhhhh',\n",
       " 'aaaaaaahhhhhhhhhhhhhhhhhhhhhhhh',\n",
       " 'aaaaaaw',\n",
       " 'aaaaah',\n",
       " 'aaaah',\n",
       " 'aaaannnnyyyywwwwhhhheeeerrrreeee']"
      ]
     },
     "execution_count": 34,
     "metadata": {},
     "output_type": "execute_result"
    }
   ],
   "source": [
    "vocab_tf = [x[0] for x in tfidf_map]\n",
    "vocab_tf[:10]"
   ]
  },
  {
   "cell_type": "code",
   "execution_count": 35,
   "metadata": {},
   "outputs": [],
   "source": [
    "coef_df = pd.DataFrame(list(zip(vocab_tf,coefficients)),\n",
    "                      columns = ['word','coef'])"
   ]
  },
  {
   "cell_type": "code",
   "execution_count": 38,
   "metadata": {},
   "outputs": [
    {
     "data": {
      "text/html": [
       "<div>\n",
       "<style scoped>\n",
       "    .dataframe tbody tr th:only-of-type {\n",
       "        vertical-align: middle;\n",
       "    }\n",
       "\n",
       "    .dataframe tbody tr th {\n",
       "        vertical-align: top;\n",
       "    }\n",
       "\n",
       "    .dataframe thead th {\n",
       "        text-align: right;\n",
       "    }\n",
       "</style>\n",
       "<table border=\"1\" class=\"dataframe\">\n",
       "  <thead>\n",
       "    <tr style=\"text-align: right;\">\n",
       "      <th></th>\n",
       "      <th>word</th>\n",
       "      <th>coef</th>\n",
       "    </tr>\n",
       "  </thead>\n",
       "  <tbody>\n",
       "    <tr>\n",
       "      <th>40459</th>\n",
       "      <td>fuck</td>\n",
       "      <td>36.487001</td>\n",
       "    </tr>\n",
       "    <tr>\n",
       "      <th>40489</th>\n",
       "      <td>fucking</td>\n",
       "      <td>28.106262</td>\n",
       "    </tr>\n",
       "    <tr>\n",
       "      <th>97433</th>\n",
       "      <td>shit</td>\n",
       "      <td>24.640921</td>\n",
       "    </tr>\n",
       "    <tr>\n",
       "      <th>50357</th>\n",
       "      <td>idiot</td>\n",
       "      <td>23.856181</td>\n",
       "    </tr>\n",
       "    <tr>\n",
       "      <th>15216</th>\n",
       "      <td>bullshit</td>\n",
       "      <td>21.048849</td>\n",
       "    </tr>\n",
       "    <tr>\n",
       "      <th>7219</th>\n",
       "      <td>ass</td>\n",
       "      <td>20.861410</td>\n",
       "    </tr>\n",
       "    <tr>\n",
       "      <th>7296</th>\n",
       "      <td>asshole</td>\n",
       "      <td>20.566596</td>\n",
       "    </tr>\n",
       "    <tr>\n",
       "      <th>103143</th>\n",
       "      <td>stupid</td>\n",
       "      <td>20.490303</td>\n",
       "    </tr>\n",
       "    <tr>\n",
       "      <th>12251</th>\n",
       "      <td>bitch</td>\n",
       "      <td>20.411333</td>\n",
       "    </tr>\n",
       "    <tr>\n",
       "      <th>103581</th>\n",
       "      <td>suck</td>\n",
       "      <td>19.626432</td>\n",
       "    </tr>\n",
       "  </tbody>\n",
       "</table>\n",
       "</div>"
      ],
      "text/plain": [
       "            word       coef\n",
       "40459       fuck  36.487001\n",
       "40489    fucking  28.106262\n",
       "97433       shit  24.640921\n",
       "50357      idiot  23.856181\n",
       "15216   bullshit  21.048849\n",
       "7219         ass  20.861410\n",
       "7296     asshole  20.566596\n",
       "103143    stupid  20.490303\n",
       "12251      bitch  20.411333\n",
       "103581      suck  19.626432"
      ]
     },
     "execution_count": 38,
     "metadata": {},
     "output_type": "execute_result"
    }
   ],
   "source": [
    "#top-10 words\n",
    "coef_df.sort_values('coef', ascending = False).head(10)"
   ]
  },
  {
   "cell_type": "markdown",
   "metadata": {},
   "source": [
    "#### Decision Tree"
   ]
  },
  {
   "cell_type": "code",
   "execution_count": 41,
   "metadata": {},
   "outputs": [],
   "source": [
    "#параметры для GS\n",
    "tree_params={'model__max_depth':[x for x in range(1,12,1)],\n",
    "             'model__class_weight':[dict_classes]\n",
    "            }\n",
    "\n",
    "#pipeline для регрессии\n",
    "tree_pipeline = Pipeline([('tfidf', TfidfVectorizer(stop_words=list(stopwords))),\n",
    "                         ('model',DecisionTreeClassifier(random_state = 21))])\n",
    "    \n",
    "#gridsearch initialization\n",
    "tree_grid = GridSearchCV(tree_pipeline, cv = 3, param_grid=tree_params,\n",
    "                       scoring='f1',verbose = 1, n_jobs = -1)"
   ]
  },
  {
   "cell_type": "code",
   "execution_count": null,
   "metadata": {},
   "outputs": [],
   "source": [
    "%%time\n",
    "#tree grid search\n",
    "tree_grid.fit(features_train, target_train)"
   ]
  },
  {
   "cell_type": "code",
   "execution_count": 48,
   "metadata": {},
   "outputs": [
    {
     "data": {
      "text/plain": [
       "0.5640161980013109"
      ]
     },
     "execution_count": 48,
     "metadata": {},
     "output_type": "execute_result"
    }
   ],
   "source": [
    "#score\n",
    "tree_grid.best_score_"
   ]
  },
  {
   "cell_type": "code",
   "execution_count": 44,
   "metadata": {},
   "outputs": [
    {
     "data": {
      "text/plain": [
       "['nlp_12/decision_tree.pkl']"
      ]
     },
     "execution_count": 44,
     "metadata": {},
     "output_type": "execute_result"
    }
   ],
   "source": [
    "#best_estimator\n",
    "#best model\n",
    "joblib.dump(tree_grid.best_estimator_['model'], 'nlp_12/decision_tree.pkl')"
   ]
  },
  {
   "cell_type": "markdown",
   "metadata": {},
   "source": [
    " #### CatBoost"
   ]
  },
  {
   "cell_type": "code",
   "execution_count": 49,
   "metadata": {},
   "outputs": [],
   "source": [
    "#параметры для GS\n",
    "cat_params={'model__learning_rate':[x/10 for x in range(1,5,1)],\n",
    "             'model__depth': [x for x in range (2,6,1)]\n",
    "            }\n",
    "\n",
    "#pipeline для регрессии\n",
    "cat_pipeline = Pipeline([('tfidf', TfidfVectorizer(stop_words=list(stopwords))),\n",
    "                         ('model',CatBoostClassifier(random_state = 21,\n",
    "                                                    class_weights = dict_classes,\n",
    "                                                    iterations = 150))])\n",
    "    \n",
    "#gridsearch initialization\n",
    "cat_grid = GridSearchCV(cat_pipeline, cv = 3, param_grid=cat_params,\n",
    "                       scoring='f1',verbose = 1, n_jobs = -1)"
   ]
  },
  {
   "cell_type": "code",
   "execution_count": null,
   "metadata": {},
   "outputs": [],
   "source": [
    "%%time\n",
    "#catboost fit\n",
    "cat_grid.fit(features_train,target_train)"
   ]
  },
  {
   "cell_type": "code",
   "execution_count": 52,
   "metadata": {},
   "outputs": [
    {
     "data": {
      "text/plain": [
       "0.7400436713980575"
      ]
     },
     "execution_count": 52,
     "metadata": {},
     "output_type": "execute_result"
    }
   ],
   "source": [
    "#score\n",
    "cat_grid.best_score_"
   ]
  },
  {
   "cell_type": "code",
   "execution_count": 53,
   "metadata": {},
   "outputs": [
    {
     "data": {
      "text/plain": [
       "['nlp_12/catboost.pkl']"
      ]
     },
     "execution_count": 53,
     "metadata": {},
     "output_type": "execute_result"
    }
   ],
   "source": [
    "#save model\n",
    "joblib.dump(cat_grid.best_estimator_['model'],'nlp_12/catboost.pkl')"
   ]
  },
  {
   "cell_type": "markdown",
   "metadata": {},
   "source": [
    "### Вывод 2"
   ]
  },
  {
   "cell_type": "markdown",
   "metadata": {},
   "source": [
    "По итогам кросс-валидации получены следующие результаты:\n",
    "- LogisticRegression - 0.761\n",
    "- DecisionTree - 0.564\n",
    "- CatBoost - 0.74\n",
    "Для дальнейшего тестирования используем модель **логистической регрессии**"
   ]
  },
  {
   "cell_type": "markdown",
   "metadata": {},
   "source": [
    "## Тестирование"
   ]
  },
  {
   "cell_type": "code",
   "execution_count": 63,
   "metadata": {},
   "outputs": [
    {
     "name": "stdout",
     "output_type": "stream",
     "text": [
      "Dummy F1 score: 0.18448350546018283\n"
     ]
    }
   ],
   "source": [
    "#dummy classifier\n",
    "dummy = DummyClassifier(strategy = 'constant', random_state = 21,\n",
    "                       constant = 1)\n",
    "dummy.fit(features_train, target_train)\n",
    "dummy_preds = dummy.predict(features_test)\n",
    "dummy_score = f1_score(dummy_preds,target_test)\n",
    "print('Dummy F1 score:', dummy_score)"
   ]
  },
  {
   "cell_type": "code",
   "execution_count": 64,
   "metadata": {},
   "outputs": [],
   "source": [
    "#pipeline для тестирования регрессии\n",
    "lr_test_pipeline = Pipeline([('tfidf', TfidfVectorizer(stop_words=list(stopwords))),\n",
    "                         ('model',log_test)])"
   ]
  },
  {
   "cell_type": "code",
   "execution_count": 65,
   "metadata": {},
   "outputs": [
    {
     "data": {
      "text/plain": [
       "Pipeline(steps=[('tfidf',\n",
       "                 TfidfVectorizer(stop_words=['don', 've', 'was', \"should've\",\n",
       "                                             'will', 'few', 'hadn', 'we',\n",
       "                                             \"wasn't\", 'other', \"won't\", 'this',\n",
       "                                             'about', 'won', 'any', \"you'll\",\n",
       "                                             'ma', 'here', 'than', 'while',\n",
       "                                             \"you're\", 'itself', 'her', 'or',\n",
       "                                             'ourselves', 'couldn', 'wasn',\n",
       "                                             'out', 'has', 'further', ...])),\n",
       "                ('model',\n",
       "                 LogisticRegression(C=5, random_state=21, solver='liblinear'))])"
      ]
     },
     "execution_count": 65,
     "metadata": {},
     "output_type": "execute_result"
    }
   ],
   "source": [
    "#fit test\n",
    "lr_test_pipeline.fit(features_train, target_train)"
   ]
  },
  {
   "cell_type": "code",
   "execution_count": 66,
   "metadata": {},
   "outputs": [
    {
     "name": "stdout",
     "output_type": "stream",
     "text": [
      "Logistic Regression F1 score: 0.7841129255466371\n"
     ]
    }
   ],
   "source": [
    "#test_score\n",
    "preds = lr_test_pipeline.predict(features_test)\n",
    "lr_test_score = f1_score(preds,target_test)\n",
    "print('Logistic Regression F1 score:', lr_test_score)"
   ]
  },
  {
   "cell_type": "code",
   "execution_count": 67,
   "metadata": {},
   "outputs": [
    {
     "data": {
      "image/png": "[encoded data removed]",
      "text/plain": [
       "<Figure size 576x360 with 1 Axes>"
      ]
     },
     "metadata": {
      "needs_background": "light"
     },
     "output_type": "display_data"
    }
   ],
   "source": [
    "#roc-auc\n",
    "roc_auc_plot(features_test,target_test,lr_test_pipeline,8,5)"
   ]
  },
  {
   "cell_type": "code",
   "execution_count": 69,
   "metadata": {},
   "outputs": [
    {
     "data": {
      "image/png": "[encoded data removed]",
      "text/plain": [
       "<Figure size 720x360 with 2 Axes>"
      ]
     },
     "metadata": {
      "needs_background": "light"
     },
     "output_type": "display_data"
    }
   ],
   "source": [
    "#confusion matrixes\n",
    "fig,axes = plt.subplots(1,2,figsize = (10,5),constrained_layout = True)\n",
    "fig.suptitle('Матрицы ошибок', fontsize = 14)\n",
    "dummy_disp = plot_confusion_matrix(dummy, \n",
    "                                   features_test, \n",
    "                                   target_test,\n",
    "                                   cmap=plt.cm.Blues,\n",
    "                                   normalize='true',\n",
    "                                   ax = axes[0],\n",
    "                                   colorbar = False)\n",
    "logr_disp = plot_confusion_matrix(lr_test_pipeline, \n",
    "                                  features_test, \n",
    "                                  target_test,\n",
    "                                  cmap=plt.cm.Greens,\n",
    "                                  normalize='true',\n",
    "                                  ax = axes[1],\n",
    "                                  colorbar = False\n",
    "                                 )\n",
    "axes[0].set_title('Dummy Model')                     \n",
    "axes[1].set_title('Logistic Regression Model');"
   ]
  },
  {
   "cell_type": "markdown",
   "metadata": {},
   "source": [
    "## Выводы"
   ]
  },
  {
   "attachments": {},
   "cell_type": "markdown",
   "metadata": {},
   "source": [
    "- рассмотрены три модели - **CatBoost, Logistic Regression и DecisionTreeClassifier**\n",
    "- для них подобраны некоторые оптимальные гиперпараметры\n",
    "- выбранна модель **логистической регрессии**, поскольку она показала наилучший результат\n",
    "- на тестовой выборке получено значение `F1 = 0.784`, что удовлетворяет требованиям ТЗ"
   ]
  }
 ],
 "metadata": {
  "ExecuteTimeLog": [
   {
    "duration": 1382,
    "start_time": "2023-07-12T07:07:32.587Z"
   },
   {
    "duration": 26,
    "start_time": "2023-07-12T07:07:38.895Z"
   },
   {
    "duration": 4,
    "start_time": "2023-07-12T07:07:48.758Z"
   },
   {
    "duration": 13,
    "start_time": "2023-07-12T07:08:20.180Z"
   },
   {
    "duration": 3,
    "start_time": "2023-07-12T07:08:22.983Z"
   },
   {
    "duration": 3802,
    "start_time": "2023-07-12T07:10:00.455Z"
   },
   {
    "duration": 16,
    "start_time": "2023-07-12T07:10:05.775Z"
   },
   {
    "duration": 13,
    "start_time": "2023-07-12T07:10:15.911Z"
   },
   {
    "duration": 11,
    "start_time": "2023-07-12T07:10:19.838Z"
   },
   {
    "duration": 12,
    "start_time": "2023-07-12T07:10:26.897Z"
   },
   {
    "duration": 81,
    "start_time": "2023-07-12T07:10:29.192Z"
   },
   {
    "duration": 26,
    "start_time": "2023-07-12T07:10:30.879Z"
   },
   {
    "duration": 37,
    "start_time": "2023-07-12T07:10:41.254Z"
   },
   {
    "duration": 9,
    "start_time": "2023-07-12T07:10:51.023Z"
   },
   {
    "duration": 37,
    "start_time": "2023-07-12T07:31:06.127Z"
   },
   {
    "duration": 155,
    "start_time": "2023-07-12T07:31:36.762Z"
   },
   {
    "duration": 82,
    "start_time": "2023-07-12T07:35:52.477Z"
   },
   {
    "duration": 3,
    "start_time": "2023-07-12T07:36:04.688Z"
   },
   {
    "duration": 108,
    "start_time": "2023-07-12T07:36:15.010Z"
   },
   {
    "duration": 4,
    "start_time": "2023-07-12T09:10:48.106Z"
   },
   {
    "duration": 767,
    "start_time": "2023-07-12T09:10:48.889Z"
   },
   {
    "duration": 76,
    "start_time": "2023-07-12T09:10:49.671Z"
   },
   {
    "duration": 67,
    "start_time": "2023-07-12T09:26:16.378Z"
   },
   {
    "duration": 3,
    "start_time": "2023-07-12T09:26:18.626Z"
   },
   {
    "duration": 22,
    "start_time": "2023-07-12T09:26:39.922Z"
   },
   {
    "duration": 8,
    "start_time": "2023-07-12T09:28:33.210Z"
   },
   {
    "duration": 0,
    "start_time": "2023-07-12T09:29:28.425Z"
   },
   {
    "duration": 3,
    "start_time": "2023-07-12T09:31:20.867Z"
   },
   {
    "duration": 3,
    "start_time": "2023-07-12T09:31:35.172Z"
   },
   {
    "duration": 5,
    "start_time": "2023-07-12T09:32:53.291Z"
   },
   {
    "duration": 4,
    "start_time": "2023-07-12T09:33:07.131Z"
   },
   {
    "duration": 161,
    "start_time": "2023-07-12T09:41:19.771Z"
   },
   {
    "duration": 34,
    "start_time": "2023-07-12T09:42:17.355Z"
   },
   {
    "duration": 5,
    "start_time": "2023-07-12T09:42:43.179Z"
   },
   {
    "duration": 19,
    "start_time": "2023-07-12T09:42:47.979Z"
   },
   {
    "duration": 17,
    "start_time": "2023-07-12T09:43:11.595Z"
   },
   {
    "duration": 1843,
    "start_time": "2023-07-12T09:43:41.331Z"
   },
   {
    "duration": 48,
    "start_time": "2023-07-12T09:46:12.635Z"
   },
   {
    "duration": 1435,
    "start_time": "2023-07-12T09:46:19.742Z"
   },
   {
    "duration": 3,
    "start_time": "2023-07-12T09:46:21.179Z"
   },
   {
    "duration": 28,
    "start_time": "2023-07-12T09:46:21.185Z"
   },
   {
    "duration": 7,
    "start_time": "2023-07-12T09:46:21.215Z"
   },
   {
    "duration": 3444,
    "start_time": "2023-07-12T09:46:21.224Z"
   },
   {
    "duration": 14,
    "start_time": "2023-07-12T09:46:24.671Z"
   },
   {
    "duration": 4,
    "start_time": "2023-07-12T09:46:25.411Z"
   },
   {
    "duration": 88,
    "start_time": "2023-07-12T09:47:10.642Z"
   },
   {
    "duration": 15,
    "start_time": "2023-07-12T09:47:18.192Z"
   },
   {
    "duration": 1878,
    "start_time": "2023-07-12T09:49:31.851Z"
   },
   {
    "duration": 4,
    "start_time": "2023-07-12T09:49:47.115Z"
   },
   {
    "duration": 4,
    "start_time": "2023-07-12T09:49:55.755Z"
   },
   {
    "duration": 21929,
    "start_time": "2023-07-12T09:50:45.259Z"
   },
   {
    "duration": 1795,
    "start_time": "2023-07-12T09:51:52.202Z"
   },
   {
    "duration": 3,
    "start_time": "2023-07-12T09:51:54.000Z"
   },
   {
    "duration": 8,
    "start_time": "2023-07-12T09:51:54.005Z"
   },
   {
    "duration": 12,
    "start_time": "2023-07-12T09:51:54.014Z"
   },
   {
    "duration": 3323,
    "start_time": "2023-07-12T09:51:54.029Z"
   },
   {
    "duration": 14,
    "start_time": "2023-07-12T09:51:57.354Z"
   },
   {
    "duration": 95,
    "start_time": "2023-07-12T09:51:57.369Z"
   },
   {
    "duration": 12,
    "start_time": "2023-07-12T09:52:01.195Z"
   },
   {
    "duration": 47,
    "start_time": "2023-07-12T09:52:10.995Z"
   },
   {
    "duration": 1447,
    "start_time": "2023-07-12T09:54:23.948Z"
   },
   {
    "duration": 3,
    "start_time": "2023-07-12T09:54:25.397Z"
   },
   {
    "duration": 23,
    "start_time": "2023-07-12T09:54:25.402Z"
   },
   {
    "duration": 17,
    "start_time": "2023-07-12T09:54:25.427Z"
   },
   {
    "duration": 3329,
    "start_time": "2023-07-12T09:54:25.446Z"
   },
   {
    "duration": 14,
    "start_time": "2023-07-12T09:54:28.777Z"
   },
   {
    "duration": 87,
    "start_time": "2023-07-12T09:54:28.792Z"
   },
   {
    "duration": 12,
    "start_time": "2023-07-12T09:54:32.755Z"
   },
   {
    "duration": 1902,
    "start_time": "2023-07-12T09:58:17.634Z"
   },
   {
    "duration": 4,
    "start_time": "2023-07-12T09:58:27.050Z"
   },
   {
    "duration": 48,
    "start_time": "2023-07-12T09:59:14.682Z"
   },
   {
    "duration": 6,
    "start_time": "2023-07-12T09:59:16.546Z"
   },
   {
    "duration": 1497,
    "start_time": "2023-07-12T09:59:20.041Z"
   },
   {
    "duration": 3,
    "start_time": "2023-07-12T09:59:21.540Z"
   },
   {
    "duration": 10,
    "start_time": "2023-07-12T09:59:21.545Z"
   },
   {
    "duration": 12,
    "start_time": "2023-07-12T09:59:21.560Z"
   },
   {
    "duration": 3326,
    "start_time": "2023-07-12T09:59:21.574Z"
   },
   {
    "duration": 14,
    "start_time": "2023-07-12T09:59:24.901Z"
   },
   {
    "duration": 77,
    "start_time": "2023-07-12T09:59:24.917Z"
   },
   {
    "duration": 10,
    "start_time": "2023-07-12T09:59:24.995Z"
   },
   {
    "duration": 1839,
    "start_time": "2023-07-12T09:59:28.530Z"
   },
   {
    "duration": 37,
    "start_time": "2023-07-12T09:59:30.372Z"
   },
   {
    "duration": 33,
    "start_time": "2023-07-12T10:00:15.182Z"
   },
   {
    "duration": 39,
    "start_time": "2023-07-12T10:00:15.730Z"
   },
   {
    "duration": 27,
    "start_time": "2023-07-12T10:00:27.890Z"
   },
   {
    "duration": 32,
    "start_time": "2023-07-12T10:00:31.851Z"
   },
   {
    "duration": 87,
    "start_time": "2023-07-12T10:00:40.866Z"
   },
   {
    "duration": 46,
    "start_time": "2023-07-12T10:02:08.497Z"
   },
   {
    "duration": 15,
    "start_time": "2023-07-12T10:02:15.138Z"
   },
   {
    "duration": 1563,
    "start_time": "2023-07-13T09:15:40.199Z"
   },
   {
    "duration": 4,
    "start_time": "2023-07-13T09:15:41.764Z"
   },
   {
    "duration": 21,
    "start_time": "2023-07-13T09:15:41.770Z"
   },
   {
    "duration": 31,
    "start_time": "2023-07-13T09:15:41.792Z"
   },
   {
    "duration": 2646,
    "start_time": "2023-07-13T09:15:41.826Z"
   },
   {
    "duration": 6,
    "start_time": "2023-07-13T09:17:16.001Z"
   },
   {
    "duration": 6,
    "start_time": "2023-07-13T09:26:59.851Z"
   },
   {
    "duration": 125,
    "start_time": "2023-07-13T09:30:40.923Z"
   },
   {
    "duration": 405,
    "start_time": "2023-07-13T09:31:40.496Z"
   },
   {
    "duration": 293,
    "start_time": "2023-07-13T09:31:47.318Z"
   },
   {
    "duration": 83,
    "start_time": "2023-07-13T09:35:58.826Z"
   },
   {
    "duration": 10,
    "start_time": "2023-07-13T09:36:28.827Z"
   },
   {
    "duration": 5,
    "start_time": "2023-07-13T09:36:32.734Z"
   },
   {
    "duration": 3,
    "start_time": "2023-07-13T09:36:40.366Z"
   },
   {
    "duration": 0,
    "start_time": "2023-07-13T09:38:34.817Z"
   },
   {
    "duration": 1758,
    "start_time": "2023-07-13T09:40:28.404Z"
   },
   {
    "duration": 3,
    "start_time": "2023-07-13T09:40:30.165Z"
   },
   {
    "duration": 47,
    "start_time": "2023-07-13T09:40:30.170Z"
   },
   {
    "duration": 62,
    "start_time": "2023-07-13T09:40:30.219Z"
   },
   {
    "duration": 45,
    "start_time": "2023-07-13T09:40:30.283Z"
   },
   {
    "duration": 67,
    "start_time": "2023-07-13T09:40:30.330Z"
   },
   {
    "duration": 981,
    "start_time": "2023-07-13T09:40:30.399Z"
   },
   {
    "duration": 13,
    "start_time": "2023-07-13T09:40:31.382Z"
   },
   {
    "duration": 90,
    "start_time": "2023-07-13T09:40:34.623Z"
   },
   {
    "duration": 7,
    "start_time": "2023-07-13T09:40:37.399Z"
   },
   {
    "duration": 3493,
    "start_time": "2023-07-13T09:41:49.715Z"
   },
   {
    "duration": 3,
    "start_time": "2023-07-13T09:41:53.211Z"
   },
   {
    "duration": 22,
    "start_time": "2023-07-13T09:41:53.216Z"
   },
   {
    "duration": 13,
    "start_time": "2023-07-13T09:41:53.240Z"
   },
   {
    "duration": 8,
    "start_time": "2023-07-13T09:41:53.255Z"
   },
   {
    "duration": 13,
    "start_time": "2023-07-13T09:41:53.264Z"
   },
   {
    "duration": 941,
    "start_time": "2023-07-13T09:41:53.279Z"
   },
   {
    "duration": 12,
    "start_time": "2023-07-13T09:41:54.222Z"
   },
   {
    "duration": 109,
    "start_time": "2023-07-13T09:41:54.236Z"
   },
   {
    "duration": 7,
    "start_time": "2023-07-13T09:41:57.734Z"
   },
   {
    "duration": 307,
    "start_time": "2023-07-13T09:42:36.122Z"
   },
   {
    "duration": 6,
    "start_time": "2023-07-13T09:42:40.342Z"
   },
   {
    "duration": 6,
    "start_time": "2023-07-13T09:43:01.911Z"
   },
   {
    "duration": 7,
    "start_time": "2023-07-13T09:43:39.069Z"
   },
   {
    "duration": 13,
    "start_time": "2023-07-13T09:44:03.054Z"
   },
   {
    "duration": 216,
    "start_time": "2023-07-13T09:46:44.699Z"
   },
   {
    "duration": 450,
    "start_time": "2023-07-13T09:47:00.030Z"
   },
   {
    "duration": 16,
    "start_time": "2023-07-13T09:47:54.096Z"
   },
   {
    "duration": 11,
    "start_time": "2023-07-13T09:48:04.670Z"
   },
   {
    "duration": 19,
    "start_time": "2023-07-13T09:48:19.429Z"
   },
   {
    "duration": 13,
    "start_time": "2023-07-13T09:48:20.734Z"
   },
   {
    "duration": 128,
    "start_time": "2023-07-13T09:48:47.240Z"
   },
   {
    "duration": 8312,
    "start_time": "2023-07-13T09:49:11.159Z"
   },
   {
    "duration": 48,
    "start_time": "2023-07-13T09:50:31.470Z"
   },
   {
    "duration": 2396,
    "start_time": "2023-07-13T09:52:47.730Z"
   },
   {
    "duration": 1818,
    "start_time": "2023-07-13T09:52:50.130Z"
   },
   {
    "duration": 4,
    "start_time": "2023-07-13T09:53:26.534Z"
   },
   {
    "duration": 4,
    "start_time": "2023-07-13T09:53:26.920Z"
   },
   {
    "duration": 5,
    "start_time": "2023-07-13T09:53:27.131Z"
   },
   {
    "duration": 5,
    "start_time": "2023-07-13T09:53:27.734Z"
   },
   {
    "duration": 4,
    "start_time": "2023-07-13T09:53:28.115Z"
   },
   {
    "duration": 5,
    "start_time": "2023-07-13T09:53:41.670Z"
   },
   {
    "duration": 883,
    "start_time": "2023-07-13T09:53:43.878Z"
   },
   {
    "duration": 12,
    "start_time": "2023-07-13T09:53:44.764Z"
   },
   {
    "duration": 113,
    "start_time": "2023-07-13T09:53:44.778Z"
   },
   {
    "duration": 15,
    "start_time": "2023-07-13T09:53:44.910Z"
   },
   {
    "duration": 15,
    "start_time": "2023-07-13T09:53:44.927Z"
   },
   {
    "duration": 766888,
    "start_time": "2023-07-13T09:56:40.447Z"
   },
   {
    "duration": 3,
    "start_time": "2023-07-13T10:11:39.840Z"
   },
   {
    "duration": 583,
    "start_time": "2023-07-13T10:11:44.563Z"
   },
   {
    "duration": 4,
    "start_time": "2023-07-13T10:12:23.441Z"
   },
   {
    "duration": 163168,
    "start_time": "2023-07-13T10:12:27.039Z"
   },
   {
    "duration": 6,
    "start_time": "2023-07-13T10:16:55.810Z"
   },
   {
    "duration": 7314085,
    "start_time": "2023-07-13T10:20:57.454Z"
   },
   {
    "duration": 0,
    "start_time": "2023-07-13T12:22:51.542Z"
   },
   {
    "duration": 103,
    "start_time": "2023-07-13T12:23:19.554Z"
   },
   {
    "duration": 1030979,
    "start_time": "2023-07-13T12:23:23.266Z"
   },
   {
    "duration": 7364,
    "start_time": "2023-07-14T07:08:14.291Z"
   },
   {
    "duration": 1727,
    "start_time": "2023-07-14T07:08:21.657Z"
   },
   {
    "duration": 2022,
    "start_time": "2023-07-14T07:09:01.702Z"
   },
   {
    "duration": 1820,
    "start_time": "2023-07-14T07:09:03.727Z"
   },
   {
    "duration": 3,
    "start_time": "2023-07-14T07:09:05.551Z"
   },
   {
    "duration": 21,
    "start_time": "2023-07-14T07:09:05.556Z"
   },
   {
    "duration": 21,
    "start_time": "2023-07-14T07:09:05.579Z"
   },
   {
    "duration": 10,
    "start_time": "2023-07-14T07:09:05.602Z"
   },
   {
    "duration": 15,
    "start_time": "2023-07-14T07:09:05.614Z"
   },
   {
    "duration": 10,
    "start_time": "2023-07-14T07:09:05.630Z"
   },
   {
    "duration": 2255,
    "start_time": "2023-07-14T07:09:05.641Z"
   },
   {
    "duration": 11,
    "start_time": "2023-07-14T07:09:07.897Z"
   },
   {
    "duration": 93,
    "start_time": "2023-07-14T07:09:07.910Z"
   },
   {
    "duration": 182,
    "start_time": "2023-07-14T07:09:41.187Z"
   },
   {
    "duration": 5,
    "start_time": "2023-07-14T07:11:05.307Z"
   },
   {
    "duration": 3,
    "start_time": "2023-07-14T07:12:06.827Z"
   },
   {
    "duration": 131,
    "start_time": "2023-07-14T07:12:15.658Z"
   },
   {
    "duration": 40,
    "start_time": "2023-07-14T07:13:29.483Z"
   },
   {
    "duration": 2,
    "start_time": "2023-07-14T07:13:40.307Z"
   },
   {
    "duration": 4,
    "start_time": "2023-07-14T07:13:41.035Z"
   },
   {
    "duration": 664,
    "start_time": "2023-07-14T07:13:43.483Z"
   },
   {
    "duration": 6,
    "start_time": "2023-07-14T07:13:49.850Z"
   },
   {
    "duration": 7,
    "start_time": "2023-07-14T07:14:31.290Z"
   },
   {
    "duration": 4,
    "start_time": "2023-07-14T07:14:35.067Z"
   },
   {
    "duration": 102,
    "start_time": "2023-07-14T07:14:55.450Z"
   },
   {
    "duration": 4,
    "start_time": "2023-07-14T07:14:59.004Z"
   },
   {
    "duration": 656,
    "start_time": "2023-07-14T07:15:11.923Z"
   },
   {
    "duration": 3831,
    "start_time": "2023-07-14T07:15:44.899Z"
   },
   {
    "duration": 8,
    "start_time": "2023-07-14T07:15:58.611Z"
   },
   {
    "duration": 33,
    "start_time": "2023-07-14T07:16:14.994Z"
   },
   {
    "duration": 6402,
    "start_time": "2023-07-14T07:16:19.730Z"
   },
   {
    "duration": 684,
    "start_time": "2023-07-14T07:17:13.738Z"
   },
   {
    "duration": 4,
    "start_time": "2023-07-14T07:17:17.338Z"
   },
   {
    "duration": 80,
    "start_time": "2023-07-14T07:18:10.610Z"
   },
   {
    "duration": 10,
    "start_time": "2023-07-14T07:18:16.850Z"
   },
   {
    "duration": 1283,
    "start_time": "2023-07-14T07:21:08.322Z"
   },
   {
    "duration": 4,
    "start_time": "2023-07-14T07:21:12.251Z"
   },
   {
    "duration": 7,
    "start_time": "2023-07-14T07:21:35.234Z"
   },
   {
    "duration": 4,
    "start_time": "2023-07-14T07:22:28.842Z"
   },
   {
    "duration": 5,
    "start_time": "2023-07-14T07:22:29.563Z"
   },
   {
    "duration": 3,
    "start_time": "2023-07-14T07:23:08.571Z"
   },
   {
    "duration": 12,
    "start_time": "2023-07-14T07:23:12.363Z"
   },
   {
    "duration": 5,
    "start_time": "2023-07-14T07:23:13.770Z"
   },
   {
    "duration": 23661,
    "start_time": "2023-07-14T07:23:34.787Z"
   },
   {
    "duration": 14,
    "start_time": "2023-07-14T07:24:03.227Z"
   },
   {
    "duration": 6617,
    "start_time": "2023-07-14T07:24:09.019Z"
   },
   {
    "duration": 6,
    "start_time": "2023-07-14T07:24:37.834Z"
   },
   {
    "duration": 2,
    "start_time": "2023-07-14T07:26:08.714Z"
   },
   {
    "duration": 23,
    "start_time": "2023-07-14T07:26:18.627Z"
   },
   {
    "duration": 8,
    "start_time": "2023-07-14T07:26:33.131Z"
   },
   {
    "duration": 19,
    "start_time": "2023-07-14T07:36:33.548Z"
   },
   {
    "duration": 4,
    "start_time": "2023-07-14T07:46:09.317Z"
   },
   {
    "duration": 13,
    "start_time": "2023-07-14T07:46:19.278Z"
   },
   {
    "duration": 31,
    "start_time": "2023-07-14T07:46:44.973Z"
   },
   {
    "duration": 4,
    "start_time": "2023-07-14T07:46:47.509Z"
   },
   {
    "duration": 11,
    "start_time": "2023-07-14T07:46:47.649Z"
   },
   {
    "duration": 66974,
    "start_time": "2023-07-14T07:47:28.134Z"
   },
   {
    "duration": 18,
    "start_time": "2023-07-14T07:51:53.030Z"
   },
   {
    "duration": 6,
    "start_time": "2023-07-14T07:51:56.102Z"
   },
   {
    "duration": 11,
    "start_time": "2023-07-14T07:52:33.325Z"
   },
   {
    "duration": 372119,
    "start_time": "2023-07-14T12:50:33.105Z"
   },
   {
    "duration": 7761,
    "start_time": "2023-07-15T07:42:26.154Z"
   },
   {
    "duration": 1933,
    "start_time": "2023-07-15T07:42:33.917Z"
   },
   {
    "duration": 2307,
    "start_time": "2023-07-15T07:48:12.301Z"
   },
   {
    "duration": 1690,
    "start_time": "2023-07-15T07:48:14.611Z"
   },
   {
    "duration": 4,
    "start_time": "2023-07-15T07:48:16.303Z"
   },
   {
    "duration": 12,
    "start_time": "2023-07-15T07:48:16.308Z"
   },
   {
    "duration": 2,
    "start_time": "2023-07-15T07:48:16.536Z"
   },
   {
    "duration": 5,
    "start_time": "2023-07-15T07:48:16.749Z"
   },
   {
    "duration": 6,
    "start_time": "2023-07-15T07:48:17.373Z"
   },
   {
    "duration": 3,
    "start_time": "2023-07-15T07:48:17.558Z"
   },
   {
    "duration": 240,
    "start_time": "2023-07-15T07:48:18.449Z"
   },
   {
    "duration": 3427,
    "start_time": "2023-07-15T07:48:18.793Z"
   },
   {
    "duration": 12,
    "start_time": "2023-07-15T07:48:22.222Z"
   },
   {
    "duration": 83,
    "start_time": "2023-07-15T07:48:22.236Z"
   },
   {
    "duration": 13,
    "start_time": "2023-07-15T07:48:22.321Z"
   },
   {
    "duration": 15,
    "start_time": "2023-07-15T07:48:22.360Z"
   },
   {
    "duration": 23,
    "start_time": "2023-07-15T07:48:22.377Z"
   },
   {
    "duration": 74272,
    "start_time": "2023-07-15T07:48:25.750Z"
   },
   {
    "duration": 6833,
    "start_time": "2023-07-15T13:11:13.440Z"
   },
   {
    "duration": 1576,
    "start_time": "2023-07-15T13:11:20.276Z"
   },
   {
    "duration": 3,
    "start_time": "2023-07-15T13:11:21.854Z"
   },
   {
    "duration": 23,
    "start_time": "2023-07-15T13:11:21.859Z"
   },
   {
    "duration": 23,
    "start_time": "2023-07-15T13:11:21.884Z"
   },
   {
    "duration": 15,
    "start_time": "2023-07-15T13:11:21.908Z"
   },
   {
    "duration": 20,
    "start_time": "2023-07-15T13:11:21.924Z"
   },
   {
    "duration": 21,
    "start_time": "2023-07-15T13:11:21.945Z"
   },
   {
    "duration": 227,
    "start_time": "2023-07-15T13:11:21.967Z"
   },
   {
    "duration": 2321,
    "start_time": "2023-07-15T13:11:22.196Z"
   },
   {
    "duration": 11,
    "start_time": "2023-07-15T13:11:24.519Z"
   },
   {
    "duration": 89,
    "start_time": "2023-07-15T13:11:24.532Z"
   },
   {
    "duration": 9,
    "start_time": "2023-07-15T13:11:33.548Z"
   },
   {
    "duration": 17,
    "start_time": "2023-07-15T13:11:34.956Z"
   },
   {
    "duration": 2,
    "start_time": "2023-07-15T13:11:40.295Z"
   },
   {
    "duration": 1554,
    "start_time": "2023-07-15T13:12:03.199Z"
   },
   {
    "duration": 4,
    "start_time": "2023-07-15T13:12:32.191Z"
   },
   {
    "duration": 3,
    "start_time": "2023-07-15T13:12:41.914Z"
   },
   {
    "duration": 219,
    "start_time": "2023-07-15T13:12:46.619Z"
   },
   {
    "duration": 3,
    "start_time": "2023-07-15T13:12:50.589Z"
   },
   {
    "duration": 4063,
    "start_time": "2023-07-15T13:12:54.040Z"
   },
   {
    "duration": 7,
    "start_time": "2023-07-15T15:53:05.024Z"
   },
   {
    "duration": 949,
    "start_time": "2023-07-16T08:54:31.619Z"
   },
   {
    "duration": 9150,
    "start_time": "2023-07-16T08:54:36.541Z"
   },
   {
    "duration": 902,
    "start_time": "2023-07-16T08:55:10.172Z"
   },
   {
    "duration": 3,
    "start_time": "2023-07-16T08:55:13.328Z"
   },
   {
    "duration": 3,
    "start_time": "2023-07-16T08:55:13.460Z"
   },
   {
    "duration": 3,
    "start_time": "2023-07-16T08:55:13.602Z"
   },
   {
    "duration": 4,
    "start_time": "2023-07-16T08:55:13.748Z"
   },
   {
    "duration": 3,
    "start_time": "2023-07-16T08:55:13.908Z"
   },
   {
    "duration": 3,
    "start_time": "2023-07-16T08:55:14.254Z"
   },
   {
    "duration": 310,
    "start_time": "2023-07-16T08:55:15.010Z"
   },
   {
    "duration": 7,
    "start_time": "2023-07-16T08:55:26.868Z"
   },
   {
    "duration": 3504,
    "start_time": "2023-07-16T08:55:28.956Z"
   },
   {
    "duration": 12,
    "start_time": "2023-07-16T08:55:32.462Z"
   },
   {
    "duration": 136,
    "start_time": "2023-07-16T08:55:32.476Z"
   },
   {
    "duration": 10,
    "start_time": "2023-07-16T08:55:32.614Z"
   },
   {
    "duration": 21,
    "start_time": "2023-07-16T08:55:32.626Z"
   },
   {
    "duration": 13,
    "start_time": "2023-07-16T08:55:45.059Z"
   },
   {
    "duration": 3,
    "start_time": "2023-07-16T08:56:04.627Z"
   },
   {
    "duration": 1601,
    "start_time": "2023-07-16T08:56:04.801Z"
   },
   {
    "duration": 3701,
    "start_time": "2023-07-16T08:56:06.405Z"
   },
   {
    "duration": 7,
    "start_time": "2023-07-16T08:56:25.524Z"
   },
   {
    "duration": 29,
    "start_time": "2023-07-16T08:56:25.667Z"
   },
   {
    "duration": 11,
    "start_time": "2023-07-16T08:56:26.197Z"
   },
   {
    "duration": 61,
    "start_time": "2023-07-16T08:59:41.590Z"
   },
   {
    "duration": 64,
    "start_time": "2023-07-16T08:59:49.147Z"
   },
   {
    "duration": 9,
    "start_time": "2023-07-16T09:01:35.338Z"
   },
   {
    "duration": 59,
    "start_time": "2023-07-16T09:03:55.133Z"
   },
   {
    "duration": 27,
    "start_time": "2023-07-16T09:04:55.619Z"
   },
   {
    "duration": 3,
    "start_time": "2023-07-16T09:05:26.017Z"
   },
   {
    "duration": 4,
    "start_time": "2023-07-16T09:05:42.876Z"
   },
   {
    "duration": 67,
    "start_time": "2023-07-16T09:06:50.082Z"
   },
   {
    "duration": 11,
    "start_time": "2023-07-16T09:06:56.381Z"
   },
   {
    "duration": 6,
    "start_time": "2023-07-16T09:07:01.008Z"
   },
   {
    "duration": 6,
    "start_time": "2023-07-16T09:07:10.136Z"
   },
   {
    "duration": 1534,
    "start_time": "2023-07-16T09:07:26.274Z"
   },
   {
    "duration": 2181,
    "start_time": "2023-07-16T09:12:06.289Z"
   },
   {
    "duration": 2732,
    "start_time": "2023-07-16T09:12:08.472Z"
   },
   {
    "duration": 4,
    "start_time": "2023-07-16T09:12:11.205Z"
   },
   {
    "duration": 5,
    "start_time": "2023-07-16T09:12:11.210Z"
   },
   {
    "duration": 5,
    "start_time": "2023-07-16T09:12:11.216Z"
   },
   {
    "duration": 5,
    "start_time": "2023-07-16T09:12:11.222Z"
   },
   {
    "duration": 7,
    "start_time": "2023-07-16T09:12:11.228Z"
   },
   {
    "duration": 4,
    "start_time": "2023-07-16T09:12:11.237Z"
   },
   {
    "duration": 301,
    "start_time": "2023-07-16T09:12:11.243Z"
   },
   {
    "duration": 3449,
    "start_time": "2023-07-16T09:12:11.545Z"
   },
   {
    "duration": 12,
    "start_time": "2023-07-16T09:12:14.995Z"
   },
   {
    "duration": 133,
    "start_time": "2023-07-16T09:12:15.008Z"
   },
   {
    "duration": 9,
    "start_time": "2023-07-16T09:12:15.143Z"
   },
   {
    "duration": 25,
    "start_time": "2023-07-16T09:12:15.168Z"
   },
   {
    "duration": 2,
    "start_time": "2023-07-16T09:12:15.195Z"
   },
   {
    "duration": 1713,
    "start_time": "2023-07-16T09:12:15.198Z"
   },
   {
    "duration": 4087,
    "start_time": "2023-07-16T09:12:16.912Z"
   },
   {
    "duration": 8,
    "start_time": "2023-07-16T09:12:21.001Z"
   },
   {
    "duration": 65,
    "start_time": "2023-07-16T09:12:21.012Z"
   },
   {
    "duration": 20,
    "start_time": "2023-07-16T09:12:21.085Z"
   },
   {
    "duration": 12,
    "start_time": "2023-07-16T09:12:21.108Z"
   },
   {
    "duration": 44,
    "start_time": "2023-07-16T09:12:21.122Z"
   },
   {
    "duration": 10,
    "start_time": "2023-07-16T09:13:29.487Z"
   },
   {
    "duration": 12283,
    "start_time": "2023-07-16T09:13:35.072Z"
   },
   {
    "duration": 4,
    "start_time": "2023-07-16T10:09:25.750Z"
   },
   {
    "duration": 5,
    "start_time": "2023-07-16T10:16:55.794Z"
   },
   {
    "duration": 129,
    "start_time": "2023-07-16T10:19:18.661Z"
   },
   {
    "duration": 12,
    "start_time": "2023-07-16T10:19:50.296Z"
   },
   {
    "duration": 4,
    "start_time": "2023-07-16T10:19:57.049Z"
   },
   {
    "duration": 3,
    "start_time": "2023-07-16T10:20:50.108Z"
   },
   {
    "duration": 3,
    "start_time": "2023-07-16T10:20:55.726Z"
   },
   {
    "duration": 3,
    "start_time": "2023-07-16T10:21:14.412Z"
   },
   {
    "duration": 4,
    "start_time": "2023-07-16T10:22:50.663Z"
   },
   {
    "duration": 2,
    "start_time": "2023-07-16T10:24:07.176Z"
   },
   {
    "duration": 9,
    "start_time": "2023-07-16T10:24:10.153Z"
   },
   {
    "duration": 946199,
    "start_time": "2023-07-16T10:24:51.325Z"
   },
   {
    "duration": 0,
    "start_time": "2023-07-16T10:40:37.526Z"
   },
   {
    "duration": 4,
    "start_time": "2023-07-16T10:40:43.861Z"
   },
   {
    "duration": 16,
    "start_time": "2023-07-16T10:40:48.408Z"
   },
   {
    "duration": 3,
    "start_time": "2023-07-16T10:40:50.700Z"
   },
   {
    "duration": 10,
    "start_time": "2023-07-16T10:41:00.924Z"
   },
   {
    "duration": 10,
    "start_time": "2023-07-16T10:41:03.253Z"
   },
   {
    "duration": 3671,
    "start_time": "2023-07-16T10:41:08.257Z"
   },
   {
    "duration": 1789,
    "start_time": "2023-07-16T15:51:12.469Z"
   },
   {
    "duration": 4,
    "start_time": "2023-07-16T15:51:14.260Z"
   },
   {
    "duration": 17,
    "start_time": "2023-07-16T15:51:14.265Z"
   },
   {
    "duration": 8,
    "start_time": "2023-07-16T15:51:14.284Z"
   },
   {
    "duration": 6,
    "start_time": "2023-07-16T15:51:14.293Z"
   },
   {
    "duration": 3,
    "start_time": "2023-07-16T15:51:14.321Z"
   },
   {
    "duration": 2,
    "start_time": "2023-07-16T15:51:14.462Z"
   },
   {
    "duration": 152,
    "start_time": "2023-07-16T15:51:14.907Z"
   },
   {
    "duration": 2258,
    "start_time": "2023-07-16T15:51:15.061Z"
   },
   {
    "duration": 10,
    "start_time": "2023-07-16T15:51:17.321Z"
   },
   {
    "duration": 94,
    "start_time": "2023-07-16T15:51:17.332Z"
   },
   {
    "duration": 11,
    "start_time": "2023-07-16T15:51:17.428Z"
   },
   {
    "duration": 18,
    "start_time": "2023-07-16T15:51:17.441Z"
   },
   {
    "duration": 6,
    "start_time": "2023-07-16T15:51:17.461Z"
   },
   {
    "duration": 1661,
    "start_time": "2023-07-16T15:51:17.469Z"
   },
   {
    "duration": 3753,
    "start_time": "2023-07-16T15:51:19.132Z"
   },
   {
    "duration": 8,
    "start_time": "2023-07-16T15:51:23.553Z"
   },
   {
    "duration": 31,
    "start_time": "2023-07-16T15:51:26.832Z"
   },
   {
    "duration": 11,
    "start_time": "2023-07-16T15:51:26.999Z"
   },
   {
    "duration": 14,
    "start_time": "2023-07-16T15:54:28.570Z"
   },
   {
    "duration": 27,
    "start_time": "2023-07-16T15:54:28.886Z"
   },
   {
    "duration": 6,
    "start_time": "2023-07-16T15:54:29.446Z"
   },
   {
    "duration": 10839,
    "start_time": "2023-07-16T15:54:30.106Z"
   },
   {
    "duration": 4,
    "start_time": "2023-07-16T15:54:43.010Z"
   },
   {
    "duration": 4,
    "start_time": "2023-07-16T15:54:54.602Z"
   },
   {
    "duration": 3,
    "start_time": "2023-07-16T15:54:55.538Z"
   },
   {
    "duration": 1065167,
    "start_time": "2023-07-16T15:54:57.862Z"
   },
   {
    "duration": 5,
    "start_time": "2023-07-16T16:13:04.396Z"
   },
   {
    "duration": 4,
    "start_time": "2023-07-16T16:13:17.332Z"
   },
   {
    "duration": 5,
    "start_time": "2023-07-16T16:13:40.128Z"
   },
   {
    "duration": 133,
    "start_time": "2023-07-16T16:14:10.325Z"
   },
   {
    "duration": 163,
    "start_time": "2023-07-16T16:30:44.992Z"
   },
   {
    "duration": 139,
    "start_time": "2023-07-16T16:42:44.426Z"
   },
   {
    "duration": 44,
    "start_time": "2023-07-16T16:44:28.990Z"
   },
   {
    "duration": 358,
    "start_time": "2023-07-16T16:45:03.526Z"
   },
   {
    "duration": 86,
    "start_time": "2023-07-16T17:22:04.994Z"
   },
   {
    "duration": 1879,
    "start_time": "2023-07-17T06:51:52.389Z"
   },
   {
    "duration": 4,
    "start_time": "2023-07-17T06:51:54.270Z"
   },
   {
    "duration": 21,
    "start_time": "2023-07-17T06:51:54.275Z"
   },
   {
    "duration": 8,
    "start_time": "2023-07-17T06:51:54.297Z"
   },
   {
    "duration": 22,
    "start_time": "2023-07-17T06:51:54.307Z"
   },
   {
    "duration": 33,
    "start_time": "2023-07-17T06:51:54.330Z"
   },
   {
    "duration": 14,
    "start_time": "2023-07-17T06:51:54.365Z"
   },
   {
    "duration": 231,
    "start_time": "2023-07-17T06:51:54.381Z"
   },
   {
    "duration": 2294,
    "start_time": "2023-07-17T06:51:54.613Z"
   },
   {
    "duration": 9,
    "start_time": "2023-07-17T06:51:56.908Z"
   },
   {
    "duration": 82,
    "start_time": "2023-07-17T06:51:56.919Z"
   },
   {
    "duration": 28,
    "start_time": "2023-07-17T06:51:57.003Z"
   },
   {
    "duration": 78,
    "start_time": "2023-07-17T06:51:57.033Z"
   },
   {
    "duration": 7,
    "start_time": "2023-07-17T06:51:57.114Z"
   },
   {
    "duration": 1632,
    "start_time": "2023-07-17T06:51:57.123Z"
   },
   {
    "duration": 3698,
    "start_time": "2023-07-17T06:51:58.757Z"
   },
   {
    "duration": 9,
    "start_time": "2023-07-17T06:52:02.457Z"
   },
   {
    "duration": 53,
    "start_time": "2023-07-17T06:52:02.468Z"
   },
   {
    "duration": 12,
    "start_time": "2023-07-17T06:52:02.523Z"
   },
   {
    "duration": 8,
    "start_time": "2023-07-17T07:27:01.383Z"
   },
   {
    "duration": 38,
    "start_time": "2023-07-17T07:27:01.552Z"
   },
   {
    "duration": 17,
    "start_time": "2023-07-17T07:27:03.331Z"
   },
   {
    "duration": 7,
    "start_time": "2023-07-17T07:32:09.463Z"
   },
   {
    "duration": 3,
    "start_time": "2023-07-17T08:12:40.148Z"
   },
   {
    "duration": 3,
    "start_time": "2023-07-17T08:13:55.836Z"
   },
   {
    "duration": 352,
    "start_time": "2023-07-17T08:14:07.711Z"
   },
   {
    "duration": 3,
    "start_time": "2023-07-17T08:14:19.283Z"
   },
   {
    "duration": 4,
    "start_time": "2023-07-17T08:14:20.640Z"
   },
   {
    "duration": 2390,
    "start_time": "2023-07-17T08:14:20.842Z"
   },
   {
    "duration": 4,
    "start_time": "2023-07-17T08:17:51.096Z"
   },
   {
    "duration": 12,
    "start_time": "2023-07-17T08:21:28.359Z"
   },
   {
    "duration": 5,
    "start_time": "2023-07-17T08:21:33.454Z"
   },
   {
    "duration": 3,
    "start_time": "2023-07-17T08:21:48.280Z"
   },
   {
    "duration": 4,
    "start_time": "2023-07-17T08:21:56.446Z"
   },
   {
    "duration": 3,
    "start_time": "2023-07-17T08:22:00.386Z"
   },
   {
    "duration": 4703,
    "start_time": "2023-07-17T08:22:58.383Z"
   },
   {
    "duration": 10005,
    "start_time": "2023-07-17T08:23:48.986Z"
   },
   {
    "duration": 3,
    "start_time": "2023-07-17T08:24:03.839Z"
   },
   {
    "duration": 2,
    "start_time": "2023-07-17T08:24:04.151Z"
   },
   {
    "duration": 2059229,
    "start_time": "2023-07-17T08:24:04.524Z"
   },
   {
    "duration": 5,
    "start_time": "2023-07-17T09:08:36.958Z"
   },
   {
    "duration": 10,
    "start_time": "2023-07-17T09:08:37.152Z"
   },
   {
    "duration": 464,
    "start_time": "2023-07-17T09:09:11.364Z"
   },
   {
    "duration": 2,
    "start_time": "2023-07-17T09:27:08.291Z"
   },
   {
    "duration": 3,
    "start_time": "2023-07-17T09:28:14.906Z"
   },
   {
    "duration": 71292299,
    "start_time": "2023-07-17T09:30:22.467Z"
   },
   {
    "duration": 1968,
    "start_time": "2023-07-18T05:19:16.456Z"
   },
   {
    "duration": 6,
    "start_time": "2023-07-18T05:19:18.426Z"
   },
   {
    "duration": 29,
    "start_time": "2023-07-18T05:19:18.435Z"
   },
   {
    "duration": 23,
    "start_time": "2023-07-18T05:19:18.466Z"
   },
   {
    "duration": 17,
    "start_time": "2023-07-18T05:19:18.491Z"
   },
   {
    "duration": 9,
    "start_time": "2023-07-18T05:19:18.509Z"
   },
   {
    "duration": 22,
    "start_time": "2023-07-18T05:19:18.520Z"
   },
   {
    "duration": 253,
    "start_time": "2023-07-18T05:19:18.544Z"
   },
   {
    "duration": 2709,
    "start_time": "2023-07-18T05:19:18.799Z"
   },
   {
    "duration": 10,
    "start_time": "2023-07-18T05:19:21.511Z"
   },
   {
    "duration": 122,
    "start_time": "2023-07-18T05:19:21.523Z"
   },
   {
    "duration": 11,
    "start_time": "2023-07-18T05:19:21.646Z"
   },
   {
    "duration": 23,
    "start_time": "2023-07-18T05:19:21.659Z"
   },
   {
    "duration": 11,
    "start_time": "2023-07-18T05:19:21.684Z"
   },
   {
    "duration": 1922,
    "start_time": "2023-07-18T05:19:21.697Z"
   },
   {
    "duration": 4391,
    "start_time": "2023-07-18T05:19:23.621Z"
   },
   {
    "duration": 13,
    "start_time": "2023-07-18T05:19:28.013Z"
   },
   {
    "duration": 48,
    "start_time": "2023-07-18T05:19:28.027Z"
   },
   {
    "duration": 13,
    "start_time": "2023-07-18T05:19:28.077Z"
   },
   {
    "duration": 58,
    "start_time": "2023-07-18T05:19:28.093Z"
   },
   {
    "duration": 75,
    "start_time": "2023-07-18T05:19:28.153Z"
   },
   {
    "duration": 18,
    "start_time": "2023-07-18T05:19:28.233Z"
   },
   {
    "duration": 12073,
    "start_time": "2023-07-18T05:19:28.253Z"
   },
   {
    "duration": 5,
    "start_time": "2023-07-18T05:20:30.850Z"
   },
   {
    "duration": 3,
    "start_time": "2023-07-18T05:20:32.540Z"
   },
   {
    "duration": 3,
    "start_time": "2023-07-18T05:20:33.178Z"
   },
   {
    "duration": 581115,
    "start_time": "2023-07-18T05:20:35.250Z"
   },
   {
    "duration": 3,
    "start_time": "2023-07-18T05:30:16.367Z"
   },
   {
    "duration": 9,
    "start_time": "2023-07-18T05:30:16.372Z"
   },
   {
    "duration": 237,
    "start_time": "2023-07-18T05:34:56.258Z"
   },
   {
    "duration": 5,
    "start_time": "2023-07-18T05:35:00.090Z"
   },
   {
    "duration": 4,
    "start_time": "2023-07-18T05:35:01.090Z"
   },
   {
    "duration": 1739767,
    "start_time": "2023-07-18T05:35:01.635Z"
   },
   {
    "duration": 4,
    "start_time": "2023-07-18T06:04:01.403Z"
   },
   {
    "duration": 138,
    "start_time": "2023-07-18T06:04:01.408Z"
   },
   {
    "duration": 186,
    "start_time": "2023-07-18T06:06:20.482Z"
   },
   {
    "duration": 3,
    "start_time": "2023-07-18T06:06:30.562Z"
   },
   {
    "duration": 3,
    "start_time": "2023-07-18T06:06:31.001Z"
   },
   {
    "duration": 7151194,
    "start_time": "2023-07-18T06:06:31.177Z"
   },
   {
    "duration": 3,
    "start_time": "2023-07-18T08:05:42.373Z"
   },
   {
    "duration": 19,
    "start_time": "2023-07-18T08:05:42.378Z"
   },
   {
    "duration": 4,
    "start_time": "2023-07-18T08:06:57.012Z"
   },
   {
    "duration": 4,
    "start_time": "2023-07-18T08:07:27.868Z"
   },
   {
    "duration": 4,
    "start_time": "2023-07-18T08:07:44.700Z"
   },
   {
    "duration": 3,
    "start_time": "2023-07-18T08:07:48.572Z"
   },
   {
    "duration": 127,
    "start_time": "2023-07-18T08:07:51.764Z"
   },
   {
    "duration": 4,
    "start_time": "2023-07-18T08:07:54.699Z"
   },
   {
    "duration": 5,
    "start_time": "2023-07-18T08:07:59.732Z"
   },
   {
    "duration": 10,
    "start_time": "2023-07-18T08:08:31.132Z"
   },
   {
    "duration": 5,
    "start_time": "2023-07-18T08:08:42.420Z"
   },
   {
    "duration": 3,
    "start_time": "2023-07-18T08:09:06.452Z"
   },
   {
    "duration": 228,
    "start_time": "2023-07-18T08:09:20.468Z"
   },
   {
    "duration": 9,
    "start_time": "2023-07-18T08:09:38.683Z"
   },
   {
    "duration": 5,
    "start_time": "2023-07-18T08:10:10.620Z"
   },
   {
    "duration": 103,
    "start_time": "2023-07-18T08:10:15.988Z"
   },
   {
    "duration": 4,
    "start_time": "2023-07-18T08:10:38.788Z"
   },
   {
    "duration": 2735,
    "start_time": "2023-07-18T08:10:55.205Z"
   },
   {
    "duration": 8,
    "start_time": "2023-07-18T08:11:05.548Z"
   },
   {
    "duration": 4,
    "start_time": "2023-07-18T08:11:08.163Z"
   },
   {
    "duration": 9,
    "start_time": "2023-07-18T08:11:15.004Z"
   },
   {
    "duration": 9,
    "start_time": "2023-07-18T08:11:17.148Z"
   },
   {
    "duration": 4,
    "start_time": "2023-07-18T08:11:19.291Z"
   },
   {
    "duration": 99,
    "start_time": "2023-07-18T08:11:22.900Z"
   },
   {
    "duration": 91434,
    "start_time": "2023-07-18T08:11:24.948Z"
   },
   {
    "duration": 0,
    "start_time": "2023-07-18T08:12:56.383Z"
   },
   {
    "duration": 5,
    "start_time": "2023-07-18T08:13:27.133Z"
   },
   {
    "duration": 6,
    "start_time": "2023-07-18T08:13:28.460Z"
   },
   {
    "duration": 10,
    "start_time": "2023-07-18T08:14:30.532Z"
   },
   {
    "duration": 14,
    "start_time": "2023-07-18T08:14:41.712Z"
   },
   {
    "duration": 7,
    "start_time": "2023-07-18T08:14:45.132Z"
   },
   {
    "duration": 5,
    "start_time": "2023-07-18T08:14:59.332Z"
   },
   {
    "duration": 294,
    "start_time": "2023-07-18T08:15:13.556Z"
   },
   {
    "duration": 4,
    "start_time": "2023-07-18T08:15:29.004Z"
   },
   {
    "duration": 7,
    "start_time": "2023-07-18T08:15:33.220Z"
   },
   {
    "duration": 4,
    "start_time": "2023-07-18T08:15:36.613Z"
   },
   {
    "duration": 4,
    "start_time": "2023-07-18T08:15:51.973Z"
   },
   {
    "duration": 212,
    "start_time": "2023-07-18T08:16:11.932Z"
   },
   {
    "duration": 196,
    "start_time": "2023-07-18T08:16:26.255Z"
   },
   {
    "duration": 4,
    "start_time": "2023-07-18T08:16:32.060Z"
   },
   {
    "duration": 48,
    "start_time": "2023-07-18T08:16:41.276Z"
   },
   {
    "duration": 93302,
    "start_time": "2023-07-18T08:16:54.773Z"
   },
   {
    "duration": 4,
    "start_time": "2023-07-18T08:18:28.077Z"
   },
   {
    "duration": 13,
    "start_time": "2023-07-18T08:18:28.083Z"
   },
   {
    "duration": 41427,
    "start_time": "2023-07-18T08:19:57.060Z"
   },
   {
    "duration": 3,
    "start_time": "2023-07-18T08:20:38.489Z"
   },
   {
    "duration": 33,
    "start_time": "2023-07-18T08:20:38.493Z"
   },
   {
    "duration": 25,
    "start_time": "2023-07-18T08:20:38.529Z"
   },
   {
    "duration": 111978,
    "start_time": "2023-07-18T08:20:59.172Z"
   },
   {
    "duration": 0,
    "start_time": "2023-07-18T08:22:51.151Z"
   },
   {
    "duration": 110482,
    "start_time": "2023-07-18T08:22:55.307Z"
   },
   {
    "duration": 3,
    "start_time": "2023-07-18T08:25:02.637Z"
   },
   {
    "duration": 11,
    "start_time": "2023-07-18T08:25:02.913Z"
   },
   {
    "duration": 4,
    "start_time": "2023-07-18T08:25:03.174Z"
   },
   {
    "duration": 1814,
    "start_time": "2023-07-18T08:25:10.932Z"
   },
   {
    "duration": 1158209,
    "start_time": "2023-07-18T08:25:23.156Z"
   },
   {
    "duration": 3,
    "start_time": "2023-07-18T08:44:41.367Z"
   },
   {
    "duration": 17,
    "start_time": "2023-07-18T08:44:41.371Z"
   },
   {
    "duration": 13,
    "start_time": "2023-07-18T08:44:41.389Z"
   },
   {
    "duration": 13,
    "start_time": "2023-07-18T08:44:41.403Z"
   },
   {
    "duration": 147,
    "start_time": "2023-07-18T08:49:50.309Z"
   },
   {
    "duration": 11,
    "start_time": "2023-07-18T08:49:56.931Z"
   },
   {
    "duration": 10,
    "start_time": "2023-07-18T08:50:09.804Z"
   },
   {
    "duration": 4,
    "start_time": "2023-07-18T08:50:19.861Z"
   },
   {
    "duration": 7,
    "start_time": "2023-07-18T08:50:26.142Z"
   },
   {
    "duration": 5,
    "start_time": "2023-07-18T09:13:51.638Z"
   },
   {
    "duration": 8,
    "start_time": "2023-07-18T09:13:52.503Z"
   },
   {
    "duration": 4,
    "start_time": "2023-07-18T09:14:01.735Z"
   },
   {
    "duration": 6,
    "start_time": "2023-07-18T09:14:02.686Z"
   },
   {
    "duration": 5,
    "start_time": "2023-07-18T09:14:19.190Z"
   },
   {
    "duration": 20,
    "start_time": "2023-07-18T09:14:19.317Z"
   },
   {
    "duration": 4,
    "start_time": "2023-07-18T09:15:14.390Z"
   },
   {
    "duration": 131,
    "start_time": "2023-07-18T09:15:37.440Z"
   },
   {
    "duration": 36,
    "start_time": "2023-07-18T09:15:41.350Z"
   },
   {
    "duration": 27,
    "start_time": "2023-07-18T09:16:16.887Z"
   },
   {
    "duration": 24,
    "start_time": "2023-07-18T09:16:49.635Z"
   },
   {
    "duration": 22,
    "start_time": "2023-07-18T09:16:59.840Z"
   },
   {
    "duration": 236,
    "start_time": "2023-07-18T09:17:46.670Z"
   },
   {
    "duration": 146,
    "start_time": "2023-07-18T09:17:52.358Z"
   },
   {
    "duration": 15,
    "start_time": "2023-07-18T09:20:04.374Z"
   },
   {
    "duration": 32,
    "start_time": "2023-07-18T09:20:22.406Z"
   },
   {
    "duration": 9,
    "start_time": "2023-07-18T09:20:48.391Z"
   },
   {
    "duration": 4,
    "start_time": "2023-07-18T09:20:54.013Z"
   },
   {
    "duration": 31,
    "start_time": "2023-07-18T09:22:10.782Z"
   },
   {
    "duration": 220,
    "start_time": "2023-07-18T09:22:15.636Z"
   },
   {
    "duration": 262,
    "start_time": "2023-07-18T09:22:29.174Z"
   },
   {
    "duration": 168,
    "start_time": "2023-07-18T09:22:31.736Z"
   },
   {
    "duration": 22751,
    "start_time": "2023-07-18T09:24:26.447Z"
   },
   {
    "duration": 5,
    "start_time": "2023-07-18T09:26:03.736Z"
   },
   {
    "duration": 30,
    "start_time": "2023-07-18T09:26:07.886Z"
   },
   {
    "duration": 182,
    "start_time": "2023-07-18T09:26:33.234Z"
   },
   {
    "duration": 185,
    "start_time": "2023-07-18T09:26:41.694Z"
   },
   {
    "duration": 25,
    "start_time": "2023-07-18T09:27:16.694Z"
   },
   {
    "duration": 176,
    "start_time": "2023-07-18T09:27:26.406Z"
   },
   {
    "duration": 186,
    "start_time": "2023-07-18T09:28:20.854Z"
   },
   {
    "duration": 183,
    "start_time": "2023-07-18T09:28:31.782Z"
   },
   {
    "duration": 188,
    "start_time": "2023-07-18T09:28:34.990Z"
   },
   {
    "duration": 215,
    "start_time": "2023-07-18T09:29:40.662Z"
   },
   {
    "duration": 185,
    "start_time": "2023-07-18T09:29:49.102Z"
   },
   {
    "duration": 182,
    "start_time": "2023-07-18T09:30:30.535Z"
   },
   {
    "duration": 196,
    "start_time": "2023-07-18T09:30:40.799Z"
   },
   {
    "duration": 190,
    "start_time": "2023-07-18T09:30:48.046Z"
   },
   {
    "duration": 3,
    "start_time": "2023-07-18T09:32:08.510Z"
   },
   {
    "duration": 3,
    "start_time": "2023-07-18T09:32:10.902Z"
   },
   {
    "duration": 23,
    "start_time": "2023-07-18T09:32:14.142Z"
   },
   {
    "duration": 23868,
    "start_time": "2023-07-18T09:32:15.974Z"
   },
   {
    "duration": 841,
    "start_time": "2023-07-18T09:33:21.567Z"
   },
   {
    "duration": 792,
    "start_time": "2023-07-18T09:33:34.262Z"
   },
   {
    "duration": 912,
    "start_time": "2023-07-18T09:33:38.750Z"
   },
   {
    "duration": 835,
    "start_time": "2023-07-18T09:33:45.367Z"
   },
   {
    "duration": 942,
    "start_time": "2023-07-18T09:34:14.783Z"
   },
   {
    "duration": 747,
    "start_time": "2023-07-18T09:34:35.533Z"
   },
   {
    "duration": 628,
    "start_time": "2023-07-18T09:35:07.960Z"
   },
   {
    "duration": 537,
    "start_time": "2023-07-18T09:35:57.967Z"
   },
   {
    "duration": 429,
    "start_time": "2023-07-18T09:36:36.238Z"
   },
   {
    "duration": 520,
    "start_time": "2023-07-18T09:37:03.848Z"
   },
   {
    "duration": 525,
    "start_time": "2023-07-18T09:37:11.351Z"
   },
   {
    "duration": 502,
    "start_time": "2023-07-18T09:37:21.895Z"
   },
   {
    "duration": 463,
    "start_time": "2023-07-18T09:42:41.888Z"
   },
   {
    "duration": 516,
    "start_time": "2023-07-18T09:43:17.344Z"
   },
   {
    "duration": 486,
    "start_time": "2023-07-18T09:43:24.895Z"
   },
   {
    "duration": 5,
    "start_time": "2023-07-18T09:45:52.304Z"
   },
   {
    "duration": 152,
    "start_time": "2023-07-18T09:46:54.744Z"
   },
   {
    "duration": 138,
    "start_time": "2023-07-18T09:47:23.560Z"
   },
   {
    "duration": 140,
    "start_time": "2023-07-18T09:47:28.817Z"
   },
   {
    "duration": 210,
    "start_time": "2023-07-18T09:48:55.265Z"
   },
   {
    "duration": 266,
    "start_time": "2023-07-18T09:51:20.320Z"
   },
   {
    "duration": 96,
    "start_time": "2023-07-18T09:52:26.168Z"
   },
   {
    "duration": 60,
    "start_time": "2023-07-18T09:56:43.848Z"
   },
   {
    "duration": 60,
    "start_time": "2023-07-18T09:58:23.265Z"
   },
   {
    "duration": 5,
    "start_time": "2023-07-18T09:58:27.739Z"
   },
   {
    "duration": 4,
    "start_time": "2023-07-18T09:59:09.040Z"
   },
   {
    "duration": 3,
    "start_time": "2023-07-18T10:00:07.337Z"
   },
   {
    "duration": 4,
    "start_time": "2023-07-18T10:00:10.898Z"
   },
   {
    "duration": 3,
    "start_time": "2023-07-18T10:01:25.865Z"
   },
   {
    "duration": 2,
    "start_time": "2023-07-18T10:04:05.841Z"
   },
   {
    "duration": 20210,
    "start_time": "2023-07-18T10:04:16.829Z"
   },
   {
    "duration": 3,
    "start_time": "2023-07-18T10:18:42.097Z"
   },
   {
    "duration": 3,
    "start_time": "2023-07-18T10:20:41.768Z"
   },
   {
    "duration": 13335,
    "start_time": "2023-07-18T10:20:44.846Z"
   },
   {
    "duration": 3,
    "start_time": "2023-07-18T10:21:03.785Z"
   },
   {
    "duration": 2,
    "start_time": "2023-07-18T10:21:04.115Z"
   },
   {
    "duration": 1128302,
    "start_time": "2023-07-18T10:21:04.401Z"
   },
   {
    "duration": 3,
    "start_time": "2023-07-18T10:39:52.705Z"
   },
   {
    "duration": 81,
    "start_time": "2023-07-18T10:39:52.709Z"
   },
   {
    "duration": 5,
    "start_time": "2023-07-18T10:40:01.658Z"
   },
   {
    "duration": 371,
    "start_time": "2023-07-18T10:40:11.375Z"
   },
   {
    "duration": 3,
    "start_time": "2023-07-18T10:41:17.568Z"
   },
   {
    "duration": 18871,
    "start_time": "2023-07-18T10:41:18.807Z"
   },
   {
    "duration": 3,
    "start_time": "2023-07-18T10:47:11.199Z"
   },
   {
    "duration": 3,
    "start_time": "2023-07-18T10:47:12.293Z"
   },
   {
    "duration": 10,
    "start_time": "2023-07-18T10:51:03.355Z"
   },
   {
    "duration": 0,
    "start_time": "2023-07-18T10:51:03.368Z"
   },
   {
    "duration": 0,
    "start_time": "2023-07-18T10:51:03.371Z"
   },
   {
    "duration": 0,
    "start_time": "2023-07-18T10:51:03.372Z"
   },
   {
    "duration": 0,
    "start_time": "2023-07-18T10:51:03.373Z"
   },
   {
    "duration": 5,
    "start_time": "2023-07-18T10:51:28.014Z"
   },
   {
    "duration": 3,
    "start_time": "2023-07-18T10:51:28.567Z"
   },
   {
    "duration": 349911,
    "start_time": "2023-07-18T10:51:29.598Z"
   },
   {
    "duration": 8,
    "start_time": "2023-07-18T10:57:19.510Z"
   },
   {
    "duration": 0,
    "start_time": "2023-07-18T10:57:19.538Z"
   },
   {
    "duration": 3,
    "start_time": "2023-07-18T10:57:35.006Z"
   },
   {
    "duration": 2,
    "start_time": "2023-07-18T10:57:35.294Z"
   },
   {
    "duration": 739513,
    "start_time": "2023-07-18T10:57:35.503Z"
   },
   {
    "duration": 14,
    "start_time": "2023-07-18T11:09:55.018Z"
   },
   {
    "duration": 3,
    "start_time": "2023-07-18T11:19:47.590Z"
   },
   {
    "duration": 3,
    "start_time": "2023-07-18T11:19:48.835Z"
   },
   {
    "duration": 802596,
    "start_time": "2023-07-18T11:19:49.044Z"
   },
   {
    "duration": 3,
    "start_time": "2023-07-18T11:38:55.663Z"
   },
   {
    "duration": 2,
    "start_time": "2023-07-18T11:38:56.583Z"
   },
   {
    "duration": 2266149,
    "start_time": "2023-07-18T11:38:57.207Z"
   },
   {
    "duration": 3,
    "start_time": "2023-07-18T12:17:23.250Z"
   },
   {
    "duration": 2,
    "start_time": "2023-07-18T12:17:23.801Z"
   },
   {
    "duration": 1782,
    "start_time": "2023-07-19T05:33:58.069Z"
   },
   {
    "duration": 3,
    "start_time": "2023-07-19T05:33:59.853Z"
   },
   {
    "duration": 13,
    "start_time": "2023-07-19T05:33:59.858Z"
   },
   {
    "duration": 8,
    "start_time": "2023-07-19T05:33:59.873Z"
   },
   {
    "duration": 11,
    "start_time": "2023-07-19T05:33:59.882Z"
   },
   {
    "duration": 502,
    "start_time": "2023-07-19T05:33:59.895Z"
   },
   {
    "duration": 3222,
    "start_time": "2023-07-19T05:34:00.398Z"
   },
   {
    "duration": 11,
    "start_time": "2023-07-19T05:34:03.622Z"
   },
   {
    "duration": 81,
    "start_time": "2023-07-19T05:34:03.635Z"
   },
   {
    "duration": 10,
    "start_time": "2023-07-19T05:34:03.719Z"
   },
   {
    "duration": 21,
    "start_time": "2023-07-19T05:34:03.731Z"
   },
   {
    "duration": 16,
    "start_time": "2023-07-19T05:34:03.754Z"
   },
   {
    "duration": 1622,
    "start_time": "2023-07-19T05:34:03.772Z"
   },
   {
    "duration": 3644,
    "start_time": "2023-07-19T05:34:05.397Z"
   },
   {
    "duration": 7,
    "start_time": "2023-07-19T05:34:09.042Z"
   },
   {
    "duration": 47,
    "start_time": "2023-07-19T05:34:09.051Z"
   },
   {
    "duration": 10,
    "start_time": "2023-07-19T05:34:09.100Z"
   },
   {
    "duration": 19,
    "start_time": "2023-07-19T05:34:09.112Z"
   },
   {
    "duration": 39,
    "start_time": "2023-07-19T05:34:09.132Z"
   },
   {
    "duration": 6,
    "start_time": "2023-07-19T05:34:09.173Z"
   },
   {
    "duration": 11246,
    "start_time": "2023-07-19T05:34:09.180Z"
   },
   {
    "duration": 3,
    "start_time": "2023-07-19T05:34:20.429Z"
   },
   {
    "duration": 34,
    "start_time": "2023-07-19T05:34:20.434Z"
   },
   {
    "duration": 4,
    "start_time": "2023-07-19T05:34:42.856Z"
   },
   {
    "duration": 1644,
    "start_time": "2023-07-19T06:44:22.957Z"
   },
   {
    "duration": 3,
    "start_time": "2023-07-19T06:44:24.603Z"
   },
   {
    "duration": 5,
    "start_time": "2023-07-19T06:44:24.607Z"
   },
   {
    "duration": 15,
    "start_time": "2023-07-19T06:44:24.613Z"
   },
   {
    "duration": 11,
    "start_time": "2023-07-19T06:44:24.630Z"
   },
   {
    "duration": 263,
    "start_time": "2023-07-19T06:44:24.642Z"
   },
   {
    "duration": 766,
    "start_time": "2023-07-19T06:44:24.907Z"
   },
   {
    "duration": 11,
    "start_time": "2023-07-19T06:44:25.674Z"
   },
   {
    "duration": 95,
    "start_time": "2023-07-19T06:44:25.687Z"
   },
   {
    "duration": 12,
    "start_time": "2023-07-19T06:44:25.784Z"
   },
   {
    "duration": 19,
    "start_time": "2023-07-19T06:44:25.798Z"
   },
   {
    "duration": 3,
    "start_time": "2023-07-19T06:44:25.819Z"
   },
   {
    "duration": 1577,
    "start_time": "2023-07-19T06:44:25.824Z"
   },
   {
    "duration": 3618,
    "start_time": "2023-07-19T06:44:27.404Z"
   },
   {
    "duration": 7,
    "start_time": "2023-07-19T06:44:31.024Z"
   },
   {
    "duration": 44,
    "start_time": "2023-07-19T06:44:31.032Z"
   },
   {
    "duration": 18,
    "start_time": "2023-07-19T06:44:31.078Z"
   },
   {
    "duration": 27,
    "start_time": "2023-07-19T06:44:31.098Z"
   },
   {
    "duration": 44,
    "start_time": "2023-07-19T06:44:31.127Z"
   },
   {
    "duration": 19,
    "start_time": "2023-07-19T06:44:31.174Z"
   },
   {
    "duration": 10995,
    "start_time": "2023-07-19T06:44:31.194Z"
   },
   {
    "duration": 4,
    "start_time": "2023-07-19T06:44:57.690Z"
   },
   {
    "duration": 3,
    "start_time": "2023-07-19T06:46:59.840Z"
   },
   {
    "duration": 3,
    "start_time": "2023-07-19T06:47:02.782Z"
   },
   {
    "duration": 1563,
    "start_time": "2023-07-19T06:50:53.245Z"
   },
   {
    "duration": 3,
    "start_time": "2023-07-19T06:50:54.810Z"
   },
   {
    "duration": 8,
    "start_time": "2023-07-19T06:50:54.815Z"
   },
   {
    "duration": 7,
    "start_time": "2023-07-19T06:50:54.824Z"
   },
   {
    "duration": 9,
    "start_time": "2023-07-19T06:50:54.833Z"
   },
   {
    "duration": 377,
    "start_time": "2023-07-19T06:50:54.843Z"
   },
   {
    "duration": 765,
    "start_time": "2023-07-19T06:50:55.221Z"
   },
   {
    "duration": 11,
    "start_time": "2023-07-19T06:50:55.988Z"
   },
   {
    "duration": 94,
    "start_time": "2023-07-19T06:50:56.001Z"
   },
   {
    "duration": 11,
    "start_time": "2023-07-19T06:50:56.096Z"
   },
   {
    "duration": 11,
    "start_time": "2023-07-19T06:50:56.109Z"
   },
   {
    "duration": 2,
    "start_time": "2023-07-19T06:50:56.122Z"
   },
   {
    "duration": 1583,
    "start_time": "2023-07-19T06:50:56.126Z"
   },
   {
    "duration": 3650,
    "start_time": "2023-07-19T06:50:57.712Z"
   },
   {
    "duration": 9,
    "start_time": "2023-07-19T06:51:01.368Z"
   },
   {
    "duration": 65,
    "start_time": "2023-07-19T06:51:01.379Z"
   },
   {
    "duration": 22,
    "start_time": "2023-07-19T06:51:01.446Z"
   },
   {
    "duration": 48,
    "start_time": "2023-07-19T06:51:01.470Z"
   },
   {
    "duration": 69,
    "start_time": "2023-07-19T06:51:01.520Z"
   },
   {
    "duration": 43,
    "start_time": "2023-07-19T06:51:01.591Z"
   },
   {
    "duration": 10805,
    "start_time": "2023-07-19T06:51:01.636Z"
   },
   {
    "duration": 4,
    "start_time": "2023-07-19T06:51:12.443Z"
   },
   {
    "duration": 23,
    "start_time": "2023-07-19T06:51:12.448Z"
   },
   {
    "duration": 5,
    "start_time": "2023-07-19T06:51:12.473Z"
   },
   {
    "duration": 4,
    "start_time": "2023-07-19T06:51:39.992Z"
   },
   {
    "duration": 3,
    "start_time": "2023-07-19T06:51:40.944Z"
   },
   {
    "duration": 987244,
    "start_time": "2023-07-19T06:51:41.856Z"
   },
   {
    "duration": 4,
    "start_time": "2023-07-19T07:10:49.811Z"
   },
   {
    "duration": 4,
    "start_time": "2023-07-19T07:10:50.415Z"
   },
   {
    "duration": 4,
    "start_time": "2023-07-19T07:10:58.464Z"
   },
   {
    "duration": 178,
    "start_time": "2023-07-19T07:11:01.045Z"
   },
   {
    "duration": 4,
    "start_time": "2023-07-19T07:11:08.537Z"
   },
   {
    "duration": 2,
    "start_time": "2023-07-19T07:11:09.175Z"
   },
   {
    "duration": 232557,
    "start_time": "2023-07-19T07:11:09.941Z"
   },
   {
    "duration": 3,
    "start_time": "2023-07-19T07:15:02.500Z"
   },
   {
    "duration": 3,
    "start_time": "2023-07-19T07:17:02.850Z"
   },
   {
    "duration": 4,
    "start_time": "2023-07-19T07:17:04.145Z"
   },
   {
    "duration": 67,
    "start_time": "2023-07-19T07:17:05.454Z"
   },
   {
    "duration": 4,
    "start_time": "2023-07-19T07:20:09.661Z"
   },
   {
    "duration": 4,
    "start_time": "2023-07-19T07:20:56.545Z"
   },
   {
    "duration": 3,
    "start_time": "2023-07-19T07:21:07.800Z"
   },
   {
    "duration": 3,
    "start_time": "2023-07-19T07:21:08.979Z"
   },
   {
    "duration": 57,
    "start_time": "2023-07-19T10:10:21.054Z"
   },
   {
    "duration": 1583,
    "start_time": "2023-07-19T10:10:32.079Z"
   },
   {
    "duration": 4,
    "start_time": "2023-07-19T10:10:33.664Z"
   },
   {
    "duration": 17,
    "start_time": "2023-07-19T10:10:33.670Z"
   },
   {
    "duration": 21,
    "start_time": "2023-07-19T10:10:33.688Z"
   },
   {
    "duration": 7,
    "start_time": "2023-07-19T10:10:33.711Z"
   },
   {
    "duration": 512,
    "start_time": "2023-07-19T10:10:33.720Z"
   },
   {
    "duration": 3156,
    "start_time": "2023-07-19T10:10:34.234Z"
   },
   {
    "duration": 11,
    "start_time": "2023-07-19T10:10:37.392Z"
   },
   {
    "duration": 87,
    "start_time": "2023-07-19T10:10:37.405Z"
   },
   {
    "duration": 11,
    "start_time": "2023-07-19T10:10:37.493Z"
   },
   {
    "duration": 22,
    "start_time": "2023-07-19T10:10:37.505Z"
   },
   {
    "duration": 2,
    "start_time": "2023-07-19T10:10:37.529Z"
   },
   {
    "duration": 1699,
    "start_time": "2023-07-19T10:10:37.532Z"
   },
   {
    "duration": 3615,
    "start_time": "2023-07-19T10:10:39.233Z"
   },
   {
    "duration": 7,
    "start_time": "2023-07-19T10:10:42.849Z"
   },
   {
    "duration": 42,
    "start_time": "2023-07-19T10:10:42.857Z"
   },
   {
    "duration": 10,
    "start_time": "2023-07-19T10:10:42.900Z"
   },
   {
    "duration": 15,
    "start_time": "2023-07-19T10:10:42.911Z"
   },
   {
    "duration": 37,
    "start_time": "2023-07-19T10:10:42.927Z"
   },
   {
    "duration": 6,
    "start_time": "2023-07-19T10:10:42.966Z"
   },
   {
    "duration": 10899,
    "start_time": "2023-07-19T10:10:47.932Z"
   },
   {
    "duration": 4,
    "start_time": "2023-07-19T10:11:01.949Z"
   },
   {
    "duration": 3,
    "start_time": "2023-07-19T10:11:05.853Z"
   },
   {
    "duration": 3,
    "start_time": "2023-07-19T10:13:17.805Z"
   },
   {
    "duration": 3,
    "start_time": "2023-07-19T10:13:18.997Z"
   },
   {
    "duration": 4,
    "start_time": "2023-07-19T10:13:25.271Z"
   },
   {
    "duration": 3,
    "start_time": "2023-07-19T10:13:25.420Z"
   },
   {
    "duration": 2806139,
    "start_time": "2023-07-19T10:13:25.790Z"
   },
   {
    "duration": 4,
    "start_time": "2023-07-19T11:01:34.631Z"
   },
   {
    "duration": 4,
    "start_time": "2023-07-19T11:01:34.869Z"
   },
   {
    "duration": 4,
    "start_time": "2023-07-19T11:01:35.150Z"
   },
   {
    "duration": 2405,
    "start_time": "2023-07-19T11:01:35.566Z"
   },
   {
    "duration": 72,
    "start_time": "2023-07-19T11:01:54.710Z"
   },
   {
    "duration": 98573,
    "start_time": "2023-07-19T11:01:55.319Z"
   },
   {
    "duration": 3,
    "start_time": "2023-07-19T11:03:33.895Z"
   },
   {
    "duration": 13,
    "start_time": "2023-07-19T11:03:33.900Z"
   },
   {
    "duration": 7,
    "start_time": "2023-07-19T11:03:33.915Z"
   },
   {
    "duration": 82,
    "start_time": "2023-07-19T11:03:42.446Z"
   },
   {
    "duration": 56540,
    "start_time": "2023-07-19T11:03:42.653Z"
   },
   {
    "duration": 2,
    "start_time": "2023-07-19T11:04:39.195Z"
   },
   {
    "duration": 8,
    "start_time": "2023-07-19T11:04:39.199Z"
   },
   {
    "duration": 5,
    "start_time": "2023-07-19T11:04:39.209Z"
   },
   {
    "duration": 810,
    "start_time": "2023-07-19T11:06:29.077Z"
   },
   {
    "duration": 590896,
    "start_time": "2023-07-19T11:06:30.012Z"
   },
   {
    "duration": 3,
    "start_time": "2023-07-19T11:16:20.910Z"
   },
   {
    "duration": 24,
    "start_time": "2023-07-19T11:16:20.915Z"
   },
   {
    "duration": 32,
    "start_time": "2023-07-19T11:16:20.941Z"
   },
   {
    "duration": 5,
    "start_time": "2023-07-19T11:19:53.652Z"
   },
   {
    "duration": 6,
    "start_time": "2023-07-19T11:19:53.804Z"
   },
   {
    "duration": 20,
    "start_time": "2023-07-19T11:25:56.716Z"
   },
   {
    "duration": 82,
    "start_time": "2023-07-19T11:26:20.500Z"
   },
   {
    "duration": 3,
    "start_time": "2023-07-19T11:29:20.172Z"
   },
   {
    "duration": 15,
    "start_time": "2023-07-19T11:29:23.036Z"
   },
   {
    "duration": 3,
    "start_time": "2023-07-19T11:29:32.332Z"
   },
   {
    "duration": 12057,
    "start_time": "2023-07-19T11:29:33.452Z"
   },
   {
    "duration": 176,
    "start_time": "2023-07-19T11:30:03.932Z"
   },
   {
    "duration": 446,
    "start_time": "2023-07-19T11:30:07.454Z"
   },
   {
    "duration": 131,
    "start_time": "2023-07-19T11:30:27.613Z"
   },
   {
    "duration": 567,
    "start_time": "2023-07-19T11:30:31.253Z"
   },
   {
    "duration": 19,
    "start_time": "2023-07-19T11:34:07.556Z"
   },
   {
    "duration": 486,
    "start_time": "2023-07-19T11:34:12.132Z"
   },
   {
    "duration": 13,
    "start_time": "2023-07-19T11:34:53.388Z"
   },
   {
    "duration": 17,
    "start_time": "2023-07-19T11:35:01.196Z"
   },
   {
    "duration": 452,
    "start_time": "2023-07-19T11:35:05.765Z"
   },
   {
    "duration": 17,
    "start_time": "2023-07-19T11:35:16.772Z"
   },
   {
    "duration": 495,
    "start_time": "2023-07-19T11:35:19.822Z"
   },
   {
    "duration": 21,
    "start_time": "2023-07-19T11:35:42.020Z"
   },
   {
    "duration": 446,
    "start_time": "2023-07-19T11:36:00.469Z"
   },
   {
    "duration": 203,
    "start_time": "2023-07-20T06:57:25.142Z"
   },
   {
    "duration": 165,
    "start_time": "2023-07-20T07:08:08.965Z"
   },
   {
    "duration": 3,
    "start_time": "2023-07-20T07:09:59.499Z"
   },
   {
    "duration": 2589,
    "start_time": "2023-07-20T07:10:06.604Z"
   },
   {
    "duration": 124,
    "start_time": "2023-07-20T07:10:26.092Z"
   },
   {
    "duration": 4,
    "start_time": "2023-07-20T07:10:31.051Z"
   },
   {
    "duration": 133,
    "start_time": "2023-07-20T07:10:31.057Z"
   },
   {
    "duration": 47,
    "start_time": "2023-07-20T07:10:31.192Z"
   },
   {
    "duration": 31,
    "start_time": "2023-07-20T07:10:31.242Z"
   },
   {
    "duration": 32,
    "start_time": "2023-07-20T07:10:31.275Z"
   },
   {
    "duration": 285,
    "start_time": "2023-07-20T07:10:31.309Z"
   },
   {
    "duration": 2467,
    "start_time": "2023-07-20T07:10:31.596Z"
   },
   {
    "duration": 11,
    "start_time": "2023-07-20T07:10:34.064Z"
   },
   {
    "duration": 92,
    "start_time": "2023-07-20T07:10:34.076Z"
   },
   {
    "duration": 165,
    "start_time": "2023-07-20T07:11:04.996Z"
   },
   {
    "duration": 121,
    "start_time": "2023-07-20T07:11:49.116Z"
   },
   {
    "duration": 114,
    "start_time": "2023-07-20T07:12:00.412Z"
   },
   {
    "duration": 127,
    "start_time": "2023-07-20T07:13:41.860Z"
   },
   {
    "duration": 155,
    "start_time": "2023-07-20T07:13:48.941Z"
   },
   {
    "duration": 157,
    "start_time": "2023-07-20T07:13:58.525Z"
   },
   {
    "duration": 178,
    "start_time": "2023-07-20T07:14:25.364Z"
   },
   {
    "duration": 145,
    "start_time": "2023-07-20T07:14:28.756Z"
   },
   {
    "duration": 18,
    "start_time": "2023-07-20T07:18:39.156Z"
   },
   {
    "duration": 18,
    "start_time": "2023-07-20T07:18:49.117Z"
   },
   {
    "duration": 14,
    "start_time": "2023-07-20T07:19:04.965Z"
   },
   {
    "duration": 152,
    "start_time": "2023-07-20T07:19:09.380Z"
   },
   {
    "duration": 150,
    "start_time": "2023-07-20T07:19:17.590Z"
   },
   {
    "duration": 240,
    "start_time": "2023-07-20T07:19:42.996Z"
   },
   {
    "duration": 157,
    "start_time": "2023-07-20T07:22:50.620Z"
   },
   {
    "duration": 141,
    "start_time": "2023-07-20T07:23:22.140Z"
   },
   {
    "duration": 138,
    "start_time": "2023-07-20T07:23:45.932Z"
   },
   {
    "duration": 153,
    "start_time": "2023-07-20T07:23:52.940Z"
   },
   {
    "duration": 158,
    "start_time": "2023-07-20T07:24:41.896Z"
   },
   {
    "duration": 149,
    "start_time": "2023-07-20T07:24:52.908Z"
   },
   {
    "duration": 156,
    "start_time": "2023-07-20T07:24:59.660Z"
   },
   {
    "duration": 147,
    "start_time": "2023-07-20T07:25:10.644Z"
   },
   {
    "duration": 148,
    "start_time": "2023-07-20T07:25:41.788Z"
   },
   {
    "duration": 199,
    "start_time": "2023-07-20T07:25:53.192Z"
   },
   {
    "duration": 132,
    "start_time": "2023-07-20T07:25:59.860Z"
   },
   {
    "duration": 118,
    "start_time": "2023-07-20T07:28:09.756Z"
   },
   {
    "duration": 111,
    "start_time": "2023-07-20T07:28:16.284Z"
   },
   {
    "duration": 421,
    "start_time": "2023-07-20T07:28:27.156Z"
   },
   {
    "duration": 111,
    "start_time": "2023-07-20T07:28:48.236Z"
   },
   {
    "duration": 250,
    "start_time": "2023-07-20T07:29:04.732Z"
   },
   {
    "duration": 132,
    "start_time": "2023-07-20T07:29:33.052Z"
   },
   {
    "duration": 4736,
    "start_time": "2023-07-20T07:37:22.452Z"
   },
   {
    "duration": 5140,
    "start_time": "2023-07-20T08:30:43.418Z"
   },
   {
    "duration": 6,
    "start_time": "2023-07-20T08:30:48.561Z"
   },
   {
    "duration": 28,
    "start_time": "2023-07-20T08:30:48.569Z"
   },
   {
    "duration": 39,
    "start_time": "2023-07-20T08:30:48.599Z"
   },
   {
    "duration": 29,
    "start_time": "2023-07-20T08:30:48.641Z"
   },
   {
    "duration": 193,
    "start_time": "2023-07-20T08:30:48.671Z"
   },
   {
    "duration": 872,
    "start_time": "2023-07-20T08:30:48.865Z"
   },
   {
    "duration": 11,
    "start_time": "2023-07-20T08:30:49.739Z"
   },
   {
    "duration": 94,
    "start_time": "2023-07-20T08:30:49.752Z"
   },
   {
    "duration": 8,
    "start_time": "2023-07-20T08:30:49.848Z"
   },
   {
    "duration": 23,
    "start_time": "2023-07-20T08:30:49.858Z"
   },
   {
    "duration": 174,
    "start_time": "2023-07-20T08:30:54.729Z"
   },
   {
    "duration": 7,
    "start_time": "2023-07-20T08:33:45.556Z"
   },
   {
    "duration": 5,
    "start_time": "2023-07-20T08:33:56.865Z"
   },
   {
    "duration": 688,
    "start_time": "2023-07-20T08:39:38.593Z"
   },
   {
    "duration": 490,
    "start_time": "2023-07-20T09:28:47.065Z"
   },
   {
    "duration": 4,
    "start_time": "2023-07-20T09:31:39.466Z"
   },
   {
    "duration": 373,
    "start_time": "2023-07-20T09:32:06.162Z"
   },
   {
    "duration": 57,
    "start_time": "2023-07-20T09:32:12.217Z"
   },
   {
    "duration": 981,
    "start_time": "2023-07-20T09:32:26.250Z"
   },
   {
    "duration": 16,
    "start_time": "2023-07-20T09:32:27.642Z"
   },
   {
    "duration": 7,
    "start_time": "2023-07-20T09:32:33.265Z"
   },
   {
    "duration": 16,
    "start_time": "2023-07-20T09:34:22.161Z"
   },
   {
    "duration": 20,
    "start_time": "2023-07-20T09:34:32.242Z"
   },
   {
    "duration": 15,
    "start_time": "2023-07-20T09:35:02.570Z"
   },
   {
    "duration": 7,
    "start_time": "2023-07-20T09:35:04.190Z"
   },
   {
    "duration": 5,
    "start_time": "2023-07-20T09:36:27.514Z"
   },
   {
    "duration": 7,
    "start_time": "2023-07-20T09:36:28.291Z"
   },
   {
    "duration": 16,
    "start_time": "2023-07-20T09:37:44.170Z"
   },
   {
    "duration": 9,
    "start_time": "2023-07-20T09:37:45.539Z"
   },
   {
    "duration": 511,
    "start_time": "2023-07-20T09:38:01.290Z"
   },
   {
    "duration": 28,
    "start_time": "2023-07-20T09:38:02.418Z"
   },
   {
    "duration": 9,
    "start_time": "2023-07-20T09:38:03.043Z"
   },
   {
    "duration": 18,
    "start_time": "2023-07-20T09:39:46.042Z"
   },
   {
    "duration": 3217,
    "start_time": "2023-07-20T09:41:07.851Z"
   },
   {
    "duration": 14,
    "start_time": "2023-07-20T09:41:12.979Z"
   },
   {
    "duration": 37,
    "start_time": "2023-07-20T09:41:40.571Z"
   },
   {
    "duration": 20,
    "start_time": "2023-07-20T09:41:47.555Z"
   },
   {
    "duration": 32,
    "start_time": "2023-07-20T09:41:53.115Z"
   },
   {
    "duration": 31,
    "start_time": "2023-07-20T09:42:02.307Z"
   },
   {
    "duration": 26,
    "start_time": "2023-07-20T09:42:11.499Z"
   },
   {
    "duration": 5008,
    "start_time": "2023-07-20T09:42:56.796Z"
   },
   {
    "duration": 5232,
    "start_time": "2023-07-20T09:43:09.611Z"
   },
   {
    "duration": 8057,
    "start_time": "2023-07-20T09:43:25.236Z"
   },
   {
    "duration": 33,
    "start_time": "2023-07-20T09:43:42.883Z"
   },
   {
    "duration": 9303,
    "start_time": "2023-07-20T09:44:11.196Z"
   },
   {
    "duration": 11940,
    "start_time": "2023-07-20T09:44:52.564Z"
   },
   {
    "duration": 34,
    "start_time": "2023-07-20T09:45:11.652Z"
   },
   {
    "duration": 21,
    "start_time": "2023-07-20T09:45:21.644Z"
   },
   {
    "duration": 20,
    "start_time": "2023-07-20T09:45:27.075Z"
   },
   {
    "duration": 3378,
    "start_time": "2023-07-20T09:46:49.691Z"
   },
   {
    "duration": 5369,
    "start_time": "2023-07-20T09:47:09.100Z"
   },
   {
    "duration": 34,
    "start_time": "2023-07-20T09:47:19.534Z"
   },
   {
    "duration": 36,
    "start_time": "2023-07-20T09:47:25.899Z"
   },
   {
    "duration": 8120,
    "start_time": "2023-07-20T09:48:43.276Z"
   },
   {
    "duration": 37,
    "start_time": "2023-07-20T09:49:13.292Z"
   },
   {
    "duration": 27,
    "start_time": "2023-07-20T09:57:16.941Z"
   },
   {
    "duration": 11,
    "start_time": "2023-07-20T09:57:17.849Z"
   },
   {
    "duration": 5,
    "start_time": "2023-07-20T09:57:24.004Z"
   },
   {
    "duration": 9,
    "start_time": "2023-07-20T09:57:25.044Z"
   },
   {
    "duration": 8,
    "start_time": "2023-07-20T09:57:32.143Z"
   },
   {
    "duration": 8,
    "start_time": "2023-07-20T09:57:38.226Z"
   },
   {
    "duration": 5,
    "start_time": "2023-07-20T09:57:42.860Z"
   },
   {
    "duration": 8022,
    "start_time": "2023-07-20T09:58:03.862Z"
   },
   {
    "duration": 8497,
    "start_time": "2023-07-20T09:58:11.886Z"
   },
   {
    "duration": 6,
    "start_time": "2023-07-20T09:58:20.384Z"
   },
   {
    "duration": 6,
    "start_time": "2023-07-20T09:58:20.392Z"
   },
   {
    "duration": 11,
    "start_time": "2023-07-20T09:58:20.399Z"
   },
   {
    "duration": 8,
    "start_time": "2023-07-20T09:58:20.411Z"
   },
   {
    "duration": 311,
    "start_time": "2023-07-20T09:58:20.427Z"
   },
   {
    "duration": 829,
    "start_time": "2023-07-20T09:58:20.739Z"
   },
   {
    "duration": 12,
    "start_time": "2023-07-20T09:58:21.569Z"
   },
   {
    "duration": 83,
    "start_time": "2023-07-20T09:58:21.582Z"
   },
   {
    "duration": 10,
    "start_time": "2023-07-20T09:58:21.667Z"
   },
   {
    "duration": 15,
    "start_time": "2023-07-20T09:58:21.679Z"
   },
   {
    "duration": 179,
    "start_time": "2023-07-20T09:58:21.695Z"
   },
   {
    "duration": 2,
    "start_time": "2023-07-20T09:58:21.876Z"
   },
   {
    "duration": 153,
    "start_time": "2023-07-20T09:58:21.880Z"
   },
   {
    "duration": 126,
    "start_time": "2023-07-20T09:58:30.973Z"
   },
   {
    "duration": 116,
    "start_time": "2023-07-20T09:58:37.245Z"
   },
   {
    "duration": 130,
    "start_time": "2023-07-20T09:58:47.621Z"
   },
   {
    "duration": 6,
    "start_time": "2023-07-20T09:59:16.708Z"
   },
   {
    "duration": 535,
    "start_time": "2023-07-20T09:59:17.252Z"
   },
   {
    "duration": 4,
    "start_time": "2023-07-20T09:59:21.741Z"
   },
   {
    "duration": 3133,
    "start_time": "2023-07-20T09:59:22.284Z"
   },
   {
    "duration": 4,
    "start_time": "2023-07-20T09:59:30.956Z"
   },
   {
    "duration": 6,
    "start_time": "2023-07-20T09:59:35.748Z"
   },
   {
    "duration": 20,
    "start_time": "2023-07-20T09:59:49.580Z"
   },
   {
    "duration": 8,
    "start_time": "2023-07-20T09:59:57.372Z"
   },
   {
    "duration": 5,
    "start_time": "2023-07-20T10:03:15.485Z"
   },
   {
    "duration": 21,
    "start_time": "2023-07-20T10:03:41.183Z"
   },
   {
    "duration": 16,
    "start_time": "2023-07-20T10:03:52.685Z"
   },
   {
    "duration": 17,
    "start_time": "2023-07-20T10:04:22.981Z"
   },
   {
    "duration": 19,
    "start_time": "2023-07-20T10:04:30.340Z"
   },
   {
    "duration": 24,
    "start_time": "2023-07-20T10:04:45.885Z"
   },
   {
    "duration": 12,
    "start_time": "2023-07-20T10:05:33.901Z"
   },
   {
    "duration": 22,
    "start_time": "2023-07-20T10:05:37.149Z"
   },
   {
    "duration": 25,
    "start_time": "2023-07-20T10:05:43.620Z"
   },
   {
    "duration": 4,
    "start_time": "2023-07-20T10:05:50.740Z"
   },
   {
    "duration": 10,
    "start_time": "2023-07-20T10:06:03.204Z"
   },
   {
    "duration": 3,
    "start_time": "2023-07-20T10:06:04.413Z"
   },
   {
    "duration": 6,
    "start_time": "2023-07-20T10:06:44.477Z"
   },
   {
    "duration": 793,
    "start_time": "2023-07-20T10:06:44.661Z"
   },
   {
    "duration": 4,
    "start_time": "2023-07-20T10:06:45.456Z"
   },
   {
    "duration": 5,
    "start_time": "2023-07-20T10:08:00.255Z"
   },
   {
    "duration": 44,
    "start_time": "2023-07-20T10:09:36.452Z"
   },
   {
    "duration": 21,
    "start_time": "2023-07-20T10:12:36.338Z"
   },
   {
    "duration": 21,
    "start_time": "2023-07-20T10:12:49.136Z"
   },
   {
    "duration": 8,
    "start_time": "2023-07-20T10:14:01.370Z"
   },
   {
    "duration": 4,
    "start_time": "2023-07-20T10:14:10.292Z"
   },
   {
    "duration": 17,
    "start_time": "2023-07-20T10:15:30.412Z"
   },
   {
    "duration": 4,
    "start_time": "2023-07-20T10:15:36.852Z"
   },
   {
    "duration": 4,
    "start_time": "2023-07-20T10:15:44.299Z"
   },
   {
    "duration": 4,
    "start_time": "2023-07-20T10:17:06.347Z"
   },
   {
    "duration": 4,
    "start_time": "2023-07-20T10:17:10.362Z"
   },
   {
    "duration": 4,
    "start_time": "2023-07-20T10:17:26.178Z"
   },
   {
    "duration": 3,
    "start_time": "2023-07-20T10:19:45.908Z"
   },
   {
    "duration": 4,
    "start_time": "2023-07-20T11:30:01.578Z"
   },
   {
    "duration": 271,
    "start_time": "2023-07-20T11:30:05.994Z"
   },
   {
    "duration": 5,
    "start_time": "2023-07-20T11:30:09.306Z"
   },
   {
    "duration": 20,
    "start_time": "2023-07-20T11:30:13.290Z"
   },
   {
    "duration": 3,
    "start_time": "2023-07-20T11:38:59.194Z"
   },
   {
    "duration": 4,
    "start_time": "2023-07-20T11:39:04.098Z"
   },
   {
    "duration": 9718,
    "start_time": "2023-07-20T16:39:34.431Z"
   },
   {
    "duration": 9301,
    "start_time": "2023-07-20T16:39:44.151Z"
   },
   {
    "duration": 5,
    "start_time": "2023-07-20T16:39:53.454Z"
   },
   {
    "duration": 16,
    "start_time": "2023-07-20T16:39:53.461Z"
   },
   {
    "duration": 13,
    "start_time": "2023-07-20T16:39:53.479Z"
   },
   {
    "duration": 13,
    "start_time": "2023-07-20T16:39:53.493Z"
   },
   {
    "duration": 373,
    "start_time": "2023-07-20T16:39:53.507Z"
   },
   {
    "duration": 3167,
    "start_time": "2023-07-20T16:39:53.882Z"
   },
   {
    "duration": 11,
    "start_time": "2023-07-20T16:39:57.050Z"
   },
   {
    "duration": 69,
    "start_time": "2023-07-20T16:39:57.063Z"
   },
   {
    "duration": 9,
    "start_time": "2023-07-20T16:39:57.134Z"
   },
   {
    "duration": 20,
    "start_time": "2023-07-20T16:39:57.145Z"
   },
   {
    "duration": 5,
    "start_time": "2023-07-20T16:40:26.965Z"
   },
   {
    "duration": 687,
    "start_time": "2023-07-20T16:40:29.963Z"
   },
   {
    "duration": 5,
    "start_time": "2023-07-20T16:40:39.562Z"
   },
   {
    "duration": 335,
    "start_time": "2023-07-20T16:40:41.686Z"
   },
   {
    "duration": 382,
    "start_time": "2023-07-20T16:43:17.776Z"
   },
   {
    "duration": 16,
    "start_time": "2023-07-20T16:44:59.785Z"
   },
   {
    "duration": 39,
    "start_time": "2023-07-20T16:45:03.908Z"
   },
   {
    "duration": 3,
    "start_time": "2023-07-20T16:45:55.475Z"
   },
   {
    "duration": 11,
    "start_time": "2023-07-20T16:46:02.551Z"
   },
   {
    "duration": 4,
    "start_time": "2023-07-20T16:46:13.276Z"
   },
   {
    "duration": 4,
    "start_time": "2023-07-20T16:46:25.320Z"
   },
   {
    "duration": 1191,
    "start_time": "2023-07-20T16:52:06.991Z"
   },
   {
    "duration": 1110,
    "start_time": "2023-07-20T16:52:20.834Z"
   },
   {
    "duration": 72,
    "start_time": "2023-07-20T16:55:06.794Z"
   },
   {
    "duration": 11,
    "start_time": "2023-07-20T16:55:09.679Z"
   },
   {
    "duration": 3,
    "start_time": "2023-07-20T16:55:11.936Z"
   },
   {
    "duration": 68,
    "start_time": "2023-07-20T17:01:46.815Z"
   },
   {
    "duration": 5,
    "start_time": "2023-07-20T17:01:56.372Z"
   },
   {
    "duration": 37,
    "start_time": "2023-07-20T17:02:12.411Z"
   },
   {
    "duration": 3,
    "start_time": "2023-07-20T17:02:21.198Z"
   },
   {
    "duration": 4,
    "start_time": "2023-07-20T17:02:30.468Z"
   },
   {
    "duration": 4,
    "start_time": "2023-07-20T17:02:36.893Z"
   },
   {
    "duration": 5,
    "start_time": "2023-07-20T17:02:59.241Z"
   },
   {
    "duration": 30,
    "start_time": "2023-07-20T17:02:59.811Z"
   },
   {
    "duration": 70,
    "start_time": "2023-07-20T17:07:12.806Z"
   },
   {
    "duration": 4,
    "start_time": "2023-07-20T17:15:32.145Z"
   },
   {
    "duration": 3,
    "start_time": "2023-07-20T17:15:35.070Z"
   },
   {
    "duration": 17,
    "start_time": "2023-07-20T17:16:29.837Z"
   },
   {
    "duration": 23043,
    "start_time": "2023-07-20T17:16:46.080Z"
   },
   {
    "duration": 676,
    "start_time": "2023-07-20T17:17:22.786Z"
   },
   {
    "duration": 10,
    "start_time": "2023-07-20T17:17:26.670Z"
   },
   {
    "duration": 384,
    "start_time": "2023-07-20T17:19:43.010Z"
   },
   {
    "duration": 14,
    "start_time": "2023-07-20T17:19:43.396Z"
   },
   {
    "duration": 3,
    "start_time": "2023-07-20T17:19:46.458Z"
   },
   {
    "duration": 9739,
    "start_time": "2023-07-20T17:21:55.885Z"
   },
   {
    "duration": 5304,
    "start_time": "2023-07-20T17:22:05.626Z"
   },
   {
    "duration": 6,
    "start_time": "2023-07-20T17:22:10.932Z"
   },
   {
    "duration": 5,
    "start_time": "2023-07-20T17:22:10.940Z"
   },
   {
    "duration": 6,
    "start_time": "2023-07-20T17:22:10.946Z"
   },
   {
    "duration": 12,
    "start_time": "2023-07-20T17:22:10.953Z"
   },
   {
    "duration": 282,
    "start_time": "2023-07-20T17:22:10.966Z"
   },
   {
    "duration": 722,
    "start_time": "2023-07-20T17:22:11.250Z"
   },
   {
    "duration": 11,
    "start_time": "2023-07-20T17:22:11.974Z"
   },
   {
    "duration": 82,
    "start_time": "2023-07-20T17:22:11.988Z"
   },
   {
    "duration": 10,
    "start_time": "2023-07-20T17:22:12.072Z"
   },
   {
    "duration": 29,
    "start_time": "2023-07-20T17:22:12.084Z"
   },
   {
    "duration": 135,
    "start_time": "2023-07-20T17:22:12.114Z"
   },
   {
    "duration": 2,
    "start_time": "2023-07-20T17:22:12.251Z"
   },
   {
    "duration": 6,
    "start_time": "2023-07-20T17:22:12.254Z"
   },
   {
    "duration": 5,
    "start_time": "2023-07-20T17:23:08.312Z"
   },
   {
    "duration": 421,
    "start_time": "2023-07-20T17:23:08.954Z"
   },
   {
    "duration": 2,
    "start_time": "2023-07-20T17:23:12.363Z"
   },
   {
    "duration": 572,
    "start_time": "2023-07-20T17:23:28.901Z"
   },
   {
    "duration": 19,
    "start_time": "2023-07-20T17:26:56.928Z"
   },
   {
    "duration": 7,
    "start_time": "2023-07-20T17:27:00.573Z"
   },
   {
    "duration": 4,
    "start_time": "2023-07-20T17:27:25.133Z"
   },
   {
    "duration": 7,
    "start_time": "2023-07-20T17:27:29.186Z"
   },
   {
    "duration": 5,
    "start_time": "2023-07-20T17:27:38.908Z"
   },
   {
    "duration": 5,
    "start_time": "2023-07-20T17:27:44.208Z"
   },
   {
    "duration": 3,
    "start_time": "2023-07-20T17:27:51.497Z"
   },
   {
    "duration": 7,
    "start_time": "2023-07-20T17:29:18.923Z"
   },
   {
    "duration": 16,
    "start_time": "2023-07-20T17:29:43.055Z"
   },
   {
    "duration": 5,
    "start_time": "2023-07-20T17:35:36.721Z"
   },
   {
    "duration": 4,
    "start_time": "2023-07-20T17:36:02.352Z"
   },
   {
    "duration": 81,
    "start_time": "2023-07-20T17:38:23.197Z"
   },
   {
    "duration": 407,
    "start_time": "2023-07-20T17:38:33.646Z"
   },
   {
    "duration": 12,
    "start_time": "2023-07-20T17:39:08.337Z"
   },
   {
    "duration": 26,
    "start_time": "2023-07-20T17:39:23.734Z"
   },
   {
    "duration": 11,
    "start_time": "2023-07-20T17:39:42.855Z"
   },
   {
    "duration": 5,
    "start_time": "2023-07-20T17:39:49.943Z"
   },
   {
    "duration": 11,
    "start_time": "2023-07-20T17:40:14.568Z"
   },
   {
    "duration": 5,
    "start_time": "2023-07-20T17:40:15.462Z"
   },
   {
    "duration": 4,
    "start_time": "2023-07-20T17:40:21.092Z"
   },
   {
    "duration": 9,
    "start_time": "2023-07-20T17:40:34.213Z"
   },
   {
    "duration": 2,
    "start_time": "2023-07-20T17:40:52.998Z"
   },
   {
    "duration": 349,
    "start_time": "2023-07-20T17:40:54.296Z"
   },
   {
    "duration": 306,
    "start_time": "2023-07-20T17:41:08.065Z"
   },
   {
    "duration": 69,
    "start_time": "2023-07-20T17:41:28.174Z"
   },
   {
    "duration": 571,
    "start_time": "2023-07-20T17:41:44.234Z"
   },
   {
    "duration": 8,
    "start_time": "2023-07-20T17:41:58.327Z"
   },
   {
    "duration": 4,
    "start_time": "2023-07-20T17:42:22.984Z"
   },
   {
    "duration": 4,
    "start_time": "2023-07-20T17:42:25.793Z"
   },
   {
    "duration": 391,
    "start_time": "2023-07-20T17:42:32.889Z"
   },
   {
    "duration": 3,
    "start_time": "2023-07-20T17:42:39.050Z"
   },
   {
    "duration": 7,
    "start_time": "2023-07-20T17:42:50.529Z"
   },
   {
    "duration": 27,
    "start_time": "2023-07-20T17:44:10.666Z"
   },
   {
    "duration": 8,
    "start_time": "2023-07-20T17:44:13.681Z"
   },
   {
    "duration": 10,
    "start_time": "2023-07-20T17:44:16.818Z"
   },
   {
    "duration": 3,
    "start_time": "2023-07-20T17:44:31.860Z"
   },
   {
    "duration": 3,
    "start_time": "2023-07-20T17:44:40.245Z"
   },
   {
    "duration": 28,
    "start_time": "2023-07-20T17:44:48.869Z"
   },
   {
    "duration": 4,
    "start_time": "2023-07-20T17:45:03.381Z"
   },
   {
    "duration": 15,
    "start_time": "2023-07-20T17:45:11.919Z"
   },
   {
    "duration": 4,
    "start_time": "2023-07-20T17:45:29.535Z"
   },
   {
    "duration": 30,
    "start_time": "2023-07-20T17:45:43.937Z"
   },
   {
    "duration": 27,
    "start_time": "2023-07-20T17:47:54.430Z"
   },
   {
    "duration": 31,
    "start_time": "2023-07-20T17:49:32.614Z"
   },
   {
    "duration": 305,
    "start_time": "2023-07-20T17:49:37.995Z"
   },
   {
    "duration": 4,
    "start_time": "2023-07-20T17:49:57.337Z"
   },
   {
    "duration": 20,
    "start_time": "2023-07-20T17:54:28.456Z"
   },
   {
    "duration": 20,
    "start_time": "2023-07-20T17:54:51.658Z"
   },
   {
    "duration": 34,
    "start_time": "2023-07-20T17:55:44.901Z"
   },
   {
    "duration": 8,
    "start_time": "2023-07-20T17:55:50.050Z"
   },
   {
    "duration": 3,
    "start_time": "2023-07-20T18:00:15.034Z"
   },
   {
    "duration": 303,
    "start_time": "2023-07-20T18:00:22.213Z"
   },
   {
    "duration": 8,
    "start_time": "2023-07-20T18:00:36.020Z"
   },
   {
    "duration": 19,
    "start_time": "2023-07-20T18:00:45.628Z"
   },
   {
    "duration": 8,
    "start_time": "2023-07-20T18:00:53.366Z"
   },
   {
    "duration": 9852,
    "start_time": "2023-07-20T18:01:12.139Z"
   },
   {
    "duration": 5877,
    "start_time": "2023-07-20T18:01:21.993Z"
   },
   {
    "duration": 5,
    "start_time": "2023-07-20T18:01:27.872Z"
   },
   {
    "duration": 16,
    "start_time": "2023-07-20T18:01:27.878Z"
   },
   {
    "duration": 8,
    "start_time": "2023-07-20T18:01:27.896Z"
   },
   {
    "duration": 21,
    "start_time": "2023-07-20T18:01:27.905Z"
   },
   {
    "duration": 286,
    "start_time": "2023-07-20T18:01:27.927Z"
   },
   {
    "duration": 682,
    "start_time": "2023-07-20T18:01:28.214Z"
   },
   {
    "duration": 12,
    "start_time": "2023-07-20T18:01:28.898Z"
   },
   {
    "duration": 69,
    "start_time": "2023-07-20T18:01:28.911Z"
   },
   {
    "duration": 28,
    "start_time": "2023-07-20T18:01:28.982Z"
   },
   {
    "duration": 83,
    "start_time": "2023-07-20T18:01:29.011Z"
   },
   {
    "duration": 143,
    "start_time": "2023-07-20T18:01:29.096Z"
   },
   {
    "duration": 2,
    "start_time": "2023-07-20T18:01:29.242Z"
   },
   {
    "duration": 7,
    "start_time": "2023-07-20T18:01:29.245Z"
   },
   {
    "duration": 5,
    "start_time": "2023-07-20T18:02:00.865Z"
   },
   {
    "duration": 517,
    "start_time": "2023-07-20T18:02:02.093Z"
   },
   {
    "duration": 300,
    "start_time": "2023-07-20T18:02:06.801Z"
   },
   {
    "duration": 69,
    "start_time": "2023-07-20T18:02:51.364Z"
   },
   {
    "duration": 4,
    "start_time": "2023-07-20T18:02:55.368Z"
   },
   {
    "duration": 305,
    "start_time": "2023-07-20T18:02:59.260Z"
   },
   {
    "duration": 5,
    "start_time": "2023-07-20T18:03:13.852Z"
   },
   {
    "duration": 2,
    "start_time": "2023-07-20T18:03:14.913Z"
   },
   {
    "duration": 389,
    "start_time": "2023-07-20T18:03:15.614Z"
   },
   {
    "duration": 7,
    "start_time": "2023-07-20T18:03:18.716Z"
   },
   {
    "duration": 3,
    "start_time": "2023-07-20T18:03:35.856Z"
   },
   {
    "duration": 19,
    "start_time": "2023-07-20T18:03:38.249Z"
   },
   {
    "duration": 9,
    "start_time": "2023-07-20T18:03:41.927Z"
   },
   {
    "duration": 2,
    "start_time": "2023-07-20T18:05:56.685Z"
   },
   {
    "duration": 569,
    "start_time": "2023-07-20T18:06:15.018Z"
   },
   {
    "duration": 10,
    "start_time": "2023-07-20T18:06:17.048Z"
   },
   {
    "duration": 5,
    "start_time": "2023-07-20T18:06:49.426Z"
   },
   {
    "duration": 5,
    "start_time": "2023-07-20T18:06:51.268Z"
   },
   {
    "duration": 142,
    "start_time": "2023-07-20T18:07:18.701Z"
   },
   {
    "duration": 6,
    "start_time": "2023-07-20T18:11:05.652Z"
   },
   {
    "duration": 25,
    "start_time": "2023-07-20T18:11:12.076Z"
   },
   {
    "duration": 11,
    "start_time": "2023-07-20T18:11:12.430Z"
   },
   {
    "duration": 4,
    "start_time": "2023-07-20T18:12:12.604Z"
   },
   {
    "duration": 7,
    "start_time": "2023-07-20T18:12:20.997Z"
   },
   {
    "duration": 3,
    "start_time": "2023-07-20T18:12:51.271Z"
   },
   {
    "duration": 5,
    "start_time": "2023-07-20T18:13:01.401Z"
   },
   {
    "duration": 5,
    "start_time": "2023-07-20T18:13:01.550Z"
   },
   {
    "duration": 18,
    "start_time": "2023-07-20T18:13:10.616Z"
   },
   {
    "duration": 18,
    "start_time": "2023-07-20T18:13:20.496Z"
   },
   {
    "duration": 7,
    "start_time": "2023-07-20T18:13:23.792Z"
   },
   {
    "duration": 3,
    "start_time": "2023-07-20T18:14:33.197Z"
   },
   {
    "duration": 17,
    "start_time": "2023-07-20T18:14:57.015Z"
   },
   {
    "duration": 5,
    "start_time": "2023-07-20T18:15:02.250Z"
   },
   {
    "duration": 7,
    "start_time": "2023-07-20T18:15:07.650Z"
   },
   {
    "duration": 61,
    "start_time": "2023-07-20T18:15:35.264Z"
   },
   {
    "duration": 7,
    "start_time": "2023-07-20T18:15:38.624Z"
   },
   {
    "duration": 3,
    "start_time": "2023-07-20T18:16:39.015Z"
   },
   {
    "duration": 5,
    "start_time": "2023-07-20T18:16:53.860Z"
   },
   {
    "duration": 6,
    "start_time": "2023-07-20T18:16:54.001Z"
   },
   {
    "duration": 16,
    "start_time": "2023-07-20T18:16:56.820Z"
   },
   {
    "duration": 7,
    "start_time": "2023-07-20T18:16:57.809Z"
   },
   {
    "duration": 406,
    "start_time": "2023-07-20T18:17:31.749Z"
   },
   {
    "duration": 5390,
    "start_time": "2023-07-20T18:18:40.612Z"
   },
   {
    "duration": 5,
    "start_time": "2023-07-20T18:18:46.004Z"
   },
   {
    "duration": 83,
    "start_time": "2023-07-20T18:18:46.010Z"
   },
   {
    "duration": 310,
    "start_time": "2023-07-20T18:18:52.846Z"
   },
   {
    "duration": 695,
    "start_time": "2023-07-20T18:19:18.984Z"
   },
   {
    "duration": 4,
    "start_time": "2023-07-20T18:19:22.171Z"
   },
   {
    "duration": 3,
    "start_time": "2023-07-20T18:19:22.443Z"
   },
   {
    "duration": 3,
    "start_time": "2023-07-20T18:19:32.253Z"
   },
   {
    "duration": 5,
    "start_time": "2023-07-20T18:19:32.479Z"
   },
   {
    "duration": 3,
    "start_time": "2023-07-20T18:19:32.989Z"
   },
   {
    "duration": 674,
    "start_time": "2023-07-20T18:19:34.116Z"
   },
   {
    "duration": 10,
    "start_time": "2023-07-20T18:19:37.016Z"
   },
   {
    "duration": 68,
    "start_time": "2023-07-20T18:19:37.168Z"
   },
   {
    "duration": 10,
    "start_time": "2023-07-20T18:19:37.937Z"
   },
   {
    "duration": 9,
    "start_time": "2023-07-20T18:19:38.467Z"
   },
   {
    "duration": 132,
    "start_time": "2023-07-20T18:19:39.940Z"
   },
   {
    "duration": 5,
    "start_time": "2023-07-20T18:19:47.305Z"
   },
   {
    "duration": 6,
    "start_time": "2023-07-20T18:19:47.455Z"
   },
   {
    "duration": 12,
    "start_time": "2023-07-20T18:19:48.076Z"
   },
   {
    "duration": 8,
    "start_time": "2023-07-20T18:19:48.778Z"
   },
   {
    "duration": 89,
    "start_time": "2023-07-20T18:26:16.492Z"
   },
   {
    "duration": 908146,
    "start_time": "2023-07-20T18:26:33.336Z"
   },
   {
    "duration": 66,
    "start_time": "2023-07-20T18:44:21.688Z"
   },
   {
    "duration": 28,
    "start_time": "2023-07-20T18:44:29.945Z"
   },
   {
    "duration": 5101,
    "start_time": "2023-07-20T18:44:42.458Z"
   },
   {
    "duration": 8,
    "start_time": "2023-07-20T18:44:49.032Z"
   },
   {
    "duration": 27,
    "start_time": "2023-07-20T18:49:07.077Z"
   },
   {
    "duration": 2509,
    "start_time": "2023-07-20T18:49:12.932Z"
   },
   {
    "duration": 12,
    "start_time": "2023-07-20T18:49:15.443Z"
   },
   {
    "duration": 11,
    "start_time": "2023-07-20T18:52:03.114Z"
   },
   {
    "duration": 22,
    "start_time": "2023-07-20T18:52:07.861Z"
   },
   {
    "duration": 74,
    "start_time": "2023-07-20T18:54:00.609Z"
   },
   {
    "duration": 5,
    "start_time": "2023-07-20T18:55:47.461Z"
   },
   {
    "duration": 112,
    "start_time": "2023-07-20T19:23:17.324Z"
   },
   {
    "duration": 18,
    "start_time": "2023-07-20T19:23:26.457Z"
   },
   {
    "duration": 581,
    "start_time": "2023-07-20T19:24:34.719Z"
   },
   {
    "duration": 386,
    "start_time": "2023-07-20T19:25:10.770Z"
   },
   {
    "duration": 21,
    "start_time": "2023-07-20T19:25:18.107Z"
   },
   {
    "duration": 4,
    "start_time": "2023-07-20T19:26:20.108Z"
   },
   {
    "duration": 4664,
    "start_time": "2023-07-21T05:21:28.178Z"
   },
   {
    "duration": 0,
    "start_time": "2023-07-21T05:21:32.843Z"
   },
   {
    "duration": 0,
    "start_time": "2023-07-21T05:21:32.845Z"
   },
   {
    "duration": 0,
    "start_time": "2023-07-21T05:21:32.845Z"
   },
   {
    "duration": 0,
    "start_time": "2023-07-21T05:21:32.846Z"
   },
   {
    "duration": 0,
    "start_time": "2023-07-21T05:21:32.848Z"
   },
   {
    "duration": 0,
    "start_time": "2023-07-21T05:21:32.849Z"
   },
   {
    "duration": 0,
    "start_time": "2023-07-21T05:21:32.850Z"
   },
   {
    "duration": 0,
    "start_time": "2023-07-21T05:21:32.851Z"
   },
   {
    "duration": 0,
    "start_time": "2023-07-21T05:21:32.851Z"
   },
   {
    "duration": 44,
    "start_time": "2023-07-21T05:38:40.364Z"
   },
   {
    "duration": 0,
    "start_time": "2023-07-21T05:38:40.409Z"
   },
   {
    "duration": 0,
    "start_time": "2023-07-21T05:38:40.410Z"
   },
   {
    "duration": 0,
    "start_time": "2023-07-21T05:38:40.411Z"
   },
   {
    "duration": 0,
    "start_time": "2023-07-21T05:38:40.412Z"
   },
   {
    "duration": 0,
    "start_time": "2023-07-21T05:38:40.412Z"
   },
   {
    "duration": 0,
    "start_time": "2023-07-21T05:38:40.414Z"
   },
   {
    "duration": 0,
    "start_time": "2023-07-21T05:38:40.414Z"
   },
   {
    "duration": 0,
    "start_time": "2023-07-21T05:38:40.415Z"
   },
   {
    "duration": 0,
    "start_time": "2023-07-21T05:38:40.416Z"
   },
   {
    "duration": 18,
    "start_time": "2023-07-21T05:38:55.748Z"
   },
   {
    "duration": 0,
    "start_time": "2023-07-21T05:38:55.768Z"
   },
   {
    "duration": 0,
    "start_time": "2023-07-21T05:38:55.769Z"
   },
   {
    "duration": 0,
    "start_time": "2023-07-21T05:38:55.770Z"
   },
   {
    "duration": 0,
    "start_time": "2023-07-21T05:38:55.771Z"
   },
   {
    "duration": 0,
    "start_time": "2023-07-21T05:38:55.772Z"
   },
   {
    "duration": 0,
    "start_time": "2023-07-21T05:38:55.773Z"
   },
   {
    "duration": 0,
    "start_time": "2023-07-21T05:38:55.774Z"
   },
   {
    "duration": 0,
    "start_time": "2023-07-21T05:38:55.775Z"
   },
   {
    "duration": 0,
    "start_time": "2023-07-21T05:38:55.776Z"
   },
   {
    "duration": 4228,
    "start_time": "2023-07-21T05:39:08.385Z"
   },
   {
    "duration": 0,
    "start_time": "2023-07-21T05:39:12.615Z"
   },
   {
    "duration": 0,
    "start_time": "2023-07-21T05:39:12.616Z"
   },
   {
    "duration": 0,
    "start_time": "2023-07-21T05:39:12.620Z"
   },
   {
    "duration": 0,
    "start_time": "2023-07-21T05:39:12.621Z"
   },
   {
    "duration": 0,
    "start_time": "2023-07-21T05:39:12.622Z"
   },
   {
    "duration": 0,
    "start_time": "2023-07-21T05:39:12.622Z"
   },
   {
    "duration": 0,
    "start_time": "2023-07-21T05:39:12.623Z"
   },
   {
    "duration": 0,
    "start_time": "2023-07-21T05:39:12.624Z"
   },
   {
    "duration": 0,
    "start_time": "2023-07-21T05:39:12.625Z"
   },
   {
    "duration": 2960,
    "start_time": "2023-07-21T05:39:28.145Z"
   },
   {
    "duration": 823,
    "start_time": "2023-07-21T05:39:33.313Z"
   },
   {
    "duration": 2,
    "start_time": "2023-07-21T05:39:37.993Z"
   },
   {
    "duration": 3,
    "start_time": "2023-07-21T05:39:38.272Z"
   },
   {
    "duration": 4,
    "start_time": "2023-07-21T05:39:38.576Z"
   },
   {
    "duration": 3,
    "start_time": "2023-07-21T05:39:39.416Z"
   },
   {
    "duration": 2158,
    "start_time": "2023-07-21T05:39:41.192Z"
   },
   {
    "duration": 11,
    "start_time": "2023-07-21T05:39:43.352Z"
   },
   {
    "duration": 70,
    "start_time": "2023-07-21T05:39:43.364Z"
   },
   {
    "duration": 7,
    "start_time": "2023-07-21T05:39:43.436Z"
   },
   {
    "duration": 12,
    "start_time": "2023-07-21T05:39:43.444Z"
   },
   {
    "duration": 156,
    "start_time": "2023-07-21T05:39:44.912Z"
   },
   {
    "duration": 1156,
    "start_time": "2023-07-21T05:40:21.979Z"
   },
   {
    "duration": 6,
    "start_time": "2023-07-21T05:41:59.936Z"
   },
   {
    "duration": 8,
    "start_time": "2023-07-21T05:42:29.712Z"
   },
   {
    "duration": 7,
    "start_time": "2023-07-21T05:42:35.544Z"
   },
   {
    "duration": 8,
    "start_time": "2023-07-21T05:42:50.344Z"
   },
   {
    "duration": 50,
    "start_time": "2023-07-21T05:43:02.705Z"
   },
   {
    "duration": 4,
    "start_time": "2023-07-21T05:43:10.792Z"
   },
   {
    "duration": 5,
    "start_time": "2023-07-21T05:43:14.649Z"
   },
   {
    "duration": 71,
    "start_time": "2023-07-21T05:46:26.752Z"
   },
   {
    "duration": 23806,
    "start_time": "2023-07-21T05:46:29.368Z"
   },
   {
    "duration": 668,
    "start_time": "2023-07-21T05:48:46.144Z"
   },
   {
    "duration": 6038,
    "start_time": "2023-07-21T05:50:38.760Z"
   },
   {
    "duration": 8691,
    "start_time": "2023-07-21T05:50:54.841Z"
   },
   {
    "duration": 48,
    "start_time": "2023-07-21T05:51:20.918Z"
   },
   {
    "duration": 6,
    "start_time": "2023-07-21T05:51:23.365Z"
   },
   {
    "duration": 7473,
    "start_time": "2023-07-21T05:51:36.394Z"
   },
   {
    "duration": 7874,
    "start_time": "2023-07-21T05:51:43.869Z"
   },
   {
    "duration": 3,
    "start_time": "2023-07-21T05:51:51.744Z"
   },
   {
    "duration": 17,
    "start_time": "2023-07-21T05:51:51.748Z"
   },
   {
    "duration": 15,
    "start_time": "2023-07-21T05:51:51.768Z"
   },
   {
    "duration": 11,
    "start_time": "2023-07-21T05:51:51.785Z"
   },
   {
    "duration": 776,
    "start_time": "2023-07-21T05:51:51.798Z"
   },
   {
    "duration": 10,
    "start_time": "2023-07-21T05:51:52.576Z"
   },
   {
    "duration": 98,
    "start_time": "2023-07-21T05:51:52.587Z"
   },
   {
    "duration": 7,
    "start_time": "2023-07-21T05:51:52.686Z"
   },
   {
    "duration": 59,
    "start_time": "2023-07-21T05:51:52.695Z"
   },
   {
    "duration": 153,
    "start_time": "2023-07-21T05:51:52.755Z"
   },
   {
    "duration": 2,
    "start_time": "2023-07-21T05:51:52.910Z"
   },
   {
    "duration": 6,
    "start_time": "2023-07-21T05:51:57.998Z"
   },
   {
    "duration": 363,
    "start_time": "2023-07-21T05:51:58.367Z"
   },
   {
    "duration": 9,
    "start_time": "2023-07-21T05:51:58.732Z"
   },
   {
    "duration": 168,
    "start_time": "2023-07-21T05:52:11.238Z"
   },
   {
    "duration": 5,
    "start_time": "2023-07-21T05:52:11.662Z"
   },
   {
    "duration": 68,
    "start_time": "2023-07-21T05:52:16.997Z"
   },
   {
    "duration": 6,
    "start_time": "2023-07-21T05:52:18.861Z"
   },
   {
    "duration": 6,
    "start_time": "2023-07-21T05:52:31.214Z"
   },
   {
    "duration": 780,
    "start_time": "2023-07-21T05:52:34.581Z"
   },
   {
    "duration": 7,
    "start_time": "2023-07-21T05:52:35.821Z"
   },
   {
    "duration": 909477,
    "start_time": "2023-07-21T05:52:57.798Z"
   },
   {
    "duration": 7,
    "start_time": "2023-07-21T06:08:07.277Z"
   },
   {
    "duration": 22,
    "start_time": "2023-07-21T06:08:45.582Z"
   },
   {
    "duration": 3001,
    "start_time": "2023-07-21T06:08:45.774Z"
   },
   {
    "duration": 10,
    "start_time": "2023-07-21T06:08:48.777Z"
   },
   {
    "duration": 1178,
    "start_time": "2023-07-21T06:08:57.198Z"
   },
   {
    "duration": 7,
    "start_time": "2023-07-21T06:08:59.254Z"
   },
   {
    "duration": 9,
    "start_time": "2023-07-21T06:09:23.542Z"
   },
   {
    "duration": 6,
    "start_time": "2023-07-21T06:09:24.213Z"
   },
   {
    "duration": 70,
    "start_time": "2023-07-21T06:09:27.317Z"
   },
   {
    "duration": 23235,
    "start_time": "2023-07-21T06:09:28.325Z"
   },
   {
    "duration": 16,
    "start_time": "2023-07-21T06:31:46.591Z"
   },
   {
    "duration": 7,
    "start_time": "2023-07-21T06:31:51.627Z"
   },
   {
    "duration": 47,
    "start_time": "2023-07-21T06:31:54.061Z"
   },
   {
    "duration": 3,
    "start_time": "2023-07-21T06:32:00.197Z"
   },
   {
    "duration": 22626,
    "start_time": "2023-07-21T06:34:30.094Z"
   },
   {
    "duration": 8377,
    "start_time": "2023-07-21T06:36:26.005Z"
   },
   {
    "duration": 23575,
    "start_time": "2023-07-21T06:36:45.102Z"
   },
   {
    "duration": 23279,
    "start_time": "2023-07-21T06:38:26.278Z"
   },
   {
    "duration": 2,
    "start_time": "2023-07-21T06:39:28.014Z"
   },
   {
    "duration": 40,
    "start_time": "2023-07-21T06:39:30.190Z"
   },
   {
    "duration": 8037,
    "start_time": "2023-07-21T06:40:06.445Z"
   },
   {
    "duration": 11241,
    "start_time": "2023-07-21T06:41:24.685Z"
   },
   {
    "duration": 7148,
    "start_time": "2023-07-21T06:42:52.829Z"
   },
   {
    "duration": 7894,
    "start_time": "2023-07-21T06:43:09.541Z"
   },
   {
    "duration": 10129,
    "start_time": "2023-07-21T06:43:22.990Z"
   },
   {
    "duration": 3,
    "start_time": "2023-07-21T06:43:43.742Z"
   },
   {
    "duration": 45,
    "start_time": "2023-07-21T06:43:43.909Z"
   },
   {
    "duration": 8204,
    "start_time": "2023-07-21T06:44:05.893Z"
   },
   {
    "duration": 7172,
    "start_time": "2023-07-21T06:44:23.213Z"
   },
   {
    "duration": 5,
    "start_time": "2023-07-21T06:49:42.094Z"
   },
   {
    "duration": 3,
    "start_time": "2023-07-21T06:49:44.133Z"
   },
   {
    "duration": 3540,
    "start_time": "2023-07-21T06:49:51.797Z"
   },
   {
    "duration": 5,
    "start_time": "2023-07-21T06:50:20.173Z"
   },
   {
    "duration": 1707,
    "start_time": "2023-07-21T06:50:21.214Z"
   },
   {
    "duration": 4,
    "start_time": "2023-07-21T06:51:18.878Z"
   },
   {
    "duration": 1864,
    "start_time": "2023-07-21T06:51:20.846Z"
   },
   {
    "duration": 5,
    "start_time": "2023-07-21T06:51:36.461Z"
   },
   {
    "duration": 1044,
    "start_time": "2023-07-21T06:51:37.773Z"
   },
   {
    "duration": 4,
    "start_time": "2023-07-21T06:52:08.613Z"
   },
   {
    "duration": 633,
    "start_time": "2023-07-21T06:52:09.742Z"
   },
   {
    "duration": 49,
    "start_time": "2023-07-21T06:53:29.662Z"
   },
   {
    "duration": 4,
    "start_time": "2023-07-21T06:53:44.989Z"
   },
   {
    "duration": 4,
    "start_time": "2023-07-21T06:53:52.981Z"
   },
   {
    "duration": 5,
    "start_time": "2023-07-21T06:54:03.509Z"
   },
   {
    "duration": 740,
    "start_time": "2023-07-21T06:54:03.837Z"
   },
   {
    "duration": 9,
    "start_time": "2023-07-21T06:54:30.189Z"
   },
   {
    "duration": 4,
    "start_time": "2023-07-21T06:58:14.582Z"
   },
   {
    "duration": 473,
    "start_time": "2023-07-21T06:58:20.782Z"
   },
   {
    "duration": 4,
    "start_time": "2023-07-21T06:59:02.134Z"
   },
   {
    "duration": 452,
    "start_time": "2023-07-21T06:59:03.197Z"
   },
   {
    "duration": 15,
    "start_time": "2023-07-21T06:59:27.638Z"
   },
   {
    "duration": 2364,
    "start_time": "2023-07-21T06:59:30.869Z"
   },
   {
    "duration": 14,
    "start_time": "2023-07-21T06:59:45.873Z"
   },
   {
    "duration": 4,
    "start_time": "2023-07-21T07:02:26.557Z"
   },
   {
    "duration": 11,
    "start_time": "2023-07-21T07:02:38.959Z"
   },
   {
    "duration": 7,
    "start_time": "2023-07-21T07:03:27.542Z"
   },
   {
    "duration": 6392,
    "start_time": "2023-07-21T07:04:48.935Z"
   },
   {
    "duration": 10315,
    "start_time": "2023-07-21T07:04:55.330Z"
   },
   {
    "duration": 4,
    "start_time": "2023-07-21T07:05:05.647Z"
   },
   {
    "duration": 29,
    "start_time": "2023-07-21T07:05:05.653Z"
   },
   {
    "duration": 26,
    "start_time": "2023-07-21T07:05:05.684Z"
   },
   {
    "duration": 35,
    "start_time": "2023-07-21T07:05:05.711Z"
   },
   {
    "duration": 808,
    "start_time": "2023-07-21T07:05:05.748Z"
   },
   {
    "duration": 11,
    "start_time": "2023-07-21T07:05:06.557Z"
   },
   {
    "duration": 74,
    "start_time": "2023-07-21T07:05:06.569Z"
   },
   {
    "duration": 7,
    "start_time": "2023-07-21T07:05:06.645Z"
   },
   {
    "duration": 17,
    "start_time": "2023-07-21T07:05:06.654Z"
   },
   {
    "duration": 154,
    "start_time": "2023-07-21T07:05:06.673Z"
   },
   {
    "duration": 6,
    "start_time": "2023-07-21T07:05:46.214Z"
   },
   {
    "duration": 818024,
    "start_time": "2023-07-21T07:05:49.878Z"
   },
   {
    "duration": 7,
    "start_time": "2023-07-21T07:19:27.904Z"
   },
   {
    "duration": 21,
    "start_time": "2023-07-21T07:27:38.933Z"
   },
   {
    "duration": 3085,
    "start_time": "2023-07-21T07:27:39.894Z"
   },
   {
    "duration": 10,
    "start_time": "2023-07-21T07:27:46.190Z"
   },
   {
    "duration": 958,
    "start_time": "2023-07-21T07:27:57.302Z"
   },
   {
    "duration": 8,
    "start_time": "2023-07-21T07:27:58.262Z"
   },
   {
    "duration": 8,
    "start_time": "2023-07-21T07:28:08.110Z"
   },
   {
    "duration": 7,
    "start_time": "2023-07-21T07:28:09.646Z"
   },
   {
    "duration": 8,
    "start_time": "2023-07-21T07:28:29.465Z"
   },
   {
    "duration": 8,
    "start_time": "2023-07-21T07:28:32.590Z"
   },
   {
    "duration": 5,
    "start_time": "2023-07-21T07:28:35.318Z"
   },
   {
    "duration": 48,
    "start_time": "2023-07-21T07:28:42.574Z"
   },
   {
    "duration": 7,
    "start_time": "2023-07-21T07:28:46.222Z"
   },
   {
    "duration": 5,
    "start_time": "2023-07-21T07:28:50.510Z"
   },
   {
    "duration": 5,
    "start_time": "2023-07-21T07:28:54.478Z"
   },
   {
    "duration": 4,
    "start_time": "2023-07-21T07:29:18.421Z"
   },
   {
    "duration": 4,
    "start_time": "2023-07-21T07:31:51.903Z"
   },
   {
    "duration": 820,
    "start_time": "2023-07-21T07:31:59.511Z"
   },
   {
    "duration": 4,
    "start_time": "2023-07-21T07:35:06.326Z"
   },
   {
    "duration": 8,
    "start_time": "2023-07-21T07:35:13.614Z"
   },
   {
    "duration": 4,
    "start_time": "2023-07-21T07:35:35.503Z"
   },
   {
    "duration": 5,
    "start_time": "2023-07-21T07:38:15.311Z"
   },
   {
    "duration": 4,
    "start_time": "2023-07-21T07:52:39.863Z"
   },
   {
    "duration": 458,
    "start_time": "2023-07-21T07:52:40.854Z"
   },
   {
    "duration": 371,
    "start_time": "2023-07-21T07:53:44.783Z"
   },
   {
    "duration": 2,
    "start_time": "2023-07-21T07:53:55.591Z"
   },
   {
    "duration": 30,
    "start_time": "2023-07-21T07:54:04.758Z"
   },
   {
    "duration": 3,
    "start_time": "2023-07-21T07:54:31.815Z"
   },
   {
    "duration": 6,
    "start_time": "2023-07-21T07:54:32.582Z"
   },
   {
    "duration": 5,
    "start_time": "2023-07-21T07:54:49.278Z"
   },
   {
    "duration": 4,
    "start_time": "2023-07-21T07:54:55.206Z"
   },
   {
    "duration": 2,
    "start_time": "2023-07-21T07:55:30.071Z"
   },
   {
    "duration": 24,
    "start_time": "2023-07-21T07:55:40.102Z"
   },
   {
    "duration": 1285,
    "start_time": "2023-07-21T07:55:59.171Z"
   },
   {
    "duration": 1239,
    "start_time": "2023-07-21T07:56:06.775Z"
   },
   {
    "duration": 8,
    "start_time": "2023-07-21T07:57:28.686Z"
   },
   {
    "duration": 5750,
    "start_time": "2023-07-21T07:58:17.357Z"
   },
   {
    "duration": 5494,
    "start_time": "2023-07-21T07:58:32.696Z"
   },
   {
    "duration": 564,
    "start_time": "2023-07-21T07:58:45.457Z"
   },
   {
    "duration": 5,
    "start_time": "2023-07-21T07:59:04.831Z"
   },
   {
    "duration": 4,
    "start_time": "2023-07-21T08:00:00.879Z"
   },
   {
    "duration": 605,
    "start_time": "2023-07-21T08:00:02.703Z"
   },
   {
    "duration": 23,
    "start_time": "2023-07-21T08:00:54.959Z"
   },
   {
    "duration": 2,
    "start_time": "2023-07-21T08:00:55.839Z"
   },
   {
    "duration": 4,
    "start_time": "2023-07-21T08:00:59.615Z"
   },
   {
    "duration": 4,
    "start_time": "2023-07-21T08:01:29.967Z"
   },
   {
    "duration": 57,
    "start_time": "2023-07-21T08:01:42.895Z"
   },
   {
    "duration": 8,
    "start_time": "2023-07-21T08:02:00.159Z"
   },
   {
    "duration": 32,
    "start_time": "2023-07-21T08:02:10.903Z"
   },
   {
    "duration": 7,
    "start_time": "2023-07-21T08:02:26.375Z"
   },
   {
    "duration": 6,
    "start_time": "2023-07-21T08:02:47.862Z"
   },
   {
    "duration": 6,
    "start_time": "2023-07-21T08:02:53.895Z"
   },
   {
    "duration": 2,
    "start_time": "2023-07-21T08:03:24.582Z"
   },
   {
    "duration": 4,
    "start_time": "2023-07-21T08:03:27.205Z"
   },
   {
    "duration": 798,
    "start_time": "2023-07-21T08:03:27.975Z"
   },
   {
    "duration": 5,
    "start_time": "2023-07-21T08:03:58.759Z"
   },
   {
    "duration": 498,
    "start_time": "2023-07-21T08:03:59.881Z"
   },
   {
    "duration": 5,
    "start_time": "2023-07-21T08:04:09.159Z"
   },
   {
    "duration": 5,
    "start_time": "2023-07-21T08:04:19.758Z"
   },
   {
    "duration": 443,
    "start_time": "2023-07-21T08:04:20.807Z"
   },
   {
    "duration": 2,
    "start_time": "2023-07-21T08:05:27.487Z"
   },
   {
    "duration": 3,
    "start_time": "2023-07-21T08:05:28.318Z"
   },
   {
    "duration": 684,
    "start_time": "2023-07-21T08:05:28.983Z"
   },
   {
    "duration": 5616,
    "start_time": "2023-07-21T08:08:06.455Z"
   },
   {
    "duration": 7413,
    "start_time": "2023-07-21T08:10:52.953Z"
   },
   {
    "duration": 8519,
    "start_time": "2023-07-21T08:11:00.369Z"
   },
   {
    "duration": 4,
    "start_time": "2023-07-21T08:11:08.889Z"
   },
   {
    "duration": 20,
    "start_time": "2023-07-21T08:11:08.895Z"
   },
   {
    "duration": 20,
    "start_time": "2023-07-21T08:11:08.917Z"
   },
   {
    "duration": 20,
    "start_time": "2023-07-21T08:11:08.939Z"
   },
   {
    "duration": 2293,
    "start_time": "2023-07-21T08:11:08.961Z"
   },
   {
    "duration": 11,
    "start_time": "2023-07-21T08:11:11.255Z"
   },
   {
    "duration": 113,
    "start_time": "2023-07-21T08:11:11.267Z"
   },
   {
    "duration": 11,
    "start_time": "2023-07-21T08:11:11.382Z"
   },
   {
    "duration": 44,
    "start_time": "2023-07-21T08:11:11.395Z"
   },
   {
    "duration": 6479,
    "start_time": "2023-07-21T08:13:08.793Z"
   },
   {
    "duration": 507,
    "start_time": "2023-07-21T08:13:15.275Z"
   },
   {
    "duration": 3,
    "start_time": "2023-07-21T08:13:15.784Z"
   },
   {
    "duration": 16,
    "start_time": "2023-07-21T08:13:15.788Z"
   },
   {
    "duration": 13,
    "start_time": "2023-07-21T08:13:15.806Z"
   },
   {
    "duration": 18,
    "start_time": "2023-07-21T08:13:15.821Z"
   },
   {
    "duration": 811,
    "start_time": "2023-07-21T08:13:15.840Z"
   },
   {
    "duration": 8,
    "start_time": "2023-07-21T08:13:16.653Z"
   },
   {
    "duration": 85,
    "start_time": "2023-07-21T08:13:16.662Z"
   },
   {
    "duration": 7,
    "start_time": "2023-07-21T08:13:16.749Z"
   },
   {
    "duration": 32,
    "start_time": "2023-07-21T08:13:16.758Z"
   },
   {
    "duration": 169,
    "start_time": "2023-07-21T08:13:23.184Z"
   },
   {
    "duration": 4,
    "start_time": "2023-07-21T08:15:59.679Z"
   },
   {
    "duration": 360,
    "start_time": "2023-07-21T08:16:06.591Z"
   },
   {
    "duration": 1096,
    "start_time": "2023-07-21T08:16:13.639Z"
   },
   {
    "duration": 7,
    "start_time": "2023-07-21T08:16:17.055Z"
   },
   {
    "duration": 4,
    "start_time": "2023-07-21T08:16:45.919Z"
   },
   {
    "duration": 20,
    "start_time": "2023-07-21T08:19:16.080Z"
   },
   {
    "duration": 10,
    "start_time": "2023-07-21T08:19:18.648Z"
   },
   {
    "duration": 51,
    "start_time": "2023-07-21T08:20:44.975Z"
   },
   {
    "duration": 6512,
    "start_time": "2023-07-21T08:20:50.629Z"
   },
   {
    "duration": 9005,
    "start_time": "2023-07-21T08:20:57.143Z"
   },
   {
    "duration": 3,
    "start_time": "2023-07-21T08:21:06.149Z"
   },
   {
    "duration": 28,
    "start_time": "2023-07-21T08:21:06.154Z"
   },
   {
    "duration": 38,
    "start_time": "2023-07-21T08:21:06.184Z"
   },
   {
    "duration": 3,
    "start_time": "2023-07-21T08:21:27.799Z"
   },
   {
    "duration": 1067,
    "start_time": "2023-07-21T08:21:50.359Z"
   },
   {
    "duration": 13,
    "start_time": "2023-07-21T08:21:51.428Z"
   },
   {
    "duration": 10,
    "start_time": "2023-07-21T08:21:54.423Z"
   },
   {
    "duration": 6,
    "start_time": "2023-07-21T08:21:54.735Z"
   },
   {
    "duration": 8,
    "start_time": "2023-07-21T08:21:59.567Z"
   },
   {
    "duration": 166,
    "start_time": "2023-07-21T08:22:35.912Z"
   },
   {
    "duration": 51,
    "start_time": "2023-07-21T08:22:48.767Z"
   },
   {
    "duration": 289,
    "start_time": "2023-07-21T08:22:52.495Z"
   },
   {
    "duration": 2218,
    "start_time": "2023-07-21T08:23:05.400Z"
   },
   {
    "duration": 7,
    "start_time": "2023-07-21T08:23:07.620Z"
   },
   {
    "duration": 94,
    "start_time": "2023-07-21T08:23:07.629Z"
   },
   {
    "duration": 8,
    "start_time": "2023-07-21T08:23:07.724Z"
   },
   {
    "duration": 48,
    "start_time": "2023-07-21T08:23:07.734Z"
   },
   {
    "duration": 154,
    "start_time": "2023-07-21T08:23:11.455Z"
   },
   {
    "duration": 4,
    "start_time": "2023-07-21T08:23:18.599Z"
   },
   {
    "duration": 4,
    "start_time": "2023-07-21T08:23:21.823Z"
   },
   {
    "duration": 515,
    "start_time": "2023-07-21T08:23:29.479Z"
   },
   {
    "duration": 5861,
    "start_time": "2023-07-21T08:24:15.192Z"
   },
   {
    "duration": 5646,
    "start_time": "2023-07-21T08:24:33.464Z"
   },
   {
    "duration": 22,
    "start_time": "2023-07-21T08:33:29.152Z"
   },
   {
    "duration": 61,
    "start_time": "2023-07-21T08:33:44.520Z"
   },
   {
    "duration": 67,
    "start_time": "2023-07-21T08:33:50.551Z"
   },
   {
    "duration": 9,
    "start_time": "2023-07-21T08:33:58.935Z"
   },
   {
    "duration": 60,
    "start_time": "2023-07-21T08:34:08.511Z"
   },
   {
    "duration": 7007,
    "start_time": "2023-07-21T08:34:13.256Z"
   },
   {
    "duration": 472,
    "start_time": "2023-07-21T08:34:28.983Z"
   },
   {
    "duration": 441,
    "start_time": "2023-07-21T08:35:10.199Z"
   },
   {
    "duration": 6156,
    "start_time": "2023-07-21T08:43:49.058Z"
   },
   {
    "duration": 11934,
    "start_time": "2023-07-21T08:43:55.217Z"
   },
   {
    "duration": 4,
    "start_time": "2023-07-21T08:44:07.153Z"
   },
   {
    "duration": 115,
    "start_time": "2023-07-21T08:44:07.159Z"
   },
   {
    "duration": 35,
    "start_time": "2023-07-21T08:44:07.276Z"
   },
   {
    "duration": 3,
    "start_time": "2023-07-21T08:44:18.600Z"
   },
   {
    "duration": 787,
    "start_time": "2023-07-21T08:44:20.872Z"
   },
   {
    "duration": 797,
    "start_time": "2023-07-21T08:44:29.704Z"
   },
   {
    "duration": 11,
    "start_time": "2023-07-21T08:44:32.712Z"
   },
   {
    "duration": 67,
    "start_time": "2023-07-21T08:44:35.272Z"
   },
   {
    "duration": 3,
    "start_time": "2023-07-21T08:44:38.696Z"
   },
   {
    "duration": 11,
    "start_time": "2023-07-21T08:44:39.136Z"
   },
   {
    "duration": 130,
    "start_time": "2023-07-21T08:44:41.569Z"
   },
   {
    "duration": 807187,
    "start_time": "2023-07-21T08:44:45.640Z"
   },
   {
    "duration": 7,
    "start_time": "2023-07-21T08:58:12.828Z"
   },
   {
    "duration": 20,
    "start_time": "2023-07-21T09:10:03.359Z"
   },
   {
    "duration": 2977,
    "start_time": "2023-07-21T09:10:04.040Z"
   },
   {
    "duration": 10,
    "start_time": "2023-07-21T09:10:07.019Z"
   },
   {
    "duration": 1001,
    "start_time": "2023-07-21T09:10:16.440Z"
   },
   {
    "duration": 7,
    "start_time": "2023-07-21T09:10:19.415Z"
   },
   {
    "duration": 1093,
    "start_time": "2023-07-21T09:10:26.295Z"
   },
   {
    "duration": 6,
    "start_time": "2023-07-21T09:10:27.795Z"
   },
   {
    "duration": 8,
    "start_time": "2023-07-21T09:10:35.664Z"
   },
   {
    "duration": 473,
    "start_time": "2023-07-21T09:10:36.495Z"
   },
   {
    "duration": 45,
    "start_time": "2023-07-21T09:10:53.016Z"
   },
   {
    "duration": 16,
    "start_time": "2023-07-21T09:11:04.711Z"
   },
   {
    "duration": 16,
    "start_time": "2023-07-21T09:12:27.560Z"
   },
   {
    "duration": 11,
    "start_time": "2023-07-21T09:12:41.359Z"
   },
   {
    "duration": 4,
    "start_time": "2023-07-21T09:12:44.624Z"
   },
   {
    "duration": 3,
    "start_time": "2023-07-21T09:12:49.736Z"
   },
   {
    "duration": 7,
    "start_time": "2023-07-21T09:12:52.407Z"
   },
   {
    "duration": 8,
    "start_time": "2023-07-21T09:12:59.103Z"
   },
   {
    "duration": 16,
    "start_time": "2023-07-21T09:13:09.935Z"
   },
   {
    "duration": 15,
    "start_time": "2023-07-21T09:13:19.208Z"
   },
   {
    "duration": 24,
    "start_time": "2023-07-21T09:13:25.744Z"
   },
   {
    "duration": 6,
    "start_time": "2023-07-21T09:13:28.407Z"
   },
   {
    "duration": 7,
    "start_time": "2023-07-21T09:13:36.485Z"
   },
   {
    "duration": 1012,
    "start_time": "2023-07-21T09:13:51.904Z"
   },
   {
    "duration": 6,
    "start_time": "2023-07-21T09:13:52.922Z"
   },
   {
    "duration": 8,
    "start_time": "2023-07-21T09:13:57.220Z"
   },
   {
    "duration": 7,
    "start_time": "2023-07-21T09:14:00.759Z"
   },
   {
    "duration": 7,
    "start_time": "2023-07-21T09:14:06.656Z"
   },
   {
    "duration": 4,
    "start_time": "2023-07-21T09:14:10.455Z"
   },
   {
    "duration": 48,
    "start_time": "2023-07-21T09:14:16.616Z"
   },
   {
    "duration": 4,
    "start_time": "2023-07-21T09:14:19.728Z"
   },
   {
    "duration": 4,
    "start_time": "2023-07-21T09:14:24.195Z"
   },
   {
    "duration": 448,
    "start_time": "2023-07-21T09:14:24.924Z"
   },
   {
    "duration": 5,
    "start_time": "2023-07-21T09:14:50.796Z"
   },
   {
    "duration": 7,
    "start_time": "2023-07-21T09:15:04.903Z"
   },
   {
    "duration": 4,
    "start_time": "2023-07-21T09:19:34.015Z"
   },
   {
    "duration": 3,
    "start_time": "2023-07-21T09:19:39.951Z"
   },
   {
    "duration": 5,
    "start_time": "2023-07-21T09:23:19.883Z"
   },
   {
    "duration": 46,
    "start_time": "2023-07-21T10:26:12.768Z"
   },
   {
    "duration": 7227,
    "start_time": "2023-07-21T10:26:19.121Z"
   },
   {
    "duration": 9387,
    "start_time": "2023-07-21T10:26:26.350Z"
   },
   {
    "duration": 4,
    "start_time": "2023-07-21T10:26:35.738Z"
   },
   {
    "duration": 37,
    "start_time": "2023-07-21T10:26:35.744Z"
   },
   {
    "duration": 72,
    "start_time": "2023-07-21T10:26:35.783Z"
   },
   {
    "duration": 54,
    "start_time": "2023-07-21T10:26:35.856Z"
   },
   {
    "duration": 1261,
    "start_time": "2023-07-21T10:26:35.911Z"
   },
   {
    "duration": 13,
    "start_time": "2023-07-21T10:26:37.173Z"
   },
   {
    "duration": 19,
    "start_time": "2023-07-21T10:26:38.568Z"
   },
   {
    "duration": 25,
    "start_time": "2023-07-21T10:28:40.665Z"
   },
   {
    "duration": 30,
    "start_time": "2023-07-21T10:28:45.531Z"
   },
   {
    "duration": 7,
    "start_time": "2023-07-21T10:28:52.208Z"
   },
   {
    "duration": 19,
    "start_time": "2023-07-21T10:28:58.568Z"
   },
   {
    "duration": 7,
    "start_time": "2023-07-21T10:29:02.064Z"
   },
   {
    "duration": 7155,
    "start_time": "2023-07-21T10:29:10.148Z"
   },
   {
    "duration": 474,
    "start_time": "2023-07-21T10:29:17.305Z"
   },
   {
    "duration": 3,
    "start_time": "2023-07-21T10:29:17.781Z"
   },
   {
    "duration": 20,
    "start_time": "2023-07-21T10:29:17.787Z"
   },
   {
    "duration": 9,
    "start_time": "2023-07-21T10:29:17.809Z"
   },
   {
    "duration": 20,
    "start_time": "2023-07-21T10:29:17.820Z"
   },
   {
    "duration": 895,
    "start_time": "2023-07-21T10:29:17.842Z"
   },
   {
    "duration": 7,
    "start_time": "2023-07-21T10:29:18.739Z"
   },
   {
    "duration": 83,
    "start_time": "2023-07-21T10:29:18.748Z"
   },
   {
    "duration": 2,
    "start_time": "2023-07-21T10:29:18.836Z"
   },
   {
    "duration": 26,
    "start_time": "2023-07-21T10:29:18.840Z"
   },
   {
    "duration": 179,
    "start_time": "2023-07-21T10:36:57.976Z"
   },
   {
    "duration": 77,
    "start_time": "2023-07-21T10:37:06.960Z"
   },
   {
    "duration": 4,
    "start_time": "2023-07-21T10:37:07.440Z"
   },
   {
    "duration": 3,
    "start_time": "2023-07-21T10:37:14.132Z"
   },
   {
    "duration": 5,
    "start_time": "2023-07-21T10:37:17.056Z"
   },
   {
    "duration": 5,
    "start_time": "2023-07-21T10:37:18.288Z"
   },
   {
    "duration": 985,
    "start_time": "2023-07-21T10:37:22.248Z"
   },
   {
    "duration": 24,
    "start_time": "2023-07-21T10:38:29.169Z"
   },
   {
    "duration": 18,
    "start_time": "2023-07-21T10:39:31.057Z"
   },
   {
    "duration": 9,
    "start_time": "2023-07-21T10:41:26.129Z"
   },
   {
    "duration": 1145,
    "start_time": "2023-07-21T10:46:49.033Z"
   },
   {
    "duration": 6,
    "start_time": "2023-07-21T10:46:50.180Z"
   },
   {
    "duration": 53,
    "start_time": "2023-07-21T10:46:50.187Z"
   },
   {
    "duration": 83,
    "start_time": "2023-07-21T10:46:50.242Z"
   },
   {
    "duration": 20,
    "start_time": "2023-07-21T10:46:53.312Z"
   },
   {
    "duration": 8,
    "start_time": "2023-07-21T10:46:54.065Z"
   },
   {
    "duration": 20,
    "start_time": "2023-07-21T10:47:05.736Z"
   },
   {
    "duration": 4,
    "start_time": "2023-07-21T10:47:09.192Z"
   },
   {
    "duration": 49,
    "start_time": "2023-07-21T10:48:22.353Z"
   },
   {
    "duration": 4,
    "start_time": "2023-07-21T10:48:22.824Z"
   },
   {
    "duration": 5,
    "start_time": "2023-07-21T10:48:26.216Z"
   },
   {
    "duration": 4,
    "start_time": "2023-07-21T10:50:16.704Z"
   },
   {
    "duration": 6243,
    "start_time": "2023-07-21T10:52:10.989Z"
   },
   {
    "duration": 9323,
    "start_time": "2023-07-21T10:52:17.235Z"
   },
   {
    "duration": 3,
    "start_time": "2023-07-21T10:52:26.560Z"
   },
   {
    "duration": 22,
    "start_time": "2023-07-21T10:52:26.564Z"
   },
   {
    "duration": 10,
    "start_time": "2023-07-21T10:52:26.588Z"
   },
   {
    "duration": 3,
    "start_time": "2023-07-21T10:53:47.805Z"
   },
   {
    "duration": 1091,
    "start_time": "2023-07-21T10:53:55.608Z"
   },
   {
    "duration": 11,
    "start_time": "2023-07-21T10:53:57.583Z"
   },
   {
    "duration": 19,
    "start_time": "2023-07-21T10:53:58.841Z"
   },
   {
    "duration": 30,
    "start_time": "2023-07-21T10:53:59.610Z"
   },
   {
    "duration": 19,
    "start_time": "2023-07-21T10:54:00.132Z"
   },
   {
    "duration": 8,
    "start_time": "2023-07-21T10:54:02.449Z"
   },
   {
    "duration": 50,
    "start_time": "2023-07-21T10:55:32.440Z"
   },
   {
    "duration": 4,
    "start_time": "2023-07-21T10:55:33.768Z"
   },
   {
    "duration": 347,
    "start_time": "2023-07-21T10:55:40.753Z"
   },
   {
    "duration": 10,
    "start_time": "2023-07-21T10:56:21.793Z"
   },
   {
    "duration": 3,
    "start_time": "2023-07-21T10:56:37.705Z"
   },
   {
    "duration": 4,
    "start_time": "2023-07-21T10:56:40.680Z"
   },
   {
    "duration": 512,
    "start_time": "2023-07-21T10:56:45.472Z"
   },
   {
    "duration": 4,
    "start_time": "2023-07-21T11:00:12.770Z"
   },
   {
    "duration": 27,
    "start_time": "2023-07-21T11:00:56.105Z"
   },
   {
    "duration": 23,
    "start_time": "2023-07-21T11:01:02.113Z"
   },
   {
    "duration": 15,
    "start_time": "2023-07-21T11:01:02.687Z"
   },
   {
    "duration": 830,
    "start_time": "2023-07-21T11:01:06.331Z"
   },
   {
    "duration": 7,
    "start_time": "2023-07-21T11:01:07.768Z"
   },
   {
    "duration": 64,
    "start_time": "2023-07-21T11:01:08.168Z"
   },
   {
    "duration": 1,
    "start_time": "2023-07-21T11:01:08.665Z"
   },
   {
    "duration": 4,
    "start_time": "2023-07-21T11:01:09.225Z"
   },
   {
    "duration": 154,
    "start_time": "2023-07-21T11:01:11.235Z"
   },
   {
    "duration": 2,
    "start_time": "2023-07-21T11:01:12.537Z"
   },
   {
    "duration": 3,
    "start_time": "2023-07-21T11:01:12.864Z"
   },
   {
    "duration": 7,
    "start_time": "2023-07-21T11:01:20.073Z"
   },
   {
    "duration": 18,
    "start_time": "2023-07-21T11:01:33.369Z"
   },
   {
    "duration": 28,
    "start_time": "2023-07-21T11:01:35.387Z"
   },
   {
    "duration": 27,
    "start_time": "2023-07-21T11:01:35.731Z"
   },
   {
    "duration": 8,
    "start_time": "2023-07-21T11:01:36.249Z"
   },
   {
    "duration": 5,
    "start_time": "2023-07-21T11:01:49.905Z"
   },
   {
    "duration": 8,
    "start_time": "2023-07-21T11:01:54.893Z"
   },
   {
    "duration": 15,
    "start_time": "2023-07-21T11:02:25.432Z"
   },
   {
    "duration": 6,
    "start_time": "2023-07-21T11:02:27.931Z"
   },
   {
    "duration": 10,
    "start_time": "2023-07-21T11:02:38.305Z"
   },
   {
    "duration": 7,
    "start_time": "2023-07-21T11:02:41.137Z"
   },
   {
    "duration": 9,
    "start_time": "2023-07-21T11:02:44.945Z"
   },
   {
    "duration": 61,
    "start_time": "2023-07-21T11:02:48.490Z"
   },
   {
    "duration": 4,
    "start_time": "2023-07-21T11:02:51.887Z"
   },
   {
    "duration": 4,
    "start_time": "2023-07-21T11:02:52.544Z"
   },
   {
    "duration": 4,
    "start_time": "2023-07-21T11:02:55.791Z"
   },
   {
    "duration": 4,
    "start_time": "2023-07-21T11:02:59.001Z"
   },
   {
    "duration": 33,
    "start_time": "2023-07-21T11:03:10.296Z"
   },
   {
    "duration": 4,
    "start_time": "2023-07-21T11:07:15.609Z"
   },
   {
    "duration": 4,
    "start_time": "2023-07-21T11:07:25.608Z"
   },
   {
    "duration": 31,
    "start_time": "2023-07-21T11:11:58.601Z"
   },
   {
    "duration": 17,
    "start_time": "2023-07-21T11:12:16.240Z"
   },
   {
    "duration": 16,
    "start_time": "2023-07-21T11:12:18.584Z"
   },
   {
    "duration": 15,
    "start_time": "2023-07-21T11:12:27.332Z"
   },
   {
    "duration": 16,
    "start_time": "2023-07-21T11:13:12.193Z"
   },
   {
    "duration": 5,
    "start_time": "2023-07-21T11:13:19.376Z"
   },
   {
    "duration": 4,
    "start_time": "2023-07-21T11:13:24.368Z"
   },
   {
    "duration": 7,
    "start_time": "2023-07-21T11:13:27.072Z"
   },
   {
    "duration": 9,
    "start_time": "2023-07-21T11:13:39.322Z"
   },
   {
    "duration": 3,
    "start_time": "2023-07-21T11:19:12.689Z"
   },
   {
    "duration": 1228,
    "start_time": "2023-07-21T11:19:44.584Z"
   },
   {
    "duration": 21,
    "start_time": "2023-07-21T11:19:45.813Z"
   },
   {
    "duration": 4,
    "start_time": "2023-07-21T11:19:45.888Z"
   },
   {
    "duration": 6424,
    "start_time": "2023-07-22T17:19:44.566Z"
   },
   {
    "duration": 868,
    "start_time": "2023-07-22T17:20:05.485Z"
   },
   {
    "duration": 5191,
    "start_time": "2023-07-22T17:45:15.040Z"
   },
   {
    "duration": 4,
    "start_time": "2023-07-22T17:45:56.546Z"
   },
   {
    "duration": 5,
    "start_time": "2023-07-22T17:45:56.805Z"
   },
   {
    "duration": 3,
    "start_time": "2023-07-22T17:45:57.359Z"
   },
   {
    "duration": 1150,
    "start_time": "2023-07-22T17:46:11.806Z"
   },
   {
    "duration": 11,
    "start_time": "2023-07-22T17:46:13.683Z"
   },
   {
    "duration": 4,
    "start_time": "2023-07-22T17:46:16.226Z"
   },
   {
    "duration": 26,
    "start_time": "2023-07-22T17:46:25.885Z"
   },
   {
    "duration": 35,
    "start_time": "2023-07-22T17:46:35.889Z"
   },
   {
    "duration": 27,
    "start_time": "2023-07-22T17:46:37.619Z"
   },
   {
    "duration": 63,
    "start_time": "2023-07-22T17:48:56.890Z"
   },
   {
    "duration": 11,
    "start_time": "2023-07-22T17:49:08.070Z"
   },
   {
    "duration": 4,
    "start_time": "2023-07-22T17:49:14.779Z"
   },
   {
    "duration": 4,
    "start_time": "2023-07-22T17:49:15.396Z"
   },
   {
    "duration": 4,
    "start_time": "2023-07-22T17:49:43.864Z"
   },
   {
    "duration": 5,
    "start_time": "2023-07-22T17:50:28.325Z"
   },
   {
    "duration": 65157,
    "start_time": "2023-07-22T17:50:44.058Z"
   },
   {
    "duration": 1195167,
    "start_time": "2023-07-22T17:52:08.367Z"
   },
   {
    "duration": 14,
    "start_time": "2023-07-22T18:29:29.219Z"
   },
   {
    "duration": 5,
    "start_time": "2023-07-22T18:29:42.335Z"
   },
   {
    "duration": 124,
    "start_time": "2023-07-22T18:30:12.442Z"
   },
   {
    "duration": 3,
    "start_time": "2023-07-22T18:30:37.247Z"
   },
   {
    "duration": 3,
    "start_time": "2023-07-22T18:34:23.209Z"
   },
   {
    "duration": 3,
    "start_time": "2023-07-22T18:34:53.475Z"
   },
   {
    "duration": 5,
    "start_time": "2023-07-22T18:34:57.670Z"
   },
   {
    "duration": 343,
    "start_time": "2023-07-22T18:35:18.448Z"
   },
   {
    "duration": 21,
    "start_time": "2023-07-22T18:35:29.005Z"
   },
   {
    "duration": 89,
    "start_time": "2023-07-22T18:36:50.455Z"
   },
   {
    "duration": 2,
    "start_time": "2023-07-22T18:37:08.533Z"
   },
   {
    "duration": 3,
    "start_time": "2023-07-22T18:40:39.944Z"
   },
   {
    "duration": 22,
    "start_time": "2023-07-22T18:41:11.097Z"
   },
   {
    "duration": 63,
    "start_time": "2023-07-22T18:42:05.378Z"
   },
   {
    "duration": 65,
    "start_time": "2023-07-22T18:42:49.874Z"
   },
   {
    "duration": 28,
    "start_time": "2023-07-22T18:43:26.011Z"
   },
   {
    "duration": 168,
    "start_time": "2023-07-22T18:44:59.919Z"
   },
   {
    "duration": 9,
    "start_time": "2023-07-22T18:45:05.797Z"
   },
   {
    "duration": 31,
    "start_time": "2023-07-22T18:45:47.128Z"
   },
   {
    "duration": 30,
    "start_time": "2023-07-22T18:46:05.356Z"
   },
   {
    "duration": 5,
    "start_time": "2023-07-22T18:51:26.220Z"
   },
   {
    "duration": 119,
    "start_time": "2023-07-22T18:52:01.068Z"
   },
   {
    "duration": 7,
    "start_time": "2023-07-22T18:52:58.199Z"
   },
   {
    "duration": 252321,
    "start_time": "2023-07-22T18:52:59.300Z"
   },
   {
    "duration": 167,
    "start_time": "2023-07-22T18:57:11.624Z"
   },
   {
    "duration": 433,
    "start_time": "2023-07-22T18:57:31.621Z"
   },
   {
    "duration": 20,
    "start_time": "2023-07-22T18:57:58.821Z"
   },
   {
    "duration": 67,
    "start_time": "2023-07-22T18:58:32.259Z"
   },
   {
    "duration": 4,
    "start_time": "2023-07-22T18:58:34.770Z"
   },
   {
    "duration": 4,
    "start_time": "2023-07-22T18:59:23.578Z"
   },
   {
    "duration": 5,
    "start_time": "2023-07-22T19:02:54.133Z"
   },
   {
    "duration": 83,
    "start_time": "2023-07-22T19:02:55.058Z"
   },
   {
    "duration": 6460912,
    "start_time": "2023-07-22T19:02:58.221Z"
   },
   {
    "duration": 7,
    "start_time": "2023-07-23T05:35:24.635Z"
   },
   {
    "duration": 2131,
    "start_time": "2023-07-23T05:35:30.038Z"
   },
   {
    "duration": 22,
    "start_time": "2023-07-23T05:35:48.879Z"
   },
   {
    "duration": 3,
    "start_time": "2023-07-23T05:35:56.324Z"
   },
   {
    "duration": 49,
    "start_time": "2023-07-23T05:36:00.782Z"
   },
   {
    "duration": 3,
    "start_time": "2023-07-23T05:36:30.716Z"
   },
   {
    "duration": 3,
    "start_time": "2023-07-23T05:37:22.359Z"
   },
   {
    "duration": 3,
    "start_time": "2023-07-23T05:37:29.926Z"
   },
   {
    "duration": 3,
    "start_time": "2023-07-23T05:37:45.942Z"
   },
   {
    "duration": 3,
    "start_time": "2023-07-23T05:38:00.649Z"
   },
   {
    "duration": 6,
    "start_time": "2023-07-23T05:38:13.909Z"
   },
   {
    "duration": 19,
    "start_time": "2023-07-23T05:38:38.956Z"
   },
   {
    "duration": 2,
    "start_time": "2023-07-23T05:39:11.357Z"
   },
   {
    "duration": 18576,
    "start_time": "2023-07-23T05:39:16.264Z"
   },
   {
    "duration": 1609,
    "start_time": "2023-07-23T05:42:28.087Z"
   },
   {
    "duration": 1719,
    "start_time": "2023-07-23T05:42:54.736Z"
   },
   {
    "duration": 1990,
    "start_time": "2023-07-23T05:43:10.253Z"
   },
   {
    "duration": 1895,
    "start_time": "2023-07-23T05:43:41.378Z"
   },
   {
    "duration": 3391,
    "start_time": "2023-07-23T05:55:38.498Z"
   },
   {
    "duration": 7,
    "start_time": "2023-07-23T05:55:44.515Z"
   },
   {
    "duration": 17,
    "start_time": "2023-07-23T05:55:46.263Z"
   },
   {
    "duration": 33,
    "start_time": "2023-07-23T05:56:04.964Z"
   },
   {
    "duration": 161,
    "start_time": "2023-07-23T05:56:14.062Z"
   }
  ],
  "kernelspec": {
   "display_name": "Python 3 (ipykernel)",
   "language": "python",
   "name": "python3"
  },
  "language_info": {
   "codemirror_mode": {
    "name": "ipython",
    "version": 3
   },
   "file_extension": ".py",
   "mimetype": "text/x-python",
   "name": "python",
   "nbconvert_exporter": "python",
   "pygments_lexer": "ipython3",
   "version": "3.9.5"
  },
  "toc": {
   "base_numbering": 1,
   "nav_menu": {},
   "number_sections": true,
   "sideBar": true,
   "skip_h1_title": true,
   "title_cell": "Содержание",
   "title_sidebar": "Contents",
   "toc_cell": true,
   "toc_position": {
    "height": "calc(100% - 180px)",
    "left": "10px",
    "top": "150px",
    "width": "220px"
   },
   "toc_section_display": true,
   "toc_window_display": true
  }
 },
 "nbformat": 4,
 "nbformat_minor": 2
}
