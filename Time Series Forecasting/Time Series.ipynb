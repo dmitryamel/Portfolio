{
 "cells": [
  {
   "cell_type": "markdown",
   "metadata": {
    "toc": true
   },
   "source": [
    "<h1>Содержание<span class=\"tocSkip\"></span></h1>\n",
    "<div class=\"toc\"><ul class=\"toc-item\"><li><span><a href=\"#Импорт-и-функции\" data-toc-modified-id=\"Импорт-и-функции-1\"><span class=\"toc-item-num\">1&nbsp;&nbsp;</span>Импорт и функции</a></span></li><li><span><a href=\"#Подготовка\" data-toc-modified-id=\"Подготовка-2\"><span class=\"toc-item-num\">2&nbsp;&nbsp;</span>Подготовка</a></span></li><li><span><a href=\"#Анализ\" data-toc-modified-id=\"Анализ-3\"><span class=\"toc-item-num\">3&nbsp;&nbsp;</span>Анализ</a></span><ul class=\"toc-item\"><li><span><a href=\"#Вывод\" data-toc-modified-id=\"Вывод-3.1\"><span class=\"toc-item-num\">3.1&nbsp;&nbsp;</span>Вывод</a></span></li></ul></li><li><span><a href=\"#Обучение\" data-toc-modified-id=\"Обучение-4\"><span class=\"toc-item-num\">4&nbsp;&nbsp;</span>Обучение</a></span><ul class=\"toc-item\"><li><span><a href=\"#Подбор-параметров-с-Optuna\" data-toc-modified-id=\"Подбор-параметров-с-Optuna-4.1\"><span class=\"toc-item-num\">4.1&nbsp;&nbsp;</span>Подбор параметров с Optuna</a></span><ul class=\"toc-item\"><li><span><a href=\"#XGB\" data-toc-modified-id=\"XGB-4.1.1\"><span class=\"toc-item-num\">4.1.1&nbsp;&nbsp;</span>XGB</a></span></li><li><span><a href=\"#RandomForestRegressor\" data-toc-modified-id=\"RandomForestRegressor-4.1.2\"><span class=\"toc-item-num\">4.1.2&nbsp;&nbsp;</span>RandomForestRegressor</a></span></li><li><span><a href=\"#LinearRegression\" data-toc-modified-id=\"LinearRegression-4.1.3\"><span class=\"toc-item-num\">4.1.3&nbsp;&nbsp;</span>LinearRegression</a></span></li></ul></li><li><span><a href=\"#Кросс-валидация\" data-toc-modified-id=\"Кросс-валидация-4.2\"><span class=\"toc-item-num\">4.2&nbsp;&nbsp;</span>Кросс-валидация</a></span><ul class=\"toc-item\"><li><span><a href=\"#XGB\" data-toc-modified-id=\"XGB-4.2.1\"><span class=\"toc-item-num\">4.2.1&nbsp;&nbsp;</span>XGB</a></span></li><li><span><a href=\"#RandomForest\" data-toc-modified-id=\"RandomForest-4.2.2\"><span class=\"toc-item-num\">4.2.2&nbsp;&nbsp;</span>RandomForest</a></span></li><li><span><a href=\"#LinearRegression\" data-toc-modified-id=\"LinearRegression-4.2.3\"><span class=\"toc-item-num\">4.2.3&nbsp;&nbsp;</span>LinearRegression</a></span></li></ul></li><li><span><a href=\"#Вывод\" data-toc-modified-id=\"Вывод-4.3\"><span class=\"toc-item-num\">4.3&nbsp;&nbsp;</span>Вывод</a></span></li></ul></li><li><span><a href=\"#Тестирование\" data-toc-modified-id=\"Тестирование-5\"><span class=\"toc-item-num\">5&nbsp;&nbsp;</span>Тестирование</a></span></li><li><span><a href=\"#Вывод\" data-toc-modified-id=\"Вывод-6\"><span class=\"toc-item-num\">6&nbsp;&nbsp;</span>Вывод</a></span></li></ul></div>"
   ]
  },
  {
   "cell_type": "markdown",
   "metadata": {},
   "source": [
    "#  Прогнозирование заказов такси"
   ]
  },
  {
   "cell_type": "markdown",
   "metadata": {},
   "source": [
    "Компания «Чётенькое такси» собрала исторические данные о заказах такси в аэропортах. Чтобы привлекать больше водителей в период пиковой нагрузки, нужно спрогнозировать количество заказов такси на следующий час. Постройте модель для такого предсказания.\n",
    "\n",
    "Значение метрики *RMSE* на тестовой выборке должно быть не больше 48.\n",
    "\n",
    "Вам нужно:\n",
    "\n",
    "1. Загрузить данные и выполнить их ресемплирование по одному часу.\n",
    "2. Проанализировать данные.\n",
    "3. Обучить разные модели с различными гиперпараметрами. Сделать тестовую выборку размером 10% от исходных данных.\n",
    "4. Проверить данные на тестовой выборке и сделать выводы.\n",
    "\n",
    "\n",
    "Данные лежат в файле `taxi.csv`. Количество заказов находится в столбце `num_orders` (от англ. *number of orders*, «число заказов»)."
   ]
  },
  {
   "cell_type": "markdown",
   "metadata": {},
   "source": [
    "## Импорт и функции"
   ]
  },
  {
   "cell_type": "code",
   "execution_count": 2,
   "metadata": {},
   "outputs": [
    {
     "name": "stdout",
     "output_type": "stream",
     "text": [
      "Collecting optuna\n",
      "  Downloading optuna-3.2.0-py3-none-any.whl (390 kB)\n",
      "\u001b[K     |████████████████████████████████| 390 kB 1.7 MB/s eta 0:00:01\n",
      "\u001b[?25hRequirement already satisfied: alembic>=1.5.0 in /opt/conda/lib/python3.9/site-packages (from optuna) (1.6.5)\n",
      "Requirement already satisfied: sqlalchemy>=1.3.0 in /opt/conda/lib/python3.9/site-packages (from optuna) (1.4.20)\n",
      "Collecting cmaes>=0.9.1\n",
      "  Downloading cmaes-0.10.0-py3-none-any.whl (29 kB)\n",
      "Requirement already satisfied: numpy in /opt/conda/lib/python3.9/site-packages (from optuna) (1.21.1)\n",
      "Requirement already satisfied: packaging>=20.0 in /opt/conda/lib/python3.9/site-packages (from optuna) (21.3)\n",
      "Requirement already satisfied: PyYAML in /opt/conda/lib/python3.9/site-packages (from optuna) (6.0)\n",
      "Collecting colorlog\n",
      "  Downloading colorlog-6.7.0-py2.py3-none-any.whl (11 kB)\n",
      "Requirement already satisfied: tqdm in /opt/conda/lib/python3.9/site-packages (from optuna) (4.61.2)\n",
      "Requirement already satisfied: python-dateutil in /opt/conda/lib/python3.9/site-packages (from alembic>=1.5.0->optuna) (2.8.1)\n",
      "Requirement already satisfied: Mako in /opt/conda/lib/python3.9/site-packages (from alembic>=1.5.0->optuna) (1.1.4)\n",
      "Requirement already satisfied: python-editor>=0.3 in /opt/conda/lib/python3.9/site-packages (from alembic>=1.5.0->optuna) (1.0.4)\n",
      "Requirement already satisfied: pyparsing!=3.0.5,>=2.0.2 in /opt/conda/lib/python3.9/site-packages (from packaging>=20.0->optuna) (2.4.7)\n",
      "Requirement already satisfied: greenlet!=0.4.17 in /opt/conda/lib/python3.9/site-packages (from sqlalchemy>=1.3.0->optuna) (1.1.0)\n",
      "Requirement already satisfied: MarkupSafe>=0.9.2 in /opt/conda/lib/python3.9/site-packages (from Mako->alembic>=1.5.0->optuna) (2.1.1)\n",
      "Requirement already satisfied: six>=1.5 in /opt/conda/lib/python3.9/site-packages (from python-dateutil->alembic>=1.5.0->optuna) (1.16.0)\n",
      "Installing collected packages: colorlog, cmaes, optuna\n",
      "Successfully installed cmaes-0.10.0 colorlog-6.7.0 optuna-3.2.0\n"
     ]
    }
   ],
   "source": [
    "!pip install optuna"
   ]
  },
  {
   "cell_type": "code",
   "execution_count": 3,
   "metadata": {},
   "outputs": [],
   "source": [
    "#import\n",
    "import pandas as pd\n",
    "import numpy as np\n",
    "import seaborn as sns\n",
    "import matplotlib.pyplot as plt\n",
    "from sklearn.model_selection import (\n",
    "    train_test_split,\n",
    "    TimeSeriesSplit,\n",
    "    cross_val_score,\n",
    "    cross_validate\n",
    ")\n",
    "from sklearn.metrics import (\n",
    "    mean_squared_error,\n",
    "    make_scorer\n",
    ")\n",
    "from statsmodels.tsa.seasonal import seasonal_decompose\n",
    "#ML\n",
    "from sklearn.ensemble import RandomForestRegressor\n",
    "from sklearn.dummy import DummyRegressor\n",
    "from sklearn.linear_model import LinearRegression\n",
    "from xgboost import XGBRegressor\n",
    "import optuna\n",
    "import joblib\n",
    "from sklearn.inspection import permutation_importance"
   ]
  },
  {
   "cell_type": "code",
   "execution_count": 4,
   "metadata": {},
   "outputs": [],
   "source": [
    "#стиль\n",
    "plt.style.use(\"tableau-colorblind10\")\n",
    "color_pal = sns.color_palette('Set2')"
   ]
  },
  {
   "cell_type": "code",
   "execution_count": 5,
   "metadata": {},
   "outputs": [],
   "source": [
    "#рисование временного ряда\n",
    "def time_series(df, color, title , size = (12,6), style = '-', ax = None):\n",
    "  df.plot(\n",
    "      figsize = size,\n",
    "      grid = True,\n",
    "      style = style,\n",
    "      ax = ax,\n",
    "      fontsize = 12,\n",
    "      color = color,\n",
    "  )\n",
    "  plt.title(title + '\\n', fontsize = size[0])\n",
    "  plt.xlabel('Дата', fontsize = size[0]);"
   ]
  },
  {
   "cell_type": "code",
   "execution_count": 6,
   "metadata": {},
   "outputs": [],
   "source": [
    "#временной ряд со скользящим средним\n",
    "def time_series_rolling(df, size, title, rolling, ax = None):\n",
    "  df = df.copy()\n",
    "  df['rolling'] = df['num_orders'].rolling(rolling).mean()\n",
    "  df.plot(\n",
    "      figsize = size,\n",
    "      grid = True,\n",
    "      ax = ax,\n",
    "      fontsize = size[0]/2,\n",
    "  )\n",
    "  plt.title(title, fontsize = size[0])\n",
    "  plt.xlabel('Дата', fontsize = size[0]);"
   ]
  },
  {
   "cell_type": "code",
   "execution_count": 7,
   "metadata": {},
   "outputs": [],
   "source": [
    "#создание признаков\n",
    "def make_features(data, max_lag, rolling_mean_size):\n",
    "    df = data.copy()\n",
    "    df['day'] = df.index.day\n",
    "    df['dayofweek'] = df.index.dayofweek\n",
    "    df['month'] = df.index.month\n",
    "    for lag in range(1, max_lag + 1):\n",
    "        df['lag_{}'.format(lag)] = df['num_orders'].shift(lag)\n",
    "    for rol in range(1, rolling_mean_size + 1):\n",
    "        df['rolling_mean'] = df['num_orders'].shift().rolling(rol).mean()\n",
    "    df.dropna(inplace = True)\n",
    "    return df"
   ]
  },
  {
   "cell_type": "code",
   "execution_count": 8,
   "metadata": {},
   "outputs": [],
   "source": [
    "#model evaluation for time series with timeseriessplit\n",
    "def evaluate(model, X, y, cv):\n",
    "    cv_results = cross_validate(\n",
    "        model,\n",
    "        X,\n",
    "        y,\n",
    "        cv=cv,\n",
    "        scoring = \"neg_root_mean_squared_error\",\n",
    "    )\n",
    "    cv_results['test_score'] = cv_results['test_score']*(-1)\n",
    "    rmse = cv_results[\"test_score\"]\n",
    "    print(f'RMSE of {model} is : {rmse.mean():.3f}')\n",
    "    return cv_results"
   ]
  },
  {
   "cell_type": "markdown",
   "metadata": {},
   "source": [
    "## Подготовка"
   ]
  },
  {
   "cell_type": "code",
   "execution_count": 9,
   "metadata": {},
   "outputs": [],
   "source": [
    "#read csv\n",
    "taxi = pd.read_csv('/datasets/taxi.csv', parse_dates=[0],  index_col = 'datetime')\n",
    "#сортируем индексы по возрастанию\n",
    "taxi.sort_index(inplace = True)"
   ]
  },
  {
   "cell_type": "code",
   "execution_count": 10,
   "metadata": {},
   "outputs": [
    {
     "data": {
      "text/html": [
       "<div>\n",
       "<style scoped>\n",
       "    .dataframe tbody tr th:only-of-type {\n",
       "        vertical-align: middle;\n",
       "    }\n",
       "\n",
       "    .dataframe tbody tr th {\n",
       "        vertical-align: top;\n",
       "    }\n",
       "\n",
       "    .dataframe thead th {\n",
       "        text-align: right;\n",
       "    }\n",
       "</style>\n",
       "<table border=\"1\" class=\"dataframe\">\n",
       "  <thead>\n",
       "    <tr style=\"text-align: right;\">\n",
       "      <th></th>\n",
       "      <th>num_orders</th>\n",
       "    </tr>\n",
       "    <tr>\n",
       "      <th>datetime</th>\n",
       "      <th></th>\n",
       "    </tr>\n",
       "  </thead>\n",
       "  <tbody>\n",
       "    <tr>\n",
       "      <th>2018-03-01 00:00:00</th>\n",
       "      <td>9</td>\n",
       "    </tr>\n",
       "    <tr>\n",
       "      <th>2018-03-01 00:10:00</th>\n",
       "      <td>14</td>\n",
       "    </tr>\n",
       "    <tr>\n",
       "      <th>2018-03-01 00:20:00</th>\n",
       "      <td>28</td>\n",
       "    </tr>\n",
       "    <tr>\n",
       "      <th>2018-03-01 00:30:00</th>\n",
       "      <td>20</td>\n",
       "    </tr>\n",
       "    <tr>\n",
       "      <th>2018-03-01 00:40:00</th>\n",
       "      <td>32</td>\n",
       "    </tr>\n",
       "  </tbody>\n",
       "</table>\n",
       "</div>"
      ],
      "text/plain": [
       "                     num_orders\n",
       "datetime                       \n",
       "2018-03-01 00:00:00           9\n",
       "2018-03-01 00:10:00          14\n",
       "2018-03-01 00:20:00          28\n",
       "2018-03-01 00:30:00          20\n",
       "2018-03-01 00:40:00          32"
      ]
     },
     "metadata": {},
     "output_type": "display_data"
    },
    {
     "data": {
      "text/plain": [
       "num_orders    0\n",
       "dtype: int64"
      ]
     },
     "metadata": {},
     "output_type": "display_data"
    },
    {
     "data": {
      "text/html": [
       "<div>\n",
       "<style scoped>\n",
       "    .dataframe tbody tr th:only-of-type {\n",
       "        vertical-align: middle;\n",
       "    }\n",
       "\n",
       "    .dataframe tbody tr th {\n",
       "        vertical-align: top;\n",
       "    }\n",
       "\n",
       "    .dataframe thead th {\n",
       "        text-align: right;\n",
       "    }\n",
       "</style>\n",
       "<table border=\"1\" class=\"dataframe\">\n",
       "  <thead>\n",
       "    <tr style=\"text-align: right;\">\n",
       "      <th></th>\n",
       "      <th>num_orders</th>\n",
       "    </tr>\n",
       "  </thead>\n",
       "  <tbody>\n",
       "    <tr>\n",
       "      <th>count</th>\n",
       "      <td>26496.000000</td>\n",
       "    </tr>\n",
       "    <tr>\n",
       "      <th>mean</th>\n",
       "      <td>14.070463</td>\n",
       "    </tr>\n",
       "    <tr>\n",
       "      <th>std</th>\n",
       "      <td>9.211330</td>\n",
       "    </tr>\n",
       "    <tr>\n",
       "      <th>min</th>\n",
       "      <td>0.000000</td>\n",
       "    </tr>\n",
       "    <tr>\n",
       "      <th>25%</th>\n",
       "      <td>8.000000</td>\n",
       "    </tr>\n",
       "    <tr>\n",
       "      <th>50%</th>\n",
       "      <td>13.000000</td>\n",
       "    </tr>\n",
       "    <tr>\n",
       "      <th>75%</th>\n",
       "      <td>19.000000</td>\n",
       "    </tr>\n",
       "    <tr>\n",
       "      <th>max</th>\n",
       "      <td>119.000000</td>\n",
       "    </tr>\n",
       "  </tbody>\n",
       "</table>\n",
       "</div>"
      ],
      "text/plain": [
       "         num_orders\n",
       "count  26496.000000\n",
       "mean      14.070463\n",
       "std        9.211330\n",
       "min        0.000000\n",
       "25%        8.000000\n",
       "50%       13.000000\n",
       "75%       19.000000\n",
       "max      119.000000"
      ]
     },
     "execution_count": 10,
     "metadata": {},
     "output_type": "execute_result"
    }
   ],
   "source": [
    "#check dataframe\n",
    "display(taxi.head())\n",
    "display(taxi.isna().sum())\n",
    "taxi.describe()"
   ]
  },
  {
   "cell_type": "markdown",
   "metadata": {},
   "source": [
    "Пропусков нет, получены основные характеристики наших данных"
   ]
  },
  {
   "cell_type": "code",
   "execution_count": 11,
   "metadata": {},
   "outputs": [
    {
     "name": "stdout",
     "output_type": "stream",
     "text": [
      "Временной ряд отсортирован, индексы следуют в хронологическом порядке\n"
     ]
    }
   ],
   "source": [
    "#проверка последовательности индексов\n",
    "if taxi.index.is_monotonic_increasing == True:\n",
    "    print('Временной ряд отсортирован, индексы следуют в хронологическом порядке')"
   ]
  },
  {
   "cell_type": "code",
   "execution_count": 12,
   "metadata": {},
   "outputs": [
    {
     "data": {
      "text/plain": [
       "num_orders    int64\n",
       "dtype: object"
      ]
     },
     "metadata": {},
     "output_type": "display_data"
    },
    {
     "name": "stdout",
     "output_type": "stream",
     "text": [
      "Индексы имеют тип DateTime :<class 'pandas.core.indexes.datetimes.DatetimeIndex'>\n"
     ]
    }
   ],
   "source": [
    "#analysis\n",
    "display(taxi.dtypes)\n",
    "print(f\"Индексы имеют тип DateTime :{type(taxi.index)}\")"
   ]
  },
  {
   "cell_type": "markdown",
   "metadata": {},
   "source": [
    "## Анализ"
   ]
  },
  {
   "cell_type": "markdown",
   "metadata": {},
   "source": [
    "Построим график исходных данных"
   ]
  },
  {
   "cell_type": "code",
   "execution_count": 13,
   "metadata": {},
   "outputs": [
    {
     "data": {
      "image/png": "[encoded data removed]",
      "text/plain": [
       "<Figure size 1296x432 with 1 Axes>"
      ]
     },
     "metadata": {
      "needs_background": "light"
     },
     "output_type": "display_data"
    }
   ],
   "source": [
    "#график исходных данных\n",
    "time_series(taxi, color_pal[0], 'Исходные данные', (18,6))\n",
    "plt.legend(['Число заказов']);"
   ]
  },
  {
   "cell_type": "markdown",
   "metadata": {},
   "source": [
    "Ресэмплируем данные согласно заданию"
   ]
  },
  {
   "cell_type": "code",
   "execution_count": 14,
   "metadata": {},
   "outputs": [],
   "source": [
    "#ресэмплируем данные с интервалом в 1 час и суммируем их за день\n",
    "data_res = taxi.resample('1H').sum()"
   ]
  },
  {
   "cell_type": "code",
   "execution_count": 17,
   "metadata": {},
   "outputs": [
    {
     "data": {
      "text/plain": [
       "pandas.core.frame.DataFrame"
      ]
     },
     "execution_count": 17,
     "metadata": {},
     "output_type": "execute_result"
    }
   ],
   "source": [
    "type(data_res)"
   ]
  },
  {
   "cell_type": "markdown",
   "metadata": {},
   "source": [
    "Смотрим на вновь полученный ряд"
   ]
  },
  {
   "cell_type": "code",
   "execution_count": 14,
   "metadata": {},
   "outputs": [
    {
     "data": {
      "image/png": "[encoded data removed]",
      "text/plain": [
       "<Figure size 1296x432 with 1 Axes>"
      ]
     },
     "metadata": {
      "needs_background": "light"
     },
     "output_type": "display_data"
    }
   ],
   "source": [
    "#ресэмплированный ряд\n",
    "time_series(data_res, color_pal[2], 'Ресэмплированный ряд', (18,6))\n",
    "plt.legend(['Число заказов']);"
   ]
  },
  {
   "cell_type": "markdown",
   "metadata": {},
   "source": [
    "Взглянем на распределение значений данных после ресэмплирования"
   ]
  },
  {
   "cell_type": "code",
   "execution_count": 15,
   "metadata": {},
   "outputs": [
    {
     "data": {
      "image/png": "[encoded data removed]",
      "text/plain": [
       "<Figure size 864x216 with 1 Axes>"
      ]
     },
     "metadata": {
      "needs_background": "light"
     },
     "output_type": "display_data"
    }
   ],
   "source": [
    "#гистограмма распределения числа поездок\n",
    "data_res.plot.hist(\n",
    "    figsize = (12,3),\n",
    "    bins = 50,\n",
    "    grid = True,\n",
    "    color = color_pal[7]\n",
    ")\n",
    "plt.legend(['Кол-во заказов']);"
   ]
  },
  {
   "cell_type": "code",
   "execution_count": 16,
   "metadata": {},
   "outputs": [
    {
     "data": {
      "image/png": "[encoded data removed]",
      "text/plain": [
       "<Figure size 864x216 with 1 Axes>"
      ]
     },
     "metadata": {
      "needs_background": "light"
     },
     "output_type": "display_data"
    }
   ],
   "source": [
    "#ящик с усами\n",
    "data_res.boxplot(\n",
    "    figsize = (12,3),\n",
    "    vert = False\n",
    ")\n",
    "plt.title('Разброс количества заказов')\n",
    "plt.xlabel('Количество заказов');"
   ]
  },
  {
   "cell_type": "code",
   "execution_count": 17,
   "metadata": {},
   "outputs": [
    {
     "data": {
      "text/html": [
       "<div>\n",
       "<style scoped>\n",
       "    .dataframe tbody tr th:only-of-type {\n",
       "        vertical-align: middle;\n",
       "    }\n",
       "\n",
       "    .dataframe tbody tr th {\n",
       "        vertical-align: top;\n",
       "    }\n",
       "\n",
       "    .dataframe thead th {\n",
       "        text-align: right;\n",
       "    }\n",
       "</style>\n",
       "<table border=\"1\" class=\"dataframe\">\n",
       "  <thead>\n",
       "    <tr style=\"text-align: right;\">\n",
       "      <th></th>\n",
       "      <th>num_orders</th>\n",
       "    </tr>\n",
       "  </thead>\n",
       "  <tbody>\n",
       "    <tr>\n",
       "      <th>count</th>\n",
       "      <td>4416.000000</td>\n",
       "    </tr>\n",
       "    <tr>\n",
       "      <th>mean</th>\n",
       "      <td>84.422781</td>\n",
       "    </tr>\n",
       "    <tr>\n",
       "      <th>std</th>\n",
       "      <td>45.023853</td>\n",
       "    </tr>\n",
       "    <tr>\n",
       "      <th>min</th>\n",
       "      <td>0.000000</td>\n",
       "    </tr>\n",
       "    <tr>\n",
       "      <th>25%</th>\n",
       "      <td>54.000000</td>\n",
       "    </tr>\n",
       "    <tr>\n",
       "      <th>50%</th>\n",
       "      <td>78.000000</td>\n",
       "    </tr>\n",
       "    <tr>\n",
       "      <th>75%</th>\n",
       "      <td>107.000000</td>\n",
       "    </tr>\n",
       "    <tr>\n",
       "      <th>max</th>\n",
       "      <td>462.000000</td>\n",
       "    </tr>\n",
       "  </tbody>\n",
       "</table>\n",
       "</div>"
      ],
      "text/plain": [
       "        num_orders\n",
       "count  4416.000000\n",
       "mean     84.422781\n",
       "std      45.023853\n",
       "min       0.000000\n",
       "25%      54.000000\n",
       "50%      78.000000\n",
       "75%     107.000000\n",
       "max     462.000000"
      ]
     },
     "execution_count": 17,
     "metadata": {},
     "output_type": "execute_result"
    }
   ],
   "source": [
    "#describe\n",
    "data_res.describe()"
   ]
  },
  {
   "cell_type": "markdown",
   "metadata": {},
   "source": [
    "Распределение скошено вправо, присутствует много дней с заказами около 200 и более. \n",
    "В целом я считаю, что небольшой срез пиков в районе 250 должен немного повысить качество предсказаний, однако целиком грубо фильтровать не стоит"
   ]
  },
  {
   "cell_type": "markdown",
   "metadata": {},
   "source": [
    "Построим график со скользящим средним с окном в неделю"
   ]
  },
  {
   "cell_type": "code",
   "execution_count": 18,
   "metadata": {},
   "outputs": [
    {
     "data": {
      "image/png": "[encoded data removed]",
      "text/plain": [
       "<Figure size 1296x432 with 1 Axes>"
      ]
     },
     "metadata": {
      "needs_background": "light"
     },
     "output_type": "display_data"
    }
   ],
   "source": [
    "#with rolling mean\n",
    "time_series_rolling(data_res,(18,6), 'Ресэмплированный ряд со скользящим средним за неделю', ('7d') )\n",
    "plt.legend(['Число заказов', 'Среднее']);"
   ]
  },
  {
   "cell_type": "markdown",
   "metadata": {},
   "source": [
    "Очевидно, число заказов плавно растет с марта по август, пики приходятся на конец лета. Посмотрим на данные по сезонам отдельно"
   ]
  },
  {
   "cell_type": "code",
   "execution_count": 19,
   "metadata": {},
   "outputs": [
    {
     "data": {
      "image/png": "[encoded data removed]",
      "text/plain": [
       "<Figure size 1152x432 with 1 Axes>"
      ]
     },
     "metadata": {
      "needs_background": "light"
     },
     "output_type": "display_data"
    }
   ],
   "source": [
    "#график в весенний период по ресэпмлированным данным\n",
    "time_series(data_res['2018-03':'2018-05'], color_pal[3],'Заказы весной', (16,6))\n",
    "plt.legend(['Число заказов весной']);"
   ]
  },
  {
   "cell_type": "code",
   "execution_count": 20,
   "metadata": {},
   "outputs": [
    {
     "data": {
      "image/png": "[encoded data removed]",
      "text/plain": [
       "<Figure size 1152x432 with 1 Axes>"
      ]
     },
     "metadata": {
      "needs_background": "light"
     },
     "output_type": "display_data"
    }
   ],
   "source": [
    "#график в летний период по ресэпмлированным данным\n",
    "time_series(data_res['2018-06':'2018-08'], color_pal[4], 'Заказы летом',(16,6))\n",
    "plt.legend(['Число заказов летом']);"
   ]
  },
  {
   "cell_type": "markdown",
   "metadata": {},
   "source": [
    "Разложим ряд на составляющие"
   ]
  },
  {
   "cell_type": "code",
   "execution_count": 21,
   "metadata": {},
   "outputs": [
    {
     "data": {
      "image/png": "[encoded data removed]",
      "text/plain": [
       "<Figure size 1008x504 with 3 Axes>"
      ]
     },
     "metadata": {
      "needs_background": "light"
     },
     "output_type": "display_data"
    }
   ],
   "source": [
    "#декомпозиция ряда\n",
    "decompose = seasonal_decompose(data_res)\n",
    "\n",
    "#make some color magic\n",
    "fig, axes = plt.subplots(3, 1, figsize=(14,7), constrained_layout = True)\n",
    "fig.suptitle('Декомпозиция ресэмплированного ряда')\n",
    "#seasonal\n",
    "decompose.seasonal.plot(ax = axes [0], color = 'green')\n",
    "axes[0].set_ylabel('Сезонность', fontsize = 12)\n",
    "#trend\n",
    "decompose.trend.plot(ax = axes [1], color = 'orange', sharex = axes[0])\n",
    "axes[1].set_xlabel('Дата', fontsize = 12)\n",
    "axes[1].set_ylabel('Тренд', fontsize = 12);\n",
    "#noise\n",
    "decompose.resid.plot(ax = axes [2], color = 'black')\n",
    "axes[2].set_ylabel('Шум', fontsize = 12);"
   ]
  },
  {
   "cell_type": "markdown",
   "metadata": {},
   "source": [
    "В графике, отражающем сезонность ряда, практически ничего не видно. Посмотрим на него в срезе за день, неделю и месяц.  \n",
    "Движение же тренда понятно, заказы плавно растут и достигают наибольших значений в конце лета"
   ]
  },
  {
   "cell_type": "code",
   "execution_count": 22,
   "metadata": {},
   "outputs": [
    {
     "data": {
      "image/png": "[encoded data removed]",
      "text/plain": [
       "<Figure size 864x288 with 1 Axes>"
      ]
     },
     "metadata": {
      "needs_background": "light"
     },
     "output_type": "display_data"
    }
   ],
   "source": [
    "#сезонность поездок за один день\n",
    "decompose.seasonal['2018-06-15':'2018-06-16'].plot(color = color_pal[7], figsize = (12,4))\n",
    "plt.title('Сезонность за один день', fontsize = 12);\n",
    "plt.xlabel('Дата');"
   ]
  },
  {
   "cell_type": "code",
   "execution_count": 23,
   "metadata": {},
   "outputs": [
    {
     "data": {
      "image/png": "[encoded data removed]",
      "text/plain": [
       "<Figure size 864x288 with 1 Axes>"
      ]
     },
     "metadata": {
      "needs_background": "light"
     },
     "output_type": "display_data"
    }
   ],
   "source": [
    "#сезонность поездок за одну неделю\n",
    "decompose.seasonal['2018-06-11':'2018-06-18'].plot(color = color_pal[5], figsize = (12,4))\n",
    "plt.title('Сезонность за одну неделю', fontsize = 12);\n",
    "plt.xlabel('Дата');"
   ]
  },
  {
   "cell_type": "code",
   "execution_count": 24,
   "metadata": {},
   "outputs": [
    {
     "data": {
      "image/png": "[encoded data removed]",
      "text/plain": [
       "<Figure size 864x288 with 1 Axes>"
      ]
     },
     "metadata": {
      "needs_background": "light"
     },
     "output_type": "display_data"
    }
   ],
   "source": [
    "#сезонность поездок за один день\n",
    "decompose.seasonal['2018-06-15':'2018-07-15'].plot(color = color_pal[7], figsize = (12,4))\n",
    "plt.title('Сезонность за один месяц', fontsize = 12);\n",
    "plt.xlabel('Дата');"
   ]
  },
  {
   "cell_type": "markdown",
   "metadata": {},
   "source": [
    "Из графиков можем увидеть, что в целом заказов ранним утром обычно меньше, чем в течение дня и под вечер, основный пик приходися на околоночное время"
   ]
  },
  {
   "cell_type": "markdown",
   "metadata": {},
   "source": [
    "###  Вывод"
   ]
  },
  {
   "cell_type": "markdown",
   "metadata": {},
   "source": [
    "- провели ресэмплирование в интервале одного часа согласно задания\n",
    "- проанализровали распределение заказов, построили гистограмму и ящик с усами\n",
    "- разложили временной ряд на составляющие тренда и сезонности\n",
    "- определилил границу фильтра для повышения качества предсказаний модели"
   ]
  },
  {
   "cell_type": "markdown",
   "metadata": {},
   "source": [
    "## Обучение"
   ]
  },
  {
   "cell_type": "markdown",
   "metadata": {},
   "source": [
    "Размер окна примем равным 72 часам, число лагов возьмем равным интервалу суточного сезона, т.е. 24 часа "
   ]
  },
  {
   "cell_type": "code",
   "execution_count": 26,
   "metadata": {},
   "outputs": [
    {
     "name": "stdout",
     "output_type": "stream",
     "text": [
      "Размер Train: 3909 и размер Test: 435\n"
     ]
    },
    {
     "data": {
      "text/plain": [
       "(3909, 435)"
      ]
     },
     "execution_count": 26,
     "metadata": {},
     "output_type": "execute_result"
    }
   ],
   "source": [
    "#make features\n",
    "df = make_features(data_res, 24, 72)\n",
    "#разбиение на выборки\n",
    "train, test = train_test_split(df, test_size = .1, shuffle = False )\n",
    "#check splitting\n",
    "print(f'Размер Train: {train.shape[0]} и размер Test: {test.shape[0]}')\n",
    "#признаки для обучающей и тестовой выборок\n",
    "X_train = train.drop('num_orders', axis=1)\n",
    "X_test = test.drop('num_orders', axis=1)\n",
    "y_train = train['num_orders']\n",
    "y_test = test['num_orders']\n",
    "#check train and test\n",
    "X_train.shape[0], X_test.shape[0]"
   ]
  },
  {
   "cell_type": "markdown",
   "metadata": {},
   "source": [
    "Для подбора параметров вручную создадим из тренировочной выборки валидационную, запретив перемешивание для предотвращения утечки(захват данных из будущего)"
   ]
  },
  {
   "cell_type": "code",
   "execution_count": 27,
   "metadata": {},
   "outputs": [
    {
     "name": "stdout",
     "output_type": "stream",
     "text": [
      "Размер обучающей подвыборки: 2736 и размер валидационной подвыборки: 1173\n",
      "Размер исходной: 3909\n"
     ]
    }
   ],
   "source": [
    "#создадим валидационную выборку вручную для Optuna\n",
    "train_small, val = train_test_split(train, test_size = .3, shuffle = False)\n",
    "print(f'Размер обучающей подвыборки: {train_small.shape[0]} и размер валидационной подвыборки: {val.shape[0]}')\n",
    "print(f'Размер исходной: {train.shape[0]}')\n",
    "#признаки\n",
    "X_small = train_small.drop('num_orders', axis=1)\n",
    "X_val = val.drop('num_orders', axis=1)\n",
    "y_small = train_small['num_orders']\n",
    "y_val = val['num_orders']"
   ]
  },
  {
   "cell_type": "markdown",
   "metadata": {},
   "source": [
    "### Подбор параметров с Optuna"
   ]
  },
  {
   "cell_type": "markdown",
   "metadata": {},
   "source": [
    "#### XGB"
   ]
  },
  {
   "cell_type": "code",
   "execution_count": 45,
   "metadata": {},
   "outputs": [
    {
     "name": "stderr",
     "output_type": "stream",
     "text": [
      "[I 2023-07-11 08:42:15,306] A new study created in memory with name: no-name-f1a6a5a7-f3bc-4ad4-892f-6ef19248449c\n",
      "[I 2023-07-11 08:42:50,479] Trial 0 finished with value: 37.425135625564344 and parameters: {'learning_rate': 0.008890753011804281, 'colsample_bytree': 0.37334707386980864, 'colsample_bynode': 0.00029451198107988656, 'max_depth': 3, 'n_estimators': 717, 'subsample': 0.037255212462055924}. Best is trial 0 with value: 37.425135625564344.\n",
      "[I 2023-07-11 08:43:20,986] Trial 1 finished with value: 38.84263511465214 and parameters: {'learning_rate': 0.029272515731725603, 'colsample_bytree': 0.017464633561355608, 'colsample_bynode': 0.18634936457402906, 'max_depth': 3, 'n_estimators': 735, 'subsample': 0.001973882174595457}. Best is trial 0 with value: 37.425135625564344.\n",
      "[I 2023-07-11 08:43:27,068] Trial 2 finished with value: 104.59175679803568 and parameters: {'learning_rate': 0.0002944072692877511, 'colsample_bytree': 0.05106646919880078, 'colsample_bynode': 0.14876829027052563, 'max_depth': 4, 'n_estimators': 242, 'subsample': 0.014302712346364951}. Best is trial 0 with value: 37.425135625564344.\n",
      "[I 2023-07-11 08:43:39,869] Trial 3 finished with value: 34.58763249502022 and parameters: {'learning_rate': 0.05277676523084538, 'colsample_bytree': 0.3237304483121267, 'colsample_bynode': 0.00010311832441228154, 'max_depth': 2, 'n_estimators': 542, 'subsample': 0.3956692769163717}. Best is trial 3 with value: 34.58763249502022.\n",
      "[I 2023-07-11 08:43:46,504] Trial 4 finished with value: 42.815507891805844 and parameters: {'learning_rate': 0.3995725339265841, 'colsample_bytree': 0.024197386561311766, 'colsample_bynode': 0.0032270472177140545, 'max_depth': 3, 'n_estimators': 255, 'subsample': 0.19648655903141243}. Best is trial 3 with value: 34.58763249502022.\n",
      "[I 2023-07-11 08:44:01,105] Trial 5 finished with value: 402.88046166026317 and parameters: {'learning_rate': 0.3288521466349862, 'colsample_bytree': 0.0001270715054050944, 'colsample_bynode': 0.5269119578533509, 'max_depth': 3, 'n_estimators': 562, 'subsample': 0.0153164108610063}. Best is trial 3 with value: 34.58763249502022.\n",
      "[I 2023-07-11 08:44:14,310] Trial 6 finished with value: 62.06227394989336 and parameters: {'learning_rate': 0.005053206270986328, 'colsample_bytree': 0.008762727124976498, 'colsample_bynode': 0.021983821671676434, 'max_depth': 5, 'n_estimators': 563, 'subsample': 0.0006246152007929058}. Best is trial 3 with value: 34.58763249502022.\n",
      "[I 2023-07-11 08:44:39,005] Trial 7 finished with value: 43.76616653832178 and parameters: {'learning_rate': 0.03396118762078218, 'colsample_bytree': 0.15610562615498125, 'colsample_bynode': 0.0020549115610771942, 'max_depth': 3, 'n_estimators': 969, 'subsample': 0.0009415973208434454}. Best is trial 3 with value: 34.58763249502022.\n",
      "[I 2023-07-11 08:45:00,772] Trial 8 finished with value: 62.20969857457099 and parameters: {'learning_rate': 0.013213687973443331, 'colsample_bytree': 0.04153794938572269, 'colsample_bynode': 0.08524172820290193, 'max_depth': 2, 'n_estimators': 703, 'subsample': 0.00017077907141380719}. Best is trial 3 with value: 34.58763249502022.\n",
      "[I 2023-07-11 08:45:14,697] Trial 9 finished with value: 103.60950488812485 and parameters: {'learning_rate': 0.0006265685975385622, 'colsample_bytree': 0.009126677186048843, 'colsample_bynode': 0.009270228393556028, 'max_depth': 3, 'n_estimators': 590, 'subsample': 0.00021606650472054574}. Best is trial 3 with value: 34.58763249502022.\n",
      "[I 2023-07-11 08:45:26,980] Trial 10 finished with value: 34.403788992292874 and parameters: {'learning_rate': 0.09215874134613776, 'colsample_bytree': 0.9439310119844748, 'colsample_bynode': 0.00014912426626750895, 'max_depth': 2, 'n_estimators': 379, 'subsample': 0.8314213313574055}. Best is trial 10 with value: 34.403788992292874.\n",
      "[I 2023-07-11 08:45:39,507] Trial 11 finished with value: 34.05102619293581 and parameters: {'learning_rate': 0.10253077393438889, 'colsample_bytree': 0.7797469242995302, 'colsample_bynode': 0.0002070822916562017, 'max_depth': 2, 'n_estimators': 418, 'subsample': 0.9867287068852753}. Best is trial 11 with value: 34.05102619293581.\n",
      "[I 2023-07-11 08:45:49,204] Trial 12 finished with value: 35.02455680219136 and parameters: {'learning_rate': 0.15049936637739267, 'colsample_bytree': 0.9049622493960422, 'colsample_bynode': 0.00025445014217547336, 'max_depth': 2, 'n_estimators': 383, 'subsample': 0.8963233733174887}. Best is trial 11 with value: 34.05102619293581.\n",
      "[I 2023-07-11 08:45:58,509] Trial 13 finished with value: 35.49984624026446 and parameters: {'learning_rate': 0.13203692198534292, 'colsample_bytree': 0.8899746103238696, 'colsample_bynode': 0.0007122638365388551, 'max_depth': 2, 'n_estimators': 416, 'subsample': 0.12774343424366585}. Best is trial 11 with value: 34.05102619293581.\n",
      "[I 2023-07-11 08:46:09,217] Trial 14 finished with value: 33.53478953520122 and parameters: {'learning_rate': 0.10308439765953002, 'colsample_bytree': 0.9732237914777332, 'colsample_bynode': 0.0001281669141543118, 'max_depth': 4, 'n_estimators': 378, 'subsample': 0.9430686076987445}. Best is trial 14 with value: 33.53478953520122.\n",
      "[I 2023-07-11 08:46:23,469] Trial 15 finished with value: 90.96234189005577 and parameters: {'learning_rate': 0.3716148524259009, 'colsample_bytree': 0.13707326032658468, 'colsample_bynode': 0.0006063226890246955, 'max_depth': 4, 'n_estimators': 443, 'subsample': 0.0933104509007256}. Best is trial 14 with value: 33.53478953520122.\n",
      "[I 2023-07-11 08:46:34,714] Trial 16 finished with value: 67.63792371020726 and parameters: {'learning_rate': 0.0029614223180293303, 'colsample_bytree': 0.13975359752112282, 'colsample_bynode': 0.00011463574290455935, 'max_depth': 5, 'n_estimators': 306, 'subsample': 0.995112393152676}. Best is trial 14 with value: 33.53478953520122.\n",
      "[I 2023-07-11 08:46:46,724] Trial 17 finished with value: 34.52811911017626 and parameters: {'learning_rate': 0.022984043720617724, 'colsample_bytree': 0.3572430551706321, 'colsample_bynode': 0.0007388862803365834, 'max_depth': 4, 'n_estimators': 474, 'subsample': 0.2823004605544874}. Best is trial 14 with value: 33.53478953520122.\n",
      "[I 2023-07-11 08:47:19,279] Trial 18 finished with value: 36.83868826109123 and parameters: {'learning_rate': 0.07371049437343051, 'colsample_bytree': 0.09333431556318314, 'colsample_bynode': 0.0018222665028762108, 'max_depth': 4, 'n_estimators': 322, 'subsample': 0.060217575163303255}. Best is trial 14 with value: 33.53478953520122.\n",
      "[I 2023-07-11 08:47:24,926] Trial 19 finished with value: 33.800653437868284 and parameters: {'learning_rate': 0.16897945492531238, 'colsample_bytree': 0.3748095989871645, 'colsample_bynode': 0.0003473827414273897, 'max_depth': 5, 'n_estimators': 204, 'subsample': 0.35922927012285844}. Best is trial 14 with value: 33.53478953520122.\n"
     ]
    }
   ],
   "source": [
    "#XGBRegressor\n",
    "def objective(trial):\n",
    "  #сделаем функцию rmse\n",
    "    params = {\n",
    "        \"learning_rate\" : trial.suggest_float('learning_rate', 1e-4, .5, log = True),\n",
    "        'colsample_bytree' : trial.suggest_float('colsample_bytree',1e-4, 1.0, log = True),\n",
    "        \"colsample_bynode\" : trial.suggest_float('colsample_bynode', 1e-4, 1.0, log = True),\n",
    "        \"max_depth\" : trial.suggest_int('max_depth', 2, 5),\n",
    "        \"n_estimators\" : trial.suggest_int('n_estimators', 200, 1000),\n",
    "        \"subsample\" : trial.suggest_float('subsample', 1e-4, 1, log = True),\n",
    "        #\"reg_alpha\" : trial.suggest_float('reg_alpha', 1e-4, 1, log = True),\n",
    "        #\"reg_lambda\" : trial.suggest_float('reg_lambda', 1e-4, 1, log = True)\n",
    "        }\n",
    "\n",
    "    model = XGBRegressor(n_jobs = -1,\n",
    "                         random_state = 21, **params)\n",
    "    model.fit(X_small,y_small,verbose = True)\n",
    "    preds = model.predict(X_val)\n",
    "    rmse = mean_squared_error(y_val, preds,squared=False)\n",
    "    return rmse\n",
    "study = optuna.create_study(direction='minimize')\n",
    "study.optimize(objective, n_trials = 20)"
   ]
  },
  {
   "cell_type": "code",
   "execution_count": 49,
   "metadata": {},
   "outputs": [
    {
     "data": {
      "text/plain": [
       "{'learning_rate': 0.10308439765953002,\n",
       " 'colsample_bytree': 0.9732237914777332,\n",
       " 'colsample_bynode': 0.0001281669141543118,\n",
       " 'max_depth': 4,\n",
       " 'n_estimators': 378,\n",
       " 'subsample': 0.9430686076987445}"
      ]
     },
     "execution_count": 49,
     "metadata": {},
     "output_type": "execute_result"
    }
   ],
   "source": [
    "#XGB best params from optuna\n",
    "xgb_params = study.best_params\n",
    "xgb_params"
   ]
  },
  {
   "cell_type": "code",
   "execution_count": 50,
   "metadata": {},
   "outputs": [
    {
     "data": {
      "text/plain": [
       "33.53478953520122"
      ]
     },
     "execution_count": 50,
     "metadata": {},
     "output_type": "execute_result"
    }
   ],
   "source": [
    "#XGB best RMSE Value on valid set\n",
    "xgb_optuna_score = study.best_value\n",
    "xgb_optuna_score"
   ]
  },
  {
   "cell_type": "code",
   "execution_count": 51,
   "metadata": {},
   "outputs": [],
   "source": [
    "#сохраним модель с подобранными параметрами\n",
    "xgb = XGBRegressor(random_state = 21,\n",
    "                   **xgb_params)\n",
    "# save model v2\n",
    "joblib.dump(xgb, 'time_series_11/xgb.pkl');"
   ]
  },
  {
   "cell_type": "markdown",
   "metadata": {},
   "source": [
    "####  RandomForestRegressor"
   ]
  },
  {
   "cell_type": "code",
   "execution_count": 52,
   "metadata": {},
   "outputs": [
    {
     "name": "stderr",
     "output_type": "stream",
     "text": [
      "[I 2023-07-11 08:47:39,404] A new study created in memory with name: no-name-b77b0ac5-524f-45c5-959c-90cf4bbb0d27\n",
      "[I 2023-07-11 08:47:40,801] Trial 0 finished with value: 46.60046996473626 and parameters: {'max_features': 'sqrt', 'min_samples_leaf': 5, 'max_depth': 2, 'n_estimators': 904, 'min_samples_split': 0.5158405061975072}. Best is trial 0 with value: 46.60046996473626.\n",
      "[I 2023-07-11 08:47:42,532] Trial 1 finished with value: 43.355440895096685 and parameters: {'max_features': 'sqrt', 'min_samples_leaf': 3, 'max_depth': 4, 'n_estimators': 904, 'min_samples_split': 0.31531281898898617}. Best is trial 1 with value: 43.355440895096685.\n",
      "[I 2023-07-11 08:47:43,756] Trial 2 finished with value: 45.23266784388691 and parameters: {'max_features': 'log2', 'min_samples_leaf': 5, 'max_depth': 2, 'n_estimators': 723, 'min_samples_split': 0.011938581411816954}. Best is trial 1 with value: 43.355440895096685.\n",
      "[I 2023-07-11 08:47:45,580] Trial 3 finished with value: 45.51416647576724 and parameters: {'max_features': 'sqrt', 'min_samples_leaf': 10, 'max_depth': 4, 'n_estimators': 986, 'min_samples_split': 0.46405247945720585}. Best is trial 1 with value: 43.355440895096685.\n",
      "[I 2023-07-11 08:47:47,141] Trial 4 finished with value: 46.641888365291486 and parameters: {'max_features': 'sqrt', 'min_samples_leaf': 5, 'max_depth': 2, 'n_estimators': 979, 'min_samples_split': 0.5273499640938922}. Best is trial 1 with value: 43.355440895096685.\n",
      "[I 2023-07-11 08:47:48,996] Trial 5 finished with value: 42.26734039591668 and parameters: {'max_features': 'sqrt', 'min_samples_leaf': 3, 'max_depth': 3, 'n_estimators': 866, 'min_samples_split': 0.13321915440254067}. Best is trial 5 with value: 42.26734039591668.\n",
      "[I 2023-07-11 08:47:50,839] Trial 6 finished with value: 42.869991428730025 and parameters: {'max_features': 'sqrt', 'min_samples_leaf': 2, 'max_depth': 3, 'n_estimators': 904, 'min_samples_split': 0.24848997003012852}. Best is trial 5 with value: 42.26734039591668.\n",
      "[I 2023-07-11 08:47:51,174] Trial 7 finished with value: 46.813109012542505 and parameters: {'max_features': 'sqrt', 'min_samples_leaf': 4, 'max_depth': 5, 'n_estimators': 210, 'min_samples_split': 0.5220008940043642}. Best is trial 5 with value: 42.26734039591668.\n",
      "[I 2023-07-11 08:47:51,679] Trial 8 finished with value: 51.90776221751453 and parameters: {'max_features': 'sqrt', 'min_samples_leaf': 5, 'max_depth': 4, 'n_estimators': 508, 'min_samples_split': 0.7394528859540529}. Best is trial 5 with value: 42.26734039591668.\n",
      "[I 2023-07-11 08:47:54,409] Trial 9 finished with value: 37.863759552305076 and parameters: {'max_features': 'sqrt', 'min_samples_leaf': 3, 'max_depth': 5, 'n_estimators': 864, 'min_samples_split': 0.010223767475522089}. Best is trial 9 with value: 37.863759552305076.\n",
      "[I 2023-07-11 08:47:55,998] Trial 10 finished with value: 38.932866139010635 and parameters: {'max_features': 'log2', 'min_samples_leaf': 8, 'max_depth': 5, 'n_estimators': 579, 'min_samples_split': 0.01167217102257733}. Best is trial 9 with value: 37.863759552305076.\n",
      "[I 2023-07-11 08:47:57,487] Trial 11 finished with value: 38.85012737882474 and parameters: {'max_features': 'log2', 'min_samples_leaf': 8, 'max_depth': 5, 'n_estimators': 536, 'min_samples_split': 0.010021744587040016}. Best is trial 9 with value: 37.863759552305076.\n",
      "[I 2023-07-11 08:47:58,705] Trial 12 finished with value: 38.850497628918156 and parameters: {'max_features': 'log2', 'min_samples_leaf': 8, 'max_depth': 5, 'n_estimators': 408, 'min_samples_split': 0.024037054223884486}. Best is trial 9 with value: 37.863759552305076.\n",
      "[I 2023-07-11 08:48:00,846] Trial 13 finished with value: 38.71157750858828 and parameters: {'max_features': 'log2', 'min_samples_leaf': 1, 'max_depth': 5, 'n_estimators': 730, 'min_samples_split': 0.02891647004300871}. Best is trial 9 with value: 37.863759552305076.\n",
      "[I 2023-07-11 08:48:02,905] Trial 14 finished with value: 40.393329768908515 and parameters: {'max_features': 'log2', 'min_samples_leaf': 1, 'max_depth': 4, 'n_estimators': 740, 'min_samples_split': 0.033567651945976225}. Best is trial 9 with value: 37.863759552305076.\n",
      "[I 2023-07-11 08:48:04,740] Trial 15 finished with value: 38.976592703792164 and parameters: {'max_features': 'log2', 'min_samples_leaf': 1, 'max_depth': 5, 'n_estimators': 681, 'min_samples_split': 0.043263609806779756}. Best is trial 9 with value: 37.863759552305076.\n",
      "[I 2023-07-11 08:48:06,679] Trial 16 finished with value: 39.62886697223188 and parameters: {'max_features': 'log2', 'min_samples_leaf': 2, 'max_depth': 5, 'n_estimators': 778, 'min_samples_split': 0.06940731900083585}. Best is trial 9 with value: 37.863759552305076.\n",
      "[I 2023-07-11 08:48:08,316] Trial 17 finished with value: 42.490278559306994 and parameters: {'max_features': 'log2', 'min_samples_leaf': 3, 'max_depth': 3, 'n_estimators': 804, 'min_samples_split': 0.02044001793160015}. Best is trial 9 with value: 37.863759552305076.\n",
      "[I 2023-07-11 08:48:09,867] Trial 18 finished with value: 40.208255873638606 and parameters: {'max_features': 'log2', 'min_samples_leaf': 1, 'max_depth': 4, 'n_estimators': 654, 'min_samples_split': 0.018451126511769222}. Best is trial 9 with value: 37.863759552305076.\n",
      "[I 2023-07-11 08:48:11,189] Trial 19 finished with value: 38.079287340320114 and parameters: {'max_features': 'sqrt', 'min_samples_leaf': 2, 'max_depth': 5, 'n_estimators': 433, 'min_samples_split': 0.04911663984480791}. Best is trial 9 with value: 37.863759552305076.\n"
     ]
    }
   ],
   "source": [
    "#RandomForest\n",
    "def objective(trial):\n",
    "  #сделаем функцию rmse\n",
    "    rmse_score = make_scorer(mean_squared_error,\n",
    "                   squared = False,\n",
    "                   greater_is_better = False)\n",
    "    params = {\n",
    "        'max_features':trial.suggest_categorical('max_features',[\"sqrt\", 'log2']),\n",
    "        \"min_samples_leaf\" : trial.suggest_int('min_samples_leaf',1,10),\n",
    "        \"max_depth\" : trial.suggest_int('max_depth', 2, 5),\n",
    "        \"n_estimators\" : trial.suggest_int('n_estimators', 200, 1000),\n",
    "        \"min_samples_split\" : trial.suggest_float('min_samples_split', 0.01,1.0, log = True)\n",
    "        }\n",
    "\n",
    "    model = RandomForestRegressor(n_jobs = -1,\n",
    "                                  random_state = 21, **params)\n",
    "\n",
    "    model.fit(X_small,y_small)\n",
    "    preds = model.predict(X_val)\n",
    "    rmse = mean_squared_error(y_val, preds,squared=False)\n",
    "    return rmse\n",
    "study_rf = optuna.create_study(direction='minimize')\n",
    "study_rf.optimize(objective, n_trials = 20)"
   ]
  },
  {
   "cell_type": "code",
   "execution_count": 56,
   "metadata": {},
   "outputs": [
    {
     "data": {
      "text/plain": [
       "{'max_features': 'sqrt',\n",
       " 'min_samples_leaf': 3,\n",
       " 'max_depth': 5,\n",
       " 'n_estimators': 864,\n",
       " 'min_samples_split': 0.010223767475522089}"
      ]
     },
     "execution_count": 56,
     "metadata": {},
     "output_type": "execute_result"
    }
   ],
   "source": [
    "#RandomForest best params from optuna\n",
    "rf_params = study_rf.best_params\n",
    "rf_params"
   ]
  },
  {
   "cell_type": "code",
   "execution_count": 57,
   "metadata": {},
   "outputs": [
    {
     "data": {
      "text/plain": [
       "37.863759552305076"
      ]
     },
     "execution_count": 57,
     "metadata": {},
     "output_type": "execute_result"
    }
   ],
   "source": [
    "#RandomForest best RMSE Value on valid set\n",
    "rf_optuna_score = study_rf.best_value\n",
    "rf_optuna_score"
   ]
  },
  {
   "cell_type": "code",
   "execution_count": 58,
   "metadata": {},
   "outputs": [],
   "source": [
    "#сохраним модель с подобранными параметрами\n",
    "rf = RandomForestRegressor(random_state = 21, **rf_params)\n",
    "# save model v2\n",
    "joblib.dump(rf, 'time_series_11/rf.pkl');"
   ]
  },
  {
   "cell_type": "markdown",
   "metadata": {},
   "source": [
    "#### LinearRegression"
   ]
  },
  {
   "cell_type": "markdown",
   "metadata": {},
   "source": [
    "Здесь не требуется какой-либо подстройки гиперпараметров, поэтому перейдем сразу к этапу кросс-валидации"
   ]
  },
  {
   "cell_type": "code",
   "execution_count": 28,
   "metadata": {},
   "outputs": [],
   "source": [
    "#модель LinearRegression\n",
    "lr = LinearRegression()"
   ]
  },
  {
   "cell_type": "markdown",
   "metadata": {},
   "source": [
    "### Кросс-валидация"
   ]
  },
  {
   "cell_type": "markdown",
   "metadata": {},
   "source": [
    "Создадим заранее разбиение тренировочной выборки на 5 фолдов с помощью `TimeSeriesSplit"
   ]
  },
  {
   "cell_type": "code",
   "execution_count": 29,
   "metadata": {},
   "outputs": [],
   "source": [
    "#time series cv\n",
    "ts_cv = TimeSeriesSplit(\n",
    "    max_train_size=10000\n",
    ")"
   ]
  },
  {
   "cell_type": "markdown",
   "metadata": {},
   "source": [
    "#### XGB"
   ]
  },
  {
   "cell_type": "code",
   "execution_count": 59,
   "metadata": {},
   "outputs": [
    {
     "data": {
      "text/plain": [
       "XGBRegressor(base_score=None, booster=None, colsample_bylevel=None,\n",
       "             colsample_bynode=0.0001281669141543118,\n",
       "             colsample_bytree=0.9732237914777332, enable_categorical=False,\n",
       "             gamma=None, gpu_id=None, importance_type=None,\n",
       "             interaction_constraints=None, learning_rate=0.10308439765953002,\n",
       "             max_delta_step=None, max_depth=4, min_child_weight=None,\n",
       "             missing=nan, monotone_constraints=None, n_estimators=378,\n",
       "             n_jobs=None, num_parallel_tree=None, predictor=None,\n",
       "             random_state=21, reg_alpha=None, reg_lambda=None,\n",
       "             scale_pos_weight=None, subsample=0.9430686076987445,\n",
       "             tree_method=None, validate_parameters=None, verbosity=None)"
      ]
     },
     "execution_count": 59,
     "metadata": {},
     "output_type": "execute_result"
    }
   ],
   "source": [
    "#load model\n",
    "xgb_val = XGBRegressor()\n",
    "xgb_val = joblib.load(\"time_series_11/xgb.pkl\")\n",
    "#check\n",
    "xgb_val"
   ]
  },
  {
   "cell_type": "code",
   "execution_count": 60,
   "metadata": {},
   "outputs": [
    {
     "name": "stdout",
     "output_type": "stream",
     "text": [
      "RMSE of XGBRegressor(base_score=None, booster=None, colsample_bylevel=None,\n",
      "             colsample_bynode=0.0001281669141543118,\n",
      "             colsample_bytree=0.9732237914777332, enable_categorical=False,\n",
      "             gamma=None, gpu_id=None, importance_type=None,\n",
      "             interaction_constraints=None, learning_rate=0.10308439765953002,\n",
      "             max_delta_step=None, max_depth=4, min_child_weight=None,\n",
      "             missing=nan, monotone_constraints=None, n_estimators=378,\n",
      "             n_jobs=None, num_parallel_tree=None, predictor=None,\n",
      "             random_state=21, reg_alpha=None, reg_lambda=None,\n",
      "             scale_pos_weight=None, subsample=0.9430686076987445,\n",
      "             tree_method=None, validate_parameters=None, verbosity=None) is : 27.142\n"
     ]
    }
   ],
   "source": [
    "#rmse на кросс-валидации\n",
    "xgb_cv = evaluate(xgb_val,X_train, y_train, cv = ts_cv)"
   ]
  },
  {
   "cell_type": "code",
   "execution_count": 62,
   "metadata": {},
   "outputs": [
    {
     "data": {
      "text/html": [
       "<div>\n",
       "<style scoped>\n",
       "    .dataframe tbody tr th:only-of-type {\n",
       "        vertical-align: middle;\n",
       "    }\n",
       "\n",
       "    .dataframe tbody tr th {\n",
       "        vertical-align: top;\n",
       "    }\n",
       "\n",
       "    .dataframe thead th {\n",
       "        text-align: right;\n",
       "    }\n",
       "</style>\n",
       "<table border=\"1\" class=\"dataframe\">\n",
       "  <thead>\n",
       "    <tr style=\"text-align: right;\">\n",
       "      <th></th>\n",
       "      <th>fit_time</th>\n",
       "      <th>score_time</th>\n",
       "      <th>test_score</th>\n",
       "    </tr>\n",
       "  </thead>\n",
       "  <tbody>\n",
       "    <tr>\n",
       "      <th>0</th>\n",
       "      <td>8.264416</td>\n",
       "      <td>0.006067</td>\n",
       "      <td>23.166049</td>\n",
       "    </tr>\n",
       "    <tr>\n",
       "      <th>1</th>\n",
       "      <td>10.869322</td>\n",
       "      <td>0.006521</td>\n",
       "      <td>24.461676</td>\n",
       "    </tr>\n",
       "    <tr>\n",
       "      <th>2</th>\n",
       "      <td>9.182352</td>\n",
       "      <td>0.006494</td>\n",
       "      <td>26.040961</td>\n",
       "    </tr>\n",
       "    <tr>\n",
       "      <th>3</th>\n",
       "      <td>10.094832</td>\n",
       "      <td>0.006425</td>\n",
       "      <td>26.252748</td>\n",
       "    </tr>\n",
       "    <tr>\n",
       "      <th>4</th>\n",
       "      <td>10.523833</td>\n",
       "      <td>0.005974</td>\n",
       "      <td>35.788680</td>\n",
       "    </tr>\n",
       "  </tbody>\n",
       "</table>\n",
       "</div>"
      ],
      "text/plain": [
       "    fit_time  score_time  test_score\n",
       "0   8.264416    0.006067   23.166049\n",
       "1  10.869322    0.006521   24.461676\n",
       "2   9.182352    0.006494   26.040961\n",
       "3  10.094832    0.006425   26.252748\n",
       "4  10.523833    0.005974   35.788680"
      ]
     },
     "execution_count": 62,
     "metadata": {},
     "output_type": "execute_result"
    }
   ],
   "source": [
    "#results to dataframe\n",
    "xgb_cv_results = pd.DataFrame(xgb_cv)\n",
    "xgb_cv_results"
   ]
  },
  {
   "cell_type": "markdown",
   "metadata": {},
   "source": [
    "#### RandomForest"
   ]
  },
  {
   "cell_type": "code",
   "execution_count": 63,
   "metadata": {},
   "outputs": [
    {
     "data": {
      "text/plain": [
       "RandomForestRegressor(max_depth=5, max_features='sqrt', min_samples_leaf=3,\n",
       "                      min_samples_split=0.010223767475522089, n_estimators=864,\n",
       "                      random_state=21)"
      ]
     },
     "execution_count": 63,
     "metadata": {},
     "output_type": "execute_result"
    }
   ],
   "source": [
    "#load model\n",
    "rf_val = joblib.load(\"time_series_11/rf.pkl\")\n",
    "#check\n",
    "rf_val"
   ]
  },
  {
   "cell_type": "code",
   "execution_count": 64,
   "metadata": {},
   "outputs": [
    {
     "name": "stdout",
     "output_type": "stream",
     "text": [
      "RMSE of RandomForestRegressor(max_depth=5, max_features='sqrt', min_samples_leaf=3,\n",
      "                      min_samples_split=0.010223767475522089, n_estimators=864,\n",
      "                      random_state=21) is : 29.140\n"
     ]
    }
   ],
   "source": [
    "#rmse на кросс-валидации\n",
    "rf_cv = evaluate(rf_val,X_train, y_train, cv = ts_cv)"
   ]
  },
  {
   "cell_type": "code",
   "execution_count": 65,
   "metadata": {},
   "outputs": [],
   "source": [
    "#results to dataframe\n",
    "rf_cv_results = pd.DataFrame(rf_cv)"
   ]
  },
  {
   "cell_type": "code",
   "execution_count": 66,
   "metadata": {},
   "outputs": [
    {
     "data": {
      "text/html": [
       "<div>\n",
       "<style scoped>\n",
       "    .dataframe tbody tr th:only-of-type {\n",
       "        vertical-align: middle;\n",
       "    }\n",
       "\n",
       "    .dataframe tbody tr th {\n",
       "        vertical-align: top;\n",
       "    }\n",
       "\n",
       "    .dataframe thead th {\n",
       "        text-align: right;\n",
       "    }\n",
       "</style>\n",
       "<table border=\"1\" class=\"dataframe\">\n",
       "  <thead>\n",
       "    <tr style=\"text-align: right;\">\n",
       "      <th></th>\n",
       "      <th>fit_time</th>\n",
       "      <th>score_time</th>\n",
       "      <th>test_score</th>\n",
       "    </tr>\n",
       "  </thead>\n",
       "  <tbody>\n",
       "    <tr>\n",
       "      <th>0</th>\n",
       "      <td>1.219353</td>\n",
       "      <td>0.080873</td>\n",
       "      <td>23.223263</td>\n",
       "    </tr>\n",
       "    <tr>\n",
       "      <th>1</th>\n",
       "      <td>1.649791</td>\n",
       "      <td>0.070000</td>\n",
       "      <td>25.963175</td>\n",
       "    </tr>\n",
       "    <tr>\n",
       "      <th>2</th>\n",
       "      <td>2.296728</td>\n",
       "      <td>0.084368</td>\n",
       "      <td>26.968750</td>\n",
       "    </tr>\n",
       "    <tr>\n",
       "      <th>3</th>\n",
       "      <td>2.687747</td>\n",
       "      <td>0.066254</td>\n",
       "      <td>29.533322</td>\n",
       "    </tr>\n",
       "    <tr>\n",
       "      <th>4</th>\n",
       "      <td>3.202667</td>\n",
       "      <td>0.070591</td>\n",
       "      <td>40.011441</td>\n",
       "    </tr>\n",
       "  </tbody>\n",
       "</table>\n",
       "</div>"
      ],
      "text/plain": [
       "   fit_time  score_time  test_score\n",
       "0  1.219353    0.080873   23.223263\n",
       "1  1.649791    0.070000   25.963175\n",
       "2  2.296728    0.084368   26.968750\n",
       "3  2.687747    0.066254   29.533322\n",
       "4  3.202667    0.070591   40.011441"
      ]
     },
     "execution_count": 66,
     "metadata": {},
     "output_type": "execute_result"
    }
   ],
   "source": [
    "#results\n",
    "rf_cv_results"
   ]
  },
  {
   "cell_type": "markdown",
   "metadata": {},
   "source": [
    "#### LinearRegression"
   ]
  },
  {
   "cell_type": "code",
   "execution_count": 67,
   "metadata": {},
   "outputs": [
    {
     "name": "stdout",
     "output_type": "stream",
     "text": [
      "RMSE of LinearRegression() is : 27.116\n"
     ]
    }
   ],
   "source": [
    "#rmse на кросс-валидации\"\n",
    "lr_cv = evaluate(lr,X_train, y_train, cv = ts_cv)"
   ]
  },
  {
   "cell_type": "code",
   "execution_count": 68,
   "metadata": {},
   "outputs": [],
   "source": [
    "#results to dataframe\n",
    "lr_cv_results = pd.DataFrame(lr_cv)"
   ]
  },
  {
   "cell_type": "code",
   "execution_count": 69,
   "metadata": {},
   "outputs": [
    {
     "data": {
      "text/html": [
       "<div>\n",
       "<style scoped>\n",
       "    .dataframe tbody tr th:only-of-type {\n",
       "        vertical-align: middle;\n",
       "    }\n",
       "\n",
       "    .dataframe tbody tr th {\n",
       "        vertical-align: top;\n",
       "    }\n",
       "\n",
       "    .dataframe thead th {\n",
       "        text-align: right;\n",
       "    }\n",
       "</style>\n",
       "<table border=\"1\" class=\"dataframe\">\n",
       "  <thead>\n",
       "    <tr style=\"text-align: right;\">\n",
       "      <th></th>\n",
       "      <th>fit_time</th>\n",
       "      <th>score_time</th>\n",
       "      <th>test_score</th>\n",
       "    </tr>\n",
       "  </thead>\n",
       "  <tbody>\n",
       "    <tr>\n",
       "      <th>0</th>\n",
       "      <td>0.005235</td>\n",
       "      <td>0.003343</td>\n",
       "      <td>24.774306</td>\n",
       "    </tr>\n",
       "    <tr>\n",
       "      <th>1</th>\n",
       "      <td>0.023100</td>\n",
       "      <td>0.002843</td>\n",
       "      <td>24.485287</td>\n",
       "    </tr>\n",
       "    <tr>\n",
       "      <th>2</th>\n",
       "      <td>0.095697</td>\n",
       "      <td>0.003328</td>\n",
       "      <td>25.427411</td>\n",
       "    </tr>\n",
       "    <tr>\n",
       "      <th>3</th>\n",
       "      <td>0.096188</td>\n",
       "      <td>0.003645</td>\n",
       "      <td>27.305730</td>\n",
       "    </tr>\n",
       "    <tr>\n",
       "      <th>4</th>\n",
       "      <td>0.095934</td>\n",
       "      <td>0.003266</td>\n",
       "      <td>33.589230</td>\n",
       "    </tr>\n",
       "  </tbody>\n",
       "</table>\n",
       "</div>"
      ],
      "text/plain": [
       "   fit_time  score_time  test_score\n",
       "0  0.005235    0.003343   24.774306\n",
       "1  0.023100    0.002843   24.485287\n",
       "2  0.095697    0.003328   25.427411\n",
       "3  0.096188    0.003645   27.305730\n",
       "4  0.095934    0.003266   33.589230"
      ]
     },
     "execution_count": 69,
     "metadata": {},
     "output_type": "execute_result"
    }
   ],
   "source": [
    "lr_cv_results"
   ]
  },
  {
   "cell_type": "code",
   "execution_count": 70,
   "metadata": {},
   "outputs": [
    {
     "data": {
      "text/html": [
       "<div>\n",
       "<style scoped>\n",
       "    .dataframe tbody tr th:only-of-type {\n",
       "        vertical-align: middle;\n",
       "    }\n",
       "\n",
       "    .dataframe tbody tr th {\n",
       "        vertical-align: top;\n",
       "    }\n",
       "\n",
       "    .dataframe thead th {\n",
       "        text-align: right;\n",
       "    }\n",
       "</style>\n",
       "<table border=\"1\" class=\"dataframe\">\n",
       "  <thead>\n",
       "    <tr style=\"text-align: right;\">\n",
       "      <th></th>\n",
       "      <th>CV_RMSE</th>\n",
       "    </tr>\n",
       "  </thead>\n",
       "  <tbody>\n",
       "    <tr>\n",
       "      <th>XGB</th>\n",
       "      <td>27.142023</td>\n",
       "    </tr>\n",
       "    <tr>\n",
       "      <th>RandomForest</th>\n",
       "      <td>29.139990</td>\n",
       "    </tr>\n",
       "    <tr>\n",
       "      <th>Linear Regression</th>\n",
       "      <td>27.116393</td>\n",
       "    </tr>\n",
       "  </tbody>\n",
       "</table>\n",
       "</div>"
      ],
      "text/plain": [
       "                     CV_RMSE\n",
       "XGB                27.142023\n",
       "RandomForest       29.139990\n",
       "Linear Regression  27.116393"
      ]
     },
     "execution_count": 70,
     "metadata": {},
     "output_type": "execute_result"
    }
   ],
   "source": [
    "#cv results\n",
    "cv_list = [xgb_cv_results['test_score'].mean(),\n",
    "           rf_cv_results['test_score'].mean(),\n",
    "           lr_cv_results['test_score'].mean()]\n",
    "cv_res = pd.DataFrame(cv_list, index = ['XGB','RandomForest','Linear Regression'], \n",
    "                      columns = ['CV_RMSE'])\n",
    "cv_res"
   ]
  },
  {
   "cell_type": "markdown",
   "metadata": {},
   "source": [
    "### Вывод"
   ]
  },
  {
   "attachments": {
    "image-2.png": {
     "image/png": "[encoded data removed]"
    }
   },
   "cell_type": "markdown",
   "metadata": {},
   "source": [
    "\n",
    "1) Были рассмотрены три разных модели:  \n",
    "- XGBoost\n",
    "- RandomForest\n",
    "- LinearRegression\n",
    "<br>\n",
    "\n",
    "Для них были подобраны гиперпараметры с помощью `Optuna`(кроме линейной регрессии) на валидационной выборке. \n",
    "\n",
    "Для оценки параметров применили `TimeSeriesSPlit` на тренировочной выборке и получили следующие результаты:\n",
    "![image-2.png](attachment:image-2.png)\n",
    "По результатам лучшей метрикой `RMSE` обладает модель **линейной регрессии**"
   ]
  },
  {
   "cell_type": "markdown",
   "metadata": {},
   "source": [
    "## Тестирование"
   ]
  },
  {
   "cell_type": "markdown",
   "metadata": {},
   "source": [
    "Для начала введем `Dummy Regressor` со стратегией по умолчанию(заполнение средним)"
   ]
  },
  {
   "cell_type": "code",
   "execution_count": 71,
   "metadata": {},
   "outputs": [
    {
     "name": "stdout",
     "output_type": "stream",
     "text": [
      "Dummy RMSE : 84.819\n"
     ]
    }
   ],
   "source": [
    "#тестирование\n",
    "#dummy model\n",
    "dummy = DummyRegressor()\n",
    "dummy.fit(X_train, y_train)\n",
    "dummy_pred = dummy.predict(X_test)\n",
    "dummy_score = mean_squared_error(dummy_pred, y_test, squared = False)\n",
    "print(f'Dummy RMSE : {dummy_score:.3f}')"
   ]
  },
  {
   "cell_type": "code",
   "execution_count": 72,
   "metadata": {},
   "outputs": [
    {
     "name": "stdout",
     "output_type": "stream",
     "text": [
      "RMSE Linear Regression на тестовой выборке: 45.500\n",
      "CPU times: user 46.7 ms, sys: 112 ms, total: 159 ms\n",
      "Wall time: 75.5 ms\n"
     ]
    }
   ],
   "source": [
    "%%time\n",
    "#lr test v2\n",
    "lr.fit(X_train,y_train)\n",
    "lr_pred = lr.predict(X_test)\n",
    "lr_score = mean_squared_error(lr_pred, y_test, squared = False)\n",
    "print(f\"RMSE Linear Regression на тестовой выборке: {lr_score:.3f}\")"
   ]
  },
  {
   "cell_type": "code",
   "execution_count": 73,
   "metadata": {},
   "outputs": [
    {
     "data": {
      "image/png": "[encoded data removed]",
      "text/plain": [
       "<Figure size 1296x432 with 1 Axes>"
      ]
     },
     "metadata": {
      "needs_background": "light"
     },
     "output_type": "display_data"
    }
   ],
   "source": [
    "#график\n",
    "plt.figure(figsize = (18,6))\n",
    "plt.plot(y_test.index, \n",
    "         y_test, \n",
    "         'lightblue', \n",
    "         y_test.index, \n",
    "         lr_pred,\n",
    "         'salmon'\n",
    "        )\n",
    "plt.legend(['Test', 'Predict'])\n",
    "plt.title('Предсказания $LinearRegression$', fontsize = 16)\n",
    "plt.xlabel('Дата', fontsize = 12);"
   ]
  },
  {
   "cell_type": "markdown",
   "metadata": {},
   "source": [
    "## Вывод"
   ]
  },
  {
   "cell_type": "markdown",
   "metadata": {},
   "source": [
    "Были проанализрованы данные о заказах такси за временной период с марта по август 2018 г.\n",
    "Произведено ресэмплирование данных в часовом интервале с суммированием заказов. \n",
    "Проанализировано количество заказов, проверена монотонность временного ряда, подобрано количество лагов на основании анализа сезонности заказов ряда - 24 лага и размер окна скользящего среднего в 72 часа\n",
    "\n",
    "Подобранны гиперпараметры для моделей градиентного бустинга и случайного леса, на этапе кросс-валидации отобрана модель линейной регресии. \n",
    "После проверки на тестовой выборке был получен положительный результат: \n",
    "- Linear Regression: RMSE = 45.5\n",
    "<br>\n",
    "\n",
    "Для сравнения, `Dummy` модель со стратегией `strategy = mean` дает результат 84.81"
   ]
  }
 ],
 "metadata": {
  "ExecuteTimeLog": [
   {
    "duration": 6148,
    "start_time": "2023-07-08T11:22:06.334Z"
   },
   {
    "duration": 1757,
    "start_time": "2023-07-08T11:22:51.445Z"
   },
   {
    "duration": 489,
    "start_time": "2023-07-08T11:22:59.318Z"
   },
   {
    "duration": 5,
    "start_time": "2023-07-08T11:24:19.174Z"
   },
   {
    "duration": 5,
    "start_time": "2023-07-08T11:24:41.245Z"
   },
   {
    "duration": 8,
    "start_time": "2023-07-08T11:24:54.086Z"
   },
   {
    "duration": 6,
    "start_time": "2023-07-08T11:25:13.942Z"
   },
   {
    "duration": 103,
    "start_time": "2023-07-08T11:28:27.277Z"
   },
   {
    "duration": 16,
    "start_time": "2023-07-08T11:29:08.050Z"
   },
   {
    "duration": 139,
    "start_time": "2023-07-08T11:29:28.126Z"
   },
   {
    "duration": 21,
    "start_time": "2023-07-08T11:29:53.445Z"
   },
   {
    "duration": 4,
    "start_time": "2023-07-08T11:30:50.061Z"
   },
   {
    "duration": 6,
    "start_time": "2023-07-08T11:30:57.413Z"
   },
   {
    "duration": 8,
    "start_time": "2023-07-08T11:31:08.573Z"
   },
   {
    "duration": 7,
    "start_time": "2023-07-08T11:31:16.038Z"
   },
   {
    "duration": 62,
    "start_time": "2023-07-08T11:31:53.054Z"
   },
   {
    "duration": 69,
    "start_time": "2023-07-08T11:31:56.269Z"
   },
   {
    "duration": 6,
    "start_time": "2023-07-08T11:32:03.222Z"
   },
   {
    "duration": 776,
    "start_time": "2023-07-08T11:32:31.725Z"
   },
   {
    "duration": 22,
    "start_time": "2023-07-08T11:32:37.510Z"
   },
   {
    "duration": 63,
    "start_time": "2023-07-08T11:33:03.755Z"
   },
   {
    "duration": 4,
    "start_time": "2023-07-08T11:33:07.318Z"
   },
   {
    "duration": 722,
    "start_time": "2023-07-08T11:33:10.070Z"
   },
   {
    "duration": 6,
    "start_time": "2023-07-08T11:37:27.542Z"
   },
   {
    "duration": 809,
    "start_time": "2023-07-08T11:37:30.070Z"
   },
   {
    "duration": 730,
    "start_time": "2023-07-08T11:37:35.117Z"
   },
   {
    "duration": 11,
    "start_time": "2023-07-08T11:37:51.366Z"
   },
   {
    "duration": 19,
    "start_time": "2023-07-08T11:38:03.829Z"
   },
   {
    "duration": 370,
    "start_time": "2023-07-08T11:38:13.846Z"
   },
   {
    "duration": 427,
    "start_time": "2023-07-08T11:38:27.778Z"
   },
   {
    "duration": 4,
    "start_time": "2023-07-08T11:38:39.534Z"
   },
   {
    "duration": 781,
    "start_time": "2023-07-08T11:38:42.462Z"
   },
   {
    "duration": 334,
    "start_time": "2023-07-08T11:38:46.774Z"
   },
   {
    "duration": 108,
    "start_time": "2023-07-08T11:39:06.901Z"
   },
   {
    "duration": 7,
    "start_time": "2023-07-08T11:39:19.115Z"
   },
   {
    "duration": 756,
    "start_time": "2023-07-08T11:39:22.649Z"
   },
   {
    "duration": 67,
    "start_time": "2023-07-08T11:39:33.117Z"
   },
   {
    "duration": 4,
    "start_time": "2023-07-08T11:39:45.326Z"
   },
   {
    "duration": 945,
    "start_time": "2023-07-08T11:39:47.990Z"
   },
   {
    "duration": 311,
    "start_time": "2023-07-08T11:39:53.438Z"
   },
   {
    "duration": 219,
    "start_time": "2023-07-08T11:40:19.758Z"
   },
   {
    "duration": 126,
    "start_time": "2023-07-08T11:40:26.350Z"
   },
   {
    "duration": 12,
    "start_time": "2023-07-08T12:17:33.133Z"
   },
   {
    "duration": 24,
    "start_time": "2023-07-08T12:17:56.069Z"
   },
   {
    "duration": 328,
    "start_time": "2023-07-08T12:18:06.381Z"
   },
   {
    "duration": 285,
    "start_time": "2023-07-08T12:18:19.629Z"
   },
   {
    "duration": 25,
    "start_time": "2023-07-08T12:18:36.053Z"
   },
   {
    "duration": 58,
    "start_time": "2023-07-08T12:18:39.941Z"
   },
   {
    "duration": 381,
    "start_time": "2023-07-08T12:18:42.093Z"
   },
   {
    "duration": 352,
    "start_time": "2023-07-08T12:19:28.245Z"
   },
   {
    "duration": 991,
    "start_time": "2023-07-08T12:19:59.261Z"
   },
   {
    "duration": 872,
    "start_time": "2023-07-08T12:20:07.045Z"
   },
   {
    "duration": 180,
    "start_time": "2023-07-08T12:20:20.253Z"
   },
   {
    "duration": 70,
    "start_time": "2023-07-08T12:21:22.908Z"
   },
   {
    "duration": 178,
    "start_time": "2023-07-08T12:21:29.286Z"
   },
   {
    "duration": 326,
    "start_time": "2023-07-08T12:21:41.621Z"
   },
   {
    "duration": 210,
    "start_time": "2023-07-08T12:21:52.845Z"
   },
   {
    "duration": 207,
    "start_time": "2023-07-08T12:22:05.470Z"
   },
   {
    "duration": 18,
    "start_time": "2023-07-08T12:22:48.101Z"
   },
   {
    "duration": 6,
    "start_time": "2023-07-08T12:23:28.357Z"
   },
   {
    "duration": 8,
    "start_time": "2023-07-08T12:23:50.382Z"
   },
   {
    "duration": 6,
    "start_time": "2023-07-08T12:24:07.797Z"
   },
   {
    "duration": 7,
    "start_time": "2023-07-08T12:24:25.814Z"
   },
   {
    "duration": 29,
    "start_time": "2023-07-08T12:24:39.117Z"
   },
   {
    "duration": 5,
    "start_time": "2023-07-08T12:26:56.998Z"
   },
   {
    "duration": 36,
    "start_time": "2023-07-08T12:27:06.294Z"
   },
   {
    "duration": 13,
    "start_time": "2023-07-08T12:27:51.613Z"
   },
   {
    "duration": 4,
    "start_time": "2023-07-08T12:28:39.357Z"
   },
   {
    "duration": 83503,
    "start_time": "2023-07-08T12:29:09.229Z"
   },
   {
    "duration": 226930,
    "start_time": "2023-07-08T12:30:45.887Z"
   },
   {
    "duration": 4032,
    "start_time": "2023-07-09T07:46:29.199Z"
   },
   {
    "duration": 46,
    "start_time": "2023-07-09T07:46:51.010Z"
   },
   {
    "duration": 1962,
    "start_time": "2023-07-09T07:47:39.699Z"
   },
   {
    "duration": 6,
    "start_time": "2023-07-09T07:47:41.663Z"
   },
   {
    "duration": 25,
    "start_time": "2023-07-09T07:47:41.670Z"
   },
   {
    "duration": 27,
    "start_time": "2023-07-09T07:47:41.697Z"
   },
   {
    "duration": 5,
    "start_time": "2023-07-09T07:47:41.725Z"
   },
   {
    "duration": 24,
    "start_time": "2023-07-09T07:47:41.731Z"
   },
   {
    "duration": 148,
    "start_time": "2023-07-09T07:47:41.757Z"
   },
   {
    "duration": 20,
    "start_time": "2023-07-09T07:47:41.907Z"
   },
   {
    "duration": 4,
    "start_time": "2023-07-09T07:47:41.928Z"
   },
   {
    "duration": 16,
    "start_time": "2023-07-09T07:47:41.935Z"
   },
   {
    "duration": 679,
    "start_time": "2023-07-09T07:47:41.953Z"
   },
   {
    "duration": 8,
    "start_time": "2023-07-09T07:47:42.635Z"
   },
   {
    "duration": 287,
    "start_time": "2023-07-09T07:47:42.644Z"
   },
   {
    "duration": 195,
    "start_time": "2023-07-09T07:47:42.933Z"
   },
   {
    "duration": 103,
    "start_time": "2023-07-09T07:47:43.129Z"
   },
   {
    "duration": 11,
    "start_time": "2023-07-09T07:47:43.234Z"
   },
   {
    "duration": 374,
    "start_time": "2023-07-09T07:48:37.546Z"
   },
   {
    "duration": 115,
    "start_time": "2023-07-09T07:49:41.301Z"
   },
   {
    "duration": 3,
    "start_time": "2023-07-09T07:49:46.203Z"
   },
   {
    "duration": 97,
    "start_time": "2023-07-09T07:54:21.630Z"
   },
   {
    "duration": 2272,
    "start_time": "2023-07-09T07:54:25.356Z"
   },
   {
    "duration": 5,
    "start_time": "2023-07-09T07:54:27.630Z"
   },
   {
    "duration": 9,
    "start_time": "2023-07-09T07:54:27.637Z"
   },
   {
    "duration": 10,
    "start_time": "2023-07-09T07:54:27.647Z"
   },
   {
    "duration": 6,
    "start_time": "2023-07-09T07:54:27.660Z"
   },
   {
    "duration": 6,
    "start_time": "2023-07-09T07:54:27.667Z"
   },
   {
    "duration": 6,
    "start_time": "2023-07-09T07:54:27.674Z"
   },
   {
    "duration": 50,
    "start_time": "2023-07-09T07:54:27.682Z"
   },
   {
    "duration": 18,
    "start_time": "2023-07-09T07:54:27.733Z"
   },
   {
    "duration": 4,
    "start_time": "2023-07-09T07:54:27.753Z"
   },
   {
    "duration": 10,
    "start_time": "2023-07-09T07:54:27.759Z"
   },
   {
    "duration": 693,
    "start_time": "2023-07-09T07:54:27.771Z"
   },
   {
    "duration": 8,
    "start_time": "2023-07-09T07:54:28.466Z"
   },
   {
    "duration": 304,
    "start_time": "2023-07-09T07:54:28.478Z"
   },
   {
    "duration": 206,
    "start_time": "2023-07-09T07:54:28.783Z"
   },
   {
    "duration": 119,
    "start_time": "2023-07-09T07:54:28.991Z"
   },
   {
    "duration": 12,
    "start_time": "2023-07-09T07:54:29.111Z"
   },
   {
    "duration": 437,
    "start_time": "2023-07-09T07:54:29.124Z"
   },
   {
    "duration": 237,
    "start_time": "2023-07-09T07:54:29.567Z"
   },
   {
    "duration": 242,
    "start_time": "2023-07-09T07:54:29.805Z"
   },
   {
    "duration": 849,
    "start_time": "2023-07-09T07:54:30.049Z"
   },
   {
    "duration": 149,
    "start_time": "2023-07-09T07:55:40.925Z"
   },
   {
    "duration": 156,
    "start_time": "2023-07-09T07:55:47.751Z"
   },
   {
    "duration": 222,
    "start_time": "2023-07-09T07:56:30.279Z"
   },
   {
    "duration": 6,
    "start_time": "2023-07-09T07:59:06.595Z"
   },
   {
    "duration": 6,
    "start_time": "2023-07-09T08:01:15.448Z"
   },
   {
    "duration": 27,
    "start_time": "2023-07-09T08:01:15.697Z"
   },
   {
    "duration": 9,
    "start_time": "2023-07-09T08:01:18.897Z"
   },
   {
    "duration": 386641,
    "start_time": "2023-07-09T08:02:36.393Z"
   },
   {
    "duration": 4,
    "start_time": "2023-07-09T08:11:17.628Z"
   },
   {
    "duration": 3,
    "start_time": "2023-07-09T08:11:19.969Z"
   },
   {
    "duration": 2,
    "start_time": "2023-07-09T08:15:37.342Z"
   },
   {
    "duration": 10,
    "start_time": "2023-07-09T08:15:44.915Z"
   },
   {
    "duration": 4,
    "start_time": "2023-07-09T08:16:01.003Z"
   },
   {
    "duration": 10,
    "start_time": "2023-07-09T08:18:09.457Z"
   },
   {
    "duration": 4,
    "start_time": "2023-07-09T08:18:19.267Z"
   },
   {
    "duration": 2,
    "start_time": "2023-07-09T08:18:33.413Z"
   },
   {
    "duration": 6,
    "start_time": "2023-07-09T08:18:37.249Z"
   },
   {
    "duration": 5,
    "start_time": "2023-07-09T08:18:49.302Z"
   },
   {
    "duration": 3,
    "start_time": "2023-07-09T08:18:52.018Z"
   },
   {
    "duration": 4,
    "start_time": "2023-07-09T08:18:59.208Z"
   },
   {
    "duration": 3,
    "start_time": "2023-07-09T08:19:24.193Z"
   },
   {
    "duration": 4,
    "start_time": "2023-07-09T08:19:26.662Z"
   },
   {
    "duration": 4,
    "start_time": "2023-07-09T08:19:33.024Z"
   },
   {
    "duration": 4,
    "start_time": "2023-07-09T08:26:22.418Z"
   },
   {
    "duration": 109,
    "start_time": "2023-07-09T08:26:27.619Z"
   },
   {
    "duration": 12,
    "start_time": "2023-07-09T08:26:52.002Z"
   },
   {
    "duration": 41,
    "start_time": "2023-07-09T08:26:57.197Z"
   },
   {
    "duration": 11,
    "start_time": "2023-07-09T08:27:28.450Z"
   },
   {
    "duration": 248,
    "start_time": "2023-07-09T08:27:43.532Z"
   },
   {
    "duration": 94,
    "start_time": "2023-07-09T08:28:18.439Z"
   },
   {
    "duration": 27,
    "start_time": "2023-07-09T08:28:22.389Z"
   },
   {
    "duration": 24,
    "start_time": "2023-07-09T08:28:36.237Z"
   },
   {
    "duration": 94,
    "start_time": "2023-07-09T08:28:51.945Z"
   },
   {
    "duration": 90,
    "start_time": "2023-07-09T08:29:11.211Z"
   },
   {
    "duration": 499,
    "start_time": "2023-07-09T08:30:16.917Z"
   },
   {
    "duration": 1359,
    "start_time": "2023-07-09T08:30:40.179Z"
   },
   {
    "duration": 24,
    "start_time": "2023-07-09T08:31:22.609Z"
   },
   {
    "duration": 7322,
    "start_time": "2023-07-09T08:31:35.112Z"
   },
   {
    "duration": 16143,
    "start_time": "2023-07-09T08:31:50.653Z"
   },
   {
    "duration": 5,
    "start_time": "2023-07-09T08:32:16.618Z"
   },
   {
    "duration": 4,
    "start_time": "2023-07-09T08:32:22.978Z"
   },
   {
    "duration": 5,
    "start_time": "2023-07-09T08:32:57.051Z"
   },
   {
    "duration": 11,
    "start_time": "2023-07-09T08:33:43.037Z"
   },
   {
    "duration": 15871,
    "start_time": "2023-07-09T08:34:18.599Z"
   },
   {
    "duration": 4,
    "start_time": "2023-07-09T08:34:38.985Z"
   },
   {
    "duration": 3,
    "start_time": "2023-07-09T08:34:41.681Z"
   },
   {
    "duration": 110,
    "start_time": "2023-07-09T08:34:43.739Z"
   },
   {
    "duration": 2,
    "start_time": "2023-07-09T08:35:57.343Z"
   },
   {
    "duration": 4,
    "start_time": "2023-07-09T08:36:08.978Z"
   },
   {
    "duration": 74,
    "start_time": "2023-07-09T08:38:21.556Z"
   },
   {
    "duration": 3,
    "start_time": "2023-07-09T08:40:49.631Z"
   },
   {
    "duration": 4,
    "start_time": "2023-07-09T08:41:45.056Z"
   },
   {
    "duration": 9,
    "start_time": "2023-07-09T08:42:16.377Z"
   },
   {
    "duration": 3,
    "start_time": "2023-07-09T08:42:18.595Z"
   },
   {
    "duration": 160,
    "start_time": "2023-07-09T08:42:20.510Z"
   },
   {
    "duration": 3,
    "start_time": "2023-07-09T08:44:38.023Z"
   },
   {
    "duration": 119,
    "start_time": "2023-07-09T08:44:41.949Z"
   },
   {
    "duration": 107384,
    "start_time": "2023-07-09T08:45:19.405Z"
   },
   {
    "duration": 4,
    "start_time": "2023-07-09T08:47:42.613Z"
   },
   {
    "duration": 4,
    "start_time": "2023-07-09T08:47:43.205Z"
   },
   {
    "duration": 76,
    "start_time": "2023-07-09T08:47:44.371Z"
   },
   {
    "duration": 3,
    "start_time": "2023-07-09T08:47:47.691Z"
   },
   {
    "duration": 31,
    "start_time": "2023-07-09T08:47:48.308Z"
   },
   {
    "duration": 15957,
    "start_time": "2023-07-09T08:47:50.511Z"
   },
   {
    "duration": 9,
    "start_time": "2023-07-09T08:51:50.697Z"
   },
   {
    "duration": 4,
    "start_time": "2023-07-09T08:51:58.959Z"
   },
   {
    "duration": 9,
    "start_time": "2023-07-09T08:52:01.918Z"
   },
   {
    "duration": 4,
    "start_time": "2023-07-09T08:53:47.903Z"
   },
   {
    "duration": 9,
    "start_time": "2023-07-09T08:53:51.596Z"
   },
   {
    "duration": 3,
    "start_time": "2023-07-09T08:54:33.731Z"
   },
   {
    "duration": 12805,
    "start_time": "2023-07-09T08:54:37.266Z"
   },
   {
    "duration": 8,
    "start_time": "2023-07-09T08:54:50.073Z"
   },
   {
    "duration": 3,
    "start_time": "2023-07-09T11:28:39.837Z"
   },
   {
    "duration": 16071,
    "start_time": "2023-07-09T11:28:53.998Z"
   },
   {
    "duration": 66,
    "start_time": "2023-07-09T11:31:55.002Z"
   },
   {
    "duration": 23,
    "start_time": "2023-07-09T11:32:06.636Z"
   },
   {
    "duration": 46,
    "start_time": "2023-07-09T11:32:21.393Z"
   },
   {
    "duration": 44,
    "start_time": "2023-07-09T11:32:25.090Z"
   },
   {
    "duration": 963,
    "start_time": "2023-07-09T11:32:40.577Z"
   },
   {
    "duration": 3,
    "start_time": "2023-07-09T11:32:52.858Z"
   },
   {
    "duration": 4,
    "start_time": "2023-07-09T11:32:57.291Z"
   },
   {
    "duration": 694,
    "start_time": "2023-07-09T11:34:20.576Z"
   },
   {
    "duration": 12154,
    "start_time": "2023-07-09T11:34:38.328Z"
   },
   {
    "duration": 459,
    "start_time": "2023-07-09T11:34:54.412Z"
   },
   {
    "duration": 426,
    "start_time": "2023-07-09T11:34:59.545Z"
   },
   {
    "duration": 10,
    "start_time": "2023-07-09T11:36:54.125Z"
   },
   {
    "duration": 8,
    "start_time": "2023-07-09T11:37:05.641Z"
   },
   {
    "duration": 5,
    "start_time": "2023-07-09T11:37:11.379Z"
   },
   {
    "duration": 11,
    "start_time": "2023-07-09T11:37:22.323Z"
   },
   {
    "duration": 3,
    "start_time": "2023-07-09T11:37:24.236Z"
   },
   {
    "duration": 8,
    "start_time": "2023-07-09T11:37:24.360Z"
   },
   {
    "duration": 4,
    "start_time": "2023-07-09T11:37:33.964Z"
   },
   {
    "duration": 7,
    "start_time": "2023-07-09T11:37:35.113Z"
   },
   {
    "duration": 6,
    "start_time": "2023-07-09T11:38:20.226Z"
   },
   {
    "duration": 5,
    "start_time": "2023-07-09T11:38:34.637Z"
   },
   {
    "duration": 75,
    "start_time": "2023-07-09T13:38:36.598Z"
   },
   {
    "duration": 11,
    "start_time": "2023-07-09T13:50:10.415Z"
   },
   {
    "duration": 13281,
    "start_time": "2023-07-09T13:50:32.393Z"
   },
   {
    "duration": 286,
    "start_time": "2023-07-09T13:53:08.547Z"
   },
   {
    "duration": 12,
    "start_time": "2023-07-09T13:54:33.421Z"
   },
   {
    "duration": 4,
    "start_time": "2023-07-09T13:55:15.950Z"
   },
   {
    "duration": 3,
    "start_time": "2023-07-09T13:55:31.507Z"
   },
   {
    "duration": 7,
    "start_time": "2023-07-09T13:58:08.013Z"
   },
   {
    "duration": 4,
    "start_time": "2023-07-09T13:59:34.415Z"
   },
   {
    "duration": 7,
    "start_time": "2023-07-09T13:59:43.642Z"
   },
   {
    "duration": 5,
    "start_time": "2023-07-09T14:00:04.966Z"
   },
   {
    "duration": 7,
    "start_time": "2023-07-09T14:00:06.727Z"
   },
   {
    "duration": 9,
    "start_time": "2023-07-09T14:00:29.113Z"
   },
   {
    "duration": 32,
    "start_time": "2023-07-09T14:00:29.666Z"
   },
   {
    "duration": 11,
    "start_time": "2023-07-09T14:00:30.245Z"
   },
   {
    "duration": 638302,
    "start_time": "2023-07-09T14:00:32.393Z"
   },
   {
    "duration": 5,
    "start_time": "2023-07-09T14:12:55.221Z"
   },
   {
    "duration": 74,
    "start_time": "2023-07-09T14:18:37.028Z"
   },
   {
    "duration": 25,
    "start_time": "2023-07-09T14:18:40.921Z"
   },
   {
    "duration": 1381394,
    "start_time": "2023-07-09T14:18:58.825Z"
   },
   {
    "duration": 4,
    "start_time": "2023-07-09T14:43:19.248Z"
   },
   {
    "duration": 4,
    "start_time": "2023-07-09T14:43:22.492Z"
   },
   {
    "duration": 59,
    "start_time": "2023-07-09T14:43:24.925Z"
   },
   {
    "duration": 42,
    "start_time": "2023-07-09T14:43:28.242Z"
   },
   {
    "duration": 54,
    "start_time": "2023-07-09T14:43:59.045Z"
   },
   {
    "duration": 34,
    "start_time": "2023-07-09T14:45:09.654Z"
   },
   {
    "duration": 47,
    "start_time": "2023-07-09T14:46:15.085Z"
   },
   {
    "duration": 41,
    "start_time": "2023-07-09T14:46:55.628Z"
   },
   {
    "duration": 29,
    "start_time": "2023-07-09T14:46:59.135Z"
   },
   {
    "duration": 217156,
    "start_time": "2023-07-09T14:47:08.930Z"
   },
   {
    "duration": 0,
    "start_time": "2023-07-09T14:50:46.088Z"
   },
   {
    "duration": 348547,
    "start_time": "2023-07-09T14:50:52.923Z"
   },
   {
    "duration": 4,
    "start_time": "2023-07-09T14:57:16.931Z"
   },
   {
    "duration": 7,
    "start_time": "2023-07-09T14:57:17.321Z"
   },
   {
    "duration": 14279,
    "start_time": "2023-07-09T14:57:25.689Z"
   },
   {
    "duration": 201,
    "start_time": "2023-07-09T14:57:43.343Z"
   },
   {
    "duration": 151,
    "start_time": "2023-07-09T14:57:52.607Z"
   },
   {
    "duration": 184,
    "start_time": "2023-07-09T14:58:00.558Z"
   },
   {
    "duration": 225,
    "start_time": "2023-07-09T14:58:33.859Z"
   },
   {
    "duration": 213,
    "start_time": "2023-07-09T14:58:52.177Z"
   },
   {
    "duration": 262,
    "start_time": "2023-07-09T14:59:01.493Z"
   },
   {
    "duration": 245,
    "start_time": "2023-07-09T14:59:20.753Z"
   },
   {
    "duration": 179,
    "start_time": "2023-07-09T15:00:53.142Z"
   },
   {
    "duration": 18398,
    "start_time": "2023-07-09T15:01:51.229Z"
   },
   {
    "duration": 4,
    "start_time": "2023-07-09T15:02:09.629Z"
   },
   {
    "duration": 15,
    "start_time": "2023-07-09T15:02:09.634Z"
   },
   {
    "duration": 96,
    "start_time": "2023-07-09T15:02:09.652Z"
   },
   {
    "duration": 4,
    "start_time": "2023-07-09T15:02:12.397Z"
   },
   {
    "duration": 5,
    "start_time": "2023-07-09T15:03:03.445Z"
   },
   {
    "duration": 71,
    "start_time": "2023-07-09T15:03:05.955Z"
   },
   {
    "duration": 44,
    "start_time": "2023-07-09T15:03:15.534Z"
   },
   {
    "duration": 5545,
    "start_time": "2023-07-09T15:03:19.600Z"
   },
   {
    "duration": 3,
    "start_time": "2023-07-09T15:03:27.496Z"
   },
   {
    "duration": 8,
    "start_time": "2023-07-09T15:03:27.656Z"
   },
   {
    "duration": 82,
    "start_time": "2023-07-09T15:03:34.800Z"
   },
   {
    "duration": 4,
    "start_time": "2023-07-09T15:03:37.404Z"
   },
   {
    "duration": 7,
    "start_time": "2023-07-09T15:03:42.232Z"
   },
   {
    "duration": 4,
    "start_time": "2023-07-09T15:03:47.531Z"
   },
   {
    "duration": 270,
    "start_time": "2023-07-09T15:04:07.095Z"
   },
   {
    "duration": 20,
    "start_time": "2023-07-09T15:04:35.050Z"
   },
   {
    "duration": 385,
    "start_time": "2023-07-09T15:04:50.513Z"
   },
   {
    "duration": 282,
    "start_time": "2023-07-09T15:04:56.594Z"
   },
   {
    "duration": 169,
    "start_time": "2023-07-09T15:05:08.889Z"
   },
   {
    "duration": 1437,
    "start_time": "2023-07-09T15:05:32.089Z"
   },
   {
    "duration": 226,
    "start_time": "2023-07-09T15:05:35.190Z"
   },
   {
    "duration": 230,
    "start_time": "2023-07-09T15:06:05.040Z"
   },
   {
    "duration": 12,
    "start_time": "2023-07-09T15:06:17.264Z"
   },
   {
    "duration": 244,
    "start_time": "2023-07-09T15:06:41.891Z"
   },
   {
    "duration": 4,
    "start_time": "2023-07-09T15:06:51.089Z"
   },
   {
    "duration": 6,
    "start_time": "2023-07-09T15:06:51.443Z"
   },
   {
    "duration": 10,
    "start_time": "2023-07-09T15:06:58.438Z"
   },
   {
    "duration": 14,
    "start_time": "2023-07-09T15:07:04.298Z"
   },
   {
    "duration": 11,
    "start_time": "2023-07-09T15:07:11.933Z"
   },
   {
    "duration": 8,
    "start_time": "2023-07-09T15:07:15.801Z"
   },
   {
    "duration": 9,
    "start_time": "2023-07-09T16:50:54.566Z"
   },
   {
    "duration": 259,
    "start_time": "2023-07-09T16:51:03.812Z"
   },
   {
    "duration": 220,
    "start_time": "2023-07-09T16:51:08.512Z"
   },
   {
    "duration": 216,
    "start_time": "2023-07-09T16:51:11.552Z"
   },
   {
    "duration": 225,
    "start_time": "2023-07-09T16:52:29.925Z"
   },
   {
    "duration": 231,
    "start_time": "2023-07-09T16:52:35.732Z"
   },
   {
    "duration": 216,
    "start_time": "2023-07-09T16:52:54.155Z"
   },
   {
    "duration": 221,
    "start_time": "2023-07-09T16:53:17.791Z"
   },
   {
    "duration": 335,
    "start_time": "2023-07-09T16:53:22.223Z"
   },
   {
    "duration": 251,
    "start_time": "2023-07-09T16:53:34.974Z"
   },
   {
    "duration": 380,
    "start_time": "2023-07-09T16:53:50.472Z"
   },
   {
    "duration": 297,
    "start_time": "2023-07-09T16:53:59.938Z"
   },
   {
    "duration": 8,
    "start_time": "2023-07-09T16:54:04.612Z"
   },
   {
    "duration": 16,
    "start_time": "2023-07-09T17:10:13.250Z"
   },
   {
    "duration": 16122,
    "start_time": "2023-07-09T17:15:40.094Z"
   },
   {
    "duration": 51,
    "start_time": "2023-07-09T17:15:56.218Z"
   },
   {
    "duration": 252,
    "start_time": "2023-07-09T17:17:04.318Z"
   },
   {
    "duration": 241,
    "start_time": "2023-07-09T17:17:09.561Z"
   },
   {
    "duration": 237,
    "start_time": "2023-07-09T17:17:14.426Z"
   },
   {
    "duration": 238,
    "start_time": "2023-07-09T17:21:23.564Z"
   },
   {
    "duration": 3,
    "start_time": "2023-07-09T17:25:50.434Z"
   },
   {
    "duration": 1651,
    "start_time": "2023-07-09T17:27:27.759Z"
   },
   {
    "duration": 101,
    "start_time": "2023-07-10T06:11:53.903Z"
   },
   {
    "duration": 14286,
    "start_time": "2023-07-10T06:12:45.489Z"
   },
   {
    "duration": 2828,
    "start_time": "2023-07-10T06:12:59.777Z"
   },
   {
    "duration": 4,
    "start_time": "2023-07-10T06:13:02.607Z"
   },
   {
    "duration": 7,
    "start_time": "2023-07-10T06:13:02.612Z"
   },
   {
    "duration": 18,
    "start_time": "2023-07-10T06:13:02.621Z"
   },
   {
    "duration": 23,
    "start_time": "2023-07-10T06:13:02.640Z"
   },
   {
    "duration": 19,
    "start_time": "2023-07-10T06:13:02.664Z"
   },
   {
    "duration": 294,
    "start_time": "2023-07-10T06:13:02.684Z"
   },
   {
    "duration": 24,
    "start_time": "2023-07-10T06:13:02.980Z"
   },
   {
    "duration": 3,
    "start_time": "2023-07-10T06:13:03.006Z"
   },
   {
    "duration": 12,
    "start_time": "2023-07-10T06:13:03.011Z"
   },
   {
    "duration": 767,
    "start_time": "2023-07-10T06:13:03.025Z"
   },
   {
    "duration": 10,
    "start_time": "2023-07-10T06:13:03.793Z"
   },
   {
    "duration": 375,
    "start_time": "2023-07-10T06:13:03.805Z"
   },
   {
    "duration": 245,
    "start_time": "2023-07-10T06:13:04.182Z"
   },
   {
    "duration": 140,
    "start_time": "2023-07-10T06:13:04.429Z"
   },
   {
    "duration": 17,
    "start_time": "2023-07-10T06:13:04.571Z"
   },
   {
    "duration": 460,
    "start_time": "2023-07-10T06:13:04.590Z"
   },
   {
    "duration": 266,
    "start_time": "2023-07-10T06:13:05.052Z"
   },
   {
    "duration": 225,
    "start_time": "2023-07-10T06:13:05.319Z"
   },
   {
    "duration": 1033,
    "start_time": "2023-07-10T06:13:05.546Z"
   },
   {
    "duration": 235,
    "start_time": "2023-07-10T06:13:06.582Z"
   },
   {
    "duration": 173,
    "start_time": "2023-07-10T06:13:06.820Z"
   },
   {
    "duration": 271,
    "start_time": "2023-07-10T06:13:06.995Z"
   },
   {
    "duration": 35,
    "start_time": "2023-07-10T07:29:17.255Z"
   },
   {
    "duration": 9,
    "start_time": "2023-07-10T07:29:22.264Z"
   },
   {
    "duration": 3059490,
    "start_time": "2023-07-10T07:29:32.404Z"
   },
   {
    "duration": 5,
    "start_time": "2023-07-10T08:20:36.357Z"
   },
   {
    "duration": 7,
    "start_time": "2023-07-10T08:20:36.773Z"
   },
   {
    "duration": 245,
    "start_time": "2023-07-10T08:20:38.240Z"
   },
   {
    "duration": 4,
    "start_time": "2023-07-10T08:20:43.958Z"
   },
   {
    "duration": 166,
    "start_time": "2023-07-10T08:20:44.526Z"
   },
   {
    "duration": 134,
    "start_time": "2023-07-10T08:20:46.597Z"
   },
   {
    "duration": 1103683,
    "start_time": "2023-07-10T08:20:49.296Z"
   },
   {
    "duration": 3,
    "start_time": "2023-07-10T08:39:18.488Z"
   },
   {
    "duration": 9,
    "start_time": "2023-07-10T08:39:20.495Z"
   },
   {
    "duration": 224331,
    "start_time": "2023-07-10T08:39:27.951Z"
   },
   {
    "duration": 632,
    "start_time": "2023-07-10T08:44:30.989Z"
   },
   {
    "duration": 2,
    "start_time": "2023-07-10T08:44:40.285Z"
   },
   {
    "duration": 432,
    "start_time": "2023-07-10T08:44:43.143Z"
   },
   {
    "duration": 4,
    "start_time": "2023-07-10T08:44:44.183Z"
   },
   {
    "duration": 11,
    "start_time": "2023-07-10T08:44:45.200Z"
   },
   {
    "duration": 10,
    "start_time": "2023-07-10T08:44:52.388Z"
   },
   {
    "duration": 250,
    "start_time": "2023-07-10T08:44:54.626Z"
   },
   {
    "duration": 17,
    "start_time": "2023-07-10T08:44:57.076Z"
   },
   {
    "duration": 13724,
    "start_time": "2023-07-10T08:45:07.023Z"
   },
   {
    "duration": 5,
    "start_time": "2023-07-10T08:46:14.743Z"
   },
   {
    "duration": 5,
    "start_time": "2023-07-10T08:46:15.585Z"
   },
   {
    "duration": 260,
    "start_time": "2023-07-10T08:46:19.039Z"
   },
   {
    "duration": 5175,
    "start_time": "2023-07-10T08:46:20.007Z"
   },
   {
    "duration": 4,
    "start_time": "2023-07-10T08:46:25.184Z"
   },
   {
    "duration": 24,
    "start_time": "2023-07-10T08:46:25.191Z"
   },
   {
    "duration": 24,
    "start_time": "2023-07-10T08:47:09.681Z"
   },
   {
    "duration": 25,
    "start_time": "2023-07-10T08:48:01.046Z"
   },
   {
    "duration": 8,
    "start_time": "2023-07-10T08:48:38.902Z"
   },
   {
    "duration": 9,
    "start_time": "2023-07-10T08:48:43.486Z"
   },
   {
    "duration": 6,
    "start_time": "2023-07-10T08:49:09.112Z"
   },
   {
    "duration": 6,
    "start_time": "2023-07-10T08:49:09.459Z"
   },
   {
    "duration": 4,
    "start_time": "2023-07-10T08:49:42.543Z"
   },
   {
    "duration": 6,
    "start_time": "2023-07-10T08:49:43.477Z"
   },
   {
    "duration": 27,
    "start_time": "2023-07-10T08:49:58.847Z"
   },
   {
    "duration": 6,
    "start_time": "2023-07-10T08:50:14.247Z"
   },
   {
    "duration": 7,
    "start_time": "2023-07-10T08:50:15.120Z"
   },
   {
    "duration": 3436735,
    "start_time": "2023-07-10T08:50:39.535Z"
   },
   {
    "duration": 3,
    "start_time": "2023-07-10T09:47:56.272Z"
   },
   {
    "duration": 6,
    "start_time": "2023-07-10T09:50:03.516Z"
   },
   {
    "duration": 4,
    "start_time": "2023-07-10T09:50:04.833Z"
   },
   {
    "duration": 83,
    "start_time": "2023-07-10T09:50:06.802Z"
   },
   {
    "duration": 36,
    "start_time": "2023-07-10T09:50:11.998Z"
   },
   {
    "duration": 1334299,
    "start_time": "2023-07-10T09:50:14.904Z"
   },
   {
    "duration": 2,
    "start_time": "2023-07-10T10:20:19.329Z"
   },
   {
    "duration": 287979,
    "start_time": "2023-07-10T10:20:21.745Z"
   },
   {
    "duration": 2,
    "start_time": "2023-07-10T10:49:57.170Z"
   },
   {
    "duration": 112,
    "start_time": "2023-07-10T10:52:32.650Z"
   },
   {
    "duration": 129,
    "start_time": "2023-07-10T10:52:47.806Z"
   },
   {
    "duration": 1471,
    "start_time": "2023-07-10T10:52:53.789Z"
   },
   {
    "duration": 1633,
    "start_time": "2023-07-10T10:54:26.155Z"
   },
   {
    "duration": 1504,
    "start_time": "2023-07-10T11:11:02.051Z"
   },
   {
    "duration": 10,
    "start_time": "2023-07-10T11:12:43.948Z"
   },
   {
    "duration": 23,
    "start_time": "2023-07-10T11:12:50.459Z"
   },
   {
    "duration": 4,
    "start_time": "2023-07-10T11:13:04.123Z"
   },
   {
    "duration": 9,
    "start_time": "2023-07-10T11:13:04.819Z"
   },
   {
    "duration": 36990,
    "start_time": "2023-07-10T11:13:10.043Z"
   },
   {
    "duration": 26184,
    "start_time": "2023-07-10T11:14:47.540Z"
   },
   {
    "duration": 27106,
    "start_time": "2023-07-10T11:15:42.114Z"
   },
   {
    "duration": 28101,
    "start_time": "2023-07-10T11:16:23.523Z"
   },
   {
    "duration": 26013,
    "start_time": "2023-07-10T11:18:03.903Z"
   },
   {
    "duration": 21591,
    "start_time": "2023-07-10T11:19:12.928Z"
   },
   {
    "duration": 19535,
    "start_time": "2023-07-10T11:20:09.163Z"
   },
   {
    "duration": 14,
    "start_time": "2023-07-10T11:22:19.628Z"
   },
   {
    "duration": 24095,
    "start_time": "2023-07-10T11:22:28.203Z"
   },
   {
    "duration": 32019,
    "start_time": "2023-07-10T11:23:32.984Z"
   },
   {
    "duration": 113,
    "start_time": "2023-07-10T11:24:16.564Z"
   },
   {
    "duration": 25825,
    "start_time": "2023-07-10T11:24:34.365Z"
   },
   {
    "duration": 27648,
    "start_time": "2023-07-10T11:26:48.501Z"
   },
   {
    "duration": 27963,
    "start_time": "2023-07-10T11:27:51.644Z"
   },
   {
    "duration": 27143,
    "start_time": "2023-07-10T11:31:37.611Z"
   },
   {
    "duration": 4,
    "start_time": "2023-07-10T11:41:57.804Z"
   },
   {
    "duration": 3,
    "start_time": "2023-07-10T11:42:11.341Z"
   },
   {
    "duration": 5,
    "start_time": "2023-07-10T11:42:56.315Z"
   },
   {
    "duration": 5,
    "start_time": "2023-07-10T11:43:11.702Z"
   },
   {
    "duration": 5,
    "start_time": "2023-07-10T11:44:05.324Z"
   },
   {
    "duration": 5,
    "start_time": "2023-07-10T11:44:08.395Z"
   },
   {
    "duration": 6,
    "start_time": "2023-07-10T11:44:26.644Z"
   },
   {
    "duration": 6,
    "start_time": "2023-07-10T11:44:36.564Z"
   },
   {
    "duration": 4,
    "start_time": "2023-07-10T11:45:05.587Z"
   },
   {
    "duration": 8,
    "start_time": "2023-07-10T11:45:27.052Z"
   },
   {
    "duration": 4,
    "start_time": "2023-07-10T11:45:29.990Z"
   },
   {
    "duration": 4,
    "start_time": "2023-07-10T11:45:46.428Z"
   },
   {
    "duration": 4,
    "start_time": "2023-07-10T11:45:59.807Z"
   },
   {
    "duration": 4,
    "start_time": "2023-07-10T11:46:07.140Z"
   },
   {
    "duration": 4,
    "start_time": "2023-07-10T11:46:10.919Z"
   },
   {
    "duration": 27,
    "start_time": "2023-07-10T11:46:39.111Z"
   },
   {
    "duration": 1204918,
    "start_time": "2023-07-10T11:46:47.617Z"
   },
   {
    "duration": 7,
    "start_time": "2023-07-10T12:11:26.964Z"
   },
   {
    "duration": 4,
    "start_time": "2023-07-10T12:11:32.635Z"
   },
   {
    "duration": 79,
    "start_time": "2023-07-10T12:11:34.252Z"
   },
   {
    "duration": 52,
    "start_time": "2023-07-10T12:11:36.933Z"
   },
   {
    "duration": 387948,
    "start_time": "2023-07-10T12:11:37.480Z"
   },
   {
    "duration": 3,
    "start_time": "2023-07-10T12:18:05.429Z"
   },
   {
    "duration": 45,
    "start_time": "2023-07-10T12:18:05.434Z"
   },
   {
    "duration": 3,
    "start_time": "2023-07-10T12:20:27.337Z"
   },
   {
    "duration": 8,
    "start_time": "2023-07-10T12:20:27.486Z"
   },
   {
    "duration": 106494,
    "start_time": "2023-07-10T12:20:32.243Z"
   },
   {
    "duration": 9023,
    "start_time": "2023-07-10T12:22:50.132Z"
   },
   {
    "duration": 23,
    "start_time": "2023-07-10T12:23:34.620Z"
   },
   {
    "duration": 1428,
    "start_time": "2023-07-10T12:23:35.804Z"
   },
   {
    "duration": 14,
    "start_time": "2023-07-10T12:23:47.863Z"
   },
   {
    "duration": 33495,
    "start_time": "2023-07-10T12:23:49.356Z"
   },
   {
    "duration": 4,
    "start_time": "2023-07-10T12:24:35.020Z"
   },
   {
    "duration": 1058309,
    "start_time": "2023-07-10T12:24:37.897Z"
   },
   {
    "duration": 3,
    "start_time": "2023-07-10T12:42:22.097Z"
   },
   {
    "duration": 4,
    "start_time": "2023-07-10T12:42:22.718Z"
   },
   {
    "duration": 62,
    "start_time": "2023-07-10T12:42:24.435Z"
   },
   {
    "duration": 50,
    "start_time": "2023-07-10T12:42:31.297Z"
   },
   {
    "duration": 12668,
    "start_time": "2023-07-10T12:42:35.345Z"
   },
   {
    "duration": 8456,
    "start_time": "2023-07-10T12:47:55.004Z"
   },
   {
    "duration": 4,
    "start_time": "2023-07-10T12:48:16.124Z"
   },
   {
    "duration": 14237,
    "start_time": "2023-07-10T12:48:28.609Z"
   },
   {
    "duration": 5,
    "start_time": "2023-07-10T12:53:39.301Z"
   },
   {
    "duration": 4,
    "start_time": "2023-07-10T12:53:41.632Z"
   },
   {
    "duration": 4,
    "start_time": "2023-07-10T12:53:46.693Z"
   },
   {
    "duration": 4,
    "start_time": "2023-07-10T12:53:48.521Z"
   },
   {
    "duration": 46,
    "start_time": "2023-07-10T12:53:51.189Z"
   },
   {
    "duration": 26,
    "start_time": "2023-07-10T12:53:54.497Z"
   },
   {
    "duration": 1513,
    "start_time": "2023-07-10T12:53:59.736Z"
   },
   {
    "duration": 589,
    "start_time": "2023-07-10T12:54:07.289Z"
   },
   {
    "duration": 3,
    "start_time": "2023-07-10T12:54:09.514Z"
   },
   {
    "duration": 9,
    "start_time": "2023-07-10T12:54:09.883Z"
   },
   {
    "duration": 14,
    "start_time": "2023-07-10T12:54:15.852Z"
   },
   {
    "duration": 244,
    "start_time": "2023-07-10T12:54:19.245Z"
   },
   {
    "duration": 38,
    "start_time": "2023-07-10T12:56:49.306Z"
   },
   {
    "duration": 1426,
    "start_time": "2023-07-10T12:56:51.660Z"
   },
   {
    "duration": 64,
    "start_time": "2023-07-10T12:57:04.494Z"
   },
   {
    "duration": 1862,
    "start_time": "2023-07-10T12:57:05.508Z"
   },
   {
    "duration": 9,
    "start_time": "2023-07-10T12:57:07.372Z"
   },
   {
    "duration": 43823,
    "start_time": "2023-07-10T12:57:09.497Z"
   },
   {
    "duration": 4,
    "start_time": "2023-07-10T12:58:28.796Z"
   },
   {
    "duration": 5,
    "start_time": "2023-07-10T12:58:41.092Z"
   },
   {
    "duration": 4,
    "start_time": "2023-07-10T13:00:04.768Z"
   },
   {
    "duration": 225294,
    "start_time": "2023-07-10T13:00:06.105Z"
   },
   {
    "duration": 4,
    "start_time": "2023-07-10T13:04:36.924Z"
   },
   {
    "duration": 4,
    "start_time": "2023-07-10T13:04:39.521Z"
   },
   {
    "duration": 3,
    "start_time": "2023-07-10T13:04:48.822Z"
   },
   {
    "duration": 4,
    "start_time": "2023-07-10T13:04:49.012Z"
   },
   {
    "duration": 57,
    "start_time": "2023-07-10T13:04:49.395Z"
   },
   {
    "duration": 32,
    "start_time": "2023-07-10T13:04:53.309Z"
   },
   {
    "duration": 24068,
    "start_time": "2023-07-10T13:04:56.405Z"
   },
   {
    "duration": 19249,
    "start_time": "2023-07-10T13:06:34.725Z"
   },
   {
    "duration": 23,
    "start_time": "2023-07-10T13:07:18.229Z"
   },
   {
    "duration": 17824,
    "start_time": "2023-07-10T13:07:28.997Z"
   },
   {
    "duration": 53,
    "start_time": "2023-07-10T13:08:02.989Z"
   },
   {
    "duration": 13503,
    "start_time": "2023-07-10T13:08:07.990Z"
   },
   {
    "duration": 42,
    "start_time": "2023-07-10T13:15:04.493Z"
   },
   {
    "duration": 2278,
    "start_time": "2023-07-10T13:15:05.898Z"
   },
   {
    "duration": 2504,
    "start_time": "2023-07-10T13:15:13.201Z"
   },
   {
    "duration": 10,
    "start_time": "2023-07-10T13:15:23.261Z"
   },
   {
    "duration": 42482,
    "start_time": "2023-07-10T13:16:16.393Z"
   },
   {
    "duration": 12,
    "start_time": "2023-07-10T13:17:49.089Z"
   },
   {
    "duration": 15,
    "start_time": "2023-07-10T13:18:03.405Z"
   },
   {
    "duration": 38,
    "start_time": "2023-07-10T13:18:42.429Z"
   },
   {
    "duration": 38,
    "start_time": "2023-07-10T13:24:03.423Z"
   },
   {
    "duration": 33,
    "start_time": "2023-07-10T13:24:23.513Z"
   },
   {
    "duration": 83,
    "start_time": "2023-07-10T13:25:38.217Z"
   },
   {
    "duration": 30,
    "start_time": "2023-07-10T13:25:47.305Z"
   },
   {
    "duration": 30,
    "start_time": "2023-07-10T13:26:11.725Z"
   },
   {
    "duration": 167249,
    "start_time": "2023-07-10T13:26:53.029Z"
   },
   {
    "duration": 4,
    "start_time": "2023-07-10T13:31:56.639Z"
   },
   {
    "duration": 2498,
    "start_time": "2023-07-10T13:32:04.422Z"
   },
   {
    "duration": 8,
    "start_time": "2023-07-10T13:32:06.922Z"
   },
   {
    "duration": 135672,
    "start_time": "2023-07-10T13:32:07.641Z"
   },
   {
    "duration": 4,
    "start_time": "2023-07-10T13:34:23.315Z"
   },
   {
    "duration": 67,
    "start_time": "2023-07-10T13:34:28.726Z"
   },
   {
    "duration": 1793866,
    "start_time": "2023-07-10T13:34:39.414Z"
   },
   {
    "duration": 2118,
    "start_time": "2023-07-11T05:10:54.555Z"
   },
   {
    "duration": 5,
    "start_time": "2023-07-11T05:10:56.675Z"
   },
   {
    "duration": 5,
    "start_time": "2023-07-11T05:10:56.682Z"
   },
   {
    "duration": 4,
    "start_time": "2023-07-11T05:10:56.689Z"
   },
   {
    "duration": 5,
    "start_time": "2023-07-11T05:10:56.695Z"
   },
   {
    "duration": 5,
    "start_time": "2023-07-11T05:10:56.702Z"
   },
   {
    "duration": 5,
    "start_time": "2023-07-11T05:10:56.708Z"
   },
   {
    "duration": 198,
    "start_time": "2023-07-11T05:10:56.714Z"
   },
   {
    "duration": 21,
    "start_time": "2023-07-11T05:10:56.913Z"
   },
   {
    "duration": 3,
    "start_time": "2023-07-11T05:10:56.936Z"
   },
   {
    "duration": 8,
    "start_time": "2023-07-11T05:10:56.941Z"
   },
   {
    "duration": 911,
    "start_time": "2023-07-11T05:10:56.951Z"
   },
   {
    "duration": 7,
    "start_time": "2023-07-11T05:10:57.864Z"
   },
   {
    "duration": 295,
    "start_time": "2023-07-11T05:10:57.875Z"
   },
   {
    "duration": 215,
    "start_time": "2023-07-11T05:10:58.173Z"
   },
   {
    "duration": 125,
    "start_time": "2023-07-11T05:10:58.390Z"
   },
   {
    "duration": 12,
    "start_time": "2023-07-11T05:10:58.517Z"
   },
   {
    "duration": 322,
    "start_time": "2023-07-11T05:10:58.531Z"
   },
   {
    "duration": 252,
    "start_time": "2023-07-11T05:10:58.855Z"
   },
   {
    "duration": 240,
    "start_time": "2023-07-11T05:10:59.108Z"
   },
   {
    "duration": 981,
    "start_time": "2023-07-11T05:10:59.350Z"
   },
   {
    "duration": 162,
    "start_time": "2023-07-11T05:11:00.333Z"
   },
   {
    "duration": 163,
    "start_time": "2023-07-11T05:11:00.496Z"
   },
   {
    "duration": 211,
    "start_time": "2023-07-11T05:11:00.661Z"
   },
   {
    "duration": 3,
    "start_time": "2023-07-11T05:11:00.873Z"
   },
   {
    "duration": 74,
    "start_time": "2023-07-11T05:11:00.877Z"
   },
   {
    "duration": 2336,
    "start_time": "2023-07-11T05:11:00.952Z"
   },
   {
    "duration": 9,
    "start_time": "2023-07-11T05:11:03.290Z"
   },
   {
    "duration": 2084,
    "start_time": "2023-07-11T05:11:45.075Z"
   },
   {
    "duration": 1932,
    "start_time": "2023-07-11T05:11:47.161Z"
   },
   {
    "duration": 3,
    "start_time": "2023-07-11T05:11:49.095Z"
   },
   {
    "duration": 23,
    "start_time": "2023-07-11T05:11:49.100Z"
   },
   {
    "duration": 14,
    "start_time": "2023-07-11T05:11:49.125Z"
   },
   {
    "duration": 17,
    "start_time": "2023-07-11T05:11:49.141Z"
   },
   {
    "duration": 27,
    "start_time": "2023-07-11T05:11:49.160Z"
   },
   {
    "duration": 52,
    "start_time": "2023-07-11T05:11:49.188Z"
   },
   {
    "duration": 20,
    "start_time": "2023-07-11T05:11:49.241Z"
   },
   {
    "duration": 3,
    "start_time": "2023-07-11T05:11:49.264Z"
   },
   {
    "duration": 19,
    "start_time": "2023-07-11T05:11:49.268Z"
   },
   {
    "duration": 671,
    "start_time": "2023-07-11T05:11:49.288Z"
   },
   {
    "duration": 10,
    "start_time": "2023-07-11T05:11:49.961Z"
   },
   {
    "duration": 271,
    "start_time": "2023-07-11T05:11:49.972Z"
   },
   {
    "duration": 173,
    "start_time": "2023-07-11T05:11:50.245Z"
   },
   {
    "duration": 207,
    "start_time": "2023-07-11T05:11:50.420Z"
   },
   {
    "duration": 11,
    "start_time": "2023-07-11T05:11:50.628Z"
   },
   {
    "duration": 280,
    "start_time": "2023-07-11T05:11:50.640Z"
   },
   {
    "duration": 223,
    "start_time": "2023-07-11T05:11:50.922Z"
   },
   {
    "duration": 211,
    "start_time": "2023-07-11T05:11:51.147Z"
   },
   {
    "duration": 748,
    "start_time": "2023-07-11T05:11:51.359Z"
   },
   {
    "duration": 165,
    "start_time": "2023-07-11T05:11:52.109Z"
   },
   {
    "duration": 155,
    "start_time": "2023-07-11T05:11:52.275Z"
   },
   {
    "duration": 196,
    "start_time": "2023-07-11T05:11:52.431Z"
   },
   {
    "duration": 2,
    "start_time": "2023-07-11T05:11:52.628Z"
   },
   {
    "duration": 157,
    "start_time": "2023-07-11T05:11:52.632Z"
   },
   {
    "duration": 2113,
    "start_time": "2023-07-11T05:11:52.791Z"
   },
   {
    "duration": 8,
    "start_time": "2023-07-11T05:11:54.907Z"
   },
   {
    "duration": 8183,
    "start_time": "2023-07-11T05:11:54.916Z"
   },
   {
    "duration": 5,
    "start_time": "2023-07-11T05:17:31.945Z"
   },
   {
    "duration": 2,
    "start_time": "2023-07-11T05:17:48.524Z"
   },
   {
    "duration": 908,
    "start_time": "2023-07-11T05:19:27.629Z"
   },
   {
    "duration": 945,
    "start_time": "2023-07-11T05:19:45.861Z"
   },
   {
    "duration": 859,
    "start_time": "2023-07-11T05:19:50.801Z"
   },
   {
    "duration": 9,
    "start_time": "2023-07-11T05:23:20.053Z"
   },
   {
    "duration": 68,
    "start_time": "2023-07-11T05:23:46.916Z"
   },
   {
    "duration": 4117,
    "start_time": "2023-07-11T05:23:48.551Z"
   },
   {
    "duration": 9,
    "start_time": "2023-07-11T05:23:57.068Z"
   },
   {
    "duration": 57,
    "start_time": "2023-07-11T05:24:27.678Z"
   },
   {
    "duration": 4391,
    "start_time": "2023-07-11T05:24:28.406Z"
   },
   {
    "duration": 8,
    "start_time": "2023-07-11T05:24:43.460Z"
   },
   {
    "duration": 10771,
    "start_time": "2023-07-11T05:24:49.924Z"
   },
   {
    "duration": 4,
    "start_time": "2023-07-11T05:25:05.851Z"
   },
   {
    "duration": 4,
    "start_time": "2023-07-11T05:25:22.925Z"
   },
   {
    "duration": 5,
    "start_time": "2023-07-11T05:25:30.820Z"
   },
   {
    "duration": 10808,
    "start_time": "2023-07-11T05:25:53.116Z"
   },
   {
    "duration": 119,
    "start_time": "2023-07-11T05:26:29.953Z"
   },
   {
    "duration": 4,
    "start_time": "2023-07-11T05:26:33.350Z"
   },
   {
    "duration": 21785,
    "start_time": "2023-07-11T05:26:42.813Z"
   },
   {
    "duration": 68561,
    "start_time": "2023-07-11T05:27:55.253Z"
   },
   {
    "duration": 4,
    "start_time": "2023-07-11T05:29:08.123Z"
   },
   {
    "duration": 4,
    "start_time": "2023-07-11T05:29:08.325Z"
   },
   {
    "duration": 64,
    "start_time": "2023-07-11T05:29:12.437Z"
   },
   {
    "duration": 3,
    "start_time": "2023-07-11T05:29:16.260Z"
   },
   {
    "duration": 28,
    "start_time": "2023-07-11T05:29:21.213Z"
   },
   {
    "duration": 55821,
    "start_time": "2023-07-11T05:29:22.165Z"
   },
   {
    "duration": 55,
    "start_time": "2023-07-11T05:30:17.988Z"
   },
   {
    "duration": 28,
    "start_time": "2023-07-11T05:30:22.702Z"
   },
   {
    "duration": 27514,
    "start_time": "2023-07-11T05:30:23.669Z"
   },
   {
    "duration": 3,
    "start_time": "2023-07-11T05:30:51.185Z"
   },
   {
    "duration": 9,
    "start_time": "2023-07-11T05:30:51.189Z"
   },
   {
    "duration": 4303,
    "start_time": "2023-07-11T05:31:08.165Z"
   },
   {
    "duration": 3863,
    "start_time": "2023-07-11T05:32:08.212Z"
   },
   {
    "duration": 69864,
    "start_time": "2023-07-11T05:32:50.910Z"
   },
   {
    "duration": 4,
    "start_time": "2023-07-11T05:34:15.717Z"
   },
   {
    "duration": 4,
    "start_time": "2023-07-11T05:34:16.002Z"
   },
   {
    "duration": 4,
    "start_time": "2023-07-11T05:35:26.390Z"
   },
   {
    "duration": 6,
    "start_time": "2023-07-11T05:35:36.166Z"
   },
   {
    "duration": 5,
    "start_time": "2023-07-11T05:35:42.002Z"
   },
   {
    "duration": 94545,
    "start_time": "2023-07-11T05:35:48.351Z"
   },
   {
    "duration": 55,
    "start_time": "2023-07-11T05:37:43.925Z"
   },
   {
    "duration": 2,
    "start_time": "2023-07-11T05:37:48.002Z"
   },
   {
    "duration": 39,
    "start_time": "2023-07-11T05:37:48.510Z"
   },
   {
    "duration": 10634,
    "start_time": "2023-07-11T05:37:52.261Z"
   },
   {
    "duration": 5,
    "start_time": "2023-07-11T05:39:02.925Z"
   },
   {
    "duration": 2236,
    "start_time": "2023-07-11T05:39:16.869Z"
   },
   {
    "duration": 108843,
    "start_time": "2023-07-11T05:40:30.003Z"
   },
   {
    "duration": 4,
    "start_time": "2023-07-11T05:42:28.230Z"
   },
   {
    "duration": 4,
    "start_time": "2023-07-11T05:42:30.902Z"
   },
   {
    "duration": 57,
    "start_time": "2023-07-11T05:42:32.513Z"
   },
   {
    "duration": 2236,
    "start_time": "2023-07-11T05:42:46.860Z"
   },
   {
    "duration": 16978,
    "start_time": "2023-07-11T05:43:00.270Z"
   },
   {
    "duration": 46,
    "start_time": "2023-07-11T05:43:29.448Z"
   },
   {
    "duration": 4249,
    "start_time": "2023-07-11T05:43:30.108Z"
   },
   {
    "duration": 14,
    "start_time": "2023-07-11T05:43:34.359Z"
   },
   {
    "duration": 28656,
    "start_time": "2023-07-11T05:43:34.375Z"
   },
   {
    "duration": 16776,
    "start_time": "2023-07-11T05:44:03.033Z"
   },
   {
    "duration": 5,
    "start_time": "2023-07-11T05:44:23.790Z"
   },
   {
    "duration": 5,
    "start_time": "2023-07-11T05:45:15.774Z"
   },
   {
    "duration": 3,
    "start_time": "2023-07-11T05:45:58.638Z"
   },
   {
    "duration": 4,
    "start_time": "2023-07-11T05:46:01.623Z"
   },
   {
    "duration": 4,
    "start_time": "2023-07-11T05:46:07.102Z"
   },
   {
    "duration": 124495,
    "start_time": "2023-07-11T05:46:16.077Z"
   },
   {
    "duration": 3,
    "start_time": "2023-07-11T05:48:42.914Z"
   },
   {
    "duration": 5,
    "start_time": "2023-07-11T05:48:45.366Z"
   },
   {
    "duration": 2206,
    "start_time": "2023-07-11T05:48:50.462Z"
   },
   {
    "duration": 5,
    "start_time": "2023-07-11T05:49:03.870Z"
   },
   {
    "duration": 5,
    "start_time": "2023-07-11T05:49:15.714Z"
   },
   {
    "duration": 5,
    "start_time": "2023-07-11T05:49:18.998Z"
   },
   {
    "duration": 4,
    "start_time": "2023-07-11T05:49:25.254Z"
   },
   {
    "duration": 94,
    "start_time": "2023-07-11T05:50:25.007Z"
   },
   {
    "duration": 4170,
    "start_time": "2023-07-11T05:50:25.802Z"
   },
   {
    "duration": 8,
    "start_time": "2023-07-11T05:50:29.974Z"
   },
   {
    "duration": 10887,
    "start_time": "2023-07-11T05:50:29.984Z"
   },
   {
    "duration": 5,
    "start_time": "2023-07-11T05:51:48.814Z"
   },
   {
    "duration": 143632,
    "start_time": "2023-07-11T05:52:04.414Z"
   },
   {
    "duration": 67,
    "start_time": "2023-07-11T05:54:33.758Z"
   },
   {
    "duration": 4,
    "start_time": "2023-07-11T05:54:36.934Z"
   },
   {
    "duration": 4,
    "start_time": "2023-07-11T05:54:38.574Z"
   },
   {
    "duration": 2303,
    "start_time": "2023-07-11T05:54:41.966Z"
   },
   {
    "duration": 16746,
    "start_time": "2023-07-11T05:54:52.744Z"
   },
   {
    "duration": 5,
    "start_time": "2023-07-11T05:55:41.471Z"
   },
   {
    "duration": 17013,
    "start_time": "2023-07-11T05:55:57.311Z"
   },
   {
    "duration": 4,
    "start_time": "2023-07-11T05:56:29.809Z"
   },
   {
    "duration": 4,
    "start_time": "2023-07-11T05:56:29.966Z"
   },
   {
    "duration": 59,
    "start_time": "2023-07-11T05:56:32.264Z"
   },
   {
    "duration": 28,
    "start_time": "2023-07-11T05:56:35.802Z"
   },
   {
    "duration": 6025,
    "start_time": "2023-07-11T05:56:35.966Z"
   },
   {
    "duration": 3,
    "start_time": "2023-07-11T05:56:41.993Z"
   },
   {
    "duration": 10,
    "start_time": "2023-07-11T05:56:41.997Z"
   },
   {
    "duration": 1947,
    "start_time": "2023-07-11T05:56:49.013Z"
   },
   {
    "duration": 6,
    "start_time": "2023-07-11T05:58:04.118Z"
   },
   {
    "duration": 155564,
    "start_time": "2023-07-11T05:58:28.514Z"
   },
   {
    "duration": 4,
    "start_time": "2023-07-11T06:01:36.353Z"
   },
   {
    "duration": 4,
    "start_time": "2023-07-11T06:01:38.278Z"
   },
   {
    "duration": 2104,
    "start_time": "2023-07-11T06:01:41.706Z"
   },
   {
    "duration": 36,
    "start_time": "2023-07-11T06:02:21.463Z"
   },
   {
    "duration": 2,
    "start_time": "2023-07-11T06:02:25.367Z"
   },
   {
    "duration": 8,
    "start_time": "2023-07-11T06:02:27.535Z"
   },
   {
    "duration": 6733,
    "start_time": "2023-07-11T06:02:34.878Z"
   },
   {
    "duration": 4,
    "start_time": "2023-07-11T06:03:04.112Z"
   },
   {
    "duration": 167238,
    "start_time": "2023-07-11T06:03:29.966Z"
   },
   {
    "duration": 5,
    "start_time": "2023-07-11T06:07:21.774Z"
   },
   {
    "duration": 2224,
    "start_time": "2023-07-11T06:07:32.975Z"
   },
   {
    "duration": 119,
    "start_time": "2023-07-11T06:08:38.146Z"
   },
   {
    "duration": 9,
    "start_time": "2023-07-11T06:08:41.510Z"
   },
   {
    "duration": 10473,
    "start_time": "2023-07-11T06:08:43.048Z"
   },
   {
    "duration": 6,
    "start_time": "2023-07-11T06:08:53.523Z"
   },
   {
    "duration": 11303,
    "start_time": "2023-07-11T06:08:58.953Z"
   },
   {
    "duration": 191121,
    "start_time": "2023-07-11T06:10:02.715Z"
   },
   {
    "duration": 4,
    "start_time": "2023-07-11T06:13:18.231Z"
   },
   {
    "duration": 4,
    "start_time": "2023-07-11T06:13:20.502Z"
   },
   {
    "duration": 72,
    "start_time": "2023-07-11T06:13:22.439Z"
   },
   {
    "duration": 32,
    "start_time": "2023-07-11T06:13:26.345Z"
   },
   {
    "duration": 11097,
    "start_time": "2023-07-11T06:13:31.172Z"
   },
   {
    "duration": 13599,
    "start_time": "2023-07-11T06:13:52.170Z"
   },
   {
    "duration": 10836,
    "start_time": "2023-07-11T06:14:22.039Z"
   },
   {
    "duration": 10,
    "start_time": "2023-07-11T06:16:05.591Z"
   },
   {
    "duration": 4,
    "start_time": "2023-07-11T06:16:12.864Z"
   },
   {
    "duration": 4,
    "start_time": "2023-07-11T06:16:24.120Z"
   },
   {
    "duration": 758720,
    "start_time": "2023-07-11T06:16:35.870Z"
   },
   {
    "duration": 4,
    "start_time": "2023-07-11T06:29:18.415Z"
   },
   {
    "duration": 4,
    "start_time": "2023-07-11T06:29:20.715Z"
   },
   {
    "duration": 95,
    "start_time": "2023-07-11T06:29:20.935Z"
   },
   {
    "duration": 32,
    "start_time": "2023-07-11T06:29:25.560Z"
   },
   {
    "duration": 566155,
    "start_time": "2023-07-11T06:29:27.214Z"
   },
   {
    "duration": 38943,
    "start_time": "2023-07-11T06:41:43.792Z"
   },
   {
    "duration": 5,
    "start_time": "2023-07-11T06:43:03.050Z"
   },
   {
    "duration": 5,
    "start_time": "2023-07-11T06:43:11.357Z"
   },
   {
    "duration": 26,
    "start_time": "2023-07-11T06:43:51.553Z"
   },
   {
    "duration": 1572528,
    "start_time": "2023-07-11T06:44:27.500Z"
   },
   {
    "duration": 5,
    "start_time": "2023-07-11T07:18:15.182Z"
   },
   {
    "duration": 4,
    "start_time": "2023-07-11T07:18:15.638Z"
   },
   {
    "duration": 78,
    "start_time": "2023-07-11T07:18:15.982Z"
   },
   {
    "duration": 28,
    "start_time": "2023-07-11T07:18:18.901Z"
   },
   {
    "duration": 57933,
    "start_time": "2023-07-11T07:18:24.887Z"
   },
   {
    "duration": 57303,
    "start_time": "2023-07-11T07:20:41.822Z"
   },
   {
    "duration": 17335,
    "start_time": "2023-07-11T07:21:39.127Z"
   },
   {
    "duration": 6,
    "start_time": "2023-07-11T07:21:56.464Z"
   },
   {
    "duration": 73,
    "start_time": "2023-07-11T07:23:08.806Z"
   },
   {
    "duration": 8,
    "start_time": "2023-07-11T07:23:13.649Z"
   },
   {
    "duration": 16,
    "start_time": "2023-07-11T07:23:24.566Z"
   },
   {
    "duration": 50951,
    "start_time": "2023-07-11T07:23:28.798Z"
   },
   {
    "duration": 2258239,
    "start_time": "2023-07-11T07:29:52.335Z"
   },
   {
    "duration": 4,
    "start_time": "2023-07-11T08:09:15.622Z"
   },
   {
    "duration": 4,
    "start_time": "2023-07-11T08:09:18.630Z"
   },
   {
    "duration": 101485,
    "start_time": "2023-07-11T08:09:22.590Z"
   },
   {
    "duration": 123663,
    "start_time": "2023-07-11T08:11:28.406Z"
   },
   {
    "duration": 77,
    "start_time": "2023-07-11T08:15:31.582Z"
   },
   {
    "duration": 34,
    "start_time": "2023-07-11T08:16:11.975Z"
   },
   {
    "duration": 10,
    "start_time": "2023-07-11T08:16:45.118Z"
   },
   {
    "duration": 99,
    "start_time": "2023-07-11T08:17:18.041Z"
   },
   {
    "duration": 45,
    "start_time": "2023-07-11T08:17:25.414Z"
   },
   {
    "duration": 4,
    "start_time": "2023-07-11T08:17:29.422Z"
   },
   {
    "duration": 221849,
    "start_time": "2023-07-11T08:17:34.359Z"
   },
   {
    "duration": 28,
    "start_time": "2023-07-11T08:22:44.961Z"
   },
   {
    "duration": 233348,
    "start_time": "2023-07-11T08:22:46.080Z"
   },
   {
    "duration": 3,
    "start_time": "2023-07-11T08:26:39.430Z"
   },
   {
    "duration": 36,
    "start_time": "2023-07-11T08:26:39.434Z"
   },
   {
    "duration": 13,
    "start_time": "2023-07-11T08:30:05.870Z"
   },
   {
    "duration": 23421,
    "start_time": "2023-07-11T08:30:28.806Z"
   },
   {
    "duration": 32208,
    "start_time": "2023-07-11T08:31:20.902Z"
   },
   {
    "duration": 5,
    "start_time": "2023-07-11T08:32:58.093Z"
   },
   {
    "duration": 5,
    "start_time": "2023-07-11T08:33:01.454Z"
   },
   {
    "duration": 73,
    "start_time": "2023-07-11T08:33:02.462Z"
   },
   {
    "duration": 2,
    "start_time": "2023-07-11T08:33:09.158Z"
   },
   {
    "duration": 3,
    "start_time": "2023-07-11T08:33:10.246Z"
   },
   {
    "duration": 45,
    "start_time": "2023-07-11T08:33:14.966Z"
   },
   {
    "duration": 4525,
    "start_time": "2023-07-11T08:33:24.686Z"
   },
   {
    "duration": 7,
    "start_time": "2023-07-11T08:33:37.870Z"
   },
   {
    "duration": 918,
    "start_time": "2023-07-11T08:33:39.351Z"
   },
   {
    "duration": 4,
    "start_time": "2023-07-11T08:33:40.270Z"
   },
   {
    "duration": 9,
    "start_time": "2023-07-11T08:33:40.275Z"
   },
   {
    "duration": 4,
    "start_time": "2023-07-11T08:33:42.990Z"
   },
   {
    "duration": 8,
    "start_time": "2023-07-11T08:33:48.126Z"
   },
   {
    "duration": 18,
    "start_time": "2023-07-11T08:34:00.450Z"
   },
   {
    "duration": 34,
    "start_time": "2023-07-11T08:35:06.334Z"
   },
   {
    "duration": 405,
    "start_time": "2023-07-11T08:35:21.822Z"
   },
   {
    "duration": 6,
    "start_time": "2023-07-11T08:35:54.814Z"
   },
   {
    "duration": 173,
    "start_time": "2023-07-11T08:35:55.598Z"
   },
   {
    "duration": 253,
    "start_time": "2023-07-11T08:35:55.822Z"
   },
   {
    "duration": 2306,
    "start_time": "2023-07-11T08:38:43.608Z"
   },
   {
    "duration": 2038,
    "start_time": "2023-07-11T08:38:45.916Z"
   },
   {
    "duration": 5,
    "start_time": "2023-07-11T08:38:47.956Z"
   },
   {
    "duration": 18,
    "start_time": "2023-07-11T08:38:47.963Z"
   },
   {
    "duration": 18,
    "start_time": "2023-07-11T08:38:47.984Z"
   },
   {
    "duration": 11,
    "start_time": "2023-07-11T08:38:48.004Z"
   },
   {
    "duration": 5,
    "start_time": "2023-07-11T08:38:48.016Z"
   },
   {
    "duration": 53,
    "start_time": "2023-07-11T08:38:48.023Z"
   },
   {
    "duration": 25,
    "start_time": "2023-07-11T08:38:48.078Z"
   },
   {
    "duration": 4,
    "start_time": "2023-07-11T08:38:48.105Z"
   },
   {
    "duration": 10,
    "start_time": "2023-07-11T08:38:48.111Z"
   },
   {
    "duration": 712,
    "start_time": "2023-07-11T08:38:48.123Z"
   },
   {
    "duration": 11,
    "start_time": "2023-07-11T08:38:48.838Z"
   },
   {
    "duration": 348,
    "start_time": "2023-07-11T08:38:48.852Z"
   },
   {
    "duration": 200,
    "start_time": "2023-07-11T08:38:49.202Z"
   },
   {
    "duration": 298,
    "start_time": "2023-07-11T08:38:49.404Z"
   },
   {
    "duration": 13,
    "start_time": "2023-07-11T08:38:49.704Z"
   },
   {
    "duration": 358,
    "start_time": "2023-07-11T08:38:49.719Z"
   },
   {
    "duration": 262,
    "start_time": "2023-07-11T08:38:50.079Z"
   },
   {
    "duration": 226,
    "start_time": "2023-07-11T08:38:50.342Z"
   },
   {
    "duration": 1029,
    "start_time": "2023-07-11T08:38:50.569Z"
   },
   {
    "duration": 169,
    "start_time": "2023-07-11T08:38:51.599Z"
   },
   {
    "duration": 176,
    "start_time": "2023-07-11T08:38:51.769Z"
   },
   {
    "duration": 355,
    "start_time": "2023-07-11T08:38:51.947Z"
   },
   {
    "duration": 2,
    "start_time": "2023-07-11T08:38:52.305Z"
   },
   {
    "duration": 91,
    "start_time": "2023-07-11T08:38:52.309Z"
   },
   {
    "duration": 8,
    "start_time": "2023-07-11T08:39:26.095Z"
   },
   {
    "duration": 3,
    "start_time": "2023-07-11T08:40:29.643Z"
   },
   {
    "duration": 2,
    "start_time": "2023-07-11T08:40:31.387Z"
   },
   {
    "duration": 940,
    "start_time": "2023-07-11T08:40:34.134Z"
   },
   {
    "duration": 90,
    "start_time": "2023-07-11T08:40:35.078Z"
   },
   {
    "duration": 10,
    "start_time": "2023-07-11T08:40:35.170Z"
   },
   {
    "duration": 136,
    "start_time": "2023-07-11T08:40:35.182Z"
   },
   {
    "duration": 14,
    "start_time": "2023-07-11T08:40:43.494Z"
   },
   {
    "duration": 2,
    "start_time": "2023-07-11T08:40:59.158Z"
   },
   {
    "duration": 3,
    "start_time": "2023-07-11T08:41:00.999Z"
   },
   {
    "duration": 3,
    "start_time": "2023-07-11T08:41:03.786Z"
   },
   {
    "duration": 3,
    "start_time": "2023-07-11T08:41:08.630Z"
   },
   {
    "duration": 6,
    "start_time": "2023-07-11T08:41:14.007Z"
   },
   {
    "duration": 73,
    "start_time": "2023-07-11T08:41:14.398Z"
   },
   {
    "duration": 395,
    "start_time": "2023-07-11T08:41:14.726Z"
   },
   {
    "duration": 3,
    "start_time": "2023-07-11T08:41:29.054Z"
   },
   {
    "duration": 2,
    "start_time": "2023-07-11T08:41:40.839Z"
   },
   {
    "duration": 12938,
    "start_time": "2023-07-11T08:41:54.767Z"
   },
   {
    "duration": 309668,
    "start_time": "2023-07-11T08:42:15.302Z"
   },
   {
    "duration": 4,
    "start_time": "2023-07-11T08:47:24.972Z"
   },
   {
    "duration": 21,
    "start_time": "2023-07-11T08:47:24.978Z"
   },
   {
    "duration": 101,
    "start_time": "2023-07-11T08:47:25.001Z"
   },
   {
    "duration": 4,
    "start_time": "2023-07-11T08:47:29.704Z"
   },
   {
    "duration": 5,
    "start_time": "2023-07-11T08:47:30.326Z"
   },
   {
    "duration": 67,
    "start_time": "2023-07-11T08:47:31.535Z"
   },
   {
    "duration": 31791,
    "start_time": "2023-07-11T08:47:39.401Z"
   },
   {
    "duration": 4,
    "start_time": "2023-07-11T08:48:11.193Z"
   },
   {
    "duration": 5,
    "start_time": "2023-07-11T08:48:11.198Z"
   },
   {
    "duration": 62,
    "start_time": "2023-07-11T08:48:11.205Z"
   },
   {
    "duration": 4,
    "start_time": "2023-07-11T09:10:38.299Z"
   },
   {
    "duration": 4,
    "start_time": "2023-07-11T09:10:38.664Z"
   },
   {
    "duration": 71,
    "start_time": "2023-07-11T09:10:41.404Z"
   },
   {
    "duration": 49,
    "start_time": "2023-07-11T09:10:45.240Z"
   },
   {
    "duration": 48977,
    "start_time": "2023-07-11T09:10:47.344Z"
   },
   {
    "duration": 8,
    "start_time": "2023-07-11T09:11:36.323Z"
   },
   {
    "duration": 9,
    "start_time": "2023-07-11T09:12:13.763Z"
   },
   {
    "duration": 45,
    "start_time": "2023-07-11T09:12:19.328Z"
   },
   {
    "duration": 11438,
    "start_time": "2023-07-11T09:12:19.506Z"
   },
   {
    "duration": 3,
    "start_time": "2023-07-11T09:12:30.946Z"
   },
   {
    "duration": 41,
    "start_time": "2023-07-11T09:12:30.951Z"
   },
   {
    "duration": 340,
    "start_time": "2023-07-11T09:12:37.335Z"
   },
   {
    "duration": 3,
    "start_time": "2023-07-11T09:12:38.256Z"
   },
   {
    "duration": 8,
    "start_time": "2023-07-11T09:12:38.655Z"
   },
   {
    "duration": 9,
    "start_time": "2023-07-11T09:12:40.256Z"
   },
   {
    "duration": 6,
    "start_time": "2023-07-11T09:13:32.799Z"
   },
   {
    "duration": 79,
    "start_time": "2023-07-11T09:13:32.998Z"
   },
   {
    "duration": 254,
    "start_time": "2023-07-11T09:13:33.552Z"
   },
   {
    "duration": 53,
    "start_time": "2023-07-21T13:21:27.182Z"
   },
   {
    "duration": 4444,
    "start_time": "2023-07-21T13:21:29.797Z"
   },
   {
    "duration": 2089,
    "start_time": "2023-07-21T13:21:34.243Z"
   },
   {
    "duration": 4,
    "start_time": "2023-07-21T13:21:36.333Z"
   },
   {
    "duration": 32,
    "start_time": "2023-07-21T13:21:36.339Z"
   },
   {
    "duration": 16,
    "start_time": "2023-07-21T13:21:36.373Z"
   },
   {
    "duration": 42,
    "start_time": "2023-07-21T13:21:36.390Z"
   },
   {
    "duration": 26,
    "start_time": "2023-07-21T13:21:36.433Z"
   },
   {
    "duration": 146,
    "start_time": "2023-07-21T13:21:36.460Z"
   },
   {
    "duration": 25,
    "start_time": "2023-07-21T13:21:36.608Z"
   },
   {
    "duration": 12,
    "start_time": "2023-07-21T13:21:36.636Z"
   },
   {
    "duration": 42,
    "start_time": "2023-07-21T13:21:36.649Z"
   },
   {
    "duration": 594,
    "start_time": "2023-07-21T13:21:36.692Z"
   },
   {
    "duration": 7,
    "start_time": "2023-07-21T13:21:37.288Z"
   },
   {
    "duration": 8,
    "start_time": "2023-07-21T13:21:39.779Z"
   },
   {
    "duration": 177,
    "start_time": "2023-07-21T13:21:42.932Z"
   },
   {
    "duration": 4,
    "start_time": "2023-07-21T13:21:45.475Z"
   }
  ],
  "kernelspec": {
   "display_name": "Python 3 (ipykernel)",
   "language": "python",
   "name": "python3"
  },
  "language_info": {
   "codemirror_mode": {
    "name": "ipython",
    "version": 3
   },
   "file_extension": ".py",
   "mimetype": "text/x-python",
   "name": "python",
   "nbconvert_exporter": "python",
   "pygments_lexer": "ipython3",
   "version": "3.9.5"
  },
  "toc": {
   "base_numbering": 1,
   "nav_menu": {},
   "number_sections": true,
   "sideBar": true,
   "skip_h1_title": true,
   "title_cell": "Содержание",
   "title_sidebar": "Contents",
   "toc_cell": true,
   "toc_position": {
    "height": "calc(100% - 180px)",
    "left": "10px",
    "top": "150px",
    "width": "253px"
   },
   "toc_section_display": true,
   "toc_window_display": false
  }
 },
 "nbformat": 4,
 "nbformat_minor": 2
}
